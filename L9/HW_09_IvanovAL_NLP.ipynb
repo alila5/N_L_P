{
  "nbformat": 4,
  "nbformat_minor": 0,
  "metadata": {
    "colab": {
      "name": "HW_09_NLP.ipynb",
      "provenance": [],
      "collapsed_sections": [],
      "machine_shape": "hm",
      "mount_file_id": "1YTxhxMFn6hfNNTth7ONDS95XxZUg7bxa",
      "authorship_tag": "ABX9TyPvUJklRlVQPzbw+jyj3TTE",
      "include_colab_link": true
    },
    "kernelspec": {
      "name": "python3",
      "display_name": "Python 3"
    },
    "language_info": {
      "name": "python"
    },
    "accelerator": "GPU"
  },
  "cells": [
    {
      "cell_type": "markdown",
      "metadata": {
        "id": "view-in-github",
        "colab_type": "text"
      },
      "source": [
        "<a href=\"https://colab.research.google.com/github/SLVmain/NLP/blob/Les_09/HW_09_NLP.ipynb\" target=\"_parent\"><img src=\"https://colab.research.google.com/assets/colab-badge.svg\" alt=\"Open In Colab\"/></a>"
      ]
    },
    {
      "cell_type": "markdown",
      "source": [
        "# Урок 9. Языковое моделирование\n",
        "Задание\n",
        "Разобраться с моделькой генерации текста, собрать самим или взять датасет с вебинара и обучить генератор"
      ],
      "metadata": {
        "id": "m_aUT7MbgWH4"
      }
    },
    {
      "cell_type": "code",
      "execution_count": 3,
      "metadata": {
        "id": "OMFqKOIWgSPA"
      },
      "outputs": [],
      "source": [
        "import tensorflow as tf\n",
        "import numpy as np\n",
        "import os\n",
        "import time"
      ]
    },
    {
      "cell_type": "code",
      "source": [
        "from google.colab import drive\n",
        "drive.mount('/content/gdrive')"
      ],
      "metadata": {
        "id": "b-E52f_y8Z34"
      },
      "execution_count": null,
      "outputs": []
    },
    {
      "cell_type": "code",
      "source": [
        "path1 = '/content/drive/MyDrive/GB_NLP_04_2022/09/evgenyi_onegin.txt'\n",
        "path2 = '/content/drive/MyDrive/GB_NLP_04_2022/09/poems2.txt'"
      ],
      "metadata": {
        "id": "PmKO24V98x5q"
      },
      "execution_count": 8,
      "outputs": []
    },
    {
      "cell_type": "code",
      "source": [
        "text1 = open(path1, 'rb').read().decode(encoding='utf-8')\n",
        "# length of text is the number of characters in it\n",
        "print('Length of text: {} characters'.format(len(text1)))"
      ],
      "metadata": {
        "colab": {
          "base_uri": "https://localhost:8080/"
        },
        "id": "GqA5d0zX9AKs",
        "outputId": "18365ca7-a076-4419-b5a9-5df1108c2ca6"
      },
      "execution_count": 14,
      "outputs": [
        {
          "output_type": "stream",
          "name": "stdout",
          "text": [
            "Length of text: 286984 characters\n"
          ]
        }
      ]
    },
    {
      "cell_type": "code",
      "source": [
        "print(text1[:500])"
      ],
      "metadata": {
        "colab": {
          "base_uri": "https://localhost:8080/"
        },
        "id": "0f038o8A9G5W",
        "outputId": "cbb546e8-3447-47ac-92a0-86cd84dd0c3e"
      },
      "execution_count": 12,
      "outputs": [
        {
          "output_type": "stream",
          "name": "stdout",
          "text": [
            "Александр Сергеевич Пушкин\n",
            "\n",
            "                                Евгений Онегин\n",
            "                                Роман в стихах\n",
            "\n",
            "                        Не мысля гордый свет забавить,\n",
            "                        Вниманье дружбы возлюбя,\n",
            "                        Хотел бы я тебе представить\n",
            "                        Залог достойнее тебя,\n",
            "                        Достойнее души прекрасной,\n",
            "                        Святой исполненной мечты,\n",
            "                        Поэзии живой и ясной,\n",
            "                        Высо\n"
          ]
        }
      ]
    },
    {
      "cell_type": "code",
      "source": [
        "# сборник поэм\n",
        "text2 = open(path2, 'rb').read().decode()\n",
        "# length of text is the number of characters in it\n",
        "print('Length of text: {} characters'.format(len(text2)))"
      ],
      "metadata": {
        "colab": {
          "base_uri": "https://localhost:8080/"
        },
        "id": "VvnDXg_x9K3w",
        "outputId": "c456c599-0c85-4267-f9ec-9e0b9e76f0ea"
      },
      "execution_count": 15,
      "outputs": [
        {
          "output_type": "stream",
          "name": "stdout",
          "text": [
            "Length of text: 229064 characters\n"
          ]
        }
      ]
    },
    {
      "cell_type": "code",
      "source": [
        "print(text2[:500])"
      ],
      "metadata": {
        "colab": {
          "base_uri": "https://localhost:8080/"
        },
        "id": "jXjI1mGs-euY",
        "outputId": "24209d5a-5d3d-42ee-df0f-38ec99912519"
      },
      "execution_count": 10,
      "outputs": [
        {
          "output_type": "stream",
          "name": "stdout",
          "text": [
            "\n",
            "\n",
            "\n",
            "\n",
            "Александр Пушкин\n",
            "\n",
            "Поэмы\n",
            "\n",
            "\n",
            "\n",
            "\n",
            "\n",
            "Кавказский пленник\n",
            "\n",
            "Повесть\n",
            "\n",
            "\n",
            "\n",
            "\n",
            "\n",
            "\n",
            "Посвящение\n",
            "\n",
            "Н. Н. Раевскому[1 - Николай Николаевич Раевский – друг Пушкина в молодые годы.]\n",
            "\n",
            "\n",
            "\t\t     Прими с улыбкою, мой друг,\n",
            "\t\t     Свободной музы приношенье:\n",
            "\t\tТебе я посвятил изгнанной лиры пенье\n",
            "\t\t     И вдохновенный свой досуг.\n",
            "\t\tКогда я погибал, безвинный, безотрадный,\n",
            "\t\tИ шепот клеветы внимал со всех сторон,\n",
            "\t\t     Когда кинжал измены хладный,\n",
            "\t\t     Когда любви тяжелый сон\n",
            "\t\t     Меня терзали и мертвили,\n",
            "\t\tЯ близ тебя е\n"
          ]
        }
      ]
    },
    {
      "cell_type": "code",
      "source": [
        "text = text1 + text2"
      ],
      "metadata": {
        "id": "u2tqqjly-if9"
      },
      "execution_count": 16,
      "outputs": []
    },
    {
      "cell_type": "code",
      "source": [
        "# The unique characters in the file\n",
        "vocab = sorted(set(text))\n",
        "print('{} unique characters'.format(len(vocab)))"
      ],
      "metadata": {
        "colab": {
          "base_uri": "https://localhost:8080/"
        },
        "id": "Dlntau8l_GdO",
        "outputId": "69f5af6f-8090-40c2-b94a-d74f610ef443"
      },
      "execution_count": 17,
      "outputs": [
        {
          "output_type": "stream",
          "name": "stdout",
          "text": [
            "151 unique characters\n"
          ]
        }
      ]
    },
    {
      "cell_type": "code",
      "source": [
        "# Creating a mapping from unique characters to indices\n",
        "char2idx = {u:i for i, u in enumerate(vocab)}\n",
        "idx2char = np.array(vocab)\n",
        "\n",
        "text_as_int = np.array([char2idx[c] for c in text])"
      ],
      "metadata": {
        "id": "J88k6YyB_KOg"
      },
      "execution_count": 18,
      "outputs": []
    },
    {
      "cell_type": "code",
      "source": [
        "text_as_int, text, len(text_as_int), len(text)"
      ],
      "metadata": {
        "id": "qAiilGpV_LkA"
      },
      "execution_count": null,
      "outputs": []
    },
    {
      "cell_type": "markdown",
      "metadata": {
        "id": "hgsVvVxnymwf"
      },
      "source": [
        "### train and target"
      ]
    },
    {
      "cell_type": "code",
      "metadata": {
        "colab": {
          "base_uri": "https://localhost:8080/"
        },
        "id": "0UHJDA39zf-O",
        "outputId": "203cf5ca-50fe-482e-a330-97e1bff5fbb4"
      },
      "source": [
        "# The maximum length sentence you want for a single input in characters\n",
        "seq_length = 100\n",
        "examples_per_epoch = len(text)//(seq_length+1)\n",
        "\n",
        "# Create training examples / targets\n",
        "char_dataset = tf.data.Dataset.from_tensor_slices(text_as_int)\n",
        "\n",
        "for i in char_dataset.take(5):\n",
        "    print(idx2char[i.numpy()])"
      ],
      "execution_count": 20,
      "outputs": [
        {
          "output_type": "stream",
          "name": "stdout",
          "text": [
            "А\n",
            "л\n",
            "е\n",
            "к\n",
            "с\n"
          ]
        }
      ]
    },
    {
      "cell_type": "code",
      "metadata": {
        "colab": {
          "base_uri": "https://localhost:8080/"
        },
        "id": "l4hkDU3i7ozi",
        "outputId": "9df2b7f3-92c2-4149-9e9c-99853b27e2b0"
      },
      "source": [
        "sequences = char_dataset.batch(seq_length+1, drop_remainder=True)\n",
        "\n",
        "for item in sequences.take(5):\n",
        "    print(repr(''.join(idx2char[item.numpy()])))"
      ],
      "execution_count": 21,
      "outputs": [
        {
          "output_type": "stream",
          "name": "stdout",
          "text": [
            "'Александр Сергеевич Пушкин\\n\\n                                Евгений Онегин\\n                          '\n",
            "'      Роман в стихах\\n\\n                        Не мысля гордый свет забавить,\\n                        '\n",
            "'Вниманье дружбы возлюбя,\\n                        Хотел бы я тебе представить\\n                        '\n",
            "'Залог достойнее тебя,\\n                        Достойнее души прекрасной,\\n                        Свят'\n",
            "'ой исполненной мечты,\\n                        Поэзии живой и ясной,\\n                        Высоких д'\n"
          ]
        }
      ]
    },
    {
      "cell_type": "code",
      "metadata": {
        "id": "9NGu-FkO_kYU"
      },
      "source": [
        "def split_input_target(chunk):\n",
        "    input_text = chunk[:-1]\n",
        "    target_text = chunk[1:]\n",
        "    return input_text, target_text\n",
        "\n",
        "dataset = sequences.map(split_input_target)"
      ],
      "execution_count": 22,
      "outputs": []
    },
    {
      "cell_type": "markdown",
      "metadata": {
        "id": "hiCopyGZymwi"
      },
      "source": [
        "Print the first example input and target values:"
      ]
    },
    {
      "cell_type": "code",
      "metadata": {
        "colab": {
          "base_uri": "https://localhost:8080/"
        },
        "id": "GNbw-iR0ymwj",
        "outputId": "06348e51-c3a1-4075-a0d7-829565f32f96"
      },
      "source": [
        "for input_example, target_example in  dataset.take(1):\n",
        "    print('Input data: ', repr(''.join(idx2char[input_example.numpy()])))\n",
        "    print('Target data:', repr(''.join(idx2char[target_example.numpy()])))"
      ],
      "execution_count": 23,
      "outputs": [
        {
          "output_type": "stream",
          "name": "stdout",
          "text": [
            "Input data:  'Александр Сергеевич Пушкин\\n\\n                                Евгений Онегин\\n                         '\n",
            "Target data: 'лександр Сергеевич Пушкин\\n\\n                                Евгений Онегин\\n                          '\n"
          ]
        }
      ]
    },
    {
      "cell_type": "code",
      "metadata": {
        "colab": {
          "base_uri": "https://localhost:8080/"
        },
        "id": "p2pGotuNzf-S",
        "outputId": "e6cad517-0d0c-4fe3-b78a-912e3b537cfb"
      },
      "source": [
        "# Batch size\n",
        "BATCH_SIZE = 64\n",
        "\n",
        "# Buffer size to shuffle the dataset\n",
        "# (TF data is designed to work with possibly infinite sequences,\n",
        "# so it doesn't attempt to shuffle the entire sequence in memory. Instead,\n",
        "# it maintains a buffer in which it shuffles elements).\n",
        "BUFFER_SIZE = 10000\n",
        "\n",
        "dataset = dataset.shuffle(BUFFER_SIZE).batch(BATCH_SIZE, drop_remainder=True)\n",
        "\n",
        "dataset"
      ],
      "execution_count": 24,
      "outputs": [
        {
          "output_type": "execute_result",
          "data": {
            "text/plain": [
              "<BatchDataset element_spec=(TensorSpec(shape=(64, 100), dtype=tf.int64, name=None), TensorSpec(shape=(64, 100), dtype=tf.int64, name=None))>"
            ]
          },
          "metadata": {},
          "execution_count": 24
        }
      ]
    },
    {
      "cell_type": "code",
      "metadata": {
        "id": "zHT8cLh7EAsg"
      },
      "source": [
        "# Length of the vocabulary in chars\n",
        "vocab_size = len(vocab)\n",
        "\n",
        "# The embedding dimension\n",
        "embedding_dim = 128\n",
        "\n",
        "# Number of RNN units\n",
        "rnn_units = 1024"
      ],
      "execution_count": 25,
      "outputs": []
    },
    {
      "cell_type": "code",
      "metadata": {
        "id": "ZUzZLkyC1UpP"
      },
      "source": [
        "'''model = tf.keras.Sequential(\n",
        "    [\n",
        "        tf.keras.layers.Embedding(vocab_size, embedding_dim),\n",
        "        tf.keras.layers.LSTM(rnn_units, return_sequences=True),\n",
        "        tf.keras.layers.Dense(vocab_size)\n",
        "    ]\n",
        ")'''"
      ],
      "execution_count": null,
      "outputs": []
    },
    {
      "cell_type": "code",
      "metadata": {
        "id": "tm1u0iNSaLOi"
      },
      "source": [
        "'''class RNNgenerator(tf.keras.Model):\n",
        "    def __init__(self, vocab_size, embedding_dim, batch_size):\n",
        "        super(RNNgenerator, self).__init__()\n",
        "        \n",
        "        self.emb = tf.keras.layers.Embedding(vocab_size, embedding_dim)\n",
        "                                 \n",
        "        self.gru1 = tf.keras.layers.GRU(rnn_units,\n",
        "                            return_sequences=True,\n",
        "                            recurrent_initializer='glorot_uniform')\n",
        "        self.gru2 = tf.keras.layers.GRU(rnn_units,\n",
        "                            return_sequences=True,\n",
        "                            recurrent_initializer='glorot_uniform')\n",
        "                           \n",
        "        self.fc = tf.keras.layers.Dense(vocab_size)\n",
        "\n",
        "    def call(self, x):\n",
        "        emb_x = self.emb(x)\n",
        "        x1 = self.gru1(emb_x)\n",
        "        x = x1\n",
        "        for _ in range(3):\n",
        "            x = self.gru2(x)\n",
        "        #x = self.gru1(x)\n",
        "        x = (x + x1)/2\n",
        "        return self.fc(x)\n",
        "\n",
        "model = RNNgenerator(vocab_size, embedding_dim, BATCH_SIZE)'''"
      ],
      "execution_count": null,
      "outputs": []
    },
    {
      "cell_type": "code",
      "metadata": {
        "id": "MtCrdfzEI2N0"
      },
      "source": [
        "def build_model(vocab_size, embedding_dim, rnn_units, batch_size):\n",
        "    model = tf.keras.Sequential([\n",
        "        tf.keras.layers.Embedding(vocab_size, embedding_dim,\n",
        "                                  batch_input_shape=[batch_size, None]),\n",
        "                                 \n",
        "        tf.keras.layers.LSTM(rnn_units,\n",
        "                            return_sequences=True,\n",
        "                            stateful=True,\n",
        "                            recurrent_initializer='glorot_uniform'),\n",
        "\n",
        "        tf.keras.layers.LSTM(rnn_units,\n",
        "                            return_sequences=True,\n",
        "                            stateful=True,\n",
        "                            recurrent_initializer='glorot_uniform'),\n",
        "\n",
        "         tf.keras.layers.LSTM(rnn_units,\n",
        "                            return_sequences=True,\n",
        "                            stateful=True,\n",
        "                            recurrent_initializer='glorot_uniform'),\n",
        "        \n",
        "        tf.keras.layers.LSTM(rnn_units,\n",
        "                            return_sequences=True,\n",
        "                            stateful=True,\n",
        "                            recurrent_initializer='glorot_uniform'),\n",
        "                                   \n",
        "        tf.keras.layers.Dense(vocab_size)\n",
        "    ])\n",
        "    return model"
      ],
      "execution_count": 59,
      "outputs": []
    },
    {
      "cell_type": "code",
      "metadata": {
        "id": "FNfDlxWZ8NXK"
      },
      "source": [
        "'''def build_model(vocab_size, embedding_dim, rnn_units, batch_size):\n",
        "    model = tf.keras.Sequential([\n",
        "        tf.keras.layers.Embedding(vocab_size, embedding_dim),\n",
        "                                 \n",
        "        tf.keras.layers.GRU(rnn_units,\n",
        "                            return_sequences=True,\n",
        "                            stateful=False,\n",
        "                            recurrent_initializer='glorot_uniform'),\n",
        "\n",
        "        tf.keras.layers.GRU(rnn_units,\n",
        "                            return_sequences=True,\n",
        "                            stateful=False,\n",
        "                            recurrent_initializer='glorot_uniform'),\n",
        "\n",
        "         tf.keras.layers.GRU(rnn_units,\n",
        "                            return_sequences=True,\n",
        "                            stateful=False,\n",
        "                            recurrent_initializer='glorot_uniform'),\n",
        "                                   \n",
        "        tf.keras.layers.Dense(vocab_size)\n",
        "    ])\n",
        "    return model'''"
      ],
      "execution_count": null,
      "outputs": []
    },
    {
      "cell_type": "code",
      "metadata": {
        "id": "wwsrpOik5zhv"
      },
      "source": [
        "model = build_model(\n",
        "    vocab_size=len(vocab),\n",
        "    embedding_dim=embedding_dim,\n",
        "    rnn_units=rnn_units,\n",
        "    batch_size=BATCH_SIZE)"
      ],
      "execution_count": 60,
      "outputs": []
    },
    {
      "cell_type": "code",
      "metadata": {
        "colab": {
          "base_uri": "https://localhost:8080/"
        },
        "id": "C-_70kKAPrPU",
        "outputId": "f328873d-61ce-43fe-ff46-7ba7a97052c8"
      },
      "source": [
        "for input_example_batch, target_example_batch in dataset.take(1):\n",
        "    example_batch_predictions = model(input_example_batch)\n",
        "    print(example_batch_predictions.shape, \"# (batch_size, sequence_length, vocab_size)\")"
      ],
      "execution_count": 61,
      "outputs": [
        {
          "output_type": "stream",
          "name": "stdout",
          "text": [
            "(64, 100, 151) # (batch_size, sequence_length, vocab_size)\n"
          ]
        }
      ]
    },
    {
      "cell_type": "code",
      "metadata": {
        "colab": {
          "base_uri": "https://localhost:8080/"
        },
        "id": "vPGmAAXmVLGC",
        "outputId": "f92e3ad4-2388-4ce9-dd98-bbed1027d266"
      },
      "source": [
        "model.summary()"
      ],
      "execution_count": 62,
      "outputs": [
        {
          "output_type": "stream",
          "name": "stdout",
          "text": [
            "Model: \"sequential_2\"\n",
            "_________________________________________________________________\n",
            " Layer (type)                Output Shape              Param #   \n",
            "=================================================================\n",
            " embedding_2 (Embedding)     (64, None, 128)           19328     \n",
            "                                                                 \n",
            " lstm_8 (LSTM)               (64, None, 1024)          4722688   \n",
            "                                                                 \n",
            " lstm_9 (LSTM)               (64, None, 1024)          8392704   \n",
            "                                                                 \n",
            " lstm_10 (LSTM)              (64, None, 1024)          8392704   \n",
            "                                                                 \n",
            " lstm_11 (LSTM)              (64, None, 1024)          8392704   \n",
            "                                                                 \n",
            " dense_2 (Dense)             (64, None, 151)           154775    \n",
            "                                                                 \n",
            "=================================================================\n",
            "Total params: 30,074,903\n",
            "Trainable params: 30,074,903\n",
            "Non-trainable params: 0\n",
            "_________________________________________________________________\n"
          ]
        }
      ]
    },
    {
      "cell_type": "code",
      "metadata": {
        "id": "aFkC1pcZjQFq"
      },
      "source": [
        "example_batch_predictions[0]"
      ],
      "execution_count": null,
      "outputs": []
    },
    {
      "cell_type": "code",
      "metadata": {
        "id": "4V4MfFg0RQJg"
      },
      "source": [
        "sampled_indices = tf.random.categorical(example_batch_predictions[0], num_samples=1)\n",
        "sampled_indices = tf.squeeze(sampled_indices,axis=-1).numpy()"
      ],
      "execution_count": 31,
      "outputs": []
    },
    {
      "cell_type": "code",
      "metadata": {
        "colab": {
          "base_uri": "https://localhost:8080/"
        },
        "id": "xWcFwPwLSo05",
        "outputId": "664d965f-65ca-4367-ead7-de7aef86ff05"
      },
      "source": [
        "print(\"Input: \\n\", repr(\"\".join(idx2char[input_example_batch[0]])))\n",
        "print()\n",
        "print(\"Next Char Predictions: \\n\", repr(\"\".join(idx2char[sampled_indices ])))"
      ],
      "execution_count": 32,
      "outputs": [
        {
          "output_type": "stream",
          "name": "stdout",
          "text": [
            "Input: \n",
            " 'зана своим содержанием с той литературной борьбой, которую приходилось вести Пушкину в эти годы.\\n\\nК '\n",
            "\n",
            "Next Char Predictions: \n",
            " 'mFgF[ёжШ*лхЖ)7ыЗzъGMEx\\'«ЗЮ_aAя;g\\n9и\\tlk_нSЭN}жc-–ОЗМВЬyxВШ8еУCnЬ*vLиПЦЮ\"’8пL\\n;5эb\"5лпGuTСхВhwК–Сд0Втю'\n"
          ]
        }
      ]
    },
    {
      "cell_type": "markdown",
      "metadata": {
        "id": "LJL0Q0YPY6Ee"
      },
      "source": [
        "## Train the model"
      ]
    },
    {
      "cell_type": "code",
      "metadata": {
        "colab": {
          "base_uri": "https://localhost:8080/"
        },
        "id": "4HrXTACTdzY-",
        "outputId": "8c1d781d-d54f-49a8-8192-cd634629d1e7"
      },
      "source": [
        "def loss(labels, logits):\n",
        "    return tf.keras.losses.sparse_categorical_crossentropy(labels, logits, from_logits=True)\n",
        "\n",
        "example_batch_loss = loss(target_example_batch, example_batch_predictions)\n",
        "print(\"Prediction shape: \", example_batch_predictions.shape, \" # (batch_size, sequence_length, vocab_size)\")\n",
        "print(\"scalar_loss:      \", example_batch_loss.numpy().mean())"
      ],
      "execution_count": 63,
      "outputs": [
        {
          "output_type": "stream",
          "name": "stdout",
          "text": [
            "Prediction shape:  (64, 100, 151)  # (batch_size, sequence_length, vocab_size)\n",
            "scalar_loss:       5.016933\n"
          ]
        }
      ]
    },
    {
      "cell_type": "code",
      "metadata": {
        "id": "DDl1_Een6rL0"
      },
      "source": [
        "model.compile(optimizer='adam', loss=loss)"
      ],
      "execution_count": 64,
      "outputs": []
    },
    {
      "cell_type": "markdown",
      "metadata": {
        "id": "ieSJdchZggUj"
      },
      "source": [
        "### Configure checkpoints"
      ]
    },
    {
      "cell_type": "code",
      "metadata": {
        "id": "tINIEZEzLH1C"
      },
      "source": [
        "#!rm -rf content/training_checkpoints"
      ],
      "execution_count": 37,
      "outputs": []
    },
    {
      "cell_type": "code",
      "metadata": {
        "colab": {
          "base_uri": "https://localhost:8080/"
        },
        "id": "q71A8AWiOMa7",
        "outputId": "f3c4ea71-452e-4140-f97d-54cda8d13c0e"
      },
      "source": [
        "!ls /content/training_checkpoints"
      ],
      "execution_count": 65,
      "outputs": [
        {
          "output_type": "stream",
          "name": "stdout",
          "text": [
            "checkpoint\t\t     ckpt_17.index\n",
            "ckpt_11.data-00000-of-00001  ckpt_4.data-00000-of-00001\n",
            "ckpt_11.index\t\t     ckpt_4.index\n",
            "ckpt_14.data-00000-of-00001  ckpt_7.data-00000-of-00001\n",
            "ckpt_14.index\t\t     ckpt_7.index\n",
            "ckpt_17.data-00000-of-00001\n"
          ]
        }
      ]
    },
    {
      "cell_type": "code",
      "metadata": {
        "id": "W6fWTriUZP-n"
      },
      "source": [
        "# Directory where the checkpoints will be saved\n",
        "checkpoint_dir = '/content/training_checkpoints'\n",
        "# Name of the checkpoint files\n",
        "checkpoint_prefix = os.path.join(checkpoint_dir, \"ckpt_{epoch}\")\n",
        "\n",
        "checkpoint_callback = tf.keras.callbacks.ModelCheckpoint(\n",
        "    filepath=checkpoint_prefix,\n",
        "    save_freq=88*3,\n",
        "    save_weights_only=True)"
      ],
      "execution_count": 66,
      "outputs": []
    },
    {
      "cell_type": "markdown",
      "metadata": {
        "id": "3Ky3F_BhgkTW"
      },
      "source": [
        "### Execute the training"
      ]
    },
    {
      "cell_type": "code",
      "metadata": {
        "id": "7yGBE2zxMMHs"
      },
      "source": [
        "EPOCHS = 300"
      ],
      "execution_count": 67,
      "outputs": []
    },
    {
      "cell_type": "code",
      "metadata": {
        "colab": {
          "base_uri": "https://localhost:8080/"
        },
        "id": "UK-hmKjYVoll",
        "outputId": "d63523e8-f9ad-4553-abda-be0043078b40"
      },
      "source": [
        "history = model.fit(dataset, epochs=EPOCHS, callbacks=[checkpoint_callback])"
      ],
      "execution_count": 68,
      "outputs": [
        {
          "output_type": "stream",
          "name": "stdout",
          "text": [
            "Epoch 1/300\n",
            "79/79 [==============================] - 31s 336ms/step - loss: 2.8381\n",
            "Epoch 2/300\n",
            "79/79 [==============================] - 28s 348ms/step - loss: 2.2570\n",
            "Epoch 3/300\n",
            "79/79 [==============================] - 28s 346ms/step - loss: 1.9515\n",
            "Epoch 4/300\n",
            "79/79 [==============================] - 28s 353ms/step - loss: 1.8827\n",
            "Epoch 5/300\n",
            "79/79 [==============================] - 28s 345ms/step - loss: 1.8245\n",
            "Epoch 6/300\n",
            "79/79 [==============================] - 28s 345ms/step - loss: 1.7849\n",
            "Epoch 7/300\n",
            "79/79 [==============================] - 28s 353ms/step - loss: 1.7516\n",
            "Epoch 8/300\n",
            "79/79 [==============================] - 28s 345ms/step - loss: 1.7100\n",
            "Epoch 9/300\n",
            "79/79 [==============================] - 28s 345ms/step - loss: 1.6697\n",
            "Epoch 10/300\n",
            "79/79 [==============================] - 28s 345ms/step - loss: 1.6272\n",
            "Epoch 11/300\n",
            "79/79 [==============================] - 28s 353ms/step - loss: 1.5875\n",
            "Epoch 12/300\n",
            "79/79 [==============================] - 28s 345ms/step - loss: 1.5361\n",
            "Epoch 13/300\n",
            "79/79 [==============================] - 28s 345ms/step - loss: 1.4740\n",
            "Epoch 14/300\n",
            "79/79 [==============================] - 28s 353ms/step - loss: 1.4203\n",
            "Epoch 15/300\n",
            "79/79 [==============================] - 28s 345ms/step - loss: 1.3699\n",
            "Epoch 16/300\n",
            "79/79 [==============================] - 28s 345ms/step - loss: 1.3366\n",
            "Epoch 17/300\n",
            "79/79 [==============================] - 28s 352ms/step - loss: 1.2840\n",
            "Epoch 18/300\n",
            "79/79 [==============================] - 28s 345ms/step - loss: 1.2313\n",
            "Epoch 19/300\n",
            "79/79 [==============================] - 28s 345ms/step - loss: 1.1954\n",
            "Epoch 20/300\n",
            "79/79 [==============================] - 28s 345ms/step - loss: 1.1503\n",
            "Epoch 21/300\n",
            "79/79 [==============================] - 28s 352ms/step - loss: 1.0923\n",
            "Epoch 22/300\n",
            "79/79 [==============================] - 28s 345ms/step - loss: 1.0460\n",
            "Epoch 23/300\n",
            "79/79 [==============================] - 28s 345ms/step - loss: 1.0007\n",
            "Epoch 24/300\n",
            "79/79 [==============================] - 28s 352ms/step - loss: 0.9551\n",
            "Epoch 25/300\n",
            "79/79 [==============================] - 28s 345ms/step - loss: 0.9092\n",
            "Epoch 26/300\n",
            "79/79 [==============================] - 28s 345ms/step - loss: 0.8697\n",
            "Epoch 27/300\n",
            "79/79 [==============================] - 28s 352ms/step - loss: 0.8541\n",
            "Epoch 28/300\n",
            "79/79 [==============================] - 28s 345ms/step - loss: 0.7873\n",
            "Epoch 29/300\n",
            "79/79 [==============================] - 28s 345ms/step - loss: 0.7185\n",
            "Epoch 30/300\n",
            "79/79 [==============================] - 28s 345ms/step - loss: 0.6712\n",
            "Epoch 31/300\n",
            "79/79 [==============================] - 28s 352ms/step - loss: 0.6258\n",
            "Epoch 32/300\n",
            "79/79 [==============================] - 28s 346ms/step - loss: 0.5839\n",
            "Epoch 33/300\n",
            "79/79 [==============================] - 28s 345ms/step - loss: 0.5437\n",
            "Epoch 34/300\n",
            "79/79 [==============================] - 28s 352ms/step - loss: 0.5076\n",
            "Epoch 35/300\n",
            "79/79 [==============================] - 28s 346ms/step - loss: 0.4781\n",
            "Epoch 36/300\n",
            "79/79 [==============================] - 28s 346ms/step - loss: 0.4483\n",
            "Epoch 37/300\n",
            "79/79 [==============================] - 28s 352ms/step - loss: 0.4219\n",
            "Epoch 38/300\n",
            "79/79 [==============================] - 28s 345ms/step - loss: 0.4039\n",
            "Epoch 39/300\n",
            "79/79 [==============================] - 28s 345ms/step - loss: 0.3866\n",
            "Epoch 40/300\n",
            "79/79 [==============================] - 28s 345ms/step - loss: 0.3703\n",
            "Epoch 41/300\n",
            "79/79 [==============================] - 28s 351ms/step - loss: 0.3552\n",
            "Epoch 42/300\n",
            "79/79 [==============================] - 28s 345ms/step - loss: 0.3411\n",
            "Epoch 43/300\n",
            "79/79 [==============================] - 28s 345ms/step - loss: 0.3302\n",
            "Epoch 44/300\n",
            "79/79 [==============================] - 28s 351ms/step - loss: 0.3212\n",
            "Epoch 45/300\n",
            "79/79 [==============================] - 28s 345ms/step - loss: 0.3129\n",
            "Epoch 46/300\n",
            "79/79 [==============================] - 28s 345ms/step - loss: 0.3035\n",
            "Epoch 47/300\n",
            "79/79 [==============================] - 28s 352ms/step - loss: 0.2957\n",
            "Epoch 48/300\n",
            "79/79 [==============================] - 28s 345ms/step - loss: 0.2890\n",
            "Epoch 49/300\n",
            "79/79 [==============================] - 28s 345ms/step - loss: 0.2846\n",
            "Epoch 50/300\n",
            "79/79 [==============================] - 28s 345ms/step - loss: 0.2791\n",
            "Epoch 51/300\n",
            "79/79 [==============================] - 28s 351ms/step - loss: 0.2729\n",
            "Epoch 52/300\n",
            "79/79 [==============================] - 28s 345ms/step - loss: 0.2684\n",
            "Epoch 53/300\n",
            "79/79 [==============================] - 28s 345ms/step - loss: 0.2618\n",
            "Epoch 54/300\n",
            "79/79 [==============================] - 28s 352ms/step - loss: 0.2567\n",
            "Epoch 55/300\n",
            "79/79 [==============================] - 28s 345ms/step - loss: 0.2545\n",
            "Epoch 56/300\n",
            "79/79 [==============================] - 28s 345ms/step - loss: 0.2507\n",
            "Epoch 57/300\n",
            "79/79 [==============================] - 28s 352ms/step - loss: 0.2443\n",
            "Epoch 58/300\n",
            "79/79 [==============================] - 28s 345ms/step - loss: 0.2396\n",
            "Epoch 59/300\n",
            "79/79 [==============================] - 28s 345ms/step - loss: 0.2362\n",
            "Epoch 60/300\n",
            "79/79 [==============================] - 28s 345ms/step - loss: 0.2308\n",
            "Epoch 61/300\n",
            "79/79 [==============================] - 28s 352ms/step - loss: 0.2266\n",
            "Epoch 62/300\n",
            "79/79 [==============================] - 28s 345ms/step - loss: 0.2235\n",
            "Epoch 63/300\n",
            "79/79 [==============================] - 28s 345ms/step - loss: 0.2188\n",
            "Epoch 64/300\n",
            "79/79 [==============================] - 28s 352ms/step - loss: 0.2163\n",
            "Epoch 65/300\n",
            "79/79 [==============================] - 28s 345ms/step - loss: 0.2110\n",
            "Epoch 66/300\n",
            "79/79 [==============================] - 28s 345ms/step - loss: 0.2061\n",
            "Epoch 67/300\n",
            "79/79 [==============================] - 28s 352ms/step - loss: 0.2059\n",
            "Epoch 68/300\n",
            "79/79 [==============================] - 28s 345ms/step - loss: 0.2020\n",
            "Epoch 69/300\n",
            "79/79 [==============================] - 28s 345ms/step - loss: 0.1982\n",
            "Epoch 70/300\n",
            "79/79 [==============================] - 28s 345ms/step - loss: 0.1942\n",
            "Epoch 71/300\n",
            "79/79 [==============================] - 28s 352ms/step - loss: 0.1902\n",
            "Epoch 72/300\n",
            "79/79 [==============================] - 28s 345ms/step - loss: 0.1891\n",
            "Epoch 73/300\n",
            "79/79 [==============================] - 28s 345ms/step - loss: 0.1890\n",
            "Epoch 74/300\n",
            "79/79 [==============================] - 28s 352ms/step - loss: 0.1874\n",
            "Epoch 75/300\n",
            "79/79 [==============================] - 28s 345ms/step - loss: 0.1865\n",
            "Epoch 76/300\n",
            "79/79 [==============================] - 28s 345ms/step - loss: 0.2112\n",
            "Epoch 77/300\n",
            "79/79 [==============================] - 28s 351ms/step - loss: 0.1885\n",
            "Epoch 78/300\n",
            "79/79 [==============================] - 28s 345ms/step - loss: 0.1819\n",
            "Epoch 79/300\n",
            "79/79 [==============================] - 28s 345ms/step - loss: 0.1782\n",
            "Epoch 80/300\n",
            "79/79 [==============================] - 28s 345ms/step - loss: 0.1762\n",
            "Epoch 81/300\n",
            "79/79 [==============================] - 28s 352ms/step - loss: 0.1753\n",
            "Epoch 82/300\n",
            "79/79 [==============================] - 28s 345ms/step - loss: 0.1731\n",
            "Epoch 83/300\n",
            "79/79 [==============================] - 28s 345ms/step - loss: 0.1737\n",
            "Epoch 84/300\n",
            "79/79 [==============================] - 28s 352ms/step - loss: 0.1710\n",
            "Epoch 85/300\n",
            "79/79 [==============================] - 28s 346ms/step - loss: 0.1691\n",
            "Epoch 86/300\n",
            "79/79 [==============================] - 28s 351ms/step - loss: 0.1695\n",
            "Epoch 87/300\n",
            "79/79 [==============================] - 28s 352ms/step - loss: 0.1677\n",
            "Epoch 88/300\n",
            "79/79 [==============================] - 28s 345ms/step - loss: 0.1640\n",
            "Epoch 89/300\n",
            "79/79 [==============================] - 28s 346ms/step - loss: 0.1659\n",
            "Epoch 90/300\n",
            "79/79 [==============================] - 28s 345ms/step - loss: 0.1659\n",
            "Epoch 91/300\n",
            "79/79 [==============================] - 28s 352ms/step - loss: 0.1640\n",
            "Epoch 92/300\n",
            "79/79 [==============================] - 28s 345ms/step - loss: 0.1639\n",
            "Epoch 93/300\n",
            "79/79 [==============================] - 28s 345ms/step - loss: 0.1634\n",
            "Epoch 94/300\n",
            "79/79 [==============================] - 28s 352ms/step - loss: 0.1629\n",
            "Epoch 95/300\n",
            "79/79 [==============================] - 28s 345ms/step - loss: 0.1617\n",
            "Epoch 96/300\n",
            "79/79 [==============================] - 28s 345ms/step - loss: 0.1620\n",
            "Epoch 97/300\n",
            "79/79 [==============================] - 28s 353ms/step - loss: 0.1625\n",
            "Epoch 98/300\n",
            "79/79 [==============================] - 28s 345ms/step - loss: 0.1595\n",
            "Epoch 99/300\n",
            "79/79 [==============================] - 28s 345ms/step - loss: 0.1589\n",
            "Epoch 100/300\n",
            "79/79 [==============================] - 28s 345ms/step - loss: 0.1587\n",
            "Epoch 101/300\n",
            "79/79 [==============================] - 28s 352ms/step - loss: 0.1590\n",
            "Epoch 102/300\n",
            "79/79 [==============================] - 28s 345ms/step - loss: 0.1581\n",
            "Epoch 103/300\n",
            "79/79 [==============================] - 28s 345ms/step - loss: 0.1569\n",
            "Epoch 104/300\n",
            "79/79 [==============================] - 28s 352ms/step - loss: 0.1543\n",
            "Epoch 105/300\n",
            "79/79 [==============================] - 28s 346ms/step - loss: 0.1542\n",
            "Epoch 106/300\n",
            "79/79 [==============================] - 28s 345ms/step - loss: 0.1535\n",
            "Epoch 107/300\n",
            "79/79 [==============================] - 28s 352ms/step - loss: 0.1512\n",
            "Epoch 108/300\n",
            "79/79 [==============================] - 28s 345ms/step - loss: 0.1560\n",
            "Epoch 109/300\n",
            "79/79 [==============================] - 28s 345ms/step - loss: 0.1537\n",
            "Epoch 110/300\n",
            "79/79 [==============================] - 28s 345ms/step - loss: 0.1508\n",
            "Epoch 111/300\n",
            "79/79 [==============================] - 28s 352ms/step - loss: 0.1511\n",
            "Epoch 112/300\n",
            "79/79 [==============================] - 28s 345ms/step - loss: 0.1522\n",
            "Epoch 113/300\n",
            "79/79 [==============================] - 28s 345ms/step - loss: 0.1496\n",
            "Epoch 114/300\n",
            "79/79 [==============================] - 28s 352ms/step - loss: 0.1509\n",
            "Epoch 115/300\n",
            "79/79 [==============================] - 28s 345ms/step - loss: 0.1495\n",
            "Epoch 116/300\n",
            "79/79 [==============================] - 28s 345ms/step - loss: 0.1491\n",
            "Epoch 117/300\n",
            "79/79 [==============================] - 28s 352ms/step - loss: 0.1491\n",
            "Epoch 118/300\n",
            "79/79 [==============================] - 28s 345ms/step - loss: 0.1691\n",
            "Epoch 119/300\n",
            "79/79 [==============================] - 28s 345ms/step - loss: 0.1591\n",
            "Epoch 120/300\n",
            "79/79 [==============================] - 28s 345ms/step - loss: 0.1549\n",
            "Epoch 121/300\n",
            "79/79 [==============================] - 28s 353ms/step - loss: 0.1505\n",
            "Epoch 122/300\n",
            "79/79 [==============================] - 28s 345ms/step - loss: 0.1463\n",
            "Epoch 123/300\n",
            "79/79 [==============================] - 28s 345ms/step - loss: 0.1416\n",
            "Epoch 124/300\n",
            "79/79 [==============================] - 28s 352ms/step - loss: 0.1409\n",
            "Epoch 125/300\n",
            "79/79 [==============================] - 28s 345ms/step - loss: 0.1404\n",
            "Epoch 126/300\n",
            "79/79 [==============================] - 28s 347ms/step - loss: 0.1423\n",
            "Epoch 127/300\n",
            "79/79 [==============================] - 29s 357ms/step - loss: 0.1390\n",
            "Epoch 128/300\n",
            "79/79 [==============================] - 28s 345ms/step - loss: 0.1393\n",
            "Epoch 129/300\n",
            "79/79 [==============================] - 28s 345ms/step - loss: 0.1407\n",
            "Epoch 130/300\n",
            "79/79 [==============================] - 28s 345ms/step - loss: 0.1393\n",
            "Epoch 131/300\n",
            "79/79 [==============================] - 28s 352ms/step - loss: 0.1408\n",
            "Epoch 132/300\n",
            "79/79 [==============================] - 28s 345ms/step - loss: 0.1391\n",
            "Epoch 133/300\n",
            "79/79 [==============================] - 28s 345ms/step - loss: 0.1405\n",
            "Epoch 134/300\n",
            "79/79 [==============================] - 28s 352ms/step - loss: 0.1424\n",
            "Epoch 135/300\n",
            "79/79 [==============================] - 28s 345ms/step - loss: 0.1398\n",
            "Epoch 136/300\n",
            "79/79 [==============================] - 28s 345ms/step - loss: 0.1405\n",
            "Epoch 137/300\n",
            "79/79 [==============================] - 28s 345ms/step - loss: 0.1414\n",
            "Epoch 138/300\n",
            "79/79 [==============================] - 28s 345ms/step - loss: 0.1409\n",
            "Epoch 139/300\n",
            "79/79 [==============================] - 28s 345ms/step - loss: 0.1406\n",
            "Epoch 140/300\n",
            "79/79 [==============================] - 28s 345ms/step - loss: 0.1391\n",
            "Epoch 141/300\n",
            "79/79 [==============================] - 28s 352ms/step - loss: 0.1400\n",
            "Epoch 142/300\n",
            "79/79 [==============================] - 28s 345ms/step - loss: 0.1395\n",
            "Epoch 143/300\n",
            "79/79 [==============================] - 28s 345ms/step - loss: 0.1403\n",
            "Epoch 144/300\n",
            "79/79 [==============================] - 28s 351ms/step - loss: 0.1398\n",
            "Epoch 145/300\n",
            "79/79 [==============================] - 28s 345ms/step - loss: 0.1399\n",
            "Epoch 146/300\n",
            "79/79 [==============================] - 28s 345ms/step - loss: 0.1388\n",
            "Epoch 147/300\n",
            "79/79 [==============================] - 28s 345ms/step - loss: 0.1373\n",
            "Epoch 148/300\n",
            "79/79 [==============================] - 28s 352ms/step - loss: 0.1367\n",
            "Epoch 149/300\n",
            "79/79 [==============================] - 28s 345ms/step - loss: 0.1338\n",
            "Epoch 150/300\n",
            "79/79 [==============================] - 28s 345ms/step - loss: 0.1346\n",
            "Epoch 151/300\n",
            "79/79 [==============================] - 28s 352ms/step - loss: 0.1331\n",
            "Epoch 152/300\n",
            "79/79 [==============================] - 28s 345ms/step - loss: 0.1345\n",
            "Epoch 153/300\n",
            "79/79 [==============================] - 28s 345ms/step - loss: 0.1353\n",
            "Epoch 154/300\n",
            "79/79 [==============================] - 28s 352ms/step - loss: 0.1360\n",
            "Epoch 155/300\n",
            "79/79 [==============================] - 28s 345ms/step - loss: 0.1336\n",
            "Epoch 156/300\n",
            "79/79 [==============================] - 28s 345ms/step - loss: 0.1358\n",
            "Epoch 157/300\n",
            "79/79 [==============================] - 28s 345ms/step - loss: 0.1357\n",
            "Epoch 158/300\n",
            "79/79 [==============================] - 28s 352ms/step - loss: 0.1355\n",
            "Epoch 159/300\n",
            "79/79 [==============================] - 28s 345ms/step - loss: 0.1343\n",
            "Epoch 160/300\n",
            "79/79 [==============================] - 28s 345ms/step - loss: 0.1331\n",
            "Epoch 161/300\n",
            "79/79 [==============================] - 28s 352ms/step - loss: 0.1334\n",
            "Epoch 162/300\n",
            "79/79 [==============================] - 28s 345ms/step - loss: 0.1334\n",
            "Epoch 163/300\n",
            "79/79 [==============================] - 28s 345ms/step - loss: 0.1323\n",
            "Epoch 164/300\n",
            "79/79 [==============================] - 28s 351ms/step - loss: 0.1330\n",
            "Epoch 165/300\n",
            "79/79 [==============================] - 28s 345ms/step - loss: 0.1312\n",
            "Epoch 166/300\n",
            "79/79 [==============================] - 28s 345ms/step - loss: 0.1314\n",
            "Epoch 167/300\n",
            "79/79 [==============================] - 28s 345ms/step - loss: 0.1311\n",
            "Epoch 168/300\n",
            "79/79 [==============================] - 28s 352ms/step - loss: 0.1303\n",
            "Epoch 169/300\n",
            "79/79 [==============================] - 28s 345ms/step - loss: 0.1314\n",
            "Epoch 170/300\n",
            "79/79 [==============================] - 28s 345ms/step - loss: 0.1334\n",
            "Epoch 171/300\n",
            "79/79 [==============================] - 28s 352ms/step - loss: 0.1321\n",
            "Epoch 172/300\n",
            "79/79 [==============================] - 28s 345ms/step - loss: 0.1298\n",
            "Epoch 173/300\n",
            "79/79 [==============================] - 28s 345ms/step - loss: 0.1313\n",
            "Epoch 174/300\n",
            "79/79 [==============================] - 28s 352ms/step - loss: 0.1301\n",
            "Epoch 175/300\n",
            "79/79 [==============================] - 28s 345ms/step - loss: 0.1288\n",
            "Epoch 176/300\n",
            "79/79 [==============================] - 28s 345ms/step - loss: 0.1285\n",
            "Epoch 177/300\n",
            "79/79 [==============================] - 28s 345ms/step - loss: 0.1304\n",
            "Epoch 178/300\n",
            "79/79 [==============================] - 28s 351ms/step - loss: 0.1281\n",
            "Epoch 179/300\n",
            "79/79 [==============================] - 28s 345ms/step - loss: 0.1274\n",
            "Epoch 180/300\n",
            "79/79 [==============================] - 28s 345ms/step - loss: 0.1272\n",
            "Epoch 181/300\n",
            "79/79 [==============================] - 28s 352ms/step - loss: 0.1268\n",
            "Epoch 182/300\n",
            "79/79 [==============================] - 28s 345ms/step - loss: 0.1290\n",
            "Epoch 183/300\n",
            "79/79 [==============================] - 28s 345ms/step - loss: 0.1286\n",
            "Epoch 184/300\n",
            "79/79 [==============================] - 28s 352ms/step - loss: 0.1291\n",
            "Epoch 185/300\n",
            "79/79 [==============================] - 28s 345ms/step - loss: 0.1276\n",
            "Epoch 186/300\n",
            "79/79 [==============================] - 28s 345ms/step - loss: 0.1270\n",
            "Epoch 187/300\n",
            "79/79 [==============================] - 28s 345ms/step - loss: 0.1280\n",
            "Epoch 188/300\n",
            "79/79 [==============================] - 28s 352ms/step - loss: 0.1279\n",
            "Epoch 189/300\n",
            "79/79 [==============================] - 28s 345ms/step - loss: 0.1263\n",
            "Epoch 190/300\n",
            "79/79 [==============================] - 28s 345ms/step - loss: 0.1233\n",
            "Epoch 191/300\n",
            "79/79 [==============================] - 28s 352ms/step - loss: 0.1247\n",
            "Epoch 192/300\n",
            "79/79 [==============================] - 28s 345ms/step - loss: 0.1248\n",
            "Epoch 193/300\n",
            "79/79 [==============================] - 28s 345ms/step - loss: 0.1247\n",
            "Epoch 194/300\n",
            "79/79 [==============================] - 28s 352ms/step - loss: 0.1281\n",
            "Epoch 195/300\n",
            "79/79 [==============================] - 28s 345ms/step - loss: 0.1271\n",
            "Epoch 196/300\n",
            "79/79 [==============================] - 28s 345ms/step - loss: 0.1278\n",
            "Epoch 197/300\n",
            "79/79 [==============================] - 28s 345ms/step - loss: 0.1266\n",
            "Epoch 198/300\n",
            "79/79 [==============================] - 28s 352ms/step - loss: 0.1257\n",
            "Epoch 199/300\n",
            "79/79 [==============================] - 28s 346ms/step - loss: 0.1260\n",
            "Epoch 200/300\n",
            "79/79 [==============================] - 28s 345ms/step - loss: 0.1259\n",
            "Epoch 201/300\n",
            "79/79 [==============================] - 28s 353ms/step - loss: 0.1273\n",
            "Epoch 202/300\n",
            "79/79 [==============================] - 28s 345ms/step - loss: 0.1253\n",
            "Epoch 203/300\n",
            "79/79 [==============================] - 28s 346ms/step - loss: 0.1270\n",
            "Epoch 204/300\n",
            "79/79 [==============================] - 28s 352ms/step - loss: 0.1256\n",
            "Epoch 205/300\n",
            "79/79 [==============================] - 28s 345ms/step - loss: 0.1245\n",
            "Epoch 206/300\n",
            "79/79 [==============================] - 28s 346ms/step - loss: 0.1246\n",
            "Epoch 207/300\n",
            "79/79 [==============================] - 28s 345ms/step - loss: 0.1231\n",
            "Epoch 208/300\n",
            "79/79 [==============================] - 28s 352ms/step - loss: 0.1211\n",
            "Epoch 209/300\n",
            "79/79 [==============================] - 28s 346ms/step - loss: 0.1193\n",
            "Epoch 210/300\n",
            "79/79 [==============================] - 28s 345ms/step - loss: 0.1194\n",
            "Epoch 211/300\n",
            "79/79 [==============================] - 28s 352ms/step - loss: 0.1197\n",
            "Epoch 212/300\n",
            "79/79 [==============================] - 28s 345ms/step - loss: 0.1187\n",
            "Epoch 213/300\n",
            "79/79 [==============================] - 28s 346ms/step - loss: 0.1208\n",
            "Epoch 214/300\n",
            "79/79 [==============================] - 28s 352ms/step - loss: 0.1229\n",
            "Epoch 215/300\n",
            "79/79 [==============================] - 28s 345ms/step - loss: 0.1219\n",
            "Epoch 216/300\n",
            "79/79 [==============================] - 28s 346ms/step - loss: 0.1238\n",
            "Epoch 217/300\n",
            "79/79 [==============================] - 28s 345ms/step - loss: 0.1249\n",
            "Epoch 218/300\n",
            "79/79 [==============================] - 28s 352ms/step - loss: 0.1330\n",
            "Epoch 219/300\n",
            "79/79 [==============================] - 28s 347ms/step - loss: 0.1343\n",
            "Epoch 220/300\n",
            "79/79 [==============================] - 28s 345ms/step - loss: 0.1292\n",
            "Epoch 221/300\n",
            "79/79 [==============================] - 28s 352ms/step - loss: 0.1249\n",
            "Epoch 222/300\n",
            "79/79 [==============================] - 28s 346ms/step - loss: 0.1216\n",
            "Epoch 223/300\n",
            "79/79 [==============================] - 28s 346ms/step - loss: 0.1198\n",
            "Epoch 224/300\n",
            "79/79 [==============================] - 28s 352ms/step - loss: 0.1174\n",
            "Epoch 225/300\n",
            "79/79 [==============================] - 28s 346ms/step - loss: 0.1186\n",
            "Epoch 226/300\n",
            "79/79 [==============================] - 28s 346ms/step - loss: 0.1191\n",
            "Epoch 227/300\n",
            "79/79 [==============================] - 28s 346ms/step - loss: 0.1182\n",
            "Epoch 228/300\n",
            "79/79 [==============================] - 28s 352ms/step - loss: 0.1165\n",
            "Epoch 229/300\n",
            "79/79 [==============================] - 28s 345ms/step - loss: 0.1164\n",
            "Epoch 230/300\n",
            "79/79 [==============================] - 28s 345ms/step - loss: 0.1154\n",
            "Epoch 231/300\n",
            "79/79 [==============================] - 28s 352ms/step - loss: 0.1168\n",
            "Epoch 232/300\n",
            "79/79 [==============================] - 28s 345ms/step - loss: 0.1180\n",
            "Epoch 233/300\n",
            "79/79 [==============================] - 28s 345ms/step - loss: 0.1206\n",
            "Epoch 234/300\n",
            "79/79 [==============================] - 28s 352ms/step - loss: 0.1222\n",
            "Epoch 235/300\n",
            "79/79 [==============================] - 28s 345ms/step - loss: 0.1239\n",
            "Epoch 236/300\n",
            "79/79 [==============================] - 28s 346ms/step - loss: 0.1243\n",
            "Epoch 237/300\n",
            "79/79 [==============================] - 28s 345ms/step - loss: 0.1272\n",
            "Epoch 238/300\n",
            "79/79 [==============================] - 28s 352ms/step - loss: 0.1241\n",
            "Epoch 239/300\n",
            "79/79 [==============================] - 28s 345ms/step - loss: 0.1227\n",
            "Epoch 240/300\n",
            "79/79 [==============================] - 28s 345ms/step - loss: 0.1219\n",
            "Epoch 241/300\n",
            "79/79 [==============================] - 28s 352ms/step - loss: 0.1197\n",
            "Epoch 242/300\n",
            "79/79 [==============================] - 28s 345ms/step - loss: 0.1178\n",
            "Epoch 243/300\n",
            "79/79 [==============================] - 28s 345ms/step - loss: 0.1182\n",
            "Epoch 244/300\n",
            "79/79 [==============================] - 28s 352ms/step - loss: 0.1164\n",
            "Epoch 245/300\n",
            "79/79 [==============================] - 28s 345ms/step - loss: 0.1158\n",
            "Epoch 246/300\n",
            "79/79 [==============================] - 28s 346ms/step - loss: 0.1153\n",
            "Epoch 247/300\n",
            "79/79 [==============================] - 28s 345ms/step - loss: 0.1152\n",
            "Epoch 248/300\n",
            "79/79 [==============================] - 28s 353ms/step - loss: 0.1157\n",
            "Epoch 249/300\n",
            "79/79 [==============================] - 28s 345ms/step - loss: 0.1156\n",
            "Epoch 250/300\n",
            "79/79 [==============================] - 28s 345ms/step - loss: 0.1188\n",
            "Epoch 251/300\n",
            "79/79 [==============================] - 28s 352ms/step - loss: 0.1203\n",
            "Epoch 252/300\n",
            "79/79 [==============================] - 28s 346ms/step - loss: 0.1219\n",
            "Epoch 253/300\n",
            "79/79 [==============================] - 28s 346ms/step - loss: 0.1208\n",
            "Epoch 254/300\n",
            "79/79 [==============================] - 28s 353ms/step - loss: 0.1203\n",
            "Epoch 255/300\n",
            "79/79 [==============================] - 28s 345ms/step - loss: 0.1190\n",
            "Epoch 256/300\n",
            "79/79 [==============================] - 28s 345ms/step - loss: 0.1164\n",
            "Epoch 257/300\n",
            "79/79 [==============================] - 28s 346ms/step - loss: 0.1171\n",
            "Epoch 258/300\n",
            "79/79 [==============================] - 28s 352ms/step - loss: 0.1172\n",
            "Epoch 259/300\n",
            "79/79 [==============================] - 28s 346ms/step - loss: 0.1185\n",
            "Epoch 260/300\n",
            "79/79 [==============================] - 28s 345ms/step - loss: 0.1169\n",
            "Epoch 261/300\n",
            "79/79 [==============================] - 28s 353ms/step - loss: 0.1154\n",
            "Epoch 262/300\n",
            "79/79 [==============================] - 28s 346ms/step - loss: 0.1155\n",
            "Epoch 263/300\n",
            "79/79 [==============================] - 28s 346ms/step - loss: 0.1132\n",
            "Epoch 264/300\n",
            "79/79 [==============================] - 28s 352ms/step - loss: 0.1172\n",
            "Epoch 265/300\n",
            "79/79 [==============================] - 28s 345ms/step - loss: 0.1166\n",
            "Epoch 266/300\n",
            "79/79 [==============================] - 28s 346ms/step - loss: 0.1185\n",
            "Epoch 267/300\n",
            "79/79 [==============================] - 28s 345ms/step - loss: 0.1183\n",
            "Epoch 268/300\n",
            "79/79 [==============================] - 28s 352ms/step - loss: 0.1172\n",
            "Epoch 269/300\n",
            "79/79 [==============================] - 28s 345ms/step - loss: 0.1172\n",
            "Epoch 270/300\n",
            "79/79 [==============================] - 28s 345ms/step - loss: 0.1192\n",
            "Epoch 271/300\n",
            "79/79 [==============================] - 28s 353ms/step - loss: 0.1194\n",
            "Epoch 272/300\n",
            "79/79 [==============================] - 28s 346ms/step - loss: 0.1196\n",
            "Epoch 273/300\n",
            "79/79 [==============================] - 28s 345ms/step - loss: 0.1160\n",
            "Epoch 274/300\n",
            "79/79 [==============================] - 28s 345ms/step - loss: 0.1159\n",
            "Epoch 275/300\n",
            "79/79 [==============================] - 28s 352ms/step - loss: 0.1175\n",
            "Epoch 276/300\n",
            "79/79 [==============================] - 28s 345ms/step - loss: 0.1162\n",
            "Epoch 277/300\n",
            "79/79 [==============================] - 28s 345ms/step - loss: 0.1156\n",
            "Epoch 278/300\n",
            "79/79 [==============================] - 28s 352ms/step - loss: 0.1142\n",
            "Epoch 279/300\n",
            "79/79 [==============================] - 28s 346ms/step - loss: 0.1146\n",
            "Epoch 280/300\n",
            "79/79 [==============================] - 28s 345ms/step - loss: 0.1158\n",
            "Epoch 281/300\n",
            "79/79 [==============================] - 28s 352ms/step - loss: 0.1154\n",
            "Epoch 282/300\n",
            "79/79 [==============================] - 28s 345ms/step - loss: 0.1143\n",
            "Epoch 283/300\n",
            "79/79 [==============================] - 28s 346ms/step - loss: 0.1142\n",
            "Epoch 284/300\n",
            "79/79 [==============================] - 28s 345ms/step - loss: 0.1133\n",
            "Epoch 285/300\n",
            "79/79 [==============================] - 28s 352ms/step - loss: 0.1143\n",
            "Epoch 286/300\n",
            "79/79 [==============================] - 28s 346ms/step - loss: 0.1138\n",
            "Epoch 287/300\n",
            "79/79 [==============================] - 28s 345ms/step - loss: 0.1157\n",
            "Epoch 288/300\n",
            "79/79 [==============================] - 28s 352ms/step - loss: 0.1148\n",
            "Epoch 289/300\n",
            "79/79 [==============================] - 28s 346ms/step - loss: 0.1168\n",
            "Epoch 290/300\n",
            "79/79 [==============================] - 28s 346ms/step - loss: 0.1163\n",
            "Epoch 291/300\n",
            "79/79 [==============================] - 28s 353ms/step - loss: 0.1161\n",
            "Epoch 292/300\n",
            "79/79 [==============================] - 28s 345ms/step - loss: 0.1174\n",
            "Epoch 293/300\n",
            "79/79 [==============================] - 28s 345ms/step - loss: 0.1172\n",
            "Epoch 294/300\n",
            "79/79 [==============================] - 28s 345ms/step - loss: 0.1184\n",
            "Epoch 295/300\n",
            "79/79 [==============================] - 28s 352ms/step - loss: 0.1188\n",
            "Epoch 296/300\n",
            "79/79 [==============================] - 28s 346ms/step - loss: 0.1185\n",
            "Epoch 297/300\n",
            "79/79 [==============================] - 28s 345ms/step - loss: 0.1186\n",
            "Epoch 298/300\n",
            "79/79 [==============================] - 28s 352ms/step - loss: 0.1159\n",
            "Epoch 299/300\n",
            "79/79 [==============================] - 28s 346ms/step - loss: 0.1133\n",
            "Epoch 300/300\n",
            "79/79 [==============================] - 28s 346ms/step - loss: 0.1131\n"
          ]
        }
      ]
    },
    {
      "cell_type": "markdown",
      "metadata": {
        "id": "kKkD5M6eoSiN"
      },
      "source": [
        "## Generate text"
      ]
    },
    {
      "cell_type": "code",
      "metadata": {
        "colab": {
          "base_uri": "https://localhost:8080/",
          "height": 35
        },
        "id": "zk2WJ2-XjkGz",
        "outputId": "7caa9706-8895-4df3-c28f-1ec753a883ba"
      },
      "source": [
        "tf.train.latest_checkpoint(checkpoint_dir)"
      ],
      "execution_count": 70,
      "outputs": [
        {
          "output_type": "execute_result",
          "data": {
            "text/plain": [
              "'/content/training_checkpoints/ckpt_298'"
            ],
            "application/vnd.google.colaboratory.intrinsic+json": {
              "type": "string"
            }
          },
          "metadata": {},
          "execution_count": 70
        }
      ]
    },
    {
      "cell_type": "code",
      "metadata": {
        "id": "LycQ-ot_jjyu"
      },
      "source": [
        "model = build_model(vocab_size, embedding_dim, rnn_units, batch_size=1)\n",
        "model.load_weights(tf.train.latest_checkpoint(checkpoint_dir))\n",
        "model.build(tf.TensorShape([1, None]))"
      ],
      "execution_count": 71,
      "outputs": []
    },
    {
      "cell_type": "code",
      "metadata": {
        "colab": {
          "base_uri": "https://localhost:8080/"
        },
        "id": "71xa6jnYVrAN",
        "outputId": "e51c8bfc-119e-49e5-ca26-80a83b25ac98"
      },
      "source": [
        "model.summary()"
      ],
      "execution_count": 72,
      "outputs": [
        {
          "output_type": "stream",
          "name": "stdout",
          "text": [
            "Model: \"sequential_3\"\n",
            "_________________________________________________________________\n",
            " Layer (type)                Output Shape              Param #   \n",
            "=================================================================\n",
            " embedding_3 (Embedding)     (1, None, 128)            19328     \n",
            "                                                                 \n",
            " lstm_12 (LSTM)              (1, None, 1024)           4722688   \n",
            "                                                                 \n",
            " lstm_13 (LSTM)              (1, None, 1024)           8392704   \n",
            "                                                                 \n",
            " lstm_14 (LSTM)              (1, None, 1024)           8392704   \n",
            "                                                                 \n",
            " lstm_15 (LSTM)              (1, None, 1024)           8392704   \n",
            "                                                                 \n",
            " dense_3 (Dense)             (1, None, 151)            154775    \n",
            "                                                                 \n",
            "=================================================================\n",
            "Total params: 30,074,903\n",
            "Trainable params: 30,074,903\n",
            "Non-trainable params: 0\n",
            "_________________________________________________________________\n"
          ]
        }
      ]
    },
    {
      "cell_type": "code",
      "metadata": {
        "id": "WvuwZBX5Ogfd"
      },
      "source": [
        "def generate_text(model, start_string):\n",
        "    # Evaluation step (generating text using the learned model)\n",
        "\n",
        "    # Number of characters to generate\n",
        "    num_generate = 500\n",
        "\n",
        "    # Converting our start string to numbers (vectorizing)\n",
        "    input_eval = [char2idx[s] for s in start_string]\n",
        "    input_eval = tf.expand_dims(input_eval, 0)\n",
        "\n",
        "    # Empty string to store our results\n",
        "    text_generated = []\n",
        "\n",
        "    # Low temperature results in more predictable text.\n",
        "    # Higher temperature results in more surprising text.\n",
        "    # Experiment to find the best setting.\n",
        "    temperature = 1\n",
        "\n",
        "    # Here batch size == 1\n",
        "    model.reset_states()\n",
        "    for i in range(num_generate):\n",
        "        predictions = model(input_eval)\n",
        "        predictions = tf.squeeze(predictions, 0)\n",
        "        # using a categorical distribution to predict the character returned by the model\n",
        "        predictions = predictions / temperature\n",
        "        predicted_id = tf.random.categorical(predictions, num_samples=1)[-1, 0].numpy()\n",
        "\n",
        "        # Pass the predicted character as the next input to the model\n",
        "        # along with the previous hidden state\n",
        "        input_eval = tf.expand_dims([predicted_id], 0)\n",
        "\n",
        "        text_generated.append(idx2char[predicted_id])\n",
        "\n",
        "    return (start_string + ''.join(text_generated))"
      ],
      "execution_count": 83,
      "outputs": []
    },
    {
      "cell_type": "markdown",
      "source": [
        "#через 20 эпох"
      ],
      "metadata": {
        "id": "5aIOQDLiGiJs"
      }
    },
    {
      "cell_type": "code",
      "metadata": {
        "colab": {
          "base_uri": "https://localhost:8080/",
          "height": 89
        },
        "id": "ktovv0RFhrkn",
        "outputId": "95e966f7-065d-49ed-d929-a54cafc6eabc"
      },
      "source": [
        "#вывод через 20 эпох\n",
        "text_ = generate_text(model, start_string=u\"И вот идет уже \")\n",
        "print(len(text_))\n",
        "text_"
      ],
      "execution_count": 54,
      "outputs": [
        {
          "output_type": "stream",
          "name": "stdout",
          "text": [
            "515\n"
          ]
        },
        {
          "output_type": "execute_result",
          "data": {
            "text/plain": [
              "'И вот идет уже с дем упратный в нем не старать не удной взора на не постану наворить на спора одами и за кирей в вособо содерных в поэтой и то вах свители на поэтов в 18131 года, в поэте на слишет вострой котором света косторенный востиви (поэмы в топоро вмоля в строй соднанны када и с постера поэма послеваленный из на исти польбоводо                 Вот повреговал и не домой\\n                       В ней отраный не востенечий.\\n                          На пледы слебит как и леты,\\n                              '"
            ],
            "application/vnd.google.colaboratory.intrinsic+json": {
              "type": "string"
            }
          },
          "metadata": {},
          "execution_count": 54
        }
      ]
    },
    {
      "cell_type": "code",
      "source": [
        ""
      ],
      "metadata": {
        "id": "1miLdL6dHB4I"
      },
      "execution_count": null,
      "outputs": []
    },
    {
      "cell_type": "markdown",
      "source": [
        "#через 300 эпох"
      ],
      "metadata": {
        "id": "gSX3cLiJHCJw"
      }
    },
    {
      "cell_type": "code",
      "metadata": {
        "colab": {
          "base_uri": "https://localhost:8080/"
        },
        "outputId": "7cb2ce7c-f270-40d1-89f1-3db6e9cd82ab",
        "id": "Useb_AoHHCJx"
      },
      "source": [
        "#вывод через 300 эпох температура =1\n",
        "text_ = generate_text(model, start_string=u\"И вот идет уже \")\n",
        "print(len(text_))\n",
        "print(text_)"
      ],
      "execution_count": 80,
      "outputs": [
        {
          "output_type": "stream",
          "name": "stdout",
          "text": [
            "515\n",
            "И вот идет уже написаэь и в Тазечаете заря.],\n",
            "\t\tИ страй-ко\n",
            "                        Все благо: бдения и сна\n",
            "                        Приходит час определенный;\n",
            "         Убийцу волнуем симвора.\n",
            "\n",
            "                                     XLI\n",
            "\n",
            "                        Встает заря во мгле холодной\n",
            "                    (песен и рассказа,\n",
            "\t\tВоспоминания полна,\n",
            "\t\tБыть может, повторит она\n",
            "\t\tПреданья грозного Кавказа;\n",
            "\t\tРассеяны ль?\n",
            "\n",
            "\n",
            "Мария\n",
            "\n",
            "\t\t               О милый мой,\n",
            "\t\tТы будешь Угрюмый, однажоснулась роковая весть:\n",
            "\t\tОна з\n"
          ]
        }
      ]
    },
    {
      "cell_type": "code",
      "source": [
        "#вывод через 300 эпох температура =0.5\n",
        "text_ = generate_text(model, start_string=u\"И вот идет уже \")\n",
        "print(len(text_))\n",
        "print(text_)"
      ],
      "metadata": {
        "colab": {
          "base_uri": "https://localhost:8080/"
        },
        "id": "XvTQAE5GoJzt",
        "outputId": "8738d07b-fba5-4103-d65d-145221e6bf15"
      },
      "execution_count": 78,
      "outputs": [
        {
          "output_type": "stream",
          "name": "stdout",
          "text": [
            "515\n",
            "И вот идет уже написанных строф,\n",
            "                                               Потом свой кофе выпивал,\n",
            "                        Плохой журнал перебирая,\n",
            "                        Короте вы знаем, что Евгений\n",
            "                        Издавна чтенье разлюбил,\n",
            "                        Однако! уж ехать со двора.\n",
            "\n",
            "                                     XXV\n",
            "\n",
            "                        Он поскорей                                                                 Ноr.\n",
            "\n",
            "                                                           \n"
          ]
        }
      ]
    },
    {
      "cell_type": "code",
      "source": [
        "#вывод через 300 эпох температура =0.1\n",
        "text_ = generate_text(model, start_string=u\"И вот идет уже \")\n",
        "print(len(text_))\n",
        "print(text_)"
      ],
      "metadata": {
        "colab": {
          "base_uri": "https://localhost:8080/"
        },
        "id": "wuMW54who5F9",
        "outputId": "f1d22e42-cb69-47c6-fbc8-cda417208a7c"
      },
      "execution_count": 82,
      "outputs": [
        {
          "output_type": "stream",
          "name": "stdout",
          "text": [
            "515\n",
            "И вот идет уже написал\n",
            "                                                                                         Ноr.\n",
            "\n",
            "                                      X\n",
            "\n",
            "                        Он пел любовь, любви послушный,\n",
            "                                                                                                                                                                                                                                                                                                            \n"
          ]
        }
      ]
    },
    {
      "cell_type": "code",
      "source": [
        "#вывод через 300 эпох температура =1\n",
        "text_ = generate_text(model, start_string=u\"И вот идет уже \")\n",
        "print(len(text_))\n",
        "print(text_)"
      ],
      "metadata": {
        "colab": {
          "base_uri": "https://localhost:8080/"
        },
        "id": "iJTMMpuwpFTU",
        "outputId": "2492dfc2-88ed-40a8-c495-a9b9945a1507"
      },
      "execution_count": 84,
      "outputs": [
        {
          "output_type": "stream",
          "name": "stdout",
          "text": [
            "515\n",
            "И вот идет уже наделала б вреда,\n",
            "                        На этох глубоко и приворной\n",
            "                        Назеровавы\n",
            "\t\tРаздался звучный глас Петра:\n",
            "\t\t«За дело, с Богом!» Из шатра,\n",
            "\t\tТолпой любимцев окруженный,\n",
            "\t\tВымы Истрашные мечты.\n",
            "\n",
            "\n",
            "Земфира\n",
            "\n",
            "\t\tНе верна поэтического сна\n",
            "                        Иная, старая весна\n",
            "                    Меня презреньем наконец\n",
            "                        (будочник).\n",
            "\n",
            "\n",
            "\n",
            "90\n",
            "\n",
            "Лета – в я, церезкоздонь должны,\n",
            "                        Так ваша верная подруга\n",
            "            Так медленно по \n"
          ]
        }
      ]
    }
  ]
}