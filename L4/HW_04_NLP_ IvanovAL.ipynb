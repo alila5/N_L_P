{
 "cells": [
  {
   "cell_type": "markdown",
   "id": "127414a4",
   "metadata": {
    "colab_type": "text",
    "id": "view-in-github"
   },
   "source": [
    "<a href=\"https://colab.research.google.com/github/SLVmain/NLP/blob/Les_04/HW_04_lda.ipynb\" target=\"_parent\"><img src=\"https://colab.research.google.com/assets/colab-badge.svg\" alt=\"Open In Colab\"/></a>"
   ]
  },
  {
   "cell_type": "markdown",
   "id": "zJfl8C-MbNbV",
   "metadata": {
    "id": "zJfl8C-MbNbV"
   },
   "source": [
    "## Урок 4. Тематическое моделирование. EM-алгоритм\n",
    "Задача тематическое моделирование\n",
    "\n",
    "продолжаем исследование датасета с твитами\n",
    "\n",
    "Скачиваем датасет (источник): положительные, отрицательные.\n",
    "\n",
    "или можно через ноутбук\n",
    "\n",
    "!wget https://www.dropbox.com/s/fnpq3z4bcnoktiv/positive.csv\n",
    "!wget https://www.dropbox.com/s/r6u59ljhhjdg6j0/negative.csv\n",
    "\n",
    "как альтернатива можно скачать данные из Роспотребнадзора\n",
    "https://zpp.rospotrebnadzor.ru/Forum/Appeals\n",
    "для этого берём ноутбук parse_rospotrebnadzor.ipynb\n",
    "устанавливаем количество скачанных страниц больше не 50-сят хотябы 500 и для анализа берём только вопросы так как ответы есть не всегда\n",
    "\n",
    "что надо сделать\n",
    "1. объединить в одну выборку (это только для твитов), для роспотребнадзора сформировать датасет из вопросов\n",
    "2. провести исследование и выявить тематики о которых говорят в твитах (для твитов), а для роспотребнадзора так же выявить тематики о которых люди пишут проанализировать\n",
    "3. сделать визуализацию кластеров тематик\n",
    "4. проинтерпритировать получившиеся тематики"
   ]
  },
  {
   "cell_type": "markdown",
   "id": "529f53c6",
   "metadata": {
    "id": "529f53c6"
   },
   "source": [
    "## Закачка данных"
   ]
  },
  {
   "cell_type": "code",
   "execution_count": 3,
   "id": "83d4044a",
   "metadata": {
    "id": "83d4044a"
   },
   "outputs": [],
   "source": [
    "import requests\n",
    "from bs4 import BeautifulSoup \n",
    "import time\n",
    "from urllib.parse import urlparse, urljoin\n",
    "from tqdm.notebook import tqdm"
   ]
  },
  {
   "cell_type": "code",
   "execution_count": 10,
   "id": "a920bc9b",
   "metadata": {
    "colab": {
     "base_uri": "https://localhost:8080/",
     "height": 49,
     "referenced_widgets": [
      "ac5ed62c15004a2c91986544032e581e",
      "bbd7d534f06c44c5b65717e65cc6bc36",
      "900af86adcf8476491b070d13f847256",
      "ce2657a65f4a4450a978441655f45478",
      "d1d50101fdfd4989857681e448ca57c1",
      "e250755e8e6444c0a9dead964f1caeab",
      "8da7957700a64d0d98904359bdde7e4c",
      "875115dd978247adbe105102f372a82d",
      "bb320aa6e2f446e8af1724d80cd5de68",
      "3c7448da21fa4e09ae35872d39b81efd",
      "08e36e0298cb4ea49dcd0aa7160dc47c"
     ]
    },
    "id": "a920bc9b",
    "outputId": "2037603e-adf5-4fff-cc25-a74bc8b5be38"
   },
   "outputs": [
    {
     "data": {
      "application/vnd.jupyter.widget-view+json": {
       "model_id": "b247f184656c4fda9693553077dda832",
       "version_major": 2,
       "version_minor": 0
      },
      "text/plain": [
       "Pages:   0%|          | 0/299 [00:00<?, ?it/s]"
      ]
     },
     "metadata": {},
     "output_type": "display_data"
    }
   ],
   "source": [
    "## найти id каждого вопроса на страницах\n",
    "page = 1\n",
    "main_url = 'https://zpp.rospotrebnadzor.ru/Forum/Appeals/AjaxindexList?page={page}&searchtext=&categories=[]'\n",
    "\n",
    "def ids_from_page(soup):\n",
    "    return [i.get('href') for i  in soup.findAll('a', {'class':'appeal-title-link'})]\n",
    "    \n",
    "urls = []\n",
    "for page in tqdm(range(1, 300), desc='Pages'):\n",
    "    time.sleep(0.5)\n",
    "    #print(main_url.format(page=page))\n",
    "    res = requests.get(main_url.format(page=page))  \n",
    "    soup = BeautifulSoup(res.text)\n",
    "    #print(soup.findAll('a', {'class':'appeal-title-link'}))\n",
    "    urls.extend(ids_from_page(soup))"
   ]
  },
  {
   "cell_type": "code",
   "execution_count": 12,
   "id": "2d4de04c",
   "metadata": {},
   "outputs": [
    {
     "data": {
      "text/plain": [
       "1495"
      ]
     },
     "execution_count": 12,
     "metadata": {},
     "output_type": "execute_result"
    }
   ],
   "source": [
    "len(urls)"
   ]
  },
  {
   "cell_type": "code",
   "execution_count": 13,
   "id": "29cf2c0d",
   "metadata": {
    "colab": {
     "base_uri": "https://localhost:8080/",
     "height": 49,
     "referenced_widgets": [
      "0bb39d9b7de24bcfbac5fcfa25ec6b0b",
      "f5e2367a04704394b6eea601a2c47082",
      "245c4a85a7634d98bab9e9f9dcc30879",
      "dec48a4297d24ea9a95f2071d0854c56",
      "87bea960bf9e464ca04e90752df85458",
      "205138dd0aef420582723621a5c59fc8",
      "5dfd722d2c6f4a8b9c931181beb99e89",
      "07897d1a6ba1415cbea2245cee60649b",
      "d3412528b4f54bfdb81d54e56cada38e",
      "cb3b4e2f775848948be7031f086b9593",
      "9073025e780c41c5bc1657e18e5af5b4"
     ]
    },
    "id": "29cf2c0d",
    "outputId": "629aba17-650d-46c1-d3ff-7df39f2a7607"
   },
   "outputs": [
    {
     "data": {
      "application/vnd.jupyter.widget-view+json": {
       "model_id": "76c53dc581b24794b81a56be74dc57fb",
       "version_major": 2,
       "version_minor": 0
      },
      "text/plain": [
       "Pages:   0%|          | 0/1495 [00:00<?, ?it/s]"
      ]
     },
     "metadata": {},
     "output_type": "display_data"
    }
   ],
   "source": [
    "## имея id запросов достанем тексты на страницах\n",
    "domain = 'https://zpp.rospotrebnadzor.ru'\n",
    "\n",
    "def get_text_page_question(soup):\n",
    "    return soup.findAll('p', {'class':'appeal-details-message'})[0].text\n",
    "def get_text_page_answer(soup):\n",
    "    return soup.findAll('p', {'class':'appeal-comments-message'})[0].text\n",
    "\n",
    "questions = []\n",
    "answers = []\n",
    "\n",
    "for url in tqdm(urls, desc='Pages'):\n",
    "    time.sleep(0.5)\n",
    "    res = requests.get(urljoin(domain, url))  \n",
    "    soup = BeautifulSoup(res.text)\n",
    "    \n",
    "    questions.append(get_text_page_question(soup))\n",
    "    try:\n",
    "        answers.append(get_text_page_answer(soup))\n",
    "    except:\n",
    "        answers.append('No answer')"
   ]
  },
  {
   "cell_type": "code",
   "execution_count": 14,
   "id": "0191a57f",
   "metadata": {
    "colab": {
     "base_uri": "https://localhost:8080/"
    },
    "id": "0191a57f",
    "outputId": "d8df5e5d-52f8-4248-c640-8bbaa8950953"
   },
   "outputs": [
    {
     "name": "stdout",
     "output_type": "stream",
     "text": [
      "Q: Добрый день.\r\n",
      "Купила в магазине техники электросамокат,попробовать как он ездит,в магазине не разрешили,попросила продавца рассказать про товар,она сказала,что она о нем ничего не знает,колеса..руль...газ..тормоз,сигнал горит,в течение двух недель можете вернуть - это все что было сказано.Попробовала дома его,а у этой модели практически нет амортизации и жесткий ход колеса и сложить самой его очень трудно.Приехала в магазин через 4 дня,где мне отказали его взять,сославшись на то,что этот товар с электродвигателем и входит в перечень товаров,которые нельзя вернуть,а только обменять на аналогичный,но в магазине не было такой модели с похожими характеристиками.Мне посоветовали написать претензию и вернули товар обратно.Правомерны ли действия магазина?и если не правомерны,то можно ссылку на закон?\n",
      "\n",
      "A: Добрый день! Повторно, согласно ст.25 Закона о защите прав потребителей,от 07.02.1992 № 2300-1,  Потребитель вправе обменять непродовольственный товар надлежащего качества на аналогичный товар у продавца, у которого этот товар был приобретен, если указанный товар не подошел по форме, габаритам, фасону, расцветке, размеру или комплектации.\r\n",
      "Потребитель имеет право на обмен непродовольственного товара надлежащего качества в течение четырнадцати дней, не считая дня его покупки.\r\n",
      "Обмен непродовольственного товара надлежащего качества проводится, если указанный товар не был в употреблении, сохранены его товарный вид, потребительские свойства, пломбы, фабричные ярлыки, а также имеется товарный чек или кассовый чек либо иной подтверждающий оплату указанного товара документ. Отсутствие у потребителя товарного чека или кассового чека либо иного подтверждающего оплату товара документа не лишает его возможности ссылаться на свидетельские показания.\r\n",
      "Перечень товаров, не подлежащих обмену по основаниям, указанным в настоящей статье, утверждается Правительством Российской Федерации.\r\n",
      " В случае, если аналогичный товар отсутствует в продаже на день обращения потребителя к продавцу, потребитель вправе отказаться от исполнения договора купли-продажи и потребовать возврата уплаченной за указанный товар денежной суммы. Требование потребителя о возврате уплаченной за указанный товар денежной суммы подлежит удовлетворению в течение трех дней со дня возврата указанного товара.\r\n",
      "По соглашению потребителя с продавцом обмен товара может быть предусмотрен при поступлении аналогичного товара в продажу. Продавец обязан незамедлительно сообщить потребителю о поступлении аналогичного товара в продажу.\r\n",
      "\n"
     ]
    }
   ],
   "source": [
    "## посмотрим, что скачалось\n",
    "N = 2\n",
    "print('Q:', questions[N])\n",
    "print()\n",
    "print('A:', answers[N])"
   ]
  },
  {
   "cell_type": "code",
   "execution_count": 18,
   "id": "FXlqY85wsR2I",
   "metadata": {
    "colab": {
     "base_uri": "https://localhost:8080/"
    },
    "id": "FXlqY85wsR2I",
    "outputId": "dc1d2bb2-7562-4e6a-f339-210cfb577eb9"
   },
   "outputs": [
    {
     "data": {
      "text/plain": [
       "(1495, 1495)"
      ]
     },
     "execution_count": 18,
     "metadata": {},
     "output_type": "execute_result"
    }
   ],
   "source": [
    "len(questions), len(answers)"
   ]
  },
  {
   "cell_type": "code",
   "execution_count": 22,
   "id": "EOcpjfsqc-XV",
   "metadata": {
    "id": "EOcpjfsqc-XV"
   },
   "outputs": [],
   "source": [
    "import pickle\n",
    "path = 'C:\\\\Users\\\\SR_Ad\\\\NLP\\\\HW04\\\\'\n",
    "\n",
    "with open(path + \"questions_file1k.pkl\", 'wb') as f:\n",
    "  pickle.dump(questions, f)"
   ]
  },
  {
   "cell_type": "code",
   "execution_count": 24,
   "id": "ukojzvCLCPc5",
   "metadata": {
    "id": "ukojzvCLCPc5"
   },
   "outputs": [],
   "source": [
    "import pickle\n",
    "path =  'C:\\\\Users\\\\SR_Ad\\\\NLP\\\\HW04\\\\'"
   ]
  },
  {
   "cell_type": "code",
   "execution_count": 25,
   "id": "OEdm43JWsTBl",
   "metadata": {
    "id": "OEdm43JWsTBl"
   },
   "outputs": [],
   "source": [
    "with open(path + \"questions_file1k.pkl\", 'rb') as f:\n",
    "     questions1 = pickle.load(f)"
   ]
  },
  {
   "cell_type": "code",
   "execution_count": 26,
   "id": "w0-gkwRasNwl",
   "metadata": {
    "colab": {
     "base_uri": "https://localhost:8080/"
    },
    "id": "w0-gkwRasNwl",
    "outputId": "7748a5f9-4b0a-4672-cc5f-d2bbc3b92bec"
   },
   "outputs": [
    {
     "data": {
      "text/plain": [
       "1495"
      ]
     },
     "execution_count": 26,
     "metadata": {},
     "output_type": "execute_result"
    }
   ],
   "source": [
    "len(questions1)"
   ]
  },
  {
   "cell_type": "code",
   "execution_count": 27,
   "id": "3yEpNA-MsbGD",
   "metadata": {
    "colab": {
     "base_uri": "https://localhost:8080/",
     "height": 53
    },
    "id": "3yEpNA-MsbGD",
    "outputId": "d8ffe1fc-3a92-4223-d30b-319082737e71"
   },
   "outputs": [
    {
     "data": {
      "text/plain": [
       "'Добрый день.\\r\\nКупила в магазине техники электросамокат,попробовать как он ездит,в магазине не разрешили,попросила продавца рассказать про товар,она сказала,что она о нем ничего не знает,колеса..руль...газ..тормоз,сигнал горит,в течение двух недель можете вернуть - это все что было сказано.Попробовала дома его,а у этой модели практически нет амортизации и жесткий ход колеса и сложить самой его очень трудно.Приехала в магазин через 4 дня,где мне отказали его взять,сославшись на то,что этот товар с электродвигателем и входит в перечень товаров,которые нельзя вернуть,а только обменять на аналогичный,но в магазине не было такой модели с похожими характеристиками.Мне посоветовали написать претензию и вернули товар обратно.Правомерны ли действия магазина?и если не правомерны,то можно ссылку на закон?'"
      ]
     },
     "execution_count": 27,
     "metadata": {},
     "output_type": "execute_result"
    }
   ],
   "source": [
    "questions1[2]"
   ]
  },
  {
   "cell_type": "markdown",
   "id": "bsWr6XDzf6Mp",
   "metadata": {
    "id": "bsWr6XDzf6Mp"
   },
   "source": [
    "### Предобработка\n",
    "\n",
    "\n",
    "Все модели, с которыми мы будем работать далее, работают с предобработанными текстами, поэтому сперва проведем стандартную предобработку текста:"
   ]
  },
  {
   "cell_type": "code",
   "execution_count": 29,
   "id": "JVrWuN09f6Mp",
   "metadata": {
    "id": "JVrWuN09f6Mp"
   },
   "outputs": [],
   "source": [
    "import re\n",
    "import numpy as np\n",
    "from nltk.corpus import stopwords\n",
    "from tqdm.notebook import tqdm\n",
    "from multiprocessing import Pool\n",
    "#from pymystem3 import Mystem"
   ]
  },
  {
   "cell_type": "code",
   "execution_count": 30,
   "id": "KabTrpuCJIPw",
   "metadata": {
    "colab": {
     "base_uri": "https://localhost:8080/"
    },
    "id": "KabTrpuCJIPw",
    "outputId": "22481fe8-a3a2-4b85-92d4-2448992f67d3"
   },
   "outputs": [
    {
     "name": "stderr",
     "output_type": "stream",
     "text": [
      "[nltk_data] Downloading package stopwords to\n",
      "[nltk_data]     C:\\Users\\SR_Ad\\AppData\\Roaming\\nltk_data...\n",
      "[nltk_data]   Package stopwords is already up-to-date!\n"
     ]
    },
    {
     "data": {
      "text/plain": [
       "True"
      ]
     },
     "execution_count": 30,
     "metadata": {},
     "output_type": "execute_result"
    }
   ],
   "source": [
    "import nltk\n",
    "nltk.download('stopwords')"
   ]
  },
  {
   "cell_type": "code",
   "execution_count": 31,
   "id": "XDBV03ENKhgu",
   "metadata": {
    "id": "XDBV03ENKhgu"
   },
   "outputs": [],
   "source": [
    "import pymorphy2\n",
    "morph = pymorphy2.MorphAnalyzer()"
   ]
  },
  {
   "cell_type": "code",
   "execution_count": 32,
   "id": "V3a8Btmff6Mp",
   "metadata": {
    "id": "V3a8Btmff6Mp"
   },
   "outputs": [],
   "source": [
    "words_regex = re.compile('\\w+')\n",
    "\n",
    "def find_words(text, regex = words_regex):\n",
    "    tokens =  regex.findall(text.lower())\n",
    "    return [w for w in tokens if w.isalpha() and len(w) >= 3]\n",
    "\n",
    "\n",
    "stopwords_list = stopwords.words('russian')\n",
    "morestopwords = ['это', 'который', \"каждый\"]\n",
    "stopwords_list += morestopwords\n",
    "\n",
    "# mystem = Mystem()\n",
    "# def lemmatize(words, lemmer = mystem, stopwords = stopwords_list):\n",
    "#     lemmas = lemmer.lemmatize(' '.join(words))\n",
    "#     return [w for w in lemmas if not w in stopwords \n",
    "#             and w.isalpha()]\n",
    "\n",
    "def lemmatize(words, lemmer = morph, stopwords = stopwords_list):\n",
    "    lemmas = [lemmer.parse(w)[0].normal_form for w in words]\n",
    "    return [w for w in lemmas if not w in stopwords \n",
    "            and w.isalpha()]\n",
    "\n",
    "def preprocess(text):\n",
    "    return (lemmatize(find_words(text)))"
   ]
  },
  {
   "cell_type": "code",
   "execution_count": 33,
   "id": "zaOIqdLFFAcC",
   "metadata": {
    "id": "zaOIqdLFFAcC"
   },
   "outputs": [],
   "source": [
    "morestopwords = ['это', 'который', 'каждый']\n",
    "stopwords_list += morestopwords"
   ]
  },
  {
   "cell_type": "code",
   "execution_count": 34,
   "id": "zkxfy_uXf6Mp",
   "metadata": {
    "colab": {
     "base_uri": "https://localhost:8080/",
     "height": 35
    },
    "id": "zkxfy_uXf6Mp",
    "outputId": "31e7bc39-3fbc-4364-a8f7-1560adf861e8"
   },
   "outputs": [
    {
     "data": {
      "text/plain": [
       "'Добрый день! помогите пожалуйста разобраться в ситуации. в приложении Вайлдберриз я заказала игрушку для сына 16 мая этого года. срок доставки стоял 19-20 мая. однако в этот срок игрушку не доставили, более того, пишут каждый раз что товар задерживается и ставят новые сроки. что мне делать? могу я как-то уже отказаться от неё?'"
      ]
     },
     "execution_count": 34,
     "metadata": {},
     "output_type": "execute_result"
    }
   ],
   "source": [
    "questions1[1]"
   ]
  },
  {
   "cell_type": "code",
   "execution_count": 35,
   "id": "TLz9uO5Yf6Mp",
   "metadata": {
    "colab": {
     "base_uri": "https://localhost:8080/"
    },
    "id": "TLz9uO5Yf6Mp",
    "outputId": "33e3a1bb-073a-4bde-8927-c53858776542",
    "scrolled": true
   },
   "outputs": [
    {
     "name": "stdout",
     "output_type": "stream",
     "text": [
      "['добрый', 'день', 'помочь', 'пожалуйста', 'разобраться', 'ситуация', 'приложение', 'вайлдберриз', 'заказать', 'игрушка', 'сын', 'май', 'год', 'срок', 'доставка', 'стоять', 'май', 'однако', 'срок', 'игрушка', 'доставить', 'писать', 'товар', 'задерживаться', 'ставить', 'новый', 'срок', 'делать', 'мочь', 'отказаться']\n"
     ]
    }
   ],
   "source": [
    "print(preprocess(questions1[1]))"
   ]
  },
  {
   "cell_type": "code",
   "execution_count": 36,
   "id": "S8PnTSmRf6Mp",
   "metadata": {
    "colab": {
     "base_uri": "https://localhost:8080/",
     "height": 49,
     "referenced_widgets": [
      "2f720ea88af3486ba3e2dd7a97e25bb6",
      "6ddbb02820694f0486ae258c289d4ce1",
      "96906400af5c4d88b5439edbe6cf6519",
      "b2567410f8b44904a6efe8fa08246954",
      "7e6e856ca13f4da090a71c70b6786c25",
      "cf370f80ca084513a1d862346ad22c00",
      "d334365b00ec4925942e5afabc09644a",
      "5e1868747bcb43bd8395eadd705b9526",
      "1e3cbc59a7594a1a952a1aa7ee633c41",
      "c59cf60246624f93b209f4a510e84be6",
      "7c169a4add70479c842afa8db4a2a16a"
     ]
    },
    "id": "S8PnTSmRf6Mp",
    "outputId": "ba711478-dbfb-4847-a4b9-fd557f31b2a2"
   },
   "outputs": [
    {
     "data": {
      "application/vnd.jupyter.widget-view+json": {
       "model_id": "47f753d43b584d8f857db67372f8e92a",
       "version_major": 2,
       "version_minor": 0
      },
      "text/plain": [
       "  0%|          | 0/1495 [00:00<?, ?it/s]"
      ]
     },
     "metadata": {},
     "output_type": "display_data"
    }
   ],
   "source": [
    "preprocessed_q = list(tqdm(map(preprocess, questions1), total=len(questions1)))"
   ]
  },
  {
   "cell_type": "markdown",
   "id": "FFmXozKkf6Mq",
   "metadata": {
    "id": "FFmXozKkf6Mq"
   },
   "source": [
    "## Модель LDA\n",
    "\n",
    "\n",
    "Первая модель, которую мы рассмотрим, LDA - латентное размещение Дирихле. Воспользуемся реализацией из библиотеки gensim."
   ]
  },
  {
   "cell_type": "code",
   "execution_count": null,
   "id": "8Q0q12sDPl3m",
   "metadata": {
    "id": "8Q0q12sDPl3m"
   },
   "outputs": [],
   "source": [
    "!pip install -U gensim"
   ]
  },
  {
   "cell_type": "code",
   "execution_count": 39,
   "id": "jITId1Axf6Mq",
   "metadata": {
    "id": "jITId1Axf6Mq"
   },
   "outputs": [],
   "source": [
    "from gensim.models import *\n",
    "from gensim import corpora"
   ]
  },
  {
   "cell_type": "markdown",
   "id": "b1usmvtHf6Mq",
   "metadata": {
    "id": "b1usmvtHf6Mq"
   },
   "source": [
    "Модель использует векторное представление документов, например, мешок слов (bow), поэтому сперва создадим словарь:"
   ]
  },
  {
   "cell_type": "code",
   "execution_count": 43,
   "id": "l9-iZNVuf6Mq",
   "metadata": {
    "id": "l9-iZNVuf6Mq"
   },
   "outputs": [],
   "source": [
    "dictionary = corpora.Dictionary(preprocessed_q)\n",
    "\n",
    "dictionary.filter_extremes(no_below = 10, no_above = 0.9, keep_n=None) # игнорируем слова, которые встречаются реже 10 раз или составляют более 0.9 словаря \n",
    "dictionary.save(path+'question.dict')"
   ]
  },
  {
   "cell_type": "code",
   "execution_count": 48,
   "id": "b2c1275a",
   "metadata": {},
   "outputs": [
    {
     "data": {
      "text/plain": [
       "(551, 204)"
      ]
     },
     "execution_count": 48,
     "metadata": {},
     "output_type": "execute_result"
    }
   ],
   "source": [
    "dictionary.cfs[dictionary.token2id['заказ']], dictionary.dfs[dictionary.token2id['заказ']]"
   ]
  },
  {
   "cell_type": "markdown",
   "id": "gUZtBF3gf6Mq",
   "metadata": {
    "id": "gUZtBF3gf6Mq"
   },
   "source": [
    "Векторизуем документы:"
   ]
  },
  {
   "cell_type": "code",
   "execution_count": 49,
   "id": "Sn17WY1vf6Mq",
   "metadata": {
    "id": "Sn17WY1vf6Mq"
   },
   "outputs": [],
   "source": [
    "corpus = [dictionary.doc2bow(text) for text in preprocessed_q]\n",
    "corpora.MmCorpus.serialize(path+'rosnadzor.model', corpus) "
   ]
  },
  {
   "cell_type": "code",
   "execution_count": 50,
   "id": "ARiPPZJvGmxx",
   "metadata": {
    "colab": {
     "base_uri": "https://localhost:8080/"
    },
    "id": "ARiPPZJvGmxx",
    "outputId": "1edfffc2-a8ac-4e0d-9a35-dfced9848a04"
   },
   "outputs": [
    {
     "name": "stdout",
     "output_type": "stream",
     "text": [
      "[[(0, 1), (1, 3), (2, 1), (3, 2), (4, 1), (5, 1), (6, 1), (7, 2), (8, 2), (9, 4), (10, 1), (11, 1), (12, 2), (13, 1), (14, 1), (15, 1), (16, 1), (17, 2), (18, 1), (19, 1), (20, 6), (21, 1), (22, 1), (23, 1), (24, 2), (25, 1), (26, 1), (27, 3), (28, 1), (29, 1), (30, 1), (31, 1), (32, 1), (33, 1), (34, 2), (35, 2), (36, 1), (37, 1), (38, 1), (39, 1), (40, 7), (41, 1), (42, 2), (43, 1), (44, 4), (45, 2), (46, 1), (47, 1), (48, 1), (49, 1)]]\n"
     ]
    }
   ],
   "source": [
    "print(corpus[:1])"
   ]
  },
  {
   "cell_type": "code",
   "execution_count": 51,
   "id": "oOzLXIDQf6Mq",
   "metadata": {
    "colab": {
     "base_uri": "https://localhost:8080/"
    },
    "id": "oOzLXIDQf6Mq",
    "outputId": "c8f0e724-c493-4683-9ff1-bf3c5bdfff62"
   },
   "outputs": [
    {
     "name": "stdout",
     "output_type": "stream",
     "text": [
      "Wall time: 0 ns\n"
     ]
    }
   ],
   "source": [
    "%time \n",
    "lda = ldamodel.LdaModel(corpus, id2word=dictionary, num_topics=20, chunksize=50, update_every=1, passes=2)"
   ]
  },
  {
   "cell_type": "code",
   "execution_count": 52,
   "id": "EqQzwFm2c1_B",
   "metadata": {
    "colab": {
     "base_uri": "https://localhost:8080/"
    },
    "id": "EqQzwFm2c1_B",
    "outputId": "b1f056d2-603b-4720-87de-0d390002429e"
   },
   "outputs": [
    {
     "data": {
      "text/plain": [
       "[(14,\n",
       "  '0.070*\"номер\" + 0.066*\"машина\" + 0.056*\"решить\" + 0.048*\"проблема\" + 0.041*\"стать\" + 0.038*\"компания\" + 0.031*\"оплата\" + 0.027*\"жилец\" + 0.027*\"оплатить\" + 0.027*\"управлять\"'),\n",
       " (7,\n",
       "  '0.022*\"компания\" + 0.021*\"ответ\" + 0.017*\"документ\" + 0.016*\"год\" + 0.014*\"получить\" + 0.014*\"всё\" + 0.013*\"ооо\" + 0.013*\"вопрос\" + 0.013*\"дать\" + 0.013*\"работа\"'),\n",
       " (5,\n",
       "  '0.048*\"организация\" + 0.046*\"проверка\" + 0.036*\"пользоваться\" + 0.036*\"технический\" + 0.036*\"дата\" + 0.030*\"провести\" + 0.029*\"отношение\" + 0.029*\"область\" + 0.029*\"получать\" + 0.028*\"помощь\"'),\n",
       " (2,\n",
       "  '0.057*\"размер\" + 0.039*\"стоимость\" + 0.036*\"товар\" + 0.030*\"приобрести\" + 0.029*\"либо\" + 0.026*\"составить\" + 0.024*\"момент\" + 0.023*\"дать\" + 0.022*\"вообще\" + 0.022*\"качество\"'),\n",
       " (11,\n",
       "  '0.118*\"дом\" + 0.045*\"вода\" + 0.043*\"мастер\" + 0.040*\"жилой\" + 0.036*\"площадка\" + 0.032*\"работа\" + 0.030*\"постановление\" + 0.025*\"маска\" + 0.024*\"место\" + 0.023*\"администрация\"'),\n",
       " (6,\n",
       "  '0.205*\"товар\" + 0.171*\"магазин\" + 0.064*\"продавец\" + 0.038*\"покупка\" + 0.028*\"хотя\" + 0.026*\"вид\" + 0.024*\"данный\" + 0.020*\"купить\" + 0.019*\"просить\" + 0.018*\"адрес\"'),\n",
       " (13,\n",
       "  '0.087*\"почему\" + 0.076*\"делать\" + 0.075*\"нужно\" + 0.065*\"всё\" + 0.061*\"наш\" + 0.058*\"минута\" + 0.050*\"должный\" + 0.043*\"медицинский\" + 0.038*\"сделать\" + 0.037*\"спасибо\"'),\n",
       " (0,\n",
       "  '0.106*\"поликлиника\" + 0.106*\"врач\" + 0.102*\"изделие\" + 0.081*\"образ\" + 0.068*\"квартира\" + 0.065*\"идти\" + 0.061*\"результат\" + 0.047*\"использовать\" + 0.038*\"ресурс\" + 0.034*\"обратиться\"'),\n",
       " (10,\n",
       "  '0.088*\"стоить\" + 0.072*\"продукт\" + 0.064*\"упаковка\" + 0.064*\"wildberries\" + 0.048*\"стоять\" + 0.048*\"истечь\" + 0.046*\"неустойка\" + 0.041*\"ценник\" + 0.039*\"пожалуйста\" + 0.035*\"единственный\"'),\n",
       " (17,\n",
       "  '0.052*\"право\" + 0.044*\"договор\" + 0.040*\"рубль\" + 0.037*\"являться\" + 0.033*\"потребитель\" + 0.032*\"цена\" + 0.031*\"основание\" + 0.031*\"условие\" + 0.028*\"сумма\" + 0.027*\"нарушение\"')]"
      ]
     },
     "execution_count": 52,
     "metadata": {},
     "output_type": "execute_result"
    }
   ],
   "source": [
    "lda.show_topics(num_topics=10, num_words=10, formatted=True)"
   ]
  },
  {
   "cell_type": "markdown",
   "id": "j5PIsI6ef6Mq",
   "metadata": {
    "id": "j5PIsI6ef6Mq"
   },
   "source": [
    "На полученные темы можно посмотреть, изобразив их на плоскости с помощью библиотеки __pyLDAvis__. Чтобы спроецировать темы на плоскость, внутри применяется PCA-разложение."
   ]
  },
  {
   "cell_type": "code",
   "execution_count": 53,
   "id": "y9I-oR4kf6Mq",
   "metadata": {
    "id": "y9I-oR4kf6Mq"
   },
   "outputs": [
    {
     "name": "stdout",
     "output_type": "stream",
     "text": [
      "Collecting pyLDAvis\n",
      "  Downloading pyLDAvis-3.3.1.tar.gz (1.7 MB)\n",
      "  Installing build dependencies: started\n",
      "  Installing build dependencies: finished with status 'done'\n",
      "  Getting requirements to build wheel: started\n",
      "  Getting requirements to build wheel: finished with status 'done'\n",
      "  Installing backend dependencies: started\n",
      "  Installing backend dependencies: finished with status 'done'\n",
      "    Preparing wheel metadata: started\n",
      "    Preparing wheel metadata: finished with status 'done'\n",
      "Requirement already satisfied: jinja2 in c:\\programdata\\anaconda3\\lib\\site-packages (from pyLDAvis) (3.0.0)\n",
      "Requirement already satisfied: scikit-learn in c:\\programdata\\anaconda3\\lib\\site-packages (from pyLDAvis) (0.24.2)\n",
      "Requirement already satisfied: setuptools in c:\\programdata\\anaconda3\\lib\\site-packages (from pyLDAvis) (52.0.0.post20210125)\n",
      "Collecting funcy\n",
      "  Downloading funcy-1.17-py2.py3-none-any.whl (33 kB)\n",
      "Requirement already satisfied: gensim in c:\\programdata\\anaconda3\\lib\\site-packages (from pyLDAvis) (4.2.0)\n",
      "Requirement already satisfied: pandas>=1.2.0 in c:\\programdata\\anaconda3\\lib\\site-packages (from pyLDAvis) (1.2.4)\n",
      "Requirement already satisfied: joblib in c:\\programdata\\anaconda3\\lib\\site-packages (from pyLDAvis) (1.0.1)\n",
      "Requirement already satisfied: numpy>=1.20.0 in c:\\programdata\\anaconda3\\lib\\site-packages (from pyLDAvis) (1.20.2)\n",
      "Collecting sklearn\n",
      "  Using cached sklearn-0.0.tar.gz (1.1 kB)\n",
      "Requirement already satisfied: numexpr in c:\\programdata\\anaconda3\\lib\\site-packages (from pyLDAvis) (2.7.3)\n",
      "Requirement already satisfied: future in c:\\programdata\\anaconda3\\lib\\site-packages (from pyLDAvis) (0.18.2)\n",
      "Requirement already satisfied: scipy in c:\\programdata\\anaconda3\\lib\\site-packages (from pyLDAvis) (1.6.2)\n",
      "Requirement already satisfied: pytz>=2017.3 in c:\\programdata\\anaconda3\\lib\\site-packages (from pandas>=1.2.0->pyLDAvis) (2021.1)\n",
      "Requirement already satisfied: python-dateutil>=2.7.3 in c:\\programdata\\anaconda3\\lib\\site-packages (from pandas>=1.2.0->pyLDAvis) (2.8.1)\n",
      "Requirement already satisfied: six>=1.5 in c:\\programdata\\anaconda3\\lib\\site-packages (from python-dateutil>=2.7.3->pandas>=1.2.0->pyLDAvis) (1.15.0)\n",
      "Requirement already satisfied: smart-open>=1.8.1 in c:\\programdata\\anaconda3\\lib\\site-packages (from gensim->pyLDAvis) (6.0.0)\n",
      "Requirement already satisfied: Cython==0.29.28 in c:\\programdata\\anaconda3\\lib\\site-packages (from gensim->pyLDAvis) (0.29.28)\n",
      "Requirement already satisfied: MarkupSafe>=2.0.0rc2 in c:\\programdata\\anaconda3\\lib\\site-packages (from jinja2->pyLDAvis) (2.0.1)\n",
      "Requirement already satisfied: threadpoolctl>=2.0.0 in c:\\programdata\\anaconda3\\lib\\site-packages (from scikit-learn->pyLDAvis) (2.1.0)\n",
      "Building wheels for collected packages: pyLDAvis, sklearn\n",
      "  Building wheel for pyLDAvis (PEP 517): started\n",
      "  Building wheel for pyLDAvis (PEP 517): finished with status 'done'\n",
      "  Created wheel for pyLDAvis: filename=pyLDAvis-3.3.1-py2.py3-none-any.whl size=136882 sha256=16f46fb09b51d9336fcbe05162cb02174b17d148a292e128d9f5ef169cc75666\n",
      "  Stored in directory: c:\\users\\sr_ad\\appdata\\local\\pip\\cache\\wheels\\90\\61\\ec\\9dbe9efc3acf9c4e37ba70fbbcc3f3a0ebd121060aa593181a\n",
      "  Building wheel for sklearn (setup.py): started\n",
      "  Building wheel for sklearn (setup.py): finished with status 'done'\n",
      "  Created wheel for sklearn: filename=sklearn-0.0-py2.py3-none-any.whl size=1316 sha256=ce2127bfb525f6dcc7e9a2ac6a0e09c8c5c81727ca424dec4b13ac7f772d9c71\n",
      "  Stored in directory: c:\\users\\sr_ad\\appdata\\local\\pip\\cache\\wheels\\22\\0b\\40\\fd3f795caaa1fb4c6cb738bc1f56100be1e57da95849bfc897\n",
      "Successfully built pyLDAvis sklearn\n",
      "Installing collected packages: sklearn, funcy, pyLDAvis\n",
      "Successfully installed funcy-1.17 pyLDAvis-3.3.1 sklearn-0.0\n"
     ]
    },
    {
     "name": "stderr",
     "output_type": "stream",
     "text": [
      "WARNING: Ignoring invalid distribution -orch (c:\\programdata\\anaconda3\\lib\\site-packages)\n",
      "WARNING: Ignoring invalid distribution -andas (c:\\programdata\\anaconda3\\lib\\site-packages)\n",
      "WARNING: Ignoring invalid distribution -orch (c:\\programdata\\anaconda3\\lib\\site-packages)\n",
      "WARNING: Ignoring invalid distribution -andas (c:\\programdata\\anaconda3\\lib\\site-packages)\n",
      "WARNING: Ignoring invalid distribution -orch (c:\\programdata\\anaconda3\\lib\\site-packages)\n",
      "WARNING: Ignoring invalid distribution -andas (c:\\programdata\\anaconda3\\lib\\site-packages)\n",
      "WARNING: Ignoring invalid distribution -orch (c:\\programdata\\anaconda3\\lib\\site-packages)\n",
      "WARNING: Ignoring invalid distribution -andas (c:\\programdata\\anaconda3\\lib\\site-packages)\n",
      "WARNING: Ignoring invalid distribution -orch (c:\\programdata\\anaconda3\\lib\\site-packages)\n",
      "WARNING: Ignoring invalid distribution -andas (c:\\programdata\\anaconda3\\lib\\site-packages)\n",
      "WARNING: Ignoring invalid distribution -orch (c:\\programdata\\anaconda3\\lib\\site-packages)\n",
      "WARNING: Ignoring invalid distribution -andas (c:\\programdata\\anaconda3\\lib\\site-packages)\n",
      "WARNING: Ignoring invalid distribution -orch (c:\\programdata\\anaconda3\\lib\\site-packages)\n",
      "WARNING: Ignoring invalid distribution -andas (c:\\programdata\\anaconda3\\lib\\site-packages)\n",
      "WARNING: Ignoring invalid distribution -orch (c:\\programdata\\anaconda3\\lib\\site-packages)\n",
      "WARNING: Ignoring invalid distribution -andas (c:\\programdata\\anaconda3\\lib\\site-packages)\n",
      "WARNING: Ignoring invalid distribution -orch (c:\\programdata\\anaconda3\\lib\\site-packages)\n",
      "WARNING: Ignoring invalid distribution -andas (c:\\programdata\\anaconda3\\lib\\site-packages)\n"
     ]
    }
   ],
   "source": [
    "!pip install pyLDAvis"
   ]
  },
  {
   "cell_type": "code",
   "execution_count": 54,
   "id": "BlW0h05wf6Mq",
   "metadata": {
    "colab": {
     "base_uri": "https://localhost:8080/",
     "height": 988
    },
    "id": "BlW0h05wf6Mq",
    "outputId": "ded05e45-2f8f-430a-b0de-8b88d9f3be03"
   },
   "outputs": [
    {
     "name": "stdout",
     "output_type": "stream",
     "text": [
      "Wall time: 0 ns\n"
     ]
    },
    {
     "data": {
      "text/html": [
       "\n",
       "<link rel=\"stylesheet\" type=\"text/css\" href=\"https://cdn.jsdelivr.net/gh/bmabey/pyLDAvis@3.3.1/pyLDAvis/js/ldavis.v1.0.0.css\">\n",
       "\n",
       "\n",
       "<div id=\"ldavis_el3094419193549389763313731071\"></div>\n",
       "<script type=\"text/javascript\">\n",
       "\n",
       "var ldavis_el3094419193549389763313731071_data = {\"mdsDat\": {\"x\": [-0.1570068131031374, -0.23092445299306683, -0.07140891299902244, -0.20160586429649804, -0.12294358463766786, -0.04920626482543821, -0.1551943039900239, -0.16499237792471963, 0.06000509666333809, 0.02289528371408455, -0.007831064851106344, 0.04362379131483422, 0.029423299569325885, 0.06389206531149348, 0.17593975782585747, 0.1466383418541052, 0.13131772897145153, 0.22405820526556275, 0.15271358049197453, 0.11060648863865233], \"y\": [0.03490673101696396, -0.09550145834802616, 0.2567088364233837, 0.012651032810835612, 0.03620220870464254, -0.07805274634989445, -0.11448583872857916, -0.05095145101834983, 0.24607685632572548, 0.18801550496972394, -0.21632187256403343, -0.047891472772698215, -0.003345863626951266, 0.10690519558785398, 0.01118316048235409, -0.021902631882293203, -0.07649047755446949, -0.09988514876451542, -0.07790008227795348, -0.009920482433719388], \"topics\": [1, 2, 3, 4, 5, 6, 7, 8, 9, 10, 11, 12, 13, 14, 15, 16, 17, 18, 19, 20], \"cluster\": [1, 1, 1, 1, 1, 1, 1, 1, 1, 1, 1, 1, 1, 1, 1, 1, 1, 1, 1, 1], \"Freq\": [22.43614433248771, 11.863746137482359, 8.929337104067121, 7.882055799136182, 7.074338289447129, 6.558839715105977, 5.876589191551955, 5.759611433482062, 3.850983599849916, 3.398728091071136, 2.8708840833392304, 2.607607286768747, 2.4413990286075498, 1.907704186796165, 1.570734850069691, 1.5336637367559425, 1.4220170331431492, 1.083696912823161, 0.8061744766753198, 0.12574471133949824]}, \"tinfo\": {\"Term\": [\"\\u0437\\u0430\\u043a\\u0430\\u0437\", \"\\u0442\\u043e\\u0432\\u0430\\u0440\", \"\\u043c\\u0430\\u0433\\u0430\\u0437\\u0438\\u043d\", \"\\u0443\\u0441\\u043b\\u0443\\u0433\\u0430\", \"\\u0437\\u0434\\u0440\\u0430\\u0432\\u0441\\u0442\\u0432\\u0443\\u0439\\u0442\\u0435\", \"\\u0441\\u0440\\u0435\\u0434\\u0441\\u0442\\u0432\\u043e\", \"\\u0434\\u043e\\u043c\", \"\\u0434\\u043e\\u0441\\u0442\\u0430\\u0432\\u043a\\u0430\", \"\\u0432\\u043e\\u0437\\u0432\\u0440\\u0430\\u0442\", \"\\u0432\\u0441\\u0451\", \"\\u043f\\u0440\\u043e\\u0434\\u0430\\u0432\\u0435\\u0446\", \"\\u0434\\u0435\\u043d\\u044c\\u0433\\u0430\", \"\\u043a\\u0430\\u0440\\u0442\\u0430\", \"\\u043a\\u043e\\u043c\\u043f\\u0430\\u043d\\u0438\\u044f\", \"\\u0434\\u043e\\u0433\\u043e\\u0432\\u043e\\u0440\", \"\\u0434\\u0435\\u043d\\u0435\\u0436\\u043d\\u044b\\u0439\", \"\\u0442\\u0435\\u043b\\u0435\\u0444\\u043e\\u043d\", \"\\u043e\\u043f\\u043b\\u0430\\u0442\\u0438\\u0442\\u044c\", \"\\u0434\\u0435\\u043d\\u044c\", \"\\u0434\\u0430\\u0442\\u044c\", \"\\u0438\\u043d\\u0442\\u0435\\u0440\\u043d\\u0435\\u0442\", \"\\u0440\\u0435\\u0437\\u0443\\u043b\\u044c\\u0442\\u0430\\u0442\", \"\\u0434\\u0435\\u043b\\u0430\\u0442\\u044c\", \"\\u0437\\u0430\\u044f\\u0432\\u043b\\u0435\\u043d\\u0438\\u0435\", \"\\u0433\\u043e\\u0432\\u043e\\u0440\\u0438\\u0442\\u044c\", \"\\u0440\\u0430\\u0437\\u043c\\u0435\\u0440\", \"\\u0441\\u043a\\u0430\\u0437\\u0430\\u0442\\u044c\", \"\\u043d\\u043e\\u043c\\u0435\\u0440\", \"\\u0440\\u0435\\u043c\\u043e\\u043d\\u0442\", \"\\u043f\\u0440\\u0430\\u0432\\u043e\", \"\\u043d\\u043e\\u0432\\u044b\\u0439\", \"\\u0437\\u0430\\u044f\\u0432\\u043a\\u0430\", \"\\u043f\\u0440\\u043e\\u0438\\u0437\\u0432\\u0435\\u0441\\u0442\\u0438\", \"\\u043a\\u043b\\u0438\\u0435\\u043d\\u0442\", \"\\u0441\\u043c\\u043e\\u0447\\u044c\", \"\\u0442\\u0440\\u0430\\u043d\\u0441\\u043f\\u043e\\u0440\\u0442\\u043d\\u044b\\u0439\", \"\\u043a\\u043e\\u0432\\u0438\\u0434\", \"\\u0434\\u0432\\u0435\\u0440\\u044c\", \"\\u0444\\u0435\\u0432\\u0440\\u0430\\u043b\\u044c\", \"\\u043c\\u043e\\u0441\\u043a\\u0432\\u0430\", \"\\u0440\\u0430\\u0441\\u0441\\u043c\\u043e\\u0442\\u0440\\u0435\\u043d\\u0438\\u0435\", \"\\u0434\\u0430\\u043b\\u0435\\u0435\", \"\\u0443\\u0437\\u043d\\u0430\\u0442\\u044c\", \"\\u043f\\u0440\\u0435\\u0434\\u043e\\u0441\\u0442\\u0430\\u0432\\u043b\\u044f\\u0442\\u044c\", \"\\u0437\\u0430\\u043f\\u0440\\u043e\\u0441\", \"\\u044f\\u043a\\u043e\\u0431\\u044b\", \"\\u043f\\u0435\\u0440\\u0435\\u043f\\u0438\\u0441\\u043a\\u0430\", \"\\u043f\\u0440\\u043e\\u0434\\u0443\\u043a\\u0446\\u0438\\u044f\", \"\\u043f\\u043e\\u0432\\u0442\\u043e\\u0440\\u043d\\u044b\\u0439\", \"\\u043a\\u043e\\u043d\\u0442\\u0430\\u043a\\u0442\", \"\\u043f\\u043e\\u0432\\u0442\\u043e\\u0440\\u043d\\u043e\", \"\\u043f\\u043e\\u0434\\u0442\\u0432\\u0435\\u0440\\u0436\\u0434\\u0430\\u0442\\u044c\", \"com\", \"\\u043f\\u043e\\u0434\\u0430\\u0442\\u044c\", \"\\u0440\\u0430\\u0441\\u0442\\u043e\\u0440\\u0436\\u0435\\u043d\\u0438\\u0435\", \"\\u043f\\u0440\\u0435\\u0434\\u043e\\u0441\\u0442\\u0430\\u0432\\u043b\\u0435\\u043d\\u0438\\u0435\", \"\\u0434\\u0430\\u043b\\u044c\\u043d\\u0435\\u0439\\u0448\\u0438\\u0439\", \"\\u043f\\u043e\\u0434\\u0442\\u0432\\u0435\\u0440\\u0436\\u0434\\u0435\\u043d\\u0438\\u0435\", \"\\u043e\\u0442\\u043f\\u0440\\u0430\\u0432\\u043a\\u0430\", \"\\u043e\\u043e\\u043e\", \"\\u0434\\u043e\\u043a\\u0443\\u043c\\u0435\\u043d\\u0442\", \"\\u043d\\u0438\\u043a\\u0430\\u043a\\u043e\\u0439\", \"\\u043f\\u0440\\u0435\\u0434\\u043e\\u0441\\u0442\\u0430\\u0432\\u0438\\u0442\\u044c\", \"\\u0436\\u0434\\u0430\\u0442\\u044c\", \"\\u043e\\u043f\\u0435\\u0440\\u0430\\u0442\\u043e\\u0440\", \"\\u043a\\u043e\\u043c\\u043f\\u0430\\u043d\\u0438\\u044f\", \"\\u043e\\u0442\\u0432\\u0435\\u0442\", \"\\u0441\\u043e\\u0442\\u0440\\u0443\\u0434\\u043d\\u0438\\u043a\", \"\\u0437\\u0432\\u043e\\u043d\\u0438\\u0442\\u044c\", \"\\u0441\\u043e\\u043e\\u0431\\u0449\\u0438\\u0442\\u044c\", \"\\u0437\\u0432\\u043e\\u043d\\u043e\\u043a\", \"\\u0441\\u0432\\u044f\\u0437\\u044c\", \"\\u0440\\u0435\\u0448\\u0435\\u043d\\u0438\\u0435\", \"\\u0440\\u0430\\u0431\\u043e\\u0442\\u0430\", \"\\u0442\\u0430\\u043a\\u0436\\u0435\", \"\\u0438\\u043d\\u0444\\u043e\\u0440\\u043c\\u0430\\u0446\\u0438\\u044f\", \"\\u043e\\u0442\\u043f\\u0440\\u0430\\u0432\\u0438\\u0442\\u044c\", \"\\u043f\\u0440\\u0438\\u043d\\u044f\\u0442\\u044c\", \"\\u0432\\u043e\\u043f\\u0440\\u043e\\u0441\", \"\\u043f\\u043e\\u043b\\u0443\\u0447\\u0438\\u0442\\u044c\", \"\\u0432\\u0440\\u0435\\u043c\\u044f\", \"\\u0432\\u0441\\u0451\", \"\\u0433\\u043e\\u0434\", \"\\u043e\\u0431\\u0440\\u0430\\u0449\\u0435\\u043d\\u0438\\u0435\", \"\\u0441\\u0438\\u0442\\u0443\\u0430\\u0446\\u0438\\u044f\", \"\\u0434\\u0430\\u0442\\u044c\", \"\\u043f\\u0440\\u043e\\u0441\\u0438\\u0442\\u044c\", \"\\u0441\\u0440\\u043e\\u043a\", \"\\u0434\\u0435\\u043d\\u044c\", \"\\u043f\\u0440\\u043e\\u0441\\u044c\\u0431\\u0430\", \"\\u0430\\u0434\\u0440\\u0435\\u0441\", \"\\u0441\\u0443\\u043c\\u043c\\u0430\", \"\\u043f\\u043e\\u0447\\u0442\\u0430\", \"\\u0431\\u0430\\u043d\\u043a\", \"\\u043a\\u0430\\u0431\\u0438\\u043d\\u0435\\u0442\", \"\\u043e\\u0442\\u043c\\u0435\\u043d\\u0438\\u0442\\u044c\", \"\\u0440\\u043e\\u0441\\u0441\\u0438\\u044f\", \"\\u0441\\u0435\\u0440\\u0442\\u0438\\u0444\\u0438\\u043a\\u0430\\u0442\", \"\\u0441\\u043e\\u043e\\u0431\\u0449\\u0435\\u043d\\u0438\\u0435\", \"\\u0432\\u043e\\u0437\\u0432\\u0440\\u0430\\u0449\\u0430\\u0442\\u044c\", \"\\u044f\\u043d\\u0434\\u0435\\u043a\\u0441\", \"\\u0443\\u0432\\u0435\\u0434\\u043e\\u043c\\u043b\\u0435\\u043d\\u0438\\u0435\", \"\\u043e\\u0431\\u043c\\u0435\\u043d\", \"\\u043f\\u043e\\u0434\\u043f\\u0438\\u0441\\u043a\\u0430\", \"\\u043b\\u044e\\u0431\\u043e\\u0439\", \"\\u043e\\u0442\\u043c\\u0435\\u043d\\u0430\", \"\\u043c\\u0430\\u0440\\u043a\\u0435\\u0442\", \"\\u0432\\u044b\\u0441\\u043e\\u043a\\u0438\\u0439\", \"\\u0441\\u043e\\u0447\\u0438\", \"\\u0437\\u0430\\u043f\\u043b\\u0430\\u0442\\u0438\\u0442\\u044c\", \"\\u0432\\u0435\\u0440\\u043d\\u0443\\u0442\\u044c\\u0441\\u044f\", \"\\u0438\\u044e\\u043d\\u044c\", \"\\u0430\\u043d\\u0430\\u043b\\u0438\\u0437\", \"\\u043d\\u0435\\u043f\\u043e\\u043d\\u044f\\u0442\\u043d\\u044b\\u0439\", \"\\u043e\\u0431\\u043c\\u0430\\u043d\", \"\\u043d\\u0430\\u0437\\u0432\\u0430\\u043d\\u0438\\u0435\", \"\\u043f\\u043e\\u0441\\u0442\\u0443\\u043f\\u0438\\u0442\\u044c\", \"\\u0432\\u044b\\u0434\\u0430\\u0447\\u0430\", \"\\u043f\\u043e\\u043b\\u0438\\u0446\\u0438\\u044f\", \"\\u0441\\u043a\\u0440\\u0438\\u043d\", \"\\u0430\\u044d\\u0440\\u043e\\u043f\\u043e\\u0440\\u0442\", \"\\u043e\\u0431\\u043c\\u0430\\u043d\\u044b\\u0432\\u0430\\u0442\\u044c\", \"\\u043f\\u043e\\u0434\\u0434\\u0435\\u0440\\u0436\\u043a\\u0430\", \"\\u0434\\u0435\\u043d\\u044c\\u0433\\u0430\", \"\\u0438\\u043d\\u0442\\u0435\\u0440\\u043d\\u0435\\u0442\", \"\\u0441\\u043e\\u0431\\u0438\\u0440\\u0430\\u0442\\u044c\\u0441\\u044f\", \"\\u0441\\u0430\\u0439\\u0442\", \"\\u0434\\u043e\\u0441\\u0442\\u0430\\u0432\\u0438\\u0442\\u044c\", \"\\u043f\\u0440\\u0438\\u0441\\u043b\\u0430\\u0442\\u044c\", \"\\u043b\\u0438\\u0447\\u043d\\u044b\\u0439\", \"\\u0432\\u0435\\u0440\\u043d\\u0443\\u0442\\u044c\", \"\\u0432\\u043e\\u0437\\u0432\\u0440\\u0430\\u0442\", \"\\u043f\\u0440\\u043e\\u0439\\u0442\\u0438\", \"\\u043f\\u0438\\u0441\\u0430\\u0442\\u044c\", \"\\u043f\\u043e\\u0434\\u0441\\u043a\\u0430\\u0437\\u0430\\u0442\\u044c\", \"\\u0434\\u0435\\u043d\\u044c\", \"\\u043f\\u0438\\u0441\\u044c\\u043c\\u043e\", \"\\u0437\\u0430\\u043a\\u0430\\u0437\\u0430\\u0442\\u044c\", \"\\u0434\\u043e\\u0431\\u0440\\u044b\\u0439\", \"\\u043e\\u0444\\u043e\\u0440\\u043c\\u0438\\u0442\\u044c\", \"\\u0440\\u0443\\u0431\\u043b\\u044c\", \"\\u043f\\u043e\\u043b\\u0443\\u0447\\u0438\\u0442\\u044c\", \"\\u043c\\u0435\\u0441\\u044f\\u0446\", \"\\u043e\\u043f\\u043b\\u0430\\u0442\\u0430\", \"\\u043e\\u043f\\u043b\\u0430\\u0442\\u0438\\u0442\\u044c\", \"\\u043f\\u0443\\u043d\\u043a\\u0442\", \"\\u0433\\u043e\\u0434\", \"\\u043d\\u0430\\u043f\\u0438\\u0441\\u0430\\u0442\\u044c\", \"\\u043f\\u043e\\u0436\\u0430\\u043b\\u0443\\u0439\\u0441\\u0442\\u0430\", \"\\u043e\\u0442\\u043a\\u0430\\u0437\\u0430\\u0442\\u044c\\u0441\\u044f\", \"\\u0440\\u0435\\u0431\\u0451\\u043d\\u043e\\u043a\", \"\\u0433\\u043e\\u0440\\u043e\\u0434\", \"\\u0443\\u043b\\u0438\\u0446\\u0430\", \"\\u0434\\u0435\\u0442\\u0441\\u043a\\u0438\\u0439\", \"\\u043f\\u0440\\u043e\\u0436\\u0438\\u0432\\u0430\\u0442\\u044c\", \"\\u0441\\u0430\\u0434\", \"\\u043f\\u043e\\u043c\\u0435\\u0449\\u0435\\u043d\\u0438\\u0435\", \"\\u0446\\u0432\\u0435\\u0442\", \"\\u0433\\u0440\\u0430\\u0436\\u0434\\u0430\\u043d\\u0438\\u043d\", \"\\u0437\\u0434\\u043e\\u0440\\u043e\\u0432\\u044c\\u0435\", \"\\u0433\\u0440\\u0443\\u043f\\u043f\\u0430\", \"\\u0434\\u043e\\u043c\\u043e\\u0439\", \"\\u0432\\u044b\\u0437\\u043e\\u0432\", \"\\u0442\\u0435\\u043b\\u043e\", \"\\u0436\\u0438\\u0442\\u044c\", \"\\u043f\\u043e\\u0439\\u0442\\u0438\", \"\\u044d\\u0442\\u0430\\u0436\", \"\\u0440\\u0443\\u043a\\u0430\", \"\\u0443\\u0434\\u0430\\u0442\\u044c\\u0441\\u044f\", \"\\u043a\\u0440\\u0430\\u0439\", \"\\u043f\\u043e\\u0434\\u043e\\u0431\\u043d\\u044b\\u0439\", \"\\u0436\\u0438\\u0437\\u043d\\u044c\", \"\\u0437\\u0430\\u0431\\u043e\\u043b\\u0435\\u0432\\u0430\\u043d\\u0438\\u0435\", \"\\u0431\\u043b\\u0438\\u0437\\u043a\\u0438\\u0439\", \"\\u0441\\u0442\\u0435\\u043d\\u0430\", \"\\u043b\\u0438\\u0447\\u043d\\u043e\", \"\\u043f\\u0440\\u0438\\u0445\\u043e\\u0434\\u0438\\u0442\\u044c\\u0441\\u044f\", \"\\u043f\\u043e\\u043f\\u0430\\u0441\\u0442\\u044c\", \"\\u0440\\u0430\\u0437\\u0440\\u0435\\u0448\\u0435\\u043d\\u0438\\u0435\", \"\\u043b\\u0435\\u043a\\u0430\\u0440\\u0441\\u0442\\u0432\\u043e\", \"\\u0447\\u0435\\u043b\\u043e\\u0432\\u0435\\u043a\", \"\\u043d\\u0430\\u0445\\u043e\\u0434\\u0438\\u0442\\u044c\\u0441\\u044f\", \"\\u043f\\u0440\\u043e\\u0432\\u0435\\u0441\\u0442\\u0438\", \"\\u0432\\u0435\\u0441\\u044c\", \"\\u0434\\u043e\\u043c\", \"\\u043e\\u0431\\u0440\\u0430\\u0449\\u0430\\u0442\\u044c\\u0441\\u044f\", \"\\u043f\\u0440\\u043e\\u0432\\u0435\\u0440\\u043a\\u0430\", \"\\u0433\\u043e\\u0434\", \"\\u0430\\u0434\\u0440\\u0435\\u0441\", \"\\u043e\\u0447\\u0435\\u043d\\u044c\", \"\\u0440\\u0430\\u0431\\u043e\\u0442\\u0430\\u0442\\u044c\", \"\\u0434\\u043e\\u0431\\u0440\\u044b\\u0439\", \"\\u043f\\u0440\\u043e\\u0441\\u0438\\u0442\\u044c\", \"\\u0434\\u0430\\u0442\\u044c\", \"\\u0441\\u0438\\u0442\\u0443\\u0430\\u0446\\u0438\\u044f\", \"\\u043c\\u043e\\u0447\\u044c\", \"\\u0434\\u0435\\u043d\\u044c\", \"\\u0432\\u0441\\u0451\", \"\\u0432\\u0440\\u0435\\u043c\\u044f\", \"\\u0441\\u0432\\u043e\\u0439\", \"\\u043d\\u0430\\u0448\", \"\\u0440\\u0435\\u043c\\u043e\\u043d\\u0442\", \"\\u0446\\u0435\\u043d\\u0442\\u0440\", \"\\u0433\\u0430\\u0440\\u0430\\u043d\\u0442\\u0438\\u0439\\u043d\\u044b\\u0439\", \"\\u0441\\u0434\\u0430\\u0442\\u044c\", \"\\u043f\\u0440\\u0438\\u0435\\u0445\\u0430\\u0442\\u044c\", \"\\u043d\\u043e\\u0443\\u0442\\u0431\\u0443\\u043a\", \"\\u043e\\u0442\\u043a\\u0430\\u0437\\u044b\\u0432\\u0430\\u0442\\u044c\\u0441\\u044f\", \"\\u0441\\u0435\\u0440\\u0432\\u0438\\u0441\\u043d\\u044b\\u0439\", \"\\u043f\\u0440\\u0438\\u043d\\u0438\\u043c\\u0430\\u0442\\u044c\", \"\\u043f\\u0435\\u0442\\u0435\\u0440\\u0431\\u0443\\u0440\\u0433\", \"\\u043a\\u0430\\u0441\\u0441\\u0430\", \"\\u043f\\u0438\\u0441\\u044c\\u043c\\u0435\\u043d\\u043d\\u044b\\u0439\", \"\\u0441\\u0434\\u0430\\u0432\\u0430\\u0442\\u044c\", \"\\u0441\\u0430\\u043d\\u043a\\u0442\", \"\\u043e\\u0431\\u043c\\u0435\\u043d\\u044f\\u0442\\u044c\", \"\\u0440\\u0430\\u0441\\u0442\\u043e\\u0440\\u0433\\u043d\\u0443\\u0442\\u044c\", \"\\u043f\\u0440\\u0430\\u0432\\u043e\\u043c\\u0435\\u0440\\u043d\\u044b\\u0439\", \"\\u0432\\u0445\\u043e\\u0434\\u0438\\u0442\\u044c\", \"\\u043e\\u0431\\u044a\\u044f\\u0441\\u043d\\u0438\\u0442\\u044c\", \"\\u044d\\u043b\\u044c\\u0434\\u043e\\u0440\\u0430\\u0434\\u043e\", \"\\u0438\\u0441\\u0442\\u0435\\u0447\\u0435\\u043d\\u0438\\u0435\", \"\\u043f\\u043e\\u043f\\u0440\\u043e\\u0431\\u043e\\u0432\\u0430\\u0442\\u044c\", \"\\u0437\\u0430\\u0431\\u0438\\u0440\\u0430\\u0442\\u044c\", \"\\u0432\\u044b\\u0434\\u0430\\u0432\\u0430\\u0442\\u044c\", \"\\u0441\\u0438\\u043b\\u044c\\u043d\\u043e\", \"\\u0441\\u043e\\u0441\\u043b\\u0430\\u0442\\u044c\\u0441\\u044f\", \"\\u043f\\u0440\\u0438\\u043e\\u0431\\u0440\\u0435\\u0442\\u0430\\u0442\\u044c\", \"shop\", \"\\u0437\\u0432\\u0430\\u0442\\u044c\", \"\\u0434\\u0438\\u0430\\u0433\\u043d\\u043e\\u0441\\u0442\\u0438\\u043a\", \"\\u043f\\u043e\\u043f\\u0440\\u043e\\u0441\\u0438\\u0442\\u044c\", \"\\u043e\\u0442\\u043a\\u0430\\u0437\\u0430\\u0442\\u044c\", \"\\u043d\\u0435\\u043e\\u0431\\u0445\\u043e\\u0434\\u0438\\u043c\\u043e\", \"\\u0441\\u043a\\u0430\\u0437\\u0430\\u0442\\u044c\", \"\\u0441\\u0441\\u044b\\u043b\\u0430\\u0442\\u044c\\u0441\\u044f\", \"\\u043d\\u0430\\u043f\\u0438\\u0441\\u0430\\u0442\\u044c\", \"\\u0432\\u0435\\u0440\\u043d\\u0443\\u0442\\u044c\", \"\\u043a\\u0443\\u043f\\u0438\\u0442\\u044c\", \"\\u0434\\u0435\\u043d\\u044c\", \"\\u043c\\u043e\\u0447\\u044c\", \"\\u043f\\u0440\\u0438\\u0439\\u0442\\u0438\", \"\\u043d\\u0435\\u0434\\u0435\\u043b\\u044f\", \"\\u0435\\u0449\\u0451\", \"\\u043c\\u0430\\u0433\\u0430\\u0437\\u0438\\u043d\", \"\\u043f\\u043e\\u0437\\u0432\\u043e\\u043d\\u0438\\u0442\\u044c\", \"\\u0437\\u0434\\u0440\\u0430\\u0432\\u0441\\u0442\\u0432\\u0443\\u0439\\u0442\\u0435\", \"\\u0434\\u043e\\u0431\\u0440\\u044b\\u0439\", \"\\u043f\\u0440\\u043e\\u0434\\u0430\\u0432\\u0435\\u0446\", \"\\u0434\\u0435\\u043d\\u044c\\u0433\\u0430\", \"\\u0442\\u0440\\u0435\\u0431\\u043e\\u0432\\u0430\\u0442\\u044c\", \"\\u0441\\u0434\\u0435\\u043b\\u0430\\u0442\\u044c\", \"\\u0442\\u043e\\u0432\\u0430\\u0440\", \"\\u0437\\u0430\\u044f\\u0432\\u043b\\u0435\\u043d\\u0438\\u0435\", \"\\u0445\\u043e\\u0442\\u044f\", \"\\u0432\\u0438\\u0434\", \"\\u043a\\u043e\\u0440\\u043e\\u0431\\u043a\\u0430\", \"\\u0432\\u0435\\u0447\\u0435\\u0440\", \"\\u043c\\u0443\\u0441\\u043e\\u0440\", \"\\u043f\\u043e\\u043b\\u0443\\u0447\\u0430\\u0442\\u044c\\u0441\\u044f\", \"\\u043c\\u043e\\u0448\\u0435\\u043d\\u043d\\u0438\\u043a\", \"\\u043f\\u0440\\u043e\\u0434\\u0430\\u0432\\u0430\\u0442\\u044c\", \"\\u043f\\u043e\\u0434\\u043e\\u0439\\u0442\\u0438\", \"\\u043c\\u0430\\u0433\\u043d\\u0438\\u0442\", \"\\u0432\\u0447\\u0435\\u0440\\u0430\", \"\\u043a\\u043d\\u0438\\u0433\\u0430\", \"\\u0441\\u043e\\u0441\\u0442\\u0430\\u0432\", \"\\u0437\\u0430\\u043a\\u0430\\u0437\\u044b\\u0432\\u0430\\u0442\\u044c\", \"\\u0443\\u0432\\u0435\\u0440\\u044f\\u0442\\u044c\", \"\\u043f\\u043e\\u0441\\u0435\\u0449\\u0430\\u0442\\u044c\", \"\\u0442\\u043e\\u0447\\u043a\\u0430\", \"\\u0432\\u0445\\u043e\\u0434\", \"\\u043f\\u043e\\u043b\\u043e\\u0436\\u0438\\u0442\\u044c\", \"\\u0448\\u0442\\u0443\\u043a\\u0430\", \"\\u043f\\u0440\\u0435\\u0434\\u044a\\u044f\\u0432\\u0438\\u0442\\u044c\", \"\\u043e\\u0442\\u043a\\u0430\\u0437\\u044b\\u0432\\u0430\\u0442\\u044c\", \"\\u043f\\u0440\\u043e\\u0441\\u0440\\u043e\\u0447\\u0438\\u0442\\u044c\", \"\\u0433\\u043e\\u0434\\u043d\\u043e\\u0441\\u0442\\u044c\", \"\\u0443\\u043f\\u0440\\u0430\\u0432\\u043b\\u0435\\u043d\\u0438\\u0435\", \"\\u0444\\u043e\\u0442\\u043e\", \"\\u043c\\u0430\\u0433\\u0430\\u0437\\u0438\\u043d\", \"\\u043f\\u0435\\u0440\\u0441\\u043e\\u043d\\u0430\\u043b\", \"\\u0442\\u043e\\u0432\\u0430\\u0440\", \"\\u043f\\u0440\\u043e\\u0434\\u0430\\u0432\\u0435\\u0446\", \"\\u043f\\u043e\\u043a\\u0443\\u043f\\u043a\\u0430\", \"\\u0434\\u0438\\u0440\\u0435\\u043a\\u0442\\u043e\\u0440\", \"\\u043e\\u0431\\u043d\\u0430\\u0440\\u0443\\u0436\\u0438\\u0442\\u044c\", \"\\u043f\\u0440\\u043e\\u0434\\u0430\\u0436\\u0430\", \"\\u043a\\u0430\\u0447\\u0435\\u0441\\u0442\\u0432\\u043e\", \"\\u043a\\u0443\\u043f\\u0438\\u0442\\u044c\", \"\\u0434\\u0430\\u043d\\u043d\\u044b\\u0439\", \"\\u0430\\u0434\\u0440\\u0435\\u0441\", \"\\u043f\\u0440\\u043e\\u0441\\u0438\\u0442\\u044c\", \"\\u043f\\u0440\\u0438\\u043d\\u044f\\u0442\\u044c\", \"\\u0437\\u0434\\u0440\\u0430\\u0432\\u0441\\u0442\\u0432\\u0443\\u0439\\u0442\\u0435\", \"\\u0445\\u043e\\u0442\\u0435\\u0442\\u044c\", \"\\u043f\\u043e\\u0436\\u0430\\u043b\\u0443\\u0439\\u0441\\u0442\\u0430\", \"\\u0441\\u0440\\u043e\\u043a\", \"\\u0434\\u0430\\u0442\\u044c\", \"\\u043e\\u0441\\u043d\\u043e\\u0432\\u0430\\u043d\\u0438\\u0435\", \"\\u043d\\u0430\\u0440\\u0443\\u0448\\u0435\\u043d\\u0438\\u0435\", \"\\u0437\\u0430\\u0449\\u0438\\u0442\\u0430\", \"\\u0433\\u0430\\u0440\\u0430\\u043d\\u0442\\u0438\\u044f\", \"\\u0442\\u043e\\u0440\\u0433\\u043e\\u0432\\u044b\\u0439\", \"\\u0441\\u0442\\u0430\\u0442\\u044c\\u044f\", \"\\u0441\\u0443\\u0434\", \"\\u0437\\u0430\\u043a\\u043e\\u043d\\u043e\\u0434\\u0430\\u0442\\u0435\\u043b\\u044c\\u0441\\u0442\\u0432\\u043e\", \"\\u043a\\u0440\\u043e\\u043c\\u0435\", \"\\u043f\\u043e\\u0442\\u0440\\u0435\\u0431\\u0438\\u0442\\u0435\\u043b\\u044c\", \"\\u0441\\u0443\\u0442\\u043a\\u0438\", \"\\u0441\\u043f\\u0440\\u0430\\u0432\\u043a\\u0430\", \"\\u0431\\u043e\\u043b\\u0435\\u0442\\u044c\", \"\\u0432\\u043b\\u0430\\u0434\\u0435\\u043b\\u0435\\u0446\", \"\\u043f\\u0440\\u0435\\u0434\\u043e\\u043f\\u043b\\u0430\\u0442\\u0430\", \"\\u0433\\u0440\\u0430\\u0436\\u0434\\u0430\\u043d\\u0441\\u043a\\u0438\\u0439\", \"\\u043f\\u043e\\u0441\\u043a\\u043e\\u043b\\u044c\\u043a\\u0443\", \"\\u0432\\u043e\\u0441\\u043f\\u043e\\u043b\\u044c\\u0437\\u043e\\u0432\\u0430\\u0442\\u044c\\u0441\\u044f\", \"\\u043f\\u0435\\u0440\\u0435\\u0432\\u0435\\u0441\\u0442\\u0438\", \"\\u0432\\u043e\\u0437\\u0432\\u0440\\u0430\\u0449\\u0430\\u0442\\u044c\\u0441\\u044f\", \"\\u0438\\u0437\\u043c\\u0435\\u043d\\u0438\\u0442\\u044c\\u0441\\u044f\", \"\\u0432\\u044b\\u0448\\u0435\\u0438\\u0437\\u043b\\u043e\\u0436\\u0435\\u043d\\u043d\\u044b\\u0439\", \"\\u043e\\u0442\\u0434\\u0435\\u043b\", \"\\u0437\\u0430\\u0431\\u043b\\u0443\\u0436\\u0434\\u0435\\u043d\\u0438\\u0435\", \"\\u0438\\u0441\\u043f\\u0440\\u0430\\u0432\\u0438\\u0442\\u044c\", \"\\u0441\\u0435\\u043d\\u0442\\u044f\\u0431\\u0440\\u044c\", \"\\u043f\\u043e\\u0434\\u0430\\u0440\\u043e\\u043a\", \"\\u043f\\u0440\\u0438\\u0432\\u0435\\u0441\\u0442\\u0438\", \"\\u0432\\u043d\\u0435\\u0441\\u0442\\u0438\", \"\\u0432\\u043d\\u0438\\u043c\\u0430\\u043d\\u0438\\u0435\", \"\\u0441\\u043e\\u043e\\u0442\\u0432\\u0435\\u0442\\u0441\\u0442\\u0432\\u0438\\u0435\", \"\\u0443\\u0441\\u043b\\u043e\\u0432\\u0438\\u0435\", \"\\u043f\\u0440\\u0430\\u0432\\u043e\", \"\\u0443\\u043a\\u0430\\u0437\\u0430\\u043d\\u043d\\u044b\\u0439\", \"\\u044f\\u0432\\u043b\\u044f\\u0442\\u044c\\u0441\\u044f\", \"\\u0437\\u0430\\u043a\\u043e\\u043d\", \"\\u0446\\u0435\\u043d\\u0430\", \"\\u0440\\u0443\\u0431\\u043b\\u044c\", \"\\u043e\\u0442\\u0441\\u0443\\u0442\\u0441\\u0442\\u0432\\u0438\\u0435\", \"\\u0434\\u043e\\u0433\\u043e\\u0432\\u043e\\u0440\", \"\\u043e\\u0431\\u044f\\u0437\\u0430\\u0442\\u044c\", \"\\u0442\\u0440\\u0435\\u0431\\u043e\\u0432\\u0430\\u043d\\u0438\\u0435\", \"\\u0441\\u0443\\u043c\\u043c\\u0430\", \"\\u043d\\u0430\\u043b\\u0438\\u0447\\u0438\\u0435\", \"\\u043f\\u0435\\u0440\\u0432\\u044b\\u0439\", \"\\u043e\\u0442\\u043a\\u0430\\u0437\", \"\\u0433\\u043e\\u0434\", \"\\u043f\\u0440\\u043e\\u0441\\u0438\\u0442\\u044c\", \"\\u0441\\u0442\\u0440\\u0430\\u0445\\u043e\\u0432\\u043e\\u0439\", \"\\u0447\\u0435\\u043a\", \"\\u0441\\u0431\\u0435\\u0440\\u0431\\u0430\\u043d\\u043a\", \"\\u0437\\u0430\\u043a\\u043b\\u044e\\u0447\\u0438\\u0442\\u044c\", \"\\u043a\\u0440\\u0435\\u0434\\u0438\\u0442\", \"\\u0440\\u0430\\u0441\\u0441\\u043c\\u043e\\u0442\\u0440\\u0435\\u0442\\u044c\", \"\\u0432\\u044b\\u0434\\u0430\\u0442\\u044c\", \"\\u043f\\u043e\\u043b\\u0438\\u0441\", \"\\u0441\\u043f\\u0443\\u0441\\u0442\\u044f\", \"\\u043f\\u043b\\u0430\\u0442\\u0451\\u0436\", \"\\u0444\\u0430\\u043a\\u0442\\u0438\\u0447\\u0435\\u0441\\u043a\\u0438\", \"\\u0434\\u0435\\u043d\\u0435\\u0436\\u043d\\u044b\\u0439\", \"\\u043f\\u043e\\u0434\\u043f\\u0438\\u0441\\u044c\", \"\\u0438\\u0437\\u043d\\u0430\\u0447\\u0430\\u043b\\u044c\\u043d\\u043e\", \"\\u0441\\u0442\\u0440\\u0430\\u0445\\u043e\\u0432\\u043a\\u0430\", \"\\u0437\\u0430\\u043c\\u0435\\u0442\\u0438\\u0442\\u044c\", \"\\u043e\\u0431\\u043b\", \"\\u043a\\u0430\\u0440\\u0442\\u0430\", \"\\u0441\\u0440\\u0435\\u0434\\u0441\\u0442\\u0432\\u043e\", \"\\u0430\\u043f\\u0440\\u0435\\u043b\\u044c\", \"\\u0437\\u0430\\u044f\\u0432\\u043b\\u0435\\u043d\\u0438\\u0435\", \"\\u043f\\u043e\\u0437\\u0438\\u0446\\u0438\\u044f\", \"\\u0441\\u0447\\u0451\\u0442\", \"\\u043f\\u0440\\u0438\\u043e\\u0431\\u0440\\u0435\\u0441\\u0442\\u0438\", \"\\u0441\\u043f\\u0438\\u0441\\u0430\\u0442\\u044c\", \"\\u0432\\u043e\\u0437\\u0432\\u0440\\u0430\\u0442\", \"\\u043f\\u0440\\u0438\\u0447\\u0438\\u043d\\u0430\", \"\\u0434\\u043e\\u0433\\u043e\\u0432\\u043e\\u0440\", \"\\u043e\\u0442\\u043a\\u0430\\u0437\", \"\\u043e\\u0431\\u0440\\u0430\\u0442\\u0438\\u0442\\u044c\\u0441\\u044f\", \"\\u043e\\u0431\\u0440\\u0430\\u0449\\u0435\\u043d\\u0438\\u0435\", \"\\u0441\\u0440\\u043e\\u043a\", \"\\u043f\\u0440\\u043e\\u0441\\u0438\\u0442\\u044c\", \"\\u043f\\u043e\\u043b\\u0443\\u0447\\u0438\\u0442\\u044c\", \"\\u043e\\u0434\\u043d\\u0430\\u043a\\u043e\", \"\\u043e\\u0442\\u043f\\u0440\\u0430\\u0432\\u0438\\u0442\\u044c\", \"\\u043e\\u0442\\u043a\\u0430\\u0437\\u0430\\u0442\\u044c\", \"\\u0434\\u0435\\u043d\\u044c\", \"\\u0440\\u0430\\u0437\\u043c\\u0435\\u0440\", \"\\u0441\\u043e\\u0441\\u0442\\u0430\\u0432\\u0438\\u0442\\u044c\", \"\\u0432\\u043e\\u043e\\u0431\\u0449\\u0435\", \"\\u043e\\u0444\\u0438\\u0446\\u0438\\u0430\\u043b\\u044c\\u043d\\u044b\\u0439\", \"\\u043e\\u0441\\u0443\\u0449\\u0435\\u0441\\u0442\\u0432\\u0438\\u0442\\u044c\", \"\\u043f\\u0440\\u043e\\u0446\\u0435\\u0441\\u0441\", \"\\u043f\\u0435\\u0440\\u0435\\u0434\\u0430\\u0447\\u0430\", \"\\u043f\\u0435\\u0440\\u0435\\u0434\\u0430\\u0442\\u044c\", \"\\u044d\\u043a\\u0441\\u043f\\u043b\\u0443\\u0430\\u0442\\u0430\\u0446\\u0438\\u044f\", \"\\u043f\\u043b\\u0430\\u043d\\u0438\\u0440\\u043e\\u0432\\u0430\\u0442\\u044c\", \"\\u0432\\u044b\\u0431\\u0440\\u0430\\u0442\\u044c\", \"\\u0440\\u0430\\u0437\\u044a\\u044f\\u0441\\u043d\\u0435\\u043d\\u0438\\u0435\", \"\\u0443\\u043f\\u043b\\u0430\\u0442\\u0438\\u0442\\u044c\", \"\\u043f\\u0440\\u0435\\u0434\\u043f\\u0440\\u0438\\u043d\\u044f\\u0442\\u044c\", \"\\u0430\\u043b\\u0435\\u043a\\u0441\\u0430\\u043d\\u0434\\u0440\", \"\\u043d\\u0435\\u043e\\u0431\\u0445\\u043e\\u0434\\u0438\\u043c\\u043e\\u0441\\u0442\\u044c\", \"\\u0438\\u0437\\u043c\\u0435\\u043d\\u0435\\u043d\\u0438\\u0435\", \"\\u043a\\u0440\\u044b\\u0441\\u0430\", \"\\u0441\\u043e\\u043e\\u0442\\u0432\\u0435\\u0442\\u0441\\u0442\\u0432\\u0443\\u044e\\u0449\\u0438\\u0439\", \"\\u0431\\u0440\\u0435\\u043d\\u0434\", \"\\u0445\\u043e\\u0440\\u043e\\u0448\\u0438\\u0439\", \"\\u0441\\u0432\\u044f\\u0437\\u043d\\u044b\\u0439\", \"\\u043d\\u0435\\u043d\\u0430\\u0434\\u043b\\u0435\\u0436\\u0430\\u0449\\u0438\\u0439\", \"\\u043e\\u0431\\u0441\\u0442\\u0430\\u043d\\u043e\\u0432\\u043a\\u0430\", \"\\u0442\\u0440\\u0435\\u0442\\u0438\\u0439\", \"\\u0432\\u044b\\u0445\\u043e\\u0434\\u043d\\u043e\\u0439\", \"\\u0445\\u0440\\u0430\\u043d\\u0435\\u043d\\u0438\\u0435\", \"\\u043d\\u0430\\u0442\\u0430\\u043b\\u044c\\u044f\", \"\\u043b\\u0438\\u0431\\u043e\", \"\\u043a\\u043e\\u043c\\u043f\\u0435\\u043d\\u0441\\u0438\\u0440\\u043e\\u0432\\u0430\\u0442\\u044c\", \"\\u0440\\u0430\\u0437\\u043d\\u044b\\u0439\", \"\\u0441\\u0442\\u043e\\u0438\\u043c\\u043e\\u0441\\u0442\\u044c\", \"\\u0441\\u0442\\u043e\\u0440\\u043e\\u043d\\u0430\", \"\\u043e\\u0444\\u043e\\u0440\\u043c\\u043b\\u0435\\u043d\\u0438\\u0435\", \"\\u043f\\u0440\\u0438\\u043e\\u0431\\u0440\\u0435\\u0441\\u0442\\u0438\", \"\\u043a\\u0430\\u0447\\u0435\\u0441\\u0442\\u0432\\u043e\", \"\\u043c\\u043e\\u043c\\u0435\\u043d\\u0442\", \"\\u043f\\u0440\\u0435\\u0442\\u0435\\u043d\\u0437\\u0438\\u044f\", \"\\u043e\\u0442\\u043a\\u0430\\u0437\", \"\\u0434\\u0435\\u0439\\u0441\\u0442\\u0432\\u0438\\u0435\", \"\\u043f\\u0440\\u043e\\u0434\\u0430\\u0436\\u0430\", \"\\u0442\\u043e\\u0432\\u0430\\u0440\", \"\\u0438\\u043d\\u0442\\u0435\\u0440\\u043d\\u0435\\u0442\", \"\\u0446\\u0435\\u043d\\u0430\", \"\\u0434\\u0430\\u0442\\u044c\", \"\\u043d\\u0430\\u043b\\u0438\\u0447\\u0438\\u0435\", \"\\u043f\\u043e\\u043a\\u0443\\u043f\\u043a\\u0430\", \"\\u0434\\u0430\\u043d\\u043d\\u044b\\u0439\", \"\\u0441\\u0430\\u0439\\u0442\", \"\\u0432\\u043e\\u0434\\u0430\", \"\\u043c\\u0430\\u0441\\u0442\\u0435\\u0440\", \"\\u0436\\u0438\\u043b\\u043e\\u0439\", \"\\u043f\\u043b\\u043e\\u0449\\u0430\\u0434\\u043a\\u0430\", \"\\u043c\\u0430\\u0441\\u043a\\u0430\", \"\\u0430\\u0434\\u043c\\u0438\\u043d\\u0438\\u0441\\u0442\\u0440\\u0430\\u0446\\u0438\\u044f\", \"\\u0441\\u0430\\u043b\\u043e\\u043d\", \"\\u0442\\u0435\\u043c\\u043f\\u0435\\u0440\\u0430\\u0442\\u0443\\u0440\\u0430\", \"\\u0441\\u0430\\u043d\\u0438\\u0442\\u0430\\u0440\\u043d\\u044b\\u0439\", \"\\u0440\\u0435\\u0436\\u0438\\u043c\", \"\\u0440\\u0430\\u0437\\u044a\\u044f\\u0441\\u043d\\u0438\\u0442\\u044c\", \"\\u0433\\u043e\\u0441\\u0443\\u0434\\u0430\\u0440\\u0441\\u0442\\u0432\\u0435\\u043d\\u043d\\u044b\\u0439\", \"\\u0440\\u043e\\u0434\\u0438\\u0442\\u0435\\u043b\\u044c\", \"\\u044d\\u043f\\u0438\\u0434\\u0435\\u043c\\u0438\\u043e\\u043b\\u043e\\u0433\\u0438\\u0447\\u0435\\u0441\\u043a\\u0438\\u0439\", \"\\u043f\\u0440\\u043e\\u0434\\u043e\\u043b\\u0436\\u0430\\u0442\\u044c\", \"\\u043e\\u0431\\u044f\\u0437\\u0430\\u0442\\u0435\\u043b\\u044c\\u043d\\u044b\\u0439\", \"\\u043f\\u043e\\u0441\\u043b\\u0435\\u0434\\u043d\\u0438\\u0439\", \"\\u043f\\u043e\\u0434\\u044a\\u0435\\u0437\\u0434\", \"\\u0445\\u043e\\u043b\\u043e\\u0434\\u043d\\u044b\\u0439\", \"\\u043d\\u043e\\u0441\\u0438\\u0442\\u044c\", \"\\u0433\\u043b\\u0430\\u0432\\u043d\\u043e\\u0435\", \"\\u043e\\u0431\\u0449\\u0435\\u0441\\u0442\\u0432\\u0435\\u043d\\u043d\\u044b\\u0439\", \"\\u043d\\u0435\\u043c\\u043e\\u0439\", \"\\u0436\\u0438\\u0442\\u0435\\u043b\\u044c\", \"\\u043f\\u0440\\u043e\\u0432\\u043e\\u0434\\u0438\\u0442\\u044c\\u0441\\u044f\", \"\\u043d\\u043e\\u0440\\u043c\\u0430\", \"\\u0441\\u043e\\u0434\\u0435\\u0440\\u0436\\u0430\\u043d\\u0438\\u0435\", \"\\u043c\\u043d\\u0435\\u043d\\u0438\\u0435\", \"\\u0440\\u0436\\u0430\\u0432\\u044b\\u0439\", \"\\u043c\\u0443\\u043d\\u0438\\u0446\\u0438\\u043f\\u0430\\u043b\\u044c\\u043d\\u044b\\u0439\", \"\\u043f\\u043e\\u0441\\u0442\\u0430\\u043d\\u043e\\u0432\\u043b\\u0435\\u043d\\u0438\\u0435\", \"\\u0434\\u043e\\u043c\", \"\\u0441\\u0438\\u043b\\u0430\", \"\\u0440\\u0430\\u0439\\u043e\\u043d\", \"\\u043c\\u0435\\u0441\\u0442\\u043e\", \"\\u0440\\u0430\\u0431\\u043e\\u0442\\u0430\", \"\\u043e\\u0440\\u0433\\u0430\\u043d\\u0438\\u0437\\u0430\\u0446\\u0438\\u044f\", \"\\u0443\\u0441\\u0442\\u0430\\u043d\\u043e\\u0432\\u0438\\u0442\\u044c\", \"\\u0442\\u0435\\u0440\\u0440\\u0438\\u0442\\u043e\\u0440\\u0438\\u044f\", \"\\u0434\\u043e\\u043b\\u0436\\u043d\\u044b\\u0439\", \"\\u043f\\u0440\\u043e\\u0441\\u0438\\u0442\\u044c\", \"\\u0442\\u0435\\u0445\\u043d\\u0438\\u0447\\u0435\\u0441\\u043a\\u0438\\u0439\", \"\\u0434\\u0430\\u0442\\u0430\", \"\\u043e\\u0442\\u043d\\u043e\\u0448\\u0435\\u043d\\u0438\\u0435\", \"\\u043f\\u043e\\u043b\\u0443\\u0447\\u0430\\u0442\\u044c\", \"\\u0434\\u0438\\u0432\\u0430\\u043d\", \"\\u043f\\u043e\\u0441\\u0435\\u0449\\u0435\\u043d\\u0438\\u0435\", \"\\u043e\\u0444\\u043e\\u0440\\u043c\\u043b\\u044f\\u0442\\u044c\", \"\\u043a\\u043e\\u043b\\u0438\\u0447\\u0435\\u0441\\u0442\\u0432\\u043e\", \"\\u0437\\u0430\\u043a\\u043e\\u043d\\u043d\\u043e\", \"\\u0441\\u0431\\u0435\\u0440\\u043c\\u0435\\u0433\\u0430\\u043c\\u0430\\u0440\\u043a\\u0435\\u0442\", \"\\u043d\\u0430\\u0441\\u043a\\u043e\\u043b\\u044c\\u043a\\u043e\", \"\\u0447\\u0430\\u0441\\u0442\\u043d\\u044b\\u0439\", \"\\u0447\\u0430\\u0442\", \"\\u043c\\u043e\\u0441\\u043a\\u043e\\u0432\\u0441\\u043a\\u0438\\u0439\", \"\\u0441\\u0438\\u0441\\u0442\\u0435\\u043c\\u0430\", \"\\u0443\\u0431\\u0440\\u0430\\u0442\\u044c\", \"\\u043e\\u0442\\u0434\\u0430\\u0442\\u044c\", \"\\u043f\\u043e\\u0441\\u0435\\u0442\\u0438\\u0442\\u0435\\u043b\\u044c\", \"\\u0441\\u043e\\u0431\\u043b\\u044e\\u0434\\u0435\\u043d\\u0438\\u0435\", \"\\u0442\\u0443\\u0434\\u0430\", \"\\u043f\\u043e\\u043b\\u044c\\u0437\\u043e\\u0432\\u0430\\u0442\\u044c\\u0441\\u044f\", \"\\u043f\\u0440\\u043e\\u0442\\u0438\\u0432\\u043e\\u0440\\u0435\\u0447\\u0438\\u0442\\u044c\", \"\\u043d\\u0430\\u0440\\u0443\\u0448\\u0430\\u0442\\u044c\", \"\\u043f\\u043e\\u0441\\u0442\\u043e\\u044f\\u043d\\u043d\\u044b\\u0439\", \"\\u0432\\u043c\\u0435\\u0441\\u0442\\u0435\", \"\\u0434\\u043e\\u0436\\u0434\\u0430\\u0442\\u044c\\u0441\\u044f\", \"\\u0441\\u043c\\u043e\\u0442\\u0440\\u0435\\u0442\\u044c\", \"\\u043f\\u044f\\u0442\\u0451\\u0440\\u043e\\u0447\\u043a\\u0430\", \"\\u0443\\u0441\\u043f\\u0435\\u0442\\u044c\", \"\\u043f\\u043e\\u044d\\u0442\\u043e\\u043c\\u0443\", \"\\u043e\\u0431\\u043b\\u0430\\u0441\\u0442\\u044c\", \"\\u043e\\u0440\\u0433\\u0430\\u043d\\u0438\\u0437\\u0430\\u0446\\u0438\\u044f\", \"\\u043f\\u043e\\u043c\\u043e\\u0449\\u044c\", \"\\u043f\\u0440\\u043e\\u0432\\u0435\\u0440\\u043a\\u0430\", \"\\u043f\\u0440\\u043e\\u0432\\u0435\\u0441\\u0442\\u0438\", \"\\u043f\\u043e\\u0441\\u0442\\u0430\\u0432\\u0438\\u0442\\u044c\", \"\\u0432\\u043e\\u0437\\u043c\\u043e\\u0436\\u043d\\u043e\", \"\\u043f\\u043e\\u043b\\u043d\\u044b\\u0439\", \"\\u0441\\u043b\\u0443\\u0447\\u0430\\u0439\", \"\\u0432\\u043e\\u0437\\u043c\\u043e\\u0436\\u043d\\u043e\\u0441\\u0442\\u044c\", \"\\u0442\\u0440\\u0435\\u0431\\u043e\\u0432\\u0430\\u0442\\u044c\", \"\\u0434\\u0435\\u043d\\u044c\", \"\\u043f\\u043e\\u0441\\u0442\\u0430\\u043d\\u043e\\u0432\\u043b\\u0435\\u043d\\u0438\\u0435\", \"\\u0434\\u043e\\u0441\\u0442\\u0430\\u0432\\u043a\\u0430\", \"\\u0437\\u0430\\u043a\\u0430\\u0437\", \"\\u043a\\u0443\\u0440\\u044c\\u0435\\u0440\", \"\\u043f\\u043e\\u0441\\u044b\\u043b\\u043a\\u0430\", \"\\u043e\\u0442\\u043f\\u0440\\u0430\\u0432\\u043b\\u0435\\u043d\\u0438\\u0435\", \"\\u0441\\u0434\\u044d\\u043a\", \"\\u043d\\u0430\\u0437\\u043d\\u0430\\u0447\\u0438\\u0442\\u044c\", \"\\u043e\\u0444\\u043e\\u0440\\u043c\\u0438\\u0442\\u044c\", \"\\u043c\\u0435\\u043d\\u0435\\u0434\\u0436\\u0435\\u0440\", \"\\u043e\\u043f\\u043b\\u0430\\u0442\\u0438\\u0442\\u044c\", \"\\u043f\\u0440\\u0438\\u0439\\u0442\\u0438\", \"\\u043b\\u0438\\u043d\\u0438\\u044f\", \"\\u0441\\u0434\\u0435\\u043b\\u0430\\u0442\\u044c\", \"\\u0441\\u0432\\u044f\\u0437\\u0430\\u0442\\u044c\\u0441\\u044f\", \"\\u043e\\u0444\\u043e\\u0440\\u043c\\u043b\\u0435\\u043d\\u0438\\u0435\", \"\\u0441\\u0442\\u043e\\u0438\\u043c\\u043e\\u0441\\u0442\\u044c\", \"\\u0433\\u043e\\u0440\\u044f\\u0447\\u0438\\u0439\", \"\\u0441\\u0430\\u0439\\u0442\", \"\\u0437\\u0432\\u043e\\u043d\\u043e\\u043a\", \"\\u043d\\u043e\\u043c\\u0435\\u0440\", \"\\u0443\\u043a\\u0430\\u0437\\u0430\\u0442\\u044c\", \"\\u043f\\u043e\\u043b\\u044c\\u0437\\u043e\\u0432\\u0430\\u0442\\u0435\\u043b\\u044c\", \"dns\", \"\\u043d\\u043e\\u044f\\u0431\\u0440\\u044c\", \"\\u0442\\u0435\\u0440\\u043c\\u0438\\u043d\\u0430\\u043b\", \"\\u043e\\u0442\\u043f\\u0440\\u0430\\u0432\\u0438\\u0442\\u0435\\u043b\\u044c\", \"ozon\", \"\\u0445\\u043e\\u043b\\u043e\\u0434\\u0438\\u043b\\u044c\\u043d\\u0438\\u043a\", \"\\u0441\\u043c\\u0441\", \"\\u044f\\u043d\\u0432\\u0430\\u0440\\u044c\", \"\\u0432\\u0440\\u0435\\u043c\\u044f\", \"\\u0440\\u0443\\u0431\\u043b\\u044c\", \"\\u043f\\u043e\\u043b\\u0443\\u0447\\u0438\\u0442\\u044c\", \"\\u0440\\u0435\\u0448\\u0438\\u0442\\u044c\", \"\\u043e\\u0442\\u0432\\u0435\\u0442\\u0438\\u0442\\u044c\", \"\\u0432\\u0441\\u0451\", \"\\u043f\\u0440\\u043e\\u0441\\u0442\\u043e\", \"\\u0434\\u0435\\u043d\\u044c\\u0433\\u0430\", \"\\u0432\\u0435\\u0441\\u044c\", \"\\u0434\\u0435\\u043d\\u044c\", \"\\u043c\\u0430\\u0448\\u0438\\u043d\\u0430\", \"\\u0436\\u0438\\u043b\\u0435\\u0446\", \"\\u0443\\u043f\\u0440\\u0430\\u0432\\u043b\\u044f\\u0442\\u044c\", \"\\u043e\\u043f\\u043b\\u0430\\u0447\\u0438\\u0432\\u0430\\u0442\\u044c\", \"\\u0444\\u0430\\u0439\\u043b\", \"\\u043f\\u043b\\u0430\\u0442\\u0430\", \"\\u0434\\u043e\\u043f\\u043e\\u043b\\u043d\\u0438\\u0442\\u0435\\u043b\\u044c\\u043d\\u044b\\u0439\", \"\\u0441\\u043e\\u0433\\u043b\\u0430\\u0441\\u0438\\u0442\\u044c\\u0441\\u044f\", \"\\u0432\\u043b\\u043e\\u0436\\u0435\\u043d\\u0438\\u0435\", \"yandex\", \"\\u043a\\u043e\\u043d\\u0442\\u0430\\u043a\\u0442\\u043d\\u044b\\u0439\", \"\\u0444\\u0438\\u0440\\u043c\\u0430\", \"\\u043c\\u0430\\u043b\\u044b\\u0439\", \"\\u0443\\u0441\\u0442\\u043d\\u043e\", \"\\u043f\\u0440\\u0438\\u0435\\u0437\\u0436\\u0430\\u0442\\u044c\", \"\\u043c\\u0435\\u043d\\u044f\\u0442\\u044c\\u0441\\u044f\", \"\\u0441\\u0442\\u0430\\u0440\\u0448\\u0438\\u0439\", \"\\u0432\\u043e\\u0437\\u0440\\u0430\\u0441\\u0442\", \"\\u0442\\u0430\\u0440\\u0438\\u0444\", \"\\u043f\\u043e\\u0432\\u044b\\u0448\\u0435\\u043d\\u0438\\u0435\", \"\\u0437\\u0430\\u0432\\u044b\\u0441\\u0438\\u0442\\u044c\", \"\\u0433\\u0430\\u0437\", \"\\u0441\\u0442\\u0430\\u0442\\u044c\", \"\\u0440\\u0435\\u0448\\u0438\\u0442\\u044c\", \"\\u0432\\u0438\\u0434\\u0435\\u0442\\u044c\", \"\\u043c\\u043e\\u0440\\u0430\\u043b\\u044c\\u043d\\u044b\\u0439\", \"\\u043d\\u043e\\u043c\\u0435\\u0440\", \"\\u043d\\u0438\\u043a\\u0442\\u043e\", \"\\u043f\\u0440\\u043e\\u0431\\u043b\\u0435\\u043c\\u0430\", \"\\u0438\\u043d\\u043e\\u0439\", \"\\u043e\\u043f\\u043b\\u0430\\u0442\\u0430\", \"\\u0445\\u043e\\u0442\\u0435\\u0442\\u044c\", \"\\u043a\\u043e\\u043c\\u043f\\u0430\\u043d\\u0438\\u044f\", \"\\u0441\\u0447\\u0451\\u0442\", \"\\u043e\\u043f\\u043b\\u0430\\u0442\\u0438\\u0442\\u044c\", \"\\u0442\\u0435\\u043b\\u0435\\u0444\\u043e\\u043d\", \"\\u043f\\u0440\\u043e\\u0441\\u0438\\u0442\\u044c\", \"\\u0443\\u0441\\u043b\\u043e\\u0432\\u0438\\u0435\", \"\\u0440\\u0435\\u0448\\u0435\\u043d\\u0438\\u0435\", \"\\u0432\\u0441\\u0451\", \"\\u0437\\u0430\\u043c\\u0435\\u043d\\u0430\", \"\\u043a\\u043e\\u0434\", \"\\u043f\\u0435\\u0440\\u0438\\u043e\\u0434\", \"\\u0441\\u0441\\u044b\\u043b\\u043a\\u0430\", \"\\u043f\\u0440\\u0438\\u043b\\u043e\\u0436\\u0438\\u0442\\u044c\", \"\\u043e\\u0448\\u0438\\u0431\\u043a\\u0430\", \"\\u0437\\u0430\\u0439\\u0442\\u0438\", \"\\u043c\\u043e\\u0431\\u0438\\u043b\\u044c\\u043d\\u044b\\u0439\", \"\\u043a\\u043e\\u043d\\u0441\\u0443\\u043b\\u044c\\u0442\\u0430\\u0446\\u0438\\u044f\", \"\\u0441\\u043f\\u0438\\u0441\\u0430\\u043d\\u0438\\u0435\", \"\\u0432\\u0432\\u0435\\u0441\\u0442\\u0438\", \"\\u0443\\u0441\\u0442\\u0440\\u043e\\u0439\\u0441\\u0442\\u0432\\u043e\", \"\\u043e\\u0442\\u043a\\u043b\\u044e\\u0447\\u0438\\u0442\\u044c\", \"\\u043f\\u043e\\u0438\\u0441\\u043a\", \"\\u043f\\u043e\\u0434\\u043a\\u043b\\u044e\\u0447\\u0438\\u0442\\u044c\", \"\\u043f\\u0440\\u043e\\u0433\\u0440\\u0430\\u043c\\u043c\\u0430\", \"\\u043d\\u0438\\u0433\\u0434\\u0435\", \"\\u043f\\u043e\\u0440\\u044f\\u0434\\u043e\\u043a\", \"\\u043e\\u0442\\u0434\\u0435\\u043b\\u044c\\u043d\\u044b\\u0439\", \"\\u043f\\u043e\\u043b\\u0433\\u043e\\u0434\\u0430\", \"\\u043f\\u0440\\u043e\\u0447\\u0438\\u0439\", \"\\u043d\\u0435\\u043e\\u0431\\u0445\\u043e\\u0434\\u0438\\u043c\\u044b\\u0439\", \"\\u0438\\u043c\\u0435\\u0442\\u044c\\u0441\\u044f\", \"\\u0438\\u043c\\u0435\\u0442\\u044c\", \"\\u0442\\u0435\\u043b\\u0435\\u0444\\u043e\\u043d\", \"\\u043f\\u043e\\u043b\\u0443\\u0447\\u0435\\u043d\\u0438\\u0435\", \"\\u043b\\u0438\\u0447\\u043d\\u044b\\u0439\", \"\\u0441\\u043b\\u0443\\u0447\\u0430\\u0439\", \"\\u0440\\u0430\\u0431\\u043e\\u0442\\u0430\\u0442\\u044c\", \"\\u0440\\u0430\\u0437\\u0433\\u043e\\u0432\\u043e\\u0440\", \"\\u0438\\u043d\\u0444\\u043e\\u0440\\u043c\\u0430\\u0446\\u0438\\u044f\", \"\\u0434\\u0430\\u0442\\u044c\", \"\\u043f\\u0440\\u0430\\u0432\\u043e\", \"\\u0434\\u0435\\u0439\\u0441\\u0442\\u0432\\u0438\\u0435\", \"\\u0437\\u0434\\u0440\\u0430\\u0432\\u0441\\u0442\\u0432\\u0443\\u0439\\u0442\\u0435\", \"\\u0441\\u0438\\u0442\\u0443\\u0430\\u0446\\u0438\\u044f\", \"\\u043f\\u043e\\u0447\\u0435\\u043c\\u0443\", \"\\u043d\\u0443\\u0436\\u043d\\u043e\", \"\\u043c\\u0438\\u043d\\u0443\\u0442\\u0430\", \"\\u043c\\u0435\\u0434\\u0438\\u0446\\u0438\\u043d\\u0441\\u043a\\u0438\\u0439\", \"\\u0434\\u043e\\u0440\\u043e\\u0433\\u0430\", \"\\u0443\\u0442\\u0440\\u043e\", \"\\u0443\\u0441\\u0442\\u0440\\u043e\\u0438\\u0442\\u044c\", \"\\u043e\\u043a\\u043d\\u043e\", \"\\u0437\\u0430\\u043d\\u0438\\u043c\\u0430\\u0442\\u044c\\u0441\\u044f\", \"\\u0437\\u0430\\u0432\\u0442\\u0440\\u0430\", \"\\u043f\\u043e\\u043b\", \"\\u0441\\u043b\\u044b\\u0448\\u0430\\u0442\\u044c\", \"\\u0442\\u0435\\u043a\\u0441\\u0442\", \"\\u0435\\u043a\\u0430\\u0442\\u0435\\u0440\\u0438\\u043d\\u0430\", \"\\u0434\\u0430\\u043b\\u0451\\u043a\\u0438\\u0439\", \"\\u043d\\u0430\\u0448\", \"\\u0434\\u0440\\u0443\\u0433\", \"\\u043d\\u0438\\u043a\\u0442\\u043e\", \"\\u0441\\u043f\\u0430\\u0441\\u0438\\u0431\\u043e\", \"\\u0434\\u0435\\u043b\\u0430\\u0442\\u044c\", \"\\u043d\\u0443\\u0436\\u043d\\u044b\\u0439\", \"\\u043f\\u0438\\u0441\\u0430\\u0442\\u044c\", \"\\u0434\\u043e\\u043b\\u0436\\u043d\\u044b\\u0439\", \"\\u0432\\u0441\\u0451\", \"\\u0441\\u0434\\u0435\\u043b\\u0430\\u0442\\u044c\", \"\\u0440\\u0430\\u0437\\u043d\\u044b\\u0439\", \"\\u044f\\u0432\\u043b\\u044f\\u0442\\u044c\\u0441\\u044f\", \"\\u0442\\u0435\\u0441\\u0442\", \"\\u0448\\u043a\\u043e\\u043b\\u0430\", \"\\u043a\\u043b\\u0430\\u0441\\u0441\", \"\\u0434\\u043e\\u043c\", \"\\u0440\\u0430\\u0431\\u043e\\u0442\\u0430\\u0442\\u044c\", \"\\u0434\\u0430\\u0442\\u044c\", \"\\u0435\\u0449\\u0451\", \"\\u043f\\u0440\\u0430\\u0432\\u0438\\u043b\\u043e\", \"\\u043d\\u0430\\u0447\\u0430\\u0442\\u044c\", \"\\u0432\\u044b\\u0439\\u0442\\u0438\", \"\\u043f\\u044b\\u0442\\u0430\\u0442\\u044c\\u0441\\u044f\", \"\\u0443\\u0441\\u0442\\u0430\\u043d\\u043e\\u0432\\u043a\\u0430\", \"\\u043e\\u0431\\u0449\\u0438\\u0439\", \"\\u043e\\u0442\\u043a\\u0440\\u044b\\u0442\\u044b\\u0439\", \"\\u0441\\u043e\\u0431\\u0441\\u0442\\u0432\\u0435\\u043d\\u043d\\u0438\\u043a\", \"\\u0440\\u044f\\u0434\\u043e\\u043c\", \"\\u0442\\u0443\\u0430\\u043b\\u0435\\u0442\", \"\\u0443\\u0447\\u0430\\u0441\\u0442\\u043e\\u043a\", \"\\u0433\\u0440\\u0443\\u0431\\u044b\\u0439\", \"\\u0437\\u0435\\u043c\\u043b\\u044f\", \"\\u0441\\u043e\\u0441\\u0442\\u043e\\u044f\\u043d\\u0438\\u0435\", \"\\u0438\\u043d\\u043e\\u0439\", \"\\u0447\\u0430\\u0441\", \"\\u043f\\u0440\\u043e\\u0441\\u0442\\u043e\", \"\\u0432\\u0438\\u0434\\u0435\\u0442\\u044c\", \"\\u0434\\u0430\\u0432\\u0430\\u0442\\u044c\", \"\\u043f\\u043e\\u0441\\u0442\\u0430\\u0432\\u0438\\u0442\\u044c\", \"\\u043f\\u043e\\u0441\\u0442\\u043e\\u044f\\u043d\\u043d\\u043e\", \"\\u0440\\u0430\\u0431\\u043e\\u0442\\u0430\\u0442\\u044c\", \"\\u0441\\u0432\\u043e\\u0439\", \"\\u044d\\u043a\\u0441\\u043f\\u0435\\u0440\\u0442\\u0438\\u0437\\u0430\", \"\\u0430\\u0432\\u0430\\u0440\\u0438\\u0439\\u043d\\u044b\\u0439\", \"\\u043f\\u0440\\u043e\\u0436\\u0438\\u0432\\u0430\\u043d\\u0438\\u0435\", \"\\u043a\\u043e\\u043c\\u043c\\u0435\\u043d\\u0442\\u0430\\u0440\\u0438\\u0439\", \"\\u0440\\u0430\\u0441\\u043f\\u043e\\u043b\\u043e\\u0436\\u0438\\u0442\\u044c\", \"\\u043d\\u0435\\u0437\\u0430\\u043a\\u043e\\u043d\\u043d\\u044b\\u0439\", \"\\u0432\\u043e\\u0434\\u0438\\u0442\\u0435\\u043b\\u044c\", \"\\u0438\\u0434\\u0442\\u0438\", \"\\u0437\\u0434\\u0440\\u0430\\u0432\\u0441\\u0442\\u0432\\u0443\\u0439\\u0442\\u0435\", \"\\u0432\\u0441\\u0451\", \"\\u0447\\u0435\\u043b\\u043e\\u0432\\u0435\\u043a\", \"\\u043f\\u0440\\u043e\\u0432\\u0435\\u0440\\u043a\\u0430\", \"\\u043f\\u0440\\u043e\\u0432\\u0435\\u0441\\u0442\\u0438\", \"\\u043c\\u043e\\u0447\\u044c\", \"\\u043f\\u043e\\u043b\\u0438\\u043a\\u043b\\u0438\\u043d\\u0438\\u043a\\u0430\", \"\\u0438\\u0437\\u0434\\u0435\\u043b\\u0438\\u0435\", \"\\u0432\\u0440\\u0430\\u0447\", \"\\u043e\\u0431\\u0440\\u0430\\u0437\", \"\\u0438\\u0441\\u043f\\u043e\\u043b\\u044c\\u0437\\u043e\\u0432\\u0430\\u0442\\u044c\", \"\\u0440\\u0435\\u0441\\u0443\\u0440\\u0441\", \"\\u0437\\u0430\\u043c\\u0435\\u043d\\u0438\\u0442\\u044c\", \"\\u0437\\u0430\\u043a\\u043e\\u043d\\u043d\\u044b\\u0439\", \"\\u043f\\u043b\\u0430\\u0442\\u043d\\u044b\\u0439\", \"\\u0438\\u0434\\u0442\\u0438\", \"\\u0434\\u0443\\u043c\\u0430\\u0442\\u044c\", \"\\u0441\\u0442\\u0430\\u0440\\u044b\\u0439\", \"\\u0441\\u043b\\u043e\\u043c\\u0430\\u0442\\u044c\\u0441\\u044f\", \"\\u043d\\u0430\\u0441\\u0442\\u0430\\u0438\\u0432\\u0430\\u0442\\u044c\", \"\\u0443\\u0440\\u043e\\u0432\\u0435\\u043d\\u044c\", \"\\u0447\\u0430\\u0441\\u0442\\u043d\\u043e\\u0441\\u0442\\u044c\", \"\\u0441\\u0432\\u0435\\u0442\", \"\\u043a\\u0432\\u0430\\u0440\\u0442\\u0438\\u0440\\u0430\", \"\\u043e\\u0441\\u043d\\u043e\\u0432\\u0430\", \"\\u0440\\u0435\\u0437\\u0443\\u043b\\u044c\\u0442\\u0430\\u0442\", \"\\u043d\\u0435\\u043e\\u0431\\u0445\\u043e\\u0434\\u0438\\u043c\\u044b\\u0439\", \"\\u043e\\u0431\\u0440\\u0430\\u0442\\u0438\\u0442\\u044c\\u0441\\u044f\", \"\\u0434\\u0435\\u0439\\u0441\\u0442\\u0432\\u0438\\u0435\", \"\\u043f\\u0440\\u0438\\u0447\\u0438\\u043d\\u0430\", \"\\u0442\\u0435\\u0441\\u0442\", \"\\u043f\\u0446\\u0440\", \"\\u043f\\u0440\\u0438\\u0451\\u043c\", \"\\u043a\\u043e\\u043c\\u043c\\u0435\\u043d\\u0442\\u0430\\u0440\\u0438\\u0439\", \"\\u043c\\u0443\\u0436\", \"\\u043f\\u043e\\u043b\\u043e\\u0436\\u0438\\u0442\\u0435\\u043b\\u044c\\u043d\\u044b\\u0439\", \"\\u043e\\u0442\\u043a\\u0430\\u0437\\u0430\\u0442\\u044c\", \"\\u0434\\u0430\\u043d\\u043d\\u044b\\u0439\", \"\\u043f\\u0440\\u0430\\u0432\\u043e\", \"\\u0434\\u043e\\u043c\", \"\\u043c\\u0435\\u0441\\u044f\\u0446\", \"\\u0431\\u043e\\u043b\\u044c\\u0448\\u043e\\u0439\", \"\\u0443\\u043f\\u0430\\u043a\\u043e\\u0432\\u043a\\u0430\", \"wildberries\", \"\\u0438\\u0441\\u0442\\u0435\\u0447\\u044c\", \"\\u043d\\u0435\\u0443\\u0441\\u0442\\u043e\\u0439\\u043a\\u0430\", \"\\u0446\\u0435\\u043d\\u043d\\u0438\\u043a\", \"\\u043f\\u0440\\u043e\\u0434\\u0443\\u043a\\u0442\", \"\\u0435\\u0434\\u0438\\u043d\\u0441\\u0442\\u0432\\u0435\\u043d\\u043d\\u044b\\u0439\", \"\\u0441\\u0443\\u043f\\u0440\\u0443\\u0433\", \"\\u0432\\u044b\\u0432\\u043e\\u0437\", \"\\u0441\\u043e\\u0431\\u0430\\u043a\\u0430\", \"\\u0442\\u0443\\u0440\\u043e\\u043f\\u0435\\u0440\\u0430\\u0442\\u043e\\u0440\", \"\\u0443\\u043a\\u0440\\u0430\\u0438\\u043d\\u0430\", \"\\u0431\\u0435\\u0433\\u0430\\u0442\\u044c\", \"\\u0444\\u043e\\u0442\\u043e\\u0433\\u0440\\u0430\\u0444\\u0438\\u044f\", \"\\u0432\\u0432\\u0435\\u0434\\u0435\\u043d\\u0438\\u0435\", \"\\u0444\\u0438\\u043d\\u0430\\u043d\\u0441\\u043e\\u0432\\u044b\\u0439\", \"\\u043a\\u043e\\u043d\\u0442\\u0435\\u0439\\u043d\\u0435\\u0440\", \"\\u0441\\u0442\\u043e\\u0438\\u0442\\u044c\", \"\\u0441\\u0442\\u043e\\u044f\\u0442\\u044c\", \"\\u0434\\u043e\\u043f\\u043b\\u0430\\u0442\\u0438\\u0442\\u044c\", \"\\u043d\\u0430\\u0437\\u0430\\u0434\", \"\\u043f\\u043e\\u0436\\u0430\\u043b\\u0443\\u0439\\u0441\\u0442\\u0430\", \"\\u043f\\u043e\\u0434\\u0441\\u043a\\u0430\\u0437\\u0430\\u0442\\u044c\", \"\\u043c\\u0435\\u0441\\u044f\\u0446\", \"\\u043a\\u043e\\u0440\\u043f\\u0443\\u0441\", \"\\u043e\\u0441\\u0442\\u0430\\u043d\\u043e\\u0432\\u043a\\u0430\", \"\\u0440\\u0435\\u0430\\u043b\\u0438\\u0437\\u0430\\u0446\\u0438\\u044f\", \"\\u0441\\u043c\\u0430\\u0440\\u0442\\u0444\\u043e\\u043d\", \"\\u043f\\u0440\\u043e\\u0434\\u0430\\u0442\\u044c\", \"\\u0443\\u0444\\u0430\", \"\\u0447\\u0430\\u0441\\u0442\\u044c\", \"\\u0441\\u0440\\u043e\\u043a\", \"\\u043e\\u0431\\u0440\\u0430\\u0449\\u0435\\u043d\\u0438\\u0435\", \"\\u0434\\u0430\\u043b\\u0451\\u043a\\u0438\\u0439\", \"\\u043e\\u0431\\u0440\\u0430\\u0442\\u0438\\u0442\\u044c\\u0441\\u044f\", \"\\u0443\\u043a\\u0430\\u0437\\u0430\\u0442\\u044c\", \"\\u0443\\u0441\\u043b\\u0443\\u0433\\u0430\", \"\\u043f\\u0440\\u043e\\u0432\\u0435\\u0434\\u0435\\u043d\\u0438\\u0435\", \"\\u043e\\u043a\\u0430\\u0437\\u0430\\u043d\\u0438\\u0435\", \"\\u0437\\u0430\\u043a\\u043b\\u044e\\u0447\\u0435\\u043d\\u0438\\u0435\", \"\\u0443\\u0447\\u0438\\u0442\\u044b\\u0432\\u0430\\u0442\\u044c\", \"\\u0440\\u043e\\u0441\\u0442\\u0435\\u043b\\u0435\\u043a\\u043e\\u043c\", \"\\u043e\\u043a\\u0430\\u0437\\u0430\\u0442\\u044c\", \"\\u043e\\u043a\\u0430\\u0437\\u044b\\u0432\\u0430\\u0442\\u044c\", \"\\u043f\\u043e\\u0441\\u0442\\u0430\\u0432\\u0449\\u0438\\u043a\", \"\\u043f\\u0440\\u0435\\u0436\\u043d\\u0438\\u0439\", \"\\u0438\\u044e\\u043b\\u044c\", \"\\u043f\\u043e\\u0434\\u043a\\u043b\\u044e\\u0447\\u0435\\u043d\\u0438\\u0435\", \"\\u043f\\u0430\\u043e\", \"\\u043f\\u0440\\u043e\\u0441\\u0440\\u043e\\u0447\\u043a\\u0430\", \"\\u043f\\u0440\\u0430\\u0432\\u043e\\u043c\\u0435\\u0440\\u043d\\u043e\\u0441\\u0442\\u044c\", \"\\u0441\\u043e\\u0433\\u043b\\u0430\\u0441\\u043e\\u0432\\u0430\\u0442\\u044c\", \"\\u043a\\u0430\\u043d\\u0430\\u043b\", \"\\u0440\\u0430\\u043c\\u043a\\u0430\", \"\\u043f\\u043e\\u0434\\u0430\\u0440\\u043e\\u0447\\u043d\\u044b\\u0439\", \"\\u0432\\u044b\\u043f\\u043e\\u043b\\u043d\\u0438\\u0442\\u044c\", \"\\u043e\\u0442\\u0441\\u0443\\u0442\\u0441\\u0442\\u0432\\u043e\\u0432\\u0430\\u0442\\u044c\", \"\\u0438\\u0441\\u043f\\u043e\\u043b\\u043d\\u0438\\u0442\\u0435\\u043b\\u044c\", \"\\u043c\\u0430\\u0442\\u0435\\u0440\\u0438\\u0430\\u043b\", \"\\u043f\\u0440\\u043e\\u0432\\u0435\\u0440\\u0438\\u0442\\u044c\", \"\\u0435\\u0432\\u0440\\u043e\", \"\\u0443\\u0447\\u0440\\u0435\\u0436\\u0434\\u0435\\u043d\\u0438\\u0435\", \"\\u043f\\u0430\\u043a\\u0435\\u0442\", \"\\u0441\\u043e\\u0433\\u043b\\u0430\\u0448\\u0435\\u043d\\u0438\\u0435\", \"\\u043a\\u043b\\u0438\\u043d\\u0438\\u043a\\u0430\", \"\\u043e\\u0434\\u043d\\u043e\\u0441\\u0442\\u043e\\u0440\\u043e\\u043d\\u043d\\u0438\\u0439\", \"\\u043f\\u043e\\u0440\\u044f\\u0434\\u043e\\u043a\", \"\\u044d\\u043a\\u0441\\u043f\\u0435\\u0440\\u0442\\u0438\\u0437\\u0430\", \"\\u0440\\u0435\\u0430\\u0433\\u0438\\u0440\\u043e\\u0432\\u0430\\u0442\\u044c\", \"\\u0434\\u043e\\u0441\\u0442\\u0443\\u043f\", \"\\u043f\\u043e\\u0442\\u0440\\u0435\\u0431\\u0438\\u0442\\u0435\\u043b\\u044c\", \"\\u044e\\u0440\\u0438\\u0434\\u0438\\u0447\\u0435\\u0441\\u043a\\u0438\\u0439\", \"\\u0440\\u0443\\u0431\", \"\\u0442\\u0435\\u0441\\u0442\", \"https\", \"\\u044f\\u043d\\u0432\\u0430\\u0440\\u044c\", \"\\u0437\\u0430\\u0449\\u0438\\u0442\\u0430\", \"\\u0441\\u043b\\u0443\\u0447\\u0430\\u0439\", \"\\u044f\\u0432\\u043b\\u044f\\u0442\\u044c\\u0441\\u044f\", \"\\u043f\\u0440\\u0430\\u0432\\u043e\", \"\\u043f\\u0440\\u0438\\u043b\\u043e\\u0436\\u0438\\u0442\\u044c\", \"\\u0438\\u0434\\u0442\\u0438\", \"\\u0433\\u043e\\u0441\\u0443\\u0434\\u0430\\u0440\\u0441\\u0442\\u0432\\u0435\\u043d\\u043d\\u044b\\u0439\", \"\\u043e\\u0442\\u0434\\u0435\\u043b\\u044c\\u043d\\u044b\\u0439\", \"\\u043d\\u0435\\u043e\\u0431\\u0445\\u043e\\u0434\\u0438\\u043c\\u043e\", \"\\u0433\\u043e\\u0432\\u043e\\u0440\\u0438\\u0442\\u044c\", \"\\u0434\\u0430\\u043d\\u043d\\u044b\\u0435\", \"\\u0441\\u043b\\u043e\\u0432\\u043e\", \"\\u0441\\u043a\\u043e\\u043b\\u044c\\u043a\\u043e\", \"\\u0437\\u0434\\u0440\\u0430\\u0432\\u0441\\u0442\\u0432\\u0443\\u0439\\u0442\\u0435\", \"\\u0445\\u043e\\u0442\\u0435\\u0442\\u044c\", \"\\u043e\\u0431\\u0440\\u0430\\u0442\\u043d\\u043e\", \"\\u043f\\u043e\\u043c\\u043e\\u0447\\u044c\", \"\\u043e\\u043f\\u0435\\u0440\\u0430\\u0446\\u0438\\u044f\", \"\\u043b\\u0435\\u0436\\u0430\\u0442\\u044c\", \"\\u043f\\u0446\\u0440\", \"\\u0431\\u0440\\u0430\\u043a\", \"\\u0442\\u0435\\u0441\\u0442\", \"\\u0432\\u0430\\u043a\\u0446\\u0438\\u043d\\u0430\\u0446\\u0438\\u044f\", \"\\u0440\\u0435\\u0433\\u0438\\u043e\\u043d\", \"\\u0441\\u043d\\u044f\\u0442\\u044c\", \"\\u0441\\u0435\\u0433\\u043e\\u0434\\u043d\\u044f\", \"\\u043f\\u043e\\u043b\\u043e\\u0436\\u0438\\u0442\\u0435\\u043b\\u044c\\u043d\\u044b\\u0439\", \"\\u0432\\u043e\\u0437\\u0432\\u0440\\u0430\\u0449\\u0435\\u043d\\u0438\\u0435\", \"\\u0434\\u0438\\u0430\\u0433\\u043d\\u043e\\u0441\\u0442\\u0438\\u043a\\u0430\", \"\\u043f\\u0440\\u043e\\u0432\\u043e\\u0434\\u0438\\u0442\\u044c\", \"\\u043f\\u043b\\u043e\\u0445\\u043e\\u0439\", \"\\u043a\\u043b\\u0438\\u043d\\u0438\\u043a\\u0430\", \"\\u0443\\u0433\\u0440\\u043e\\u0437\\u0430\", \"\\u0430\\u043f\\u0442\\u0435\\u043a\\u0430\", \"\\u043a\\u0430\\u0440\\u0430\\u043d\\u0442\\u0438\\u043d\", \"\\u043f\\u043e\\u0434\\u0432\\u0430\\u043b\", \"\\u043f\\u043e\\u0441\\u043c\\u043e\\u0442\\u0440\\u0435\\u0442\\u044c\", \"\\u043a\\u043e\\u0440\\u043e\\u043d\\u0430\\u0432\\u0438\\u0440\\u0443\\u0441\", \"\\u0431\\u0430\\u043d\\u043a\\u043e\\u0432\\u0441\\u043a\\u0438\\u0439\", \"\\u0441\\u043a\\u043e\\u0440\\u044b\\u0439\", \"\\u043c\\u0430\\u043c\\u0430\", \"\\u043f\\u0438\\u0441\\u0430\\u0442\\u044c\", \"\\u043e\\u0442\\u0434\\u0435\\u043b\\u0435\\u043d\\u0438\\u0435\", \"\\u043e\\u0442\\u043a\\u0430\\u0437\\u0430\\u0442\\u044c\", \"\\u043f\\u043e\\u043c\\u043e\\u0449\\u044c\", \"\\u0448\\u043a\\u043e\\u043b\\u0430\", \"\\u043c\\u043e\\u0447\\u044c\", \"\\u0438\\u0441\\u043f\\u043e\\u043b\\u044c\\u0437\\u043e\\u0432\\u0430\\u043d\\u0438\\u0435\", \"\\u0440\\u0443\\u0431\", \"\\u043a\\u0443\\u043f\\u0438\\u0442\\u044c\", \"\\u0434\\u0435\\u043d\\u044c\\u0433\\u0430\", \"\\u0441\\u0441\\u044b\\u043b\\u0430\\u0442\\u044c\\u0441\\u044f\", \"\\u043e\\u0431\\u0440\\u0430\\u0442\\u0438\\u0442\\u044c\\u0441\\u044f\", \"\\u043f\\u0440\\u043e\\u0434\\u0430\\u0432\\u0435\\u0446\", \"\\u043f\\u0440\\u0430\\u0432\\u043e\", \"\\u0441\\u043a\\u0430\\u0437\\u0430\\u0442\\u044c\", \"\\u0440\\u0430\\u0437\\u043c\\u0435\\u0440\", \"\\u0443\\u043a\\u0430\\u0437\\u0430\\u0442\\u044c\", \"\\u0432\\u043e\\u0437\\u0432\\u0440\\u0430\\u0442\", \"\\u0441\\u0430\\u0439\\u0442\", \"\\u043f\\u0440\\u0438\\u043e\\u0431\\u0440\\u0435\\u0441\\u0442\\u0438\", \"\\u0440\\u0430\\u0431\\u043e\\u0442\\u0430\\u0442\\u044c\", \"\\u0432\\u0435\\u0440\\u043d\\u0443\\u0442\\u044c\", \"\\u0434\\u0435\\u043d\\u044c\", \"\\u0430\\u0432\\u0438\\u0430\\u0431\\u0438\\u043b\\u0435\\u0442\", \"\\u0448\\u043e\\u0441\\u0441\\u0435\", \"\\u0441\\u043e\\u0432\\u0435\\u0442\\u0441\\u043a\\u0438\\u0439\", \"\\u0440\\u044b\\u043d\\u043e\\u043a\", \"\\u043f\\u043e\\u0434\\u043e\\u0440\\u043e\\u0436\\u0430\\u0442\\u044c\", \"\\u0432\\u0438\\u0437\\u0438\\u0442\", \"\\u0442\\u0438\\u043f\", \"\\u0432\\u044b\\u0440\\u0430\\u0441\\u0442\\u0438\", \"\\u0441\\u0442\\u0440\\u0430\\u043d\\u0438\\u0446\\u0430\", \"\\u043e\\u0431\\u0435\\u0441\\u043f\\u0435\\u0447\\u0438\\u0442\\u044c\", \"\\u043f\\u0435\\u0440\\u0435\\u043b\\u0451\\u0442\", \"\\u0441\\u0444\\u0435\\u0440\\u0430\", \"\\u0432\\u0435\\u0447\\u0435\\u0440\\u043e\\u043c\", \"\\u0441\\u0442\\u043e\\u043b\", \"\\u0437\\u0430\\u043f\\u0440\\u0435\\u0442\\u0438\\u0442\\u044c\", \"\\u0436\\u0435\\u043b\\u0430\\u043d\\u0438\\u0435\", \"\\u043f\\u0440\\u0435\\u0434\\u0443\\u043f\\u0440\\u0435\\u0436\\u0434\\u0435\\u043d\\u0438\\u0435\", \"\\u043f\\u043e\\u043c\\u0438\\u043c\\u043e\", \"\\u0441\\u0432\\u044f\\u0437\\u0430\\u0442\\u044c\", \"\\u0433\\u043b\\u0430\\u0432\\u043d\\u044b\\u0439\", \"\\u043f\\u043e\\u0434\\u0442\\u0432\\u0435\\u0440\\u0436\\u0434\\u0430\\u0442\\u044c\\u0441\\u044f\", \"\\u043f\\u043e\\u0442\\u0435\\u0440\\u044f\\u0442\\u044c\", \"\\u0434\\u0432\\u0438\\u0436\\u0435\\u043d\\u0438\\u0435\", \"\\u0440\\u0443\\u0441\\u0441\\u043a\\u0438\\u0439\", \"\\u043d\\u0430\\u043a\\u0430\\u0437\\u0430\\u0442\\u044c\", \"\\u0432\\u0438\\u0434\\u0438\\u043c\\u043e\", \"\\u0432\\u043d\\u0435\\u0441\\u0435\\u043d\\u0438\\u0435\", \"\\u043a\\u043e\\u043c\\u043c\\u0443\\u043d\\u0430\\u043b\\u044c\\u043d\\u044b\\u0439\", \"\\u0438\\u043d\\u0441\\u0442\\u0440\\u0443\\u043c\\u0435\\u043d\\u0442\", \"\\u043d\\u043e\\u0432\\u043e\\u0441\\u0438\\u0431\\u0438\\u0440\\u0441\\u043a\", \"\\u0432\\u043e\\u0437\\u0432\\u0440\\u0430\\u0442\", \"\\u0441\\u0442\\u0440\\u0430\\u0445\\u043e\\u0432\\u043e\\u0439\", \"\\u0447\\u0435\\u043a\", \"\\u043f\\u043e\\u043b\\u0438\\u0441\", \"\\u043f\\u043e\\u0437\\u0438\\u0446\\u0438\\u044f\", \"\\u043c\\u0430\\u0433\\u0430\\u0437\\u0438\\u043d\", \"\\u0434\\u043e\\u0441\\u0442\\u0430\\u0432\\u043a\\u0430\", \"\\u0432\\u044b\\u0434\\u0430\\u0442\\u044c\", \"\\u0442\\u0440\\u0435\\u0431\\u043e\\u0432\\u0430\\u043d\\u0438\\u0435\", \"\\u0442\\u0435\\u0445\\u043d\\u0438\\u0447\\u0435\\u0441\\u043a\\u0438\\u0439\", \"\\u043e\\u0442\\u043a\\u0430\\u0437\\u0430\\u0442\\u044c\", \"\\u043f\\u0440\\u0435\\u0434\\u043e\\u043f\\u043b\\u0430\\u0442\\u0430\", \"\\u0434\\u0430\\u0442\\u0430\", \"\\u0441\\u043b\\u0443\\u0436\\u0431\\u0430\", \"\\u0432\\u043e\\u0437\\u043c\\u043e\\u0436\\u043d\\u043e\\u0441\\u0442\\u044c\", \"\\u0442\\u043e\\u0432\\u0430\\u0440\", \"\\u043f\\u043e\\u0434\\u0434\\u0435\\u0440\\u0436\\u043a\\u0430\", \"\\u0438\\u0437\\u043d\\u0430\\u0447\\u0430\\u043b\\u044c\\u043d\\u043e\", \"\\u0434\\u043e\\u0433\\u043e\\u0432\\u043e\\u0440\", \"\\u0437\\u0430\\u043a\\u043e\\u043d\", \"\\u043e\\u0431\\u0440\\u0430\\u0442\\u0438\\u0442\\u044c\\u0441\\u044f\", \"\\u043f\\u0440\\u0430\\u0432\\u043e\", \"\\u0434\\u0435\\u043d\\u044c\", \"\\u0437\\u0430\\u0449\\u0438\\u0442\\u0430\", \"\\u0441\\u043f\\u0443\\u0441\\u0442\\u044f\", \"\\u043f\\u043e\\u0434\\u043f\\u0438\\u0441\\u044c\", \"\\u043f\\u043e\\u043a\\u0443\\u043f\\u043a\\u0430\", \"\\u043a\\u0440\\u0435\\u0434\\u0438\\u0442\", \"\\u0441\\u0440\\u0435\\u0434\\u0441\\u0442\\u0432\\u043e\", \"\\u043d\\u0438\\u043a\\u0430\\u043a\\u043e\\u0439\"], \"Freq\": [736.0, 1292.0, 1062.0, 430.0, 442.0, 513.0, 559.0, 303.0, 621.0, 464.0, 407.0, 525.0, 328.0, 447.0, 514.0, 309.0, 304.0, 345.0, 1148.0, 637.0, 416.0, 234.0, 239.0, 305.0, 138.0, 233.0, 449.0, 234.0, 253.0, 314.0, 166.37491827401476, 161.38758620734845, 122.56847310575078, 120.6674722263476, 117.19565262788726, 97.79762806592504, 95.60977958723825, 86.62343756542121, 85.79254317462741, 92.47270173714841, 74.5864059982244, 74.1001336948428, 73.26483490459587, 68.82259160984727, 65.25346877715961, 62.910572135844795, 60.95874699932926, 60.49251988641182, 60.314115843797815, 53.9002867344503, 53.26219197374486, 52.81578096340056, 52.0150042403438, 51.96464924391144, 51.81975484780793, 48.043510696877256, 46.20811393852313, 45.01625832073511, 44.84275010805014, 211.52611675249202, 270.15261969743887, 167.27860349469685, 180.12350242467406, 118.36114096841219, 141.4039834362139, 350.9208220261024, 333.87304708776355, 179.661158721006, 109.0194688477608, 123.89194341189517, 124.63457245525895, 193.44032241015032, 113.43895854197886, 199.91641539129722, 175.3661450408629, 162.93323481812138, 140.32044205128602, 164.08439408055966, 211.23418488001417, 225.21169434318912, 194.06689996188308, 220.88327817054906, 250.04680223141168, 195.9039335901682, 175.44311857224525, 203.39339316227145, 188.26840462277846, 148.5074077421543, 169.50595854968645, 130.62202835479437, 139.83597289130472, 129.58665454643622, 245.294214185966, 234.68467085753213, 177.47422813844642, 131.38230610301622, 89.11327870487607, 96.1381134178098, 86.15783228435767, 66.64878168319704, 64.75959616469864, 58.55611519872269, 56.310307130324155, 43.94931462384617, 41.674973000125426, 39.330008677782615, 34.44169328013162, 33.050031836842614, 29.23359847505589, 24.123206283472523, 44.39175275967222, 22.931934256405906, 21.171835526909355, 19.40516806192984, 19.081037502238438, 16.503531737763744, 90.04828994157664, 62.73800822837191, 14.097757766758189, 14.094194979978536, 13.388116483911615, 12.77879886115181, 119.66016512933984, 437.77757697071183, 329.4203729264529, 32.75720339231261, 286.0308622743822, 76.92676212898377, 42.36482699308391, 148.64906941547503, 253.58581058475738, 323.7972852643522, 93.94042006684244, 81.6445756614781, 100.88395251299531, 407.3105548031195, 88.73815350029903, 79.45587768771584, 179.4556494882, 97.79913209225674, 138.44895251712055, 143.67130433076832, 94.83831658039178, 98.20343951966946, 104.05274020800991, 82.83398960780578, 112.26628549285911, 91.01197540848187, 87.26431838748515, 84.64798440163834, 251.63327988996528, 153.1193745190554, 102.96363003792946, 98.8615799993404, 94.80486424764803, 81.79635326609531, 81.3459515082547, 78.24016757027564, 73.17066255566722, 69.9168466124927, 62.80276349417801, 62.1952887555405, 57.102260734146064, 48.59964375989792, 47.73885994330862, 45.315881423238146, 57.36992537550403, 48.56813269529361, 41.403150707831806, 41.37951005660076, 37.28135404914258, 37.275333594667586, 35.657793062016744, 34.5296534207377, 33.82268677492877, 33.530387386779154, 30.09091674488496, 29.87711855380028, 29.496715240759237, 28.52059281025144, 173.08623678479938, 168.38402360983216, 112.3021637341963, 117.83059384668859, 193.18300204675796, 81.77796543933536, 103.29411681293948, 181.1496693990416, 124.27923880829393, 64.15333348769664, 73.3674581833323, 131.72607335718567, 148.9738430935791, 132.49540920553326, 106.76842785723265, 115.16287664648758, 123.0801948599885, 90.08120449034976, 82.68161595058659, 72.04327583883645, 64.773943228623, 252.6407919648722, 135.7903315342926, 95.8761124897912, 88.13599940483738, 83.268845465432, 75.6280251766198, 69.8618516328038, 64.96937473325708, 60.87403367271332, 52.62621003504688, 45.37693764479889, 44.806109211528955, 44.562532138904395, 44.49356251012496, 35.45526997641671, 32.17929309040287, 30.140745471955537, 29.18101462878082, 29.212262029668768, 27.72222623947037, 27.632373086867183, 25.028220512267435, 23.95291374746346, 21.552888272059157, 20.682361541090312, 18.79791688225638, 18.42322196664865, 17.9086250953206, 17.6361605326927, 17.148387202904548, 88.23354238806786, 114.4193212566092, 75.79166643391203, 273.73078332749117, 73.21493451801771, 119.01857728162214, 170.0821888100517, 116.72883545244746, 291.7481032181488, 174.49819736545055, 104.42534529564384, 54.93082787012785, 83.91728355325033, 183.2540742491594, 56.62546196285014, 102.22226334031758, 96.93543988001348, 84.58778901457708, 83.15905379182354, 57.72428216316775, 59.85164446958258, 61.54239989689056, 56.92583266640065, 142.42273402531524, 132.32295583797205, 85.14689800184158, 64.90133110399582, 55.57198335205368, 51.55116320536263, 47.41413538060987, 46.488449138558785, 44.590287871663094, 42.22156846084199, 38.16261359207928, 37.61672038159522, 30.606814690946422, 42.49421098559824, 29.232247398910577, 28.99596404580325, 28.903989601857724, 27.970711833196017, 18.322264815613874, 17.498465342309302, 15.124575398170528, 18.48491175866935, 11.676646381875742, 11.225314047055383, 9.410055489612645, 86.64399924411464, 856.8978209708163, 4.644488057976031, 1023.9290034606928, 322.072021712362, 188.24063093493024, 26.244093902418836, 46.031172671023974, 63.2574137448774, 78.42065629723454, 99.92714826970463, 119.37481263308881, 87.98885985329018, 93.72869708367314, 58.80152316152913, 68.9003693014063, 52.108783903087705, 51.1550383720725, 57.16239186614866, 62.701219079775306, 143.9157049354464, 125.00097323959983, 117.34774291372541, 87.98773274645637, 85.70102798944038, 74.56988931371234, 70.92805977013849, 65.73840006661487, 64.11633679484595, 154.28890630010167, 58.07130909102764, 53.02838302992826, 52.50185980820037, 50.83724676137789, 50.320375874892655, 50.095822979981676, 36.94560933667379, 36.396130494021904, 35.64418592645029, 31.01629083785362, 30.804021554892, 31.319950539370563, 30.56655423292628, 28.13579247703253, 24.209661910569633, 23.967528285084637, 22.682400211641646, 22.228900319339036, 21.88303649488108, 21.189200368078676, 111.6868254406175, 142.23999213516, 241.94814856140658, 94.66662161490017, 172.7176770496268, 119.99641456299229, 147.26269754767586, 187.2919255487786, 64.58184377740788, 204.79690646233192, 53.7030743503474, 82.68485901412201, 129.3789769731107, 73.24840079835595, 62.12091307306659, 74.33062892141282, 86.75512003053657, 63.837369616118515, 173.21981410363333, 112.28519791836946, 96.1327607867675, 81.22093264298287, 79.52992301455458, 76.14295634206962, 67.81370727524914, 58.623116244499556, 48.96099159824433, 41.405002689568335, 33.1169820863178, 296.0597309689383, 23.011479187518823, 23.004311628805233, 18.431589181137127, 17.43329129381111, 17.299916246358087, 307.075635767706, 444.7282853579728, 12.612959984863387, 243.0184957593902, 14.730622271764634, 107.09698483542641, 129.04763049237897, 57.19802052805421, 262.74617234256255, 43.305851648307225, 202.5173100292711, 83.41708192374783, 75.54196535095441, 102.99077697011667, 86.32140845847532, 71.08209082134219, 52.52240693306278, 30.548053941753203, 31.27773193624789, 29.77732943089871, 36.83288608739776, 231.80325477690516, 105.14936343557125, 91.12124635331554, 68.3924878848779, 65.64865915862322, 64.20688676102027, 62.41216282870657, 56.16661096165194, 50.58631535088948, 48.369115735280886, 44.22011685227631, 33.27449123249399, 32.43100441083728, 29.810592051377252, 26.233139416816915, 25.269819810462142, 24.222768831425146, 23.45651968127724, 21.7325511017725, 21.021975526949273, 18.581687017624777, 17.938133344278548, 16.685015960754125, 16.2018109867892, 15.689685993093569, 14.345849346652535, 14.029343543783206, 12.54156129091909, 118.59050912061232, 10.552657102146615, 36.36339861590472, 160.8416667234345, 71.04656960116698, 42.785538177971524, 121.42511686776986, 89.38241416040333, 98.7168013218694, 88.13007647631866, 82.33827174162192, 66.3259542777978, 48.74670273696156, 146.2277696095315, 85.47480339446227, 61.04445618664341, 93.00590320932984, 46.18394260614898, 53.55665530124768, 50.536008611854484, 43.98345246174562, 123.23114773597001, 116.59998792532227, 109.32344467799733, 98.51274191311371, 68.1438494053592, 62.83305637191626, 59.12964872397695, 59.0633508248318, 55.82679870531071, 52.38217965795282, 51.81884792594962, 42.42675885944985, 41.10650116656675, 35.824351646525805, 31.880981322454307, 29.50930551593385, 29.38133945920397, 37.043087351734236, 27.265151818322412, 23.133212754706367, 23.104627588732253, 22.80519366251742, 22.240900466376473, 29.183665984064724, 18.950562165724456, 45.0598311428937, 17.95851002311507, 16.275279323473068, 16.060442825579308, 15.29201861613909, 80.54086145005662, 322.07461564653914, 53.72132415955772, 49.99878362896161, 64.40062344315564, 87.37489780430411, 57.825786658329456, 37.30936218099773, 32.12500548693621, 42.13392072943068, 48.15898775396981, 87.536974083359, 85.39138990375312, 70.90366359860471, 69.29326644694446, 64.6376869437201, 48.76820202678294, 45.24612517590711, 44.960900164661595, 36.795951922119485, 36.285601236935264, 36.2165395017132, 34.592592404466366, 34.43652398790914, 34.22558187399869, 27.963451684169893, 26.944458609981652, 26.314536147864626, 24.551793904087088, 24.53294443417739, 24.206800915737478, 87.60304014323492, 19.694046615563295, 41.05793819428966, 19.14095046422918, 19.118187361655014, 19.11629323509086, 17.518774352930624, 14.583543137819218, 10.480472069353214, 51.85430288554144, 70.5818591076841, 114.50941695802783, 68.44534703308761, 111.23047341697189, 72.29766014869091, 31.082513927417125, 46.738920800488515, 46.78321559947812, 43.345908748569144, 33.138498755993645, 35.337651342424486, 47.93689987930806, 29.888327579566464, 302.06683352435346, 733.4426068738767, 92.89993162884426, 84.4606403642399, 23.409530159445655, 21.19682596638528, 17.391654225297465, 70.52447277944378, 27.64065916896462, 129.65993174618717, 90.20912973423896, 44.947659420122136, 72.7298334359869, 22.235551524014536, 11.027372534451798, 37.4073887463517, 30.472327228259033, 40.46854846821616, 15.212415793360218, 18.6136050851161, 15.034788448443846, 0.0582539312536369, 0.05822920157409273, 0.058232134414355326, 0.05822653468408066, 0.05821745543802844, 0.0582184823014957, 0.0582179282384738, 0.05821861897037443, 0.058243038374626334, 14.098132942159644, 12.874635079283808, 15.887314789082444, 3.2374064894803976, 2.0808169816289976, 2.642251908073555, 1.0369493645561692, 0.43764253143810633, 0.14653616492998292, 0.15665446383593132, 120.89801997052004, 49.98543502753248, 49.539107482498956, 42.7207967565783, 42.429906562485755, 41.9906149933767, 48.55106132430734, 34.955745311206286, 31.055701794946582, 30.251796883618322, 28.309560048068974, 25.031643844436314, 20.558881163868858, 19.134511738911332, 14.739180866631896, 13.979543684200555, 13.879755131123206, 13.302837742899573, 12.639186835052215, 11.364457295521722, 9.08322933867346, 8.469638471934285, 75.08382616603556, 103.80877504762054, 37.8441989471013, 10.377915901712397, 129.21663231860663, 48.02602566968894, 88.49152417073246, 14.058834975871937, 56.80502720805266, 46.2444705294403, 70.23848485507463, 36.46032417459584, 49.763877367684024, 39.40822631019651, 31.620764869240812, 22.399274996339468, 18.566463184598366, 17.84376058135164, 96.52118411965473, 74.53679020293502, 69.72688260593446, 48.87093657649122, 38.464110802231076, 38.45846896486406, 36.44146707438715, 32.53028101075644, 30.56479224766422, 29.34308356642013, 29.005731284178115, 25.49061410496511, 25.098984066366377, 20.42762635690674, 20.393016225738506, 19.62691164432038, 18.129179125622297, 58.02851674265493, 13.579752972599438, 8.727224414349369, 6.611313459427936, 18.379669949952373, 33.98766667254851, 93.2329128693984, 125.42926401237037, 35.42742239670739, 76.17209316819442, 57.206005045508945, 44.37159700873658, 11.04855502162485, 56.308554051340906, 76.512591241169, 35.051249512879004, 27.491396517150587, 35.44329609534264, 28.93840235614713, 117.71716916017327, 101.3578798414634, 77.68540354809707, 58.138341975274834, 46.2137474336672, 41.026020112395344, 31.647046850921278, 26.02135793735302, 20.703944973277643, 17.89655335824093, 33.52558916239944, 17.218968338189264, 9.871675654341027, 6.735707910238519, 31.164359137908008, 82.56975229814056, 12.509833129272733, 47.199189920542494, 49.76314903584044, 102.72432000942818, 26.181308799746997, 32.1722011295784, 67.97152853438699, 87.39896689903847, 51.323785269614056, 3.8889242576370213, 17.691480513145653, 0.05227922039699708, 0.05225774841882383, 0.05224326686061371, 19.66442145580584, 5.0220845290589144, 20.117204623481136, 6.039722219786843, 145.95469950710182, 66.01600730158133, 65.58594233365801, 61.18370331926613, 52.03978570787729, 54.64615126067919, 40.902548343036614, 40.39822734487971, 30.224708340426446, 24.91476271845642, 17.041258131538626, 26.55618686550364, 8.589829427928086, 84.74795492367481, 25.03416174639124, 89.72511631651035, 50.01486544214445, 20.41095506341282, 11.815587785395412, 13.709261417901443, 10.785553877133422, 23.912589825049647, 30.58191415734273, 0.0641783994539491, 0.06416787435699893, 0.06416448724822617, 0.06416146795198124, 0.06416422856688792, 0.06415663384447265, 0.0641616862143604, 2.1016279483497353, 9.273847039241266, 7.047702182020038, 2.3690983730920303, 2.2938953104790927, 1.8260905460740164, 2.8893554350920185, 115.03497066006487, 110.6266072711535, 114.48571246540887, 88.25469550298844, 50.904738185731766, 41.344770675753715, 35.75449630900436, 27.70700742305723, 27.12177227916918, 70.60396977873665, 19.860017539718854, 16.46270341347628, 16.01595275105792, 11.032042029721184, 10.390354091892123, 6.9153541036508175, 4.454571188365217, 74.18468350107992, 9.65410365773558, 66.07156522389117, 3.717192496470543, 37.297065847270815, 19.417932464257913, 10.31659679959541, 0.05403723440956662, 0.053994403016741625, 0.05398104805190981, 0.053973814112625904, 0.053973040598114363, 0.05397632803478839, 4.108901002840768, 8.351715363680281, 4.205151718268691, 6.259898238956835, 2.030319626998305, 0.4348232896546242, 64.47971388398717, 63.98087197492722, 48.59397282300535, 45.92881634181482, 41.38543183049152, 72.34372257838533, 35.46546397544068, 30.830052443261724, 30.037171837373798, 28.778226454548662, 26.308168381680673, 25.56867356486607, 21.84033145970963, 20.86011254159819, 17.5658430837346, 15.859007885888396, 12.23563784842397, 88.57602256167651, 48.67061079766173, 6.611686652889782, 10.04673056773277, 39.43461636355029, 17.29653102821878, 20.384786983633106, 0.08659030932010285, 0.08659490528479212, 0.08658575726590426, 0.086586006092018, 0.08658374470174893, 0.08658176141125404, 5.072485080950941, 20.979294278257623, 23.136567270529696, 1.4098754580847739, 4.890614620119269, 1.095273185743311, 426.4118702241356, 92.31725884544396, 73.4911942636181, 64.57567047998882, 10.893346759503606, 0.06992830781822737, 0.06991536859926552, 0.06990299825975801, 0.06990486663835811, 0.0698948945161582, 0.06989362290326022, 0.06989728157896669, 0.06989826875213748, 0.06989215608662791, 0.06989042156201708, 0.06989387945673964, 0.0698950004838997, 0.06989053868425768, 0.06988883762314416, 0.06989584264858213, 0.0698946825806752, 0.06988976344656987, 0.06988771101873455, 0.0698960099660687, 0.06988466584047887, 0.06988822412569339, 0.06988505624794755, 0.06988401887953077, 0.06988572551789385, 0.06988092350602913, 3.258262027429507, 0.06989816278439598, 0.06988838586593041, 0.06988666807306823, 1.5988300399858761, 0.06988846394742414, 0.069896679236015, 0.06989695809849263, 0.06989023193553229, 0.06989144219868519, 0.07339599619100608, 0.07323694418826722, 0.07141916239611239, 0.07046468306219264, 0.07024438728211753, 0.07007047748657073, 0.07001802345452926, 0.06998983045804125, 0.06994669043275248, 137.35633461419556, 98.00866561478414, 53.10702639180453, 39.83294319707064, 111.85391604308198, 26.047259633782566, 6.947447927652559, 10.485460228737898, 0.06049697077964863, 0.060496626414352904, 0.06048148263929991, 0.06046534310917493, 0.060490759757387165, 0.06046253839905553, 0.06045683770126845, 0.06046044316442491, 0.06046958336618977, 0.06046126881133876, 0.06045603279925194, 0.060457771221648436, 0.06045536896253729, 0.060453867031970386, 0.0604562609931226, 0.0604533318136192, 0.06045250201772588, 0.060453605646263994, 0.06045165977489417, 0.06044984667086728, 0.06045504119315943, 0.06045511172581036, 0.0604534936238184, 0.06045544364416768, 2.8384120472683083, 0.06045838527060949, 1.124882598201753, 0.8861529750419307, 0.060456775466576455, 0.5359733658754844, 0.060456987064529254, 0.060458642507336416, 0.1346820222725688, 0.11210091939513486, 0.09167575901587581, 0.08858857807642834, 0.08382871117115465, 0.0632539800821256, 0.06323311071540873, 0.06206663343634032, 0.0614692094360099, 0.06089279171871874, 0.06059917673982822, 0.06056063272058374, 0.06054368413946279, 0.06050843855889424, 0.06050445138962686, 0.06578623324249845, 0.06578623324249845, 0.06578623324249845, 0.06578623324249845, 0.06578623324249845, 0.06578623324249845, 0.06578623324249845, 0.06578623324249845, 0.06578623324249845, 0.06578623324249845, 0.06578623324249845, 0.06578623324249845, 0.06578623324249845, 0.06578623324249845, 0.06578623324249845, 0.06578623324249845, 0.06578623324249845, 0.06578623324249845, 0.06578623324249845, 0.06578623324249845, 0.06578623324249845, 0.06578623324249845, 0.06578623324249845, 0.06578623324249845, 0.06578623324249845, 0.06578623324249845, 0.06578623324249845, 0.06578623324249845, 0.06578623324249845, 0.06578623324249845, 0.06578658011251344, 0.06578646621489657, 0.06578637820310172, 0.06578637820310172, 0.06578637302593733, 0.06578635749444411, 0.06578635231727971, 0.06578635231727971, 0.06578634714011532, 0.06578634714011532, 0.06578634196295091, 0.06578634196295091, 0.0657863367857865, 0.0657863316086221, 0.0657863316086221, 0.0657863264314577, 0.0657863264314577, 0.0657863264314577, 0.0657863212542933, 0.0657863212542933, 0.0657863212542933, 0.0657863212542933, 0.0657863212542933, 0.0657863212542933, 0.0657863212542933, 0.0657863212542933, 0.0657863160771289, 0.0657863160771289, 0.06578631089996449, 0.06578631089996449], \"Total\": [736.0, 1292.0, 1062.0, 430.0, 442.0, 513.0, 559.0, 303.0, 621.0, 464.0, 407.0, 525.0, 328.0, 447.0, 514.0, 309.0, 304.0, 345.0, 1148.0, 637.0, 416.0, 234.0, 239.0, 305.0, 138.0, 233.0, 449.0, 234.0, 253.0, 314.0, 167.58733566083558, 162.58589777675996, 123.76678472710812, 121.86580514797633, 118.3940044593204, 98.99593968069998, 96.80809130798747, 87.82184196070583, 86.9908569678172, 93.8918368367862, 75.7847279083441, 75.29845529941507, 74.46314669213507, 70.02105221073127, 66.45178736250519, 64.10917144379661, 62.15705859831892, 61.691186102670464, 61.512427449756196, 55.09859921066686, 54.460532778787915, 54.01410381934431, 53.21331583863986, 53.16296100847929, 53.018066627416964, 49.24182322017027, 47.406573920198596, 46.214569898039635, 46.041066111205154, 217.35213826348956, 281.8156629146605, 178.69735218244762, 196.4122065218391, 129.92378615650108, 158.29281211772687, 447.3399481759454, 441.7591646002893, 217.84273655012035, 124.74788765334581, 145.69816878948245, 149.1209144671989, 260.59555383708033, 134.4392447506456, 288.42082365813485, 249.69386555595673, 236.6333524299575, 191.92867282327794, 251.77642675362745, 377.58784364229825, 438.37107584655996, 343.49971993791087, 464.64086011906653, 686.7416638273094, 436.49072164858075, 405.8944363874465, 637.6187434290944, 665.1381500077454, 368.98527810853943, 1148.3671488939458, 213.02399214355236, 367.93102866571735, 293.0810495196898, 246.49521865321606, 235.88544008046637, 178.67499905775432, 132.58435624960103, 90.31404800144308, 97.44077591760887, 87.35862499511855, 67.85045708306835, 65.96036538385239, 59.75693716218857, 57.51107853939205, 45.15009826339035, 42.892796059383215, 40.55864897891213, 35.642462499285365, 34.25087863157412, 30.434367744355075, 25.32397869876947, 46.65006851134072, 24.13271370539333, 22.37260489558478, 20.60593827221712, 20.281827081099745, 17.7043048465633, 97.0813265378438, 67.63891375412904, 15.298527187837966, 15.295059739721625, 14.588885710383778, 13.979568993397441, 131.2579768845112, 525.4031242898059, 416.03778725014797, 37.60065991392629, 389.7060778490551, 102.54807044082808, 51.58530794367856, 225.95730281536905, 441.98199163486424, 621.8017648975157, 139.3929656685364, 117.74340069705426, 158.482175254577, 1148.3671488939458, 138.95321369410263, 123.83600615951102, 504.5488116455924, 182.36106081798064, 339.6872425344506, 438.37107584655996, 219.19908407880607, 243.41068974353462, 345.918162541139, 157.85432363700986, 686.7416638273094, 260.50168456749986, 207.72895475428606, 186.13275812010872, 252.84331442540872, 154.49226248162572, 104.20464576610678, 100.06347976422252, 96.00693491593489, 82.99770292447609, 82.54741895160646, 79.4416565690467, 74.37607227446382, 71.1182532309488, 64.00521412483991, 63.44935953743779, 58.30362585992042, 49.80099701969129, 48.94030532699697, 46.51872802127218, 58.95604697303104, 49.96158001818232, 42.60450077232877, 42.580927627379076, 38.48270714084727, 38.49875181905152, 36.859189905813174, 35.73243327348262, 35.024033154190484, 34.73173728782271, 31.292265805135248, 31.078481109761857, 30.698066804705146, 29.721939777822495, 188.42308159903138, 220.76421966476087, 193.1897103409068, 225.40588504691172, 559.477240702119, 154.06808915385244, 232.9930730310467, 686.7416638273094, 367.93102866571735, 112.07825185046447, 147.7669482083721, 504.5488116455924, 665.1381500077454, 637.6187434290944, 405.8944363874465, 532.2142184537281, 1148.3671488939458, 464.64086011906653, 343.49971993791087, 292.44404652533086, 166.90563384726505, 253.84188210356652, 136.99149686839246, 97.0771614567522, 89.33748029182976, 84.470062322088, 76.82907500425027, 71.06290021841684, 66.17042404139144, 62.075082260847076, 53.8272586179724, 46.57798623580519, 46.00715850119374, 45.763581037206364, 45.70434550251039, 36.65632055748124, 33.38034216047607, 31.34179463138106, 30.38206615341912, 30.43980793738979, 28.923275182908572, 28.8334216879532, 26.229272549120903, 25.15396279994499, 22.753937142638758, 21.88685191334218, 19.998974503872493, 19.624271048933842, 19.10967369199713, 18.837225903271424, 18.349436949156672, 98.87032715550606, 150.81062547204425, 98.6608615546197, 449.90468688683563, 105.46304668906181, 260.50168456749986, 441.98199163486424, 272.46701202677195, 1148.3671488939458, 532.2142184537281, 263.60447522026817, 91.96060364829955, 227.92497196411588, 1062.4149814513557, 111.00474394004287, 442.627401157941, 504.5488116455924, 407.84594359586833, 525.4031242898059, 126.23206641363473, 305.229673322707, 1292.9035931089004, 305.6947226064292, 143.61883009351183, 133.51905192327303, 86.35944010137231, 66.09742724846336, 56.768079411433455, 52.747260090105364, 48.61149040145269, 47.68454516763374, 45.786399037874276, 43.41775205499863, 39.3587224831266, 38.81288428423092, 31.802914507142564, 44.22496772351844, 30.428369466901614, 30.19206011477893, 30.100085638331663, 29.166807914195783, 19.518360862103364, 18.694561387507026, 16.320674195922464, 20.272904747483334, 12.872742410950693, 12.421616529317921, 10.606151523642373, 100.95492167144623, 1062.4149814513557, 5.840584087050985, 1292.9035931089004, 407.84594359586833, 247.5120613680555, 33.76379398548473, 67.60022802165807, 113.19111630360176, 179.37154466312055, 272.46701202677195, 406.18912727174336, 367.93102866571735, 665.1381500077454, 251.77642675362745, 442.627401157941, 209.6410952330754, 207.72895475428606, 368.98527810853943, 637.6187434290944, 145.11173368660974, 126.18986349410771, 118.71624917969157, 89.176600063005, 86.88989579878985, 75.75877827718097, 72.11712110090654, 66.92727015062971, 65.30520519624413, 157.17449320590453, 59.260176387299396, 54.21725656332178, 53.690729084042026, 52.026114957327074, 51.509374061961516, 51.28469466965765, 38.134909943067406, 37.58499838855347, 36.83305327788679, 32.205158180584455, 31.992888868608528, 32.53001964360191, 31.755448789249225, 29.324695255434317, 25.39852992790055, 25.15640034054205, 23.87126875595129, 23.417769334192915, 23.071903786243823, 22.378113789231296, 129.82451000145588, 169.11229129880164, 314.9764529288743, 116.18640345058787, 230.15240735617516, 163.71486927949204, 210.1715144771596, 339.6872425344506, 93.86502349726324, 514.0374443234189, 73.53588197909215, 143.42661486900434, 293.0810495196898, 120.56343385947716, 92.50808781399792, 242.42443681821865, 686.7416638273094, 665.1381500077454, 174.42097425836488, 113.4860439270835, 97.33359336749311, 82.42176413160938, 80.73090274447434, 77.34379072409283, 69.01459704456586, 59.82394779825093, 50.161846857438, 42.605882121450136, 34.31781366683288, 309.05322619190247, 24.212310690603715, 24.205143145811792, 19.636058102204835, 18.63412278082653, 18.500760070117536, 328.9681010857905, 513.7201530671214, 15.70661514819476, 305.6947226064292, 21.153122851737773, 170.01543115706724, 251.63400251659817, 115.80754278618451, 621.8017648975157, 109.25432663222179, 514.0374443234189, 242.42443681821865, 313.0353182782569, 436.49072164858075, 368.98527810853943, 665.1381500077454, 438.37107584655996, 129.34022991321294, 191.92867282327794, 150.81062547204425, 1148.3671488939458, 233.00648102951118, 106.35092500407826, 92.3228404520949, 69.61543445903163, 66.85022141943392, 65.40845089740547, 63.62884969915491, 57.369232469663665, 51.78790200535813, 49.570670492316744, 45.4216782961648, 34.48763666262423, 33.6347510593405, 31.01216297248374, 27.434741975200726, 26.47137814902827, 25.428990322629343, 24.65807443430151, 22.934110381482604, 22.223709254900683, 19.783385233113155, 19.139687516719835, 17.886636081924216, 17.403364880892756, 16.891239803451228, 15.547406238417897, 15.232534488427278, 13.746434698627974, 130.43538498112272, 11.754211846473313, 41.40178625442978, 210.83298168219707, 96.669415191973, 54.95641969240525, 251.63400251659817, 179.37154466312055, 225.8655727250016, 218.5311117996273, 242.42443681821865, 174.55685098348823, 113.19111630360176, 1292.9035931089004, 416.03778725014797, 210.1715144771596, 637.6187434290944, 120.56343385947716, 247.5120613680555, 406.18912727174336, 389.7060778490551, 124.42211227877215, 117.79090008571717, 110.51439184390505, 99.70420556699297, 69.33476156017686, 64.06132293808899, 60.32056090813498, 60.25426299371322, 57.0379765013564, 53.57309181655096, 53.00985122873104, 43.6178333603974, 42.297431836754555, 37.01527332191053, 33.071893507842425, 30.700217670751506, 30.572251614021628, 38.65549601197859, 28.456063978884426, 24.324124924155058, 24.29554564659936, 23.99631436381217, 23.43182868423894, 30.760527932070367, 20.141480131304203, 48.0076048576727, 19.149584181241863, 17.466248637479353, 17.251457028107566, 16.482932250717955, 111.5614815144967, 559.477240702119, 83.04783071113741, 94.8191635418466, 156.52762048942466, 288.42082365813485, 173.47120217065668, 77.48896664438017, 59.88236709035076, 300.71671389111725, 665.1381500077454, 88.73354486236363, 86.58796060451748, 72.11008109049868, 70.48983972097687, 65.83439439542502, 49.96477262400401, 46.442699666494796, 46.16016318179406, 37.992589446295824, 37.48217281402146, 37.41311452758266, 35.789163041546566, 35.63313794704986, 35.52963176638269, 29.160041029144843, 28.14106854415531, 27.511123260245885, 25.748370687699104, 25.729515088571812, 25.403377599450412, 92.07614314245734, 20.890617302924582, 43.55271698918096, 20.33884866739984, 20.314796673468862, 20.312863957556083, 18.715350224463652, 15.78078760978268, 11.677055976935462, 59.28924241945771, 90.47975321438234, 173.47120217065668, 114.96084974721249, 232.9930730310467, 193.1897103409068, 50.09130376171504, 115.07643139045588, 134.10506363524013, 188.01477838239828, 89.13378657009041, 126.23206641363473, 1148.3671488939458, 111.5614815144967, 303.2704068990259, 736.9353012700785, 94.1014839122887, 85.66296822427888, 24.613191575810543, 22.398687586884183, 25.761292916929484, 182.36106081798064, 73.17375124814151, 345.918162541139, 263.60447522026817, 166.73086301812666, 305.229673322707, 98.60183904458724, 54.95641969240525, 210.83298168219707, 172.74203136033805, 389.7060778490551, 149.1209144671989, 234.18867223184, 200.39029081984106, 1.2599915097301626, 1.25987945405626, 1.2599828514697051, 1.259906407648919, 1.2597692340824307, 1.259802830952816, 1.259848438471288, 1.2598708801602327, 1.2604020309135868, 343.49971993791087, 339.6872425344506, 438.37107584655996, 151.64184300062, 184.20305068722197, 464.64086011906653, 123.79203265614062, 525.4031242898059, 225.40588504691172, 1148.3671488939458, 122.09460319848397, 51.18205930169258, 50.73569480100528, 43.91738976375641, 43.62648841947093, 43.1876001853274, 49.99323073752609, 36.152430293764795, 32.25228285490527, 31.44837771794432, 29.50685577232417, 26.228226047718522, 21.755462870783, 20.33118379682919, 15.935823922869162, 15.176133163030615, 15.076336045998916, 14.499420739945725, 13.836632071610826, 12.5610392847228, 10.279810392582673, 9.666230971977921, 99.96427451351462, 151.64184300062, 59.387757015788644, 18.16280999984501, 234.18867223184, 102.1091313728313, 200.06021793648924, 40.22545113632501, 243.41068974353462, 209.6410952330754, 447.3399481759454, 170.01543115706724, 345.918162541139, 304.42738939616083, 665.1381500077454, 169.11229129880164, 134.4392447506456, 464.64086011906653, 97.71628695628249, 75.7318775114349, 70.92225073300172, 50.06693399122718, 39.65957454450336, 39.675703050563484, 37.63726300097447, 33.725367284703985, 31.759878813424177, 30.54158428925509, 30.200826403403315, 26.685746993740985, 26.294075317347396, 21.622807799000032, 21.588105148563503, 20.822303044807253, 19.324264461429376, 62.41199646849926, 14.774995429336688, 9.922372154859065, 7.8064032914412245, 23.238007939102413, 65.22297242040736, 196.90995056264163, 304.42738939616083, 98.45691841950722, 225.95730281536905, 188.01477838239828, 147.7669482083721, 40.11217116054908, 236.6333524299575, 637.6187434290944, 314.9764529288743, 174.55685098348823, 442.627401157941, 405.8944363874465, 118.97606449478452, 102.5656533839549, 78.89307528580031, 59.34585239478533, 47.42125785813248, 42.233638651430915, 32.854557291152325, 27.228882663822326, 21.911467451659295, 19.104066655858627, 35.79938499217076, 18.426480552671297, 11.079186082290295, 7.943218334703792, 55.174067477293406, 166.90563384726505, 25.454309948557764, 102.1091313728313, 111.2678263744095, 239.66527038533746, 61.941797895541214, 117.74340069705426, 300.71671389111725, 464.64086011906653, 305.229673322707, 41.40178625442978, 230.15240735617516, 1.260386854151522, 1.259948518245189, 1.2598599215812556, 559.477240702119, 147.7669482083721, 637.6187434290944, 227.92497196411588, 147.90117212829486, 67.21163094727639, 66.78370549184142, 62.37941687586478, 53.23625717498766, 55.921062674882634, 42.09821134543916, 41.59386019360102, 31.422986863446443, 26.150208874721724, 18.237091995324825, 29.110099104828535, 9.785485487987302, 96.73204784140451, 40.22545113632501, 155.33540025376286, 123.79203265614062, 59.387757015788644, 40.2019293883325, 50.09130376171504, 56.41208639890239, 147.7669482083721, 292.44404652533086, 1.2601053183826398, 1.2599231292514605, 1.259871815769418, 1.2598331690487332, 1.259896262425171, 1.2597801365620824, 1.2599055008629463, 73.84754560445846, 442.627401157941, 464.64086011906653, 188.42308159903138, 232.9930730310467, 193.1897103409068, 532.2142184537281, 116.24074768611378, 111.83238227581319, 115.76129517115719, 89.92841859450077, 52.1105144225112, 42.55054576832063, 36.96027421406332, 28.91365366936493, 28.32755458093014, 73.84754560445846, 21.06579392181662, 17.668486210277823, 17.221768537857795, 12.237818195597747, 11.596144289492228, 8.121136845074671, 5.660353659804261, 138.48014754879568, 22.741272481684213, 234.8979712705791, 23.238007939102413, 313.0353182782569, 174.55685098348823, 109.25432663222179, 1.260386854151522, 1.260109398580145, 1.259889589460832, 1.2598331690487332, 1.2598349499798058, 1.2599175501120348, 150.81062547204425, 406.18912727174336, 314.9764529288743, 559.477240702119, 219.19908407880607, 81.61045028775584, 65.65376922918753, 65.1556231790664, 49.76712611325539, 47.101970568406166, 42.5585860210432, 74.71295614292522, 36.63936234166298, 32.003222221372496, 31.210324866094744, 29.96056952700026, 27.483677952382266, 26.742236066379416, 23.01357728151062, 22.033265741923582, 18.74393416745261, 17.03796266107886, 13.408790854158504, 99.28639850071058, 55.584514449935966, 7.784843341236941, 46.18779482757214, 207.72895475428606, 158.482175254577, 219.19908407880607, 1.2597831637962282, 1.2598509610995128, 1.2597922416643939, 1.2598697488159756, 1.2598430224556727, 1.259815326261566, 77.93177265376485, 368.98527810853943, 436.49072164858075, 55.174067477293406, 313.0353182782569, 200.39029081984106, 430.60953315425104, 93.51126071882942, 74.68110702729419, 65.76572058219317, 12.083194356527056, 1.2599483834008298, 1.2599230130149222, 1.2598252104182313, 1.2599027083184233, 1.25978975010736, 1.2597973822445325, 1.2598712630111222, 1.2598940311013935, 1.2598035964506882, 1.2597796130132284, 1.2598457246688404, 1.259878911647902, 1.2598002529291352, 1.2597774992228234, 1.2599092104942473, 1.2598903272125166, 1.259810869633471, 1.2598105638326296, 1.259965746079757, 1.2597677163504282, 1.2598406477860236, 1.2598171805577787, 1.2598009496289007, 1.2598376142614758, 1.259752322206419, 62.41199646849926, 1.2601053183826398, 1.2598978078155727, 1.259861753435902, 157.17449320590453, 1.259923763813263, 1.2602708895360297, 1.260386854151522, 1.2600064941669844, 1.2604020309135868, 118.71624917969157, 188.01477838239828, 230.15240735617516, 314.9764529288743, 39.65957454450336, 73.84754560445846, 43.6178333603974, 14.774995429336688, 98.6608615546197, 138.55566463960454, 99.20804157046466, 54.3063108425038, 41.03237625591311, 442.627401157941, 209.6410952330754, 83.6672130968914, 183.1164813826317, 1.2598454750584545, 1.259872417985805, 1.260109398580145, 1.2598527878849173, 1.260386854151522, 1.2599079822614172, 1.2598016181739462, 1.2598798280808092, 1.2600891762161406, 1.2599175501120348, 1.2598128424024237, 1.259850297865073, 1.2598108185490606, 1.2597872996432864, 1.2598376142614758, 1.259799933383611, 1.2598037054174798, 1.2598355116200868, 1.2598039258982343, 1.2597666451601939, 1.2598749204417377, 1.2598783962920572, 1.2598477534867143, 1.2598932797645395, 117.74340069705426, 1.2599829844916877, 150.81062547204425, 114.96084974721249, 1.259948518245189, 532.2142184537281, 1.2599864018380227, 1.2602708895360297, 272.46701202677195, 525.4031242898059, 105.46304668906181, 313.0353182782569, 407.84594359586833, 314.9764529288743, 449.90468688683563, 233.00648102951118, 200.39029081984106, 621.8017648975157, 389.7060778490551, 251.63400251659817, 147.7669482083721, 441.98199163486424, 1148.3671488939458, 1.2597179928801956, 1.2597199461173612, 1.2597223488396305, 1.2597226265103454, 1.259722656675369, 1.2597232031743262, 1.2597239220155911, 1.259724115560137, 1.2597243834710476, 1.2597252767058749, 1.259725823973506, 1.2597262199526351, 1.2597268027947353, 1.2597268244716853, 1.259727040231809, 1.2597275172977178, 1.2597275508654693, 1.2597275854351973, 1.259727878311951, 1.2597282077383525, 1.2597286973509432, 1.2597294423429835, 1.259729464833604, 1.2597300662599686, 1.2597302613031827, 1.259730703134303, 1.2597308260549427, 1.2597309578804874, 1.2597317606459222, 1.2597318785886449, 621.8017648975157, 174.42097425836488, 113.4860439270835, 59.82394779825093, 21.153122851737773, 1062.4149814513557, 303.2704068990259, 69.01459704456586, 143.42661486900434, 88.73354486236363, 150.81062547204425, 51.509374061961516, 86.58796060451748, 121.13855722172298, 89.13378657009041, 1292.9035931089004, 131.2579768845112, 24.205143145811792, 514.0374443234189, 163.71486927949204, 313.0353182782569, 314.9764529288743, 1148.3671488939458, 118.71624917969157, 50.161846857438, 24.212310690603715, 247.5120613680555, 80.73090274447434, 513.7201530671214, 178.69735218244762], \"Category\": [\"Default\", \"Default\", \"Default\", \"Default\", \"Default\", \"Default\", \"Default\", \"Default\", \"Default\", \"Default\", \"Default\", \"Default\", \"Default\", \"Default\", \"Default\", \"Default\", \"Default\", \"Default\", \"Default\", \"Default\", \"Default\", \"Default\", \"Default\", \"Default\", \"Default\", \"Default\", \"Default\", \"Default\", \"Default\", \"Default\", \"Topic1\", \"Topic1\", \"Topic1\", \"Topic1\", \"Topic1\", \"Topic1\", \"Topic1\", \"Topic1\", \"Topic1\", \"Topic1\", \"Topic1\", \"Topic1\", \"Topic1\", \"Topic1\", \"Topic1\", \"Topic1\", \"Topic1\", \"Topic1\", \"Topic1\", \"Topic1\", \"Topic1\", \"Topic1\", \"Topic1\", \"Topic1\", \"Topic1\", \"Topic1\", \"Topic1\", \"Topic1\", \"Topic1\", \"Topic1\", \"Topic1\", \"Topic1\", \"Topic1\", \"Topic1\", \"Topic1\", \"Topic1\", \"Topic1\", \"Topic1\", \"Topic1\", \"Topic1\", \"Topic1\", \"Topic1\", \"Topic1\", \"Topic1\", \"Topic1\", \"Topic1\", \"Topic1\", \"Topic1\", \"Topic1\", \"Topic1\", \"Topic1\", \"Topic1\", \"Topic1\", \"Topic1\", \"Topic1\", \"Topic1\", \"Topic1\", \"Topic1\", \"Topic1\", \"Topic1\", \"Topic1\", \"Topic1\", \"Topic2\", \"Topic2\", \"Topic2\", \"Topic2\", \"Topic2\", \"Topic2\", \"Topic2\", \"Topic2\", \"Topic2\", \"Topic2\", \"Topic2\", \"Topic2\", \"Topic2\", \"Topic2\", \"Topic2\", \"Topic2\", \"Topic2\", \"Topic2\", \"Topic2\", \"Topic2\", \"Topic2\", \"Topic2\", \"Topic2\", \"Topic2\", \"Topic2\", \"Topic2\", \"Topic2\", \"Topic2\", \"Topic2\", \"Topic2\", \"Topic2\", \"Topic2\", \"Topic2\", \"Topic2\", \"Topic2\", \"Topic2\", \"Topic2\", \"Topic2\", \"Topic2\", \"Topic2\", \"Topic2\", \"Topic2\", \"Topic2\", \"Topic2\", \"Topic2\", \"Topic2\", \"Topic2\", \"Topic2\", \"Topic2\", \"Topic2\", \"Topic2\", \"Topic2\", \"Topic2\", \"Topic2\", \"Topic2\", \"Topic2\", \"Topic2\", \"Topic2\", \"Topic3\", \"Topic3\", \"Topic3\", \"Topic3\", \"Topic3\", \"Topic3\", \"Topic3\", \"Topic3\", \"Topic3\", \"Topic3\", \"Topic3\", \"Topic3\", \"Topic3\", \"Topic3\", \"Topic3\", \"Topic3\", \"Topic3\", \"Topic3\", \"Topic3\", \"Topic3\", \"Topic3\", \"Topic3\", \"Topic3\", \"Topic3\", \"Topic3\", \"Topic3\", \"Topic3\", \"Topic3\", \"Topic3\", \"Topic3\", \"Topic3\", \"Topic3\", \"Topic3\", \"Topic3\", \"Topic3\", \"Topic3\", \"Topic3\", \"Topic3\", \"Topic3\", \"Topic3\", \"Topic3\", \"Topic3\", \"Topic3\", \"Topic3\", \"Topic3\", \"Topic3\", \"Topic3\", \"Topic3\", \"Topic3\", \"Topic3\", \"Topic3\", \"Topic4\", \"Topic4\", \"Topic4\", \"Topic4\", \"Topic4\", \"Topic4\", \"Topic4\", \"Topic4\", \"Topic4\", \"Topic4\", \"Topic4\", \"Topic4\", \"Topic4\", \"Topic4\", \"Topic4\", \"Topic4\", \"Topic4\", \"Topic4\", \"Topic4\", \"Topic4\", \"Topic4\", \"Topic4\", \"Topic4\", \"Topic4\", \"Topic4\", \"Topic4\", \"Topic4\", \"Topic4\", \"Topic4\", \"Topic4\", \"Topic4\", \"Topic4\", \"Topic4\", \"Topic4\", \"Topic4\", \"Topic4\", \"Topic4\", \"Topic4\", \"Topic4\", \"Topic4\", \"Topic4\", \"Topic4\", \"Topic4\", \"Topic4\", \"Topic4\", \"Topic4\", \"Topic4\", \"Topic4\", \"Topic4\", \"Topic4\", \"Topic4\", \"Topic4\", \"Topic4\", \"Topic5\", \"Topic5\", \"Topic5\", \"Topic5\", \"Topic5\", \"Topic5\", \"Topic5\", \"Topic5\", \"Topic5\", \"Topic5\", \"Topic5\", \"Topic5\", \"Topic5\", \"Topic5\", \"Topic5\", \"Topic5\", \"Topic5\", \"Topic5\", \"Topic5\", \"Topic5\", \"Topic5\", \"Topic5\", \"Topic5\", \"Topic5\", \"Topic5\", \"Topic5\", \"Topic5\", \"Topic5\", \"Topic5\", \"Topic5\", \"Topic5\", \"Topic5\", \"Topic5\", \"Topic5\", \"Topic5\", \"Topic5\", \"Topic5\", \"Topic5\", \"Topic5\", \"Topic5\", \"Topic5\", \"Topic5\", \"Topic5\", \"Topic5\", \"Topic5\", \"Topic6\", \"Topic6\", \"Topic6\", \"Topic6\", \"Topic6\", \"Topic6\", \"Topic6\", \"Topic6\", \"Topic6\", \"Topic6\", \"Topic6\", \"Topic6\", \"Topic6\", \"Topic6\", \"Topic6\", \"Topic6\", \"Topic6\", \"Topic6\", \"Topic6\", \"Topic6\", \"Topic6\", \"Topic6\", \"Topic6\", \"Topic6\", \"Topic6\", \"Topic6\", \"Topic6\", \"Topic6\", \"Topic6\", \"Topic6\", \"Topic6\", \"Topic6\", \"Topic6\", \"Topic6\", \"Topic6\", \"Topic6\", \"Topic6\", \"Topic6\", \"Topic6\", \"Topic6\", \"Topic6\", \"Topic6\", \"Topic6\", \"Topic6\", \"Topic6\", \"Topic6\", \"Topic6\", \"Topic6\", \"Topic7\", \"Topic7\", \"Topic7\", \"Topic7\", \"Topic7\", \"Topic7\", \"Topic7\", \"Topic7\", \"Topic7\", \"Topic7\", \"Topic7\", \"Topic7\", \"Topic7\", \"Topic7\", \"Topic7\", \"Topic7\", \"Topic7\", \"Topic7\", \"Topic7\", \"Topic7\", \"Topic7\", \"Topic7\", \"Topic7\", \"Topic7\", \"Topic7\", \"Topic7\", \"Topic7\", \"Topic7\", \"Topic7\", \"Topic7\", \"Topic7\", \"Topic7\", \"Topic7\", \"Topic7\", \"Topic7\", \"Topic7\", \"Topic7\", \"Topic7\", \"Topic8\", \"Topic8\", \"Topic8\", \"Topic8\", \"Topic8\", \"Topic8\", \"Topic8\", \"Topic8\", \"Topic8\", \"Topic8\", \"Topic8\", \"Topic8\", \"Topic8\", \"Topic8\", \"Topic8\", \"Topic8\", \"Topic8\", \"Topic8\", \"Topic8\", \"Topic8\", \"Topic8\", \"Topic8\", \"Topic8\", \"Topic8\", \"Topic8\", \"Topic8\", \"Topic8\", \"Topic8\", \"Topic8\", \"Topic8\", \"Topic8\", \"Topic8\", \"Topic8\", \"Topic8\", \"Topic8\", \"Topic8\", \"Topic8\", \"Topic8\", \"Topic8\", \"Topic8\", \"Topic8\", \"Topic8\", \"Topic8\", \"Topic8\", \"Topic8\", \"Topic8\", \"Topic8\", \"Topic8\", \"Topic8\", \"Topic9\", \"Topic9\", \"Topic9\", \"Topic9\", \"Topic9\", \"Topic9\", \"Topic9\", \"Topic9\", \"Topic9\", \"Topic9\", \"Topic9\", \"Topic9\", \"Topic9\", \"Topic9\", \"Topic9\", \"Topic9\", \"Topic9\", \"Topic9\", \"Topic9\", \"Topic9\", \"Topic9\", \"Topic9\", \"Topic9\", \"Topic9\", \"Topic9\", \"Topic9\", \"Topic9\", \"Topic9\", \"Topic9\", \"Topic9\", \"Topic9\", \"Topic9\", \"Topic9\", \"Topic9\", \"Topic9\", \"Topic9\", \"Topic9\", \"Topic9\", \"Topic9\", \"Topic9\", \"Topic9\", \"Topic10\", \"Topic10\", \"Topic10\", \"Topic10\", \"Topic10\", \"Topic10\", \"Topic10\", \"Topic10\", \"Topic10\", \"Topic10\", \"Topic10\", \"Topic10\", \"Topic10\", \"Topic10\", \"Topic10\", \"Topic10\", \"Topic10\", \"Topic10\", \"Topic10\", \"Topic10\", \"Topic10\", \"Topic10\", \"Topic10\", \"Topic10\", \"Topic10\", \"Topic10\", \"Topic10\", \"Topic10\", \"Topic10\", \"Topic10\", \"Topic10\", \"Topic10\", \"Topic10\", \"Topic10\", \"Topic10\", \"Topic10\", \"Topic10\", \"Topic10\", \"Topic10\", \"Topic10\", \"Topic10\", \"Topic10\", \"Topic10\", \"Topic11\", \"Topic11\", \"Topic11\", \"Topic11\", \"Topic11\", \"Topic11\", \"Topic11\", \"Topic11\", \"Topic11\", \"Topic11\", \"Topic11\", \"Topic11\", \"Topic11\", \"Topic11\", \"Topic11\", \"Topic11\", \"Topic11\", \"Topic11\", \"Topic11\", \"Topic11\", \"Topic11\", \"Topic11\", \"Topic11\", \"Topic11\", \"Topic11\", \"Topic11\", \"Topic11\", \"Topic11\", \"Topic11\", \"Topic11\", \"Topic11\", \"Topic11\", \"Topic11\", \"Topic11\", \"Topic11\", \"Topic11\", \"Topic11\", \"Topic11\", \"Topic11\", \"Topic11\", \"Topic12\", \"Topic12\", \"Topic12\", \"Topic12\", \"Topic12\", \"Topic12\", \"Topic12\", \"Topic12\", \"Topic12\", \"Topic12\", \"Topic12\", \"Topic12\", \"Topic12\", \"Topic12\", \"Topic12\", \"Topic12\", \"Topic12\", \"Topic12\", \"Topic12\", \"Topic12\", \"Topic12\", \"Topic12\", \"Topic12\", \"Topic12\", \"Topic12\", \"Topic12\", \"Topic12\", \"Topic12\", \"Topic12\", \"Topic12\", \"Topic12\", \"Topic12\", \"Topic12\", \"Topic12\", \"Topic12\", \"Topic12\", \"Topic12\", \"Topic12\", \"Topic12\", \"Topic12\", \"Topic13\", \"Topic13\", \"Topic13\", \"Topic13\", \"Topic13\", \"Topic13\", \"Topic13\", \"Topic13\", \"Topic13\", \"Topic13\", \"Topic13\", \"Topic13\", \"Topic13\", \"Topic13\", \"Topic13\", \"Topic13\", \"Topic13\", \"Topic13\", \"Topic13\", \"Topic13\", \"Topic13\", \"Topic13\", \"Topic13\", \"Topic13\", \"Topic13\", \"Topic13\", \"Topic13\", \"Topic13\", \"Topic13\", \"Topic13\", \"Topic13\", \"Topic13\", \"Topic13\", \"Topic13\", \"Topic13\", \"Topic13\", \"Topic14\", \"Topic14\", \"Topic14\", \"Topic14\", \"Topic14\", \"Topic14\", \"Topic14\", \"Topic14\", \"Topic14\", \"Topic14\", \"Topic14\", \"Topic14\", \"Topic14\", \"Topic14\", \"Topic14\", \"Topic14\", \"Topic14\", \"Topic14\", \"Topic14\", \"Topic14\", \"Topic14\", \"Topic14\", \"Topic14\", \"Topic14\", \"Topic14\", \"Topic14\", \"Topic14\", \"Topic14\", \"Topic14\", \"Topic14\", \"Topic14\", \"Topic14\", \"Topic14\", \"Topic14\", \"Topic15\", \"Topic15\", \"Topic15\", \"Topic15\", \"Topic15\", \"Topic15\", \"Topic15\", \"Topic15\", \"Topic15\", \"Topic15\", \"Topic15\", \"Topic15\", \"Topic15\", \"Topic15\", \"Topic15\", \"Topic15\", \"Topic15\", \"Topic15\", \"Topic15\", \"Topic15\", \"Topic15\", \"Topic15\", \"Topic15\", \"Topic15\", \"Topic15\", \"Topic15\", \"Topic15\", \"Topic15\", \"Topic15\", \"Topic15\", \"Topic15\", \"Topic15\", \"Topic15\", \"Topic15\", \"Topic15\", \"Topic15\", \"Topic15\", \"Topic16\", \"Topic16\", \"Topic16\", \"Topic16\", \"Topic16\", \"Topic16\", \"Topic16\", \"Topic16\", \"Topic16\", \"Topic16\", \"Topic16\", \"Topic16\", \"Topic16\", \"Topic16\", \"Topic16\", \"Topic16\", \"Topic16\", \"Topic16\", \"Topic16\", \"Topic16\", \"Topic16\", \"Topic16\", \"Topic16\", \"Topic16\", \"Topic16\", \"Topic16\", \"Topic16\", \"Topic16\", \"Topic16\", \"Topic16\", \"Topic16\", \"Topic16\", \"Topic16\", \"Topic16\", \"Topic16\", \"Topic16\", \"Topic17\", \"Topic17\", \"Topic17\", \"Topic17\", \"Topic17\", \"Topic17\", \"Topic17\", \"Topic17\", \"Topic17\", \"Topic17\", \"Topic17\", \"Topic17\", \"Topic17\", \"Topic17\", \"Topic17\", \"Topic17\", \"Topic17\", \"Topic17\", \"Topic17\", \"Topic17\", \"Topic17\", \"Topic17\", \"Topic17\", \"Topic17\", \"Topic17\", \"Topic17\", \"Topic17\", \"Topic17\", \"Topic17\", \"Topic17\", \"Topic17\", \"Topic17\", \"Topic17\", \"Topic17\", \"Topic17\", \"Topic17\", \"Topic18\", \"Topic18\", \"Topic18\", \"Topic18\", \"Topic18\", \"Topic18\", \"Topic18\", \"Topic18\", \"Topic18\", \"Topic18\", \"Topic18\", \"Topic18\", \"Topic18\", \"Topic18\", \"Topic18\", \"Topic18\", \"Topic18\", \"Topic18\", \"Topic18\", \"Topic18\", \"Topic18\", \"Topic18\", \"Topic18\", \"Topic18\", \"Topic18\", \"Topic18\", \"Topic18\", \"Topic18\", \"Topic18\", \"Topic18\", \"Topic18\", \"Topic18\", \"Topic18\", \"Topic18\", \"Topic18\", \"Topic18\", \"Topic18\", \"Topic18\", \"Topic18\", \"Topic18\", \"Topic18\", \"Topic18\", \"Topic18\", \"Topic18\", \"Topic18\", \"Topic18\", \"Topic18\", \"Topic18\", \"Topic18\", \"Topic19\", \"Topic19\", \"Topic19\", \"Topic19\", \"Topic19\", \"Topic19\", \"Topic19\", \"Topic19\", \"Topic19\", \"Topic19\", \"Topic19\", \"Topic19\", \"Topic19\", \"Topic19\", \"Topic19\", \"Topic19\", \"Topic19\", \"Topic19\", \"Topic19\", \"Topic19\", \"Topic19\", \"Topic19\", \"Topic19\", \"Topic19\", \"Topic19\", \"Topic19\", \"Topic19\", \"Topic19\", \"Topic19\", \"Topic19\", \"Topic19\", \"Topic19\", \"Topic19\", \"Topic19\", \"Topic19\", \"Topic19\", \"Topic19\", \"Topic19\", \"Topic19\", \"Topic19\", \"Topic19\", \"Topic19\", \"Topic19\", \"Topic19\", \"Topic19\", \"Topic19\", \"Topic19\", \"Topic19\", \"Topic19\", \"Topic19\", \"Topic19\", \"Topic19\", \"Topic19\", \"Topic19\", \"Topic19\", \"Topic20\", \"Topic20\", \"Topic20\", \"Topic20\", \"Topic20\", \"Topic20\", \"Topic20\", \"Topic20\", \"Topic20\", \"Topic20\", \"Topic20\", \"Topic20\", \"Topic20\", \"Topic20\", \"Topic20\", \"Topic20\", \"Topic20\", \"Topic20\", \"Topic20\", \"Topic20\", \"Topic20\", \"Topic20\", \"Topic20\", \"Topic20\", \"Topic20\", \"Topic20\", \"Topic20\", \"Topic20\", \"Topic20\", \"Topic20\", \"Topic20\", \"Topic20\", \"Topic20\", \"Topic20\", \"Topic20\", \"Topic20\", \"Topic20\", \"Topic20\", \"Topic20\", \"Topic20\", \"Topic20\", \"Topic20\", \"Topic20\", \"Topic20\", \"Topic20\", \"Topic20\", \"Topic20\", \"Topic20\", \"Topic20\", \"Topic20\", \"Topic20\", \"Topic20\", \"Topic20\", \"Topic20\", \"Topic20\", \"Topic20\", \"Topic20\", \"Topic20\", \"Topic20\", \"Topic20\"], \"logprob\": [30.0, 29.0, 28.0, 27.0, 26.0, 25.0, 24.0, 23.0, 22.0, 21.0, 20.0, 19.0, 18.0, 17.0, 16.0, 15.0, 14.0, 13.0, 12.0, 11.0, 10.0, 9.0, 8.0, 7.0, 6.0, 5.0, 4.0, 3.0, 2.0, 1.0, -4.5579, -4.5884, -4.8635, -4.8791, -4.9083, -5.0893, -5.1119, -5.2106, -5.2202, -5.1453, -5.3602, -5.3668, -5.3781, -5.4406, -5.4939, -5.5305, -5.562, -5.5697, -5.5726, -5.685, -5.6969, -5.7054, -5.7206, -5.7216, -5.7244, -5.8001, -5.839, -5.8651, -5.869, -4.3178, -4.0732, -4.5525, -4.4785, -4.8984, -4.7205, -3.8116, -3.8614, -4.4811, -4.9806, -4.8528, -4.8468, -4.4072, -4.9409, -4.3743, -4.5053, -4.5788, -4.7282, -4.5718, -4.3192, -4.2551, -4.404, -4.2745, -4.1505, -4.3945, -4.5049, -4.357, -4.4343, -4.6715, -4.5393, -4.7999, -4.7317, -4.8078, -3.5325, -3.5767, -3.8562, -4.1569, -4.5451, -4.4692, -4.5788, -4.8355, -4.8643, -4.965, -5.0041, -5.2519, -5.3051, -5.363, -5.4957, -5.537, -5.6597, -5.8518, -5.2419, -5.9025, -5.9823, -6.0694, -6.0863, -6.2314, -4.5346, -4.896, -6.389, -6.3892, -6.4406, -6.4872, -4.2503, -2.9533, -3.2376, -5.5459, -3.3789, -4.6921, -5.2887, -4.0334, -3.4993, -3.2549, -4.4923, -4.6326, -4.421, -3.0254, -4.5493, -4.6598, -3.8451, -4.4521, -4.1045, -4.0675, -4.4828, -4.4479, -4.3901, -4.6181, -4.3141, -4.524, -4.566, -4.5965, -3.2229, -3.7196, -4.1165, -4.1571, -4.199, -4.3466, -4.3521, -4.3911, -4.458, -4.5035, -4.6108, -4.6206, -4.706, -4.8672, -4.8851, -4.9372, -4.7013, -4.8679, -5.0275, -5.0281, -5.1323, -5.1325, -5.1769, -5.209, -5.2297, -5.2384, -5.3466, -5.3537, -5.3666, -5.4002, -3.597, -3.6246, -4.0296, -3.9816, -3.4872, -4.3468, -4.1133, -3.5515, -3.9283, -4.5896, -4.4554, -3.8701, -3.7471, -3.8643, -4.0802, -4.0045, -3.938, -4.2501, -4.3358, -4.4736, -4.5799, -3.0941, -3.715, -4.063, -4.1472, -4.204, -4.3003, -4.3796, -4.4522, -4.5173, -4.6629, -4.8111, -4.8237, -4.8292, -4.8307, -5.0578, -5.1548, -5.2202, -5.2526, -5.2515, -5.3039, -5.3071, -5.4061, -5.45, -5.5556, -5.5968, -5.6923, -5.7125, -5.7408, -5.7561, -5.7842, -4.1461, -3.8862, -4.2981, -3.0139, -4.3327, -3.8468, -3.4898, -3.8662, -2.9502, -3.4642, -3.9776, -4.62, -4.1963, -3.4152, -4.5896, -3.9989, -4.052, -4.1883, -4.2053, -4.5704, -4.5342, -4.5064, -4.5843, -3.5592, -3.6327, -4.0736, -4.3451, -4.5003, -4.5754, -4.6591, -4.6788, -4.7205, -4.775, -4.8761, -4.8905, -5.0967, -4.7686, -5.1427, -5.1508, -5.154, -5.1868, -5.6099, -5.6559, -5.8017, -5.601, -6.0604, -6.0998, -6.2762, -4.0562, -1.7647, -6.9823, -1.5866, -2.7432, -3.2803, -5.2505, -4.6887, -4.3708, -4.1559, -3.9135, -3.7357, -4.0408, -3.9776, -4.4438, -4.2853, -4.5646, -4.5831, -4.4721, -4.3796, -3.4731, -3.614, -3.6772, -3.9651, -3.9914, -4.1306, -4.1806, -4.2566, -4.2816, -3.4035, -4.3806, -4.4715, -4.4815, -4.5137, -4.5239, -4.5284, -4.8329, -4.8478, -4.8687, -5.0078, -5.0147, -4.9981, -5.0224, -5.1053, -5.2556, -5.2656, -5.3207, -5.3409, -5.3566, -5.3888, -3.7266, -3.4848, -2.9536, -3.8919, -3.2907, -3.6548, -3.4501, -3.2096, -4.2744, -3.1203, -4.4588, -4.0273, -3.5796, -4.1485, -4.3132, -4.1338, -3.9792, -4.286, -3.1779, -3.6114, -3.7667, -3.9353, -3.9563, -3.9999, -4.1157, -4.2613, -4.4414, -4.6091, -4.8324, -2.6419, -5.1965, -5.1968, -5.4184, -5.4741, -5.4818, -2.6054, -2.235, -5.7977, -2.8393, -5.6425, -3.6587, -3.4723, -4.286, -2.7613, -4.5642, -3.0216, -3.9086, -4.0078, -3.6978, -3.8744, -4.0686, -4.3712, -4.9132, -4.8896, -4.9387, -4.7261, -2.8665, -3.657, -3.8002, -4.0871, -4.1281, -4.1503, -4.1786, -4.284, -4.3887, -4.4335, -4.5232, -4.8076, -4.8333, -4.9175, -5.0453, -5.0828, -5.1251, -5.1572, -5.2336, -5.2668, -5.3902, -5.4254, -5.4979, -5.5272, -5.5594, -5.6489, -5.6712, -5.7833, -3.5367, -5.956, -4.7188, -3.2319, -4.049, -4.5562, -3.5131, -3.8194, -3.7201, -3.8336, -3.9015, -4.1178, -4.4257, -3.3272, -3.8641, -4.2008, -3.7797, -4.4797, -4.3316, -4.3897, -4.5286, -3.0958, -3.1511, -3.2155, -3.3196, -3.6882, -3.7693, -3.8301, -3.8312, -3.8876, -3.9513, -3.9621, -4.162, -4.1937, -4.3312, -4.4478, -4.5251, -4.5295, -4.2977, -4.6042, -4.7686, -4.7698, -4.7828, -4.8079, -4.5362, -4.968, -4.1018, -5.0218, -5.1202, -5.1335, -5.1825, -3.5211, -2.135, -3.926, -3.9978, -3.7447, -3.4396, -3.8524, -4.2906, -4.4402, -4.169, -4.0353, -3.3128, -3.3377, -3.5236, -3.5466, -3.6161, -3.8978, -3.9728, -3.9791, -4.1795, -4.1935, -4.1954, -4.2413, -4.2458, -4.2519, -4.454, -4.4911, -4.5148, -4.5841, -4.5849, -4.5983, -3.3121, -4.8046, -4.0699, -4.8331, -4.8343, -4.8344, -4.9216, -5.105, -5.4354, -3.8365, -3.5281, -3.0442, -3.5589, -3.0733, -3.5041, -4.3483, -3.9403, -3.9394, -4.0157, -4.2842, -4.2199, -3.915, -4.3874, -1.9055, -1.0184, -3.0846, -3.1798, -4.463, -4.5623, -4.7601, -3.3602, -4.2968, -2.7512, -3.114, -3.8106, -3.3294, -4.5144, -5.2157, -3.9942, -4.1993, -3.9156, -4.894, -4.6922, -4.9058, -10.4591, -10.4595, -10.4594, -10.4595, -10.4597, -10.4597, -10.4597, -10.4597, -10.4592, -4.9701, -5.0609, -4.8506, -6.4413, -6.8834, -6.6445, -7.5798, -8.4425, -9.5366, -9.4698, -2.725, -3.6082, -3.6172, -3.7652, -3.7721, -3.7825, -3.6373, -3.9658, -4.0841, -4.1104, -4.1767, -4.2998, -4.4966, -4.5684, -4.8294, -4.8823, -4.8895, -4.932, -4.9831, -5.0894, -5.3135, -5.3834, -3.2013, -2.8774, -3.8865, -5.1803, -2.6584, -3.6482, -3.037, -4.8767, -3.4803, -3.686, -3.268, -3.9237, -3.6126, -3.846, -4.0661, -4.4109, -4.5986, -4.6383, -2.8843, -3.1428, -3.2095, -3.5649, -3.8043, -3.8045, -3.8584, -3.9719, -4.0342, -4.075, -4.0866, -4.2158, -4.2312, -4.4372, -4.4389, -4.4772, -4.5565, -3.3931, -4.8455, -5.2876, -5.5653, -4.5428, -3.9281, -2.919, -2.6223, -3.8866, -3.1211, -3.4074, -3.6615, -5.0518, -3.4232, -3.1166, -3.8973, -4.1402, -3.8861, -4.0889, -2.4391, -2.5887, -2.8547, -3.1446, -3.3741, -3.4932, -3.7528, -3.9485, -4.1771, -4.3228, -3.6951, -4.3614, -4.9177, -5.3, -3.7681, -2.7938, -4.6809, -3.353, -3.3001, -2.5753, -3.9424, -3.7363, -2.9883, -2.7369, -3.2692, -5.8493, -4.3343, -10.1586, -10.159, -10.1592, -4.2286, -5.5936, -4.2058, -5.409, -2.0297, -2.8231, -2.8297, -2.8992, -3.061, -3.0122, -3.3018, -3.3143, -3.6044, -3.7976, -4.1774, -3.7338, -4.8625, -2.5734, -3.7928, -2.5163, -3.1007, -3.997, -4.5436, -4.395, -4.6348, -3.8386, -3.5926, -9.7591, -9.7593, -9.7593, -9.7594, -9.7594, -9.7595, -9.7594, -6.2703, -4.7858, -5.0603, -6.1505, -6.1828, -6.4109, -5.952, -2.2439, -2.283, -2.2487, -2.5089, -3.0592, -3.2672, -3.4125, -3.6675, -3.6888, -2.7321, -4.0004, -4.1881, -4.2156, -4.5884, -4.6483, -5.0554, -5.4952, -2.6826, -4.7218, -2.7984, -5.6762, -3.3702, -4.023, -4.6554, -9.9072, -9.908, -9.9083, -9.9084, -9.9084, -9.9084, -5.576, -4.8667, -5.5528, -5.155, -6.281, -7.822, -2.7472, -2.755, -3.0301, -3.0865, -3.1906, -2.6321, -3.345, -3.4851, -3.5111, -3.554, -3.6437, -3.6722, -3.8298, -3.8757, -4.0476, -4.1498, -4.4092, -2.4297, -3.0285, -5.0247, -4.6063, -3.2389, -4.0631, -3.8988, -9.3601, -9.3601, -9.3602, -9.3602, -9.3602, -9.3602, -5.2897, -3.87, -3.7722, -6.5701, -5.3263, -6.8226, -0.5865, -2.1166, -2.3447, -2.474, -4.2537, -9.3022, -9.3023, -9.3025, -9.3025, -9.3026, -9.3027, -9.3026, -9.3026, -9.3027, -9.3027, -9.3027, -9.3026, -9.3027, -9.3027, -9.3026, -9.3026, -9.3027, -9.3027, -9.3026, -9.3028, -9.3027, -9.3028, -9.3028, -9.3028, -9.3028, -5.4607, -9.3026, -9.3027, -9.3028, -6.1726, -9.3027, -9.3026, -9.3026, -9.3027, -9.3027, -9.2538, -9.2559, -9.2811, -9.2945, -9.2977, -9.3001, -9.3009, -9.3013, -9.3019, -1.4235, -1.761, -2.3737, -2.6613, -1.6288, -3.0861, -4.4077, -3.9961, -9.1512, -9.1512, -9.1515, -9.1517, -9.1513, -9.1518, -9.1519, -9.1518, -9.1517, -9.1518, -9.1519, -9.1519, -9.1519, -9.1519, -9.1519, -9.1519, -9.1519, -9.1519, -9.152, -9.152, -9.1519, -9.1519, -9.1519, -9.1519, -5.3028, -9.1518, -6.2284, -6.4669, -9.1519, -6.9697, -9.1519, -9.1518, -8.3509, -8.5344, -8.7355, -8.7698, -8.825, -9.1066, -9.107, -9.1256, -9.1353, -9.1447, -9.1495, -9.1502, -9.1504, -9.151, -9.1511, -7.2093, -7.2093, -7.2093, -7.2093, -7.2093, -7.2093, -7.2093, -7.2093, -7.2093, -7.2093, -7.2093, -7.2093, -7.2093, -7.2093, -7.2093, -7.2093, -7.2093, -7.2093, -7.2093, -7.2093, -7.2093, -7.2093, -7.2093, -7.2093, -7.2093, -7.2093, -7.2093, -7.2093, -7.2093, -7.2093, -7.2093, -7.2093, -7.2093, -7.2093, -7.2093, -7.2093, -7.2093, -7.2093, -7.2093, -7.2093, -7.2093, -7.2093, -7.2093, -7.2093, -7.2093, -7.2093, -7.2093, -7.2093, -7.2093, -7.2093, -7.2093, -7.2093, -7.2093, -7.2093, -7.2093, -7.2093, -7.2093, -7.2093, -7.2093, -7.2093], \"loglift\": [30.0, 29.0, 28.0, 27.0, 26.0, 25.0, 24.0, 23.0, 22.0, 21.0, 20.0, 19.0, 18.0, 17.0, 16.0, 15.0, 14.0, 13.0, 12.0, 11.0, 10.0, 9.0, 8.0, 7.0, 6.0, 5.0, 4.0, 3.0, 2.0, 1.0, 1.4872, 1.4871, 1.4848, 1.4846, 1.4843, 1.4823, 1.482, 1.4808, 1.4806, 1.4793, 1.4786, 1.4785, 1.4783, 1.4772, 1.4763, 1.4756, 1.475, 1.4749, 1.4748, 1.4725, 1.4722, 1.4721, 1.4717, 1.4717, 1.4716, 1.4699, 1.4689, 1.4682, 1.4681, 1.4673, 1.4522, 1.4285, 1.4079, 1.4013, 1.3817, 1.2517, 1.2145, 1.3018, 1.3597, 1.3324, 1.3151, 1.1965, 1.3246, 1.128, 1.1411, 1.1213, 1.1813, 1.0663, 0.9137, 0.8285, 0.9235, 0.7509, 0.4842, 0.6934, 0.6557, 0.3519, 0.2324, 0.5844, -0.4187, 1.0054, 0.5271, 0.6784, 2.1268, 2.1266, 2.1249, 2.1226, 2.1183, 2.1182, 2.1178, 2.1138, 2.1133, 2.1114, 2.1106, 2.1047, 2.1029, 2.1009, 2.0974, 2.096, 2.0914, 2.0831, 2.0821, 2.0806, 2.0765, 2.0716, 2.0707, 2.0614, 2.0565, 2.0565, 2.0499, 2.0499, 2.0458, 2.0419, 2.0392, 1.9492, 1.8982, 1.9938, 1.8224, 1.8442, 1.9348, 1.7129, 1.5761, 1.4792, 1.737, 1.7656, 1.68, 1.0952, 1.6832, 1.6879, 1.0979, 1.5086, 1.2342, 1.0161, 1.2939, 1.224, 0.9304, 1.4868, 0.3206, 1.0801, 1.2644, 1.3437, 2.411, 2.4069, 2.4038, 2.4037, 2.4032, 2.4012, 2.4012, 2.4006, 2.3995, 2.3988, 2.3969, 2.3959, 2.395, 2.3914, 2.391, 2.3896, 2.3886, 2.3875, 2.3872, 2.3872, 2.3841, 2.3835, 2.3827, 2.3816, 2.3809, 2.3806, 2.3767, 2.3764, 2.3759, 2.3746, 2.3309, 2.145, 1.8733, 1.7672, 1.3525, 1.7824, 1.6024, 1.0832, 1.3305, 1.8579, 1.7157, 1.0729, 0.9196, 0.8446, 1.0804, 0.8851, 0.1826, 0.7753, 0.9916, 1.0148, 1.4693, 2.5358, 2.5318, 2.5281, 2.527, 2.5263, 2.5248, 2.5235, 2.5223, 2.521, 2.518, 2.5145, 2.5141, 2.514, 2.5137, 2.5073, 2.5039, 2.5015, 2.5002, 2.4994, 2.4982, 2.498, 2.4937, 2.4917, 2.4864, 2.484, 2.4786, 2.4774, 2.4757, 2.4747, 2.4729, 2.4268, 2.2644, 2.2769, 2.0437, 2.1756, 1.7573, 1.5856, 1.6929, 1.1704, 1.4254, 1.6146, 2.0253, 1.5414, 0.7832, 1.8675, 1.075, 0.891, 0.9675, 0.6972, 1.7581, 0.9114, -0.5043, 0.8597, 2.6403, 2.6397, 2.6346, 2.6304, 2.6274, 2.6258, 2.6238, 2.6233, 2.6222, 2.6208, 2.6178, 2.6174, 2.6104, 2.6088, 2.6086, 2.6083, 2.6081, 2.6068, 2.5855, 2.5826, 2.5726, 2.5564, 2.5512, 2.5474, 2.529, 2.4958, 2.4337, 2.4195, 2.4155, 2.4126, 2.375, 2.3967, 2.2644, 2.0668, 1.8213, 1.6456, 1.4241, 1.218, 0.6891, 1.1943, 0.7886, 1.2566, 1.2473, 0.7838, 0.3293, 2.7161, 2.7149, 2.7128, 2.7109, 2.7106, 2.7085, 2.7077, 2.7064, 2.706, 2.7058, 2.7041, 2.7022, 2.702, 2.7012, 2.701, 2.7009, 2.6927, 2.6922, 2.6915, 2.6867, 2.6865, 2.6864, 2.6862, 2.683, 2.6764, 2.6759, 2.6733, 2.6723, 2.6715, 2.6698, 2.5739, 2.5513, 2.4606, 2.5195, 2.4373, 2.4137, 2.3687, 2.129, 2.3504, 1.8041, 2.4101, 2.1736, 1.9067, 2.226, 2.3261, 1.5422, 0.6555, 0.3807, 2.8273, 2.8236, 2.8218, 2.8195, 2.8192, 2.8185, 2.8166, 2.8139, 2.81, 2.8056, 2.7986, 2.7912, 2.7833, 2.7833, 2.7709, 2.7676, 2.7671, 2.7653, 2.69, 2.6148, 2.6047, 2.4723, 2.372, 2.1664, 2.1288, 1.9728, 1.9088, 1.9027, 1.7674, 1.4126, 1.3901, 1.3815, 0.598, 0.7124, 1.391, 1.02, 1.2119, -0.6055, 2.8491, 2.8429, 2.8412, 2.8366, 2.8362, 2.8358, 2.835, 2.8331, 2.8308, 2.8298, 2.8275, 2.8185, 2.8179, 2.8148, 2.8095, 2.8078, 2.8057, 2.8043, 2.8005, 2.7987, 2.7916, 2.7895, 2.7848, 2.7828, 2.7805, 2.7739, 2.772, 2.7626, 2.7591, 2.7465, 2.7245, 2.5837, 2.5463, 2.604, 2.1256, 2.1578, 2.0266, 1.9462, 1.7744, 1.8866, 2.0119, 0.6748, 1.2717, 1.618, 0.9292, 1.8948, 1.3236, 0.7702, 0.6727, 3.2472, 3.2467, 3.246, 3.2448, 3.2395, 3.2375, 3.2369, 3.2369, 3.2354, 3.2344, 3.2341, 3.2292, 3.2283, 3.2241, 3.2202, 3.2173, 3.2171, 3.2142, 3.2141, 3.2066, 3.2066, 3.2059, 3.2047, 3.2042, 3.1959, 3.1935, 3.1926, 3.1862, 3.1853, 3.1818, 2.931, 2.7046, 2.8212, 2.6169, 2.3687, 2.0626, 2.1583, 2.526, 2.6341, 1.2915, 0.6314, 3.3682, 3.3679, 3.3649, 3.3646, 3.3634, 3.3575, 3.3557, 3.3554, 3.3498, 3.3493, 3.3493, 3.3478, 3.3476, 3.3444, 3.3399, 3.3383, 3.3373, 3.3342, 3.3341, 3.3335, 3.332, 3.3228, 3.3228, 3.3211, 3.3211, 3.3211, 3.3157, 3.3029, 3.2737, 3.2478, 3.1334, 2.9664, 2.8632, 2.6424, 2.3989, 2.9046, 2.4807, 2.3287, 1.9145, 2.3923, 2.1086, 0.2056, 2.0647, 3.5466, 3.5458, 3.5377, 3.5364, 3.5004, 3.4954, 3.1577, 2.6005, 2.577, 2.5693, 2.4782, 2.2397, 2.1162, 2.0612, 1.9444, 1.8214, 1.8156, 1.2857, 1.2679, 1.0183, 0.9606, 0.4765, 0.4762, 0.4761, 0.4761, 0.4761, 0.476, 0.476, 0.476, 0.476, 0.3574, 0.2778, 0.233, -0.2962, -0.9327, -1.6191, -1.2318, -3.54, -3.7878, -5.3493, 3.6369, 3.6231, 3.6229, 3.6191, 3.6189, 3.6186, 3.6175, 3.6131, 3.6089, 3.6079, 3.6053, 3.6, 3.5902, 3.5861, 3.5687, 3.5646, 3.564, 3.5606, 3.5562, 3.5466, 3.523, 3.5146, 3.3605, 3.2678, 3.1961, 3.087, 3.0521, 2.8924, 2.831, 2.5955, 2.1916, 2.1353, 1.7953, 2.1071, 1.7078, 1.6023, 0.6006, 1.6252, 1.667, 0.3871, 3.7003, 3.6967, 3.6956, 3.6884, 3.682, 3.6814, 3.6803, 3.6765, 3.6742, 3.6726, 3.6722, 3.6668, 3.6661, 3.6557, 3.6556, 3.6535, 3.6488, 3.6398, 3.6282, 3.5843, 3.5464, 3.4781, 3.0608, 2.965, 2.8259, 2.6905, 2.6252, 2.5227, 2.5096, 2.4232, 2.2769, 1.5923, 1.5169, 1.8642, 1.1878, 1.0717, 3.9486, 3.9474, 3.9438, 3.9387, 3.9335, 3.9303, 3.9218, 3.9139, 3.9026, 3.894, 3.8936, 3.8915, 3.8439, 3.7944, 3.3881, 3.2555, 3.2489, 3.1876, 3.1546, 3.1121, 3.0981, 2.6619, 2.4722, 2.2885, 2.1764, 1.5941, 1.3936, 0.7767, 0.7766, 0.7764, 0.6111, 0.5775, 0.5031, 0.3286, 4.1404, 4.1357, 4.1355, 4.1343, 4.1309, 4.1306, 4.1248, 4.1245, 4.1147, 4.1052, 4.0858, 4.0618, 4.0233, 4.0214, 3.6794, 3.6048, 3.2473, 3.0856, 2.9291, 2.8579, 2.4992, 2.3324, 1.8958, 1.1763, 1.1763, 1.1763, 1.1763, 1.1763, 1.1763, 1.1762, 0.5943, 0.2881, -0.0349, -0.2226, -0.4671, -0.5079, -1.0624, 4.1671, 4.1667, 4.1664, 4.1587, 4.1541, 4.1488, 4.1443, 4.1349, 4.134, 4.1326, 4.1186, 4.1068, 4.1049, 4.0738, 4.0677, 4.0168, 3.938, 3.5533, 3.3207, 2.9091, 2.3447, 2.0501, 1.9815, 1.8176, 1.028, 1.0274, 1.0274, 1.0273, 1.0273, 1.0273, 0.5746, 0.2932, -0.1387, -0.3153, -0.5043, -1.0573, 4.235, 4.2349, 4.2292, 4.2279, 4.2251, 4.2209, 4.2205, 4.2157, 4.2148, 4.2128, 4.2094, 4.2082, 4.2008, 4.1984, 4.1882, 4.1814, 4.1615, 4.1389, 4.1203, 4.0898, 2.7276, 2.5915, 2.038, 1.8779, 1.5756, 1.5756, 1.5755, 1.5755, 1.5755, 1.5755, 1.5211, 1.3859, 1.3157, 0.5861, 0.0941, -0.9562, 4.515, 4.5119, 4.5087, 4.5065, 4.4211, 1.6334, 1.6333, 1.6332, 1.6331, 1.6331, 1.6331, 1.6331, 1.633, 1.633, 1.633, 1.633, 1.633, 1.633, 1.633, 1.633, 1.633, 1.633, 1.633, 1.633, 1.633, 1.6329, 1.6329, 1.6329, 1.6329, 1.6329, 1.5722, 1.6329, 1.6329, 1.6329, -0.0633, 1.6329, 1.6327, 1.6326, 1.6328, 1.6325, -2.8638, -3.3258, -3.5531, -3.8803, -1.8113, -2.4355, -1.9097, -0.8275, -2.7269, 4.8119, 4.8085, 4.7983, 4.791, 3.4451, 2.7351, 2.3322, 1.9605, 1.7845, 1.7844, 1.784, 1.7839, 1.7839, 1.7839, 1.7838, 1.7838, 1.7838, 1.7838, 1.7838, 1.7838, 1.7838, 1.7838, 1.7838, 1.7838, 1.7838, 1.7838, 1.7838, 1.7838, 1.7838, 1.7838, 1.7838, 1.7837, 1.0954, 1.7837, -0.0777, -0.0448, 1.7837, -2.0801, 1.7837, 1.7835, -2.7917, -3.6319, -2.2272, -3.3494, -3.6692, -3.6925, -4.0493, -3.41, -3.2689, -4.4106, -3.9482, -3.5115, -2.9794, -4.0756, -5.0305, 3.7264, 3.7264, 3.7264, 3.7264, 3.7264, 3.7264, 3.7264, 3.7264, 3.7264, 3.7264, 3.7264, 3.7264, 3.7264, 3.7264, 3.7264, 3.7264, 3.7264, 3.7264, 3.7264, 3.7264, 3.7264, 3.7264, 3.7264, 3.7264, 3.7264, 3.7264, 3.7264, 3.7264, 3.7264, 3.7264, -2.4753, -1.2041, -0.7744, -0.1341, 0.9055, -3.011, -1.7573, -0.277, -1.0085, -0.5283, -1.0587, 0.0156, -0.5038, -0.8396, -0.5328, -3.2073, -0.9198, 0.7708, -2.285, -1.1408, -1.789, -1.7952, -3.0888, -0.8194, 0.0421, 0.7705, -1.5541, -0.4338, -2.2844, -1.2284]}, \"token.table\": {\"Topic\": [1, 4, 17, 12, 9, 1, 3, 4, 5, 6, 7, 10, 8, 2, 7, 10, 2, 2, 17, 3, 6, 1, 3, 4, 5, 10, 8, 17, 13, 2, 4, 5, 8, 2, 5, 1, 3, 5, 10, 12, 14, 5, 5, 12, 15, 6, 12, 10, 6, 6, 9, 1, 2, 4, 7, 8, 2, 6, 1, 10, 2, 3, 10, 17, 12, 8, 1, 2, 3, 4, 5, 8, 9, 12, 13, 6, 16, 1, 2, 3, 4, 7, 9, 11, 13, 1, 3, 4, 11, 12, 14, 15, 5, 4, 5, 8, 17, 4, 7, 2, 4, 3, 15, 2, 8, 6, 12, 4, 6, 9, 19, 1, 2, 3, 4, 6, 7, 8, 9, 13, 5, 3, 1, 2, 11, 9, 3, 6, 1, 15, 3, 1, 15, 1, 1, 3, 14, 17, 19, 1, 2, 3, 4, 5, 6, 8, 10, 13, 16, 10, 1, 3, 4, 5, 8, 10, 13, 14, 15, 1, 1, 4, 8, 9, 13, 16, 1, 2, 3, 4, 14, 2, 7, 8, 1, 2, 3, 4, 7, 8, 9, 10, 12, 14, 1, 2, 4, 3, 4, 10, 5, 12, 1, 2, 3, 4, 7, 8, 9, 10, 14, 1, 6, 7, 10, 12, 10, 1, 7, 1, 2, 3, 4, 7, 8, 9, 14, 1, 3, 9, 12, 14, 16, 3, 17, 12, 14, 1, 2, 11, 3, 14, 16, 17, 14, 1, 3, 4, 14, 1, 3, 3, 12, 9, 9, 3, 4, 6, 3, 14, 12, 13, 2, 11, 1, 2, 1, 5, 18, 7, 1, 4, 6, 8, 10, 16, 6, 13, 16, 7, 14, 2, 1, 6, 1, 4, 7, 13, 4, 1, 2, 1, 11, 12, 3, 1, 4, 5, 8, 13, 15, 19, 15, 15, 16, 16, 8, 6, 7, 1, 3, 4, 8, 9, 10, 13, 8, 13, 12, 15, 2, 8, 1, 2, 13, 16, 6, 4, 17, 2, 2, 6, 7, 4, 1, 3, 5, 8, 9, 3, 9, 16, 1, 5, 1, 13, 10, 1, 2, 7, 12, 8, 13, 1, 12, 17, 5, 3, 7, 6, 8, 1, 4, 5, 11, 3, 1, 8, 12, 1, 2, 11, 3, 2, 13, 2, 4, 5, 8, 5, 12, 2, 9, 9, 12, 14, 1, 11, 12, 1, 3, 5, 8, 9, 2, 4, 6, 9, 13, 16, 17, 14, 9, 13, 1, 2, 8, 1, 8, 12, 1, 10, 1, 2, 3, 4, 6, 8, 13, 15, 19, 5, 9, 5, 1, 17, 2, 1, 11, 6, 8, 1, 2, 3, 4, 7, 9, 10, 6, 10, 16, 8, 3, 5, 9, 15, 1, 3, 9, 10, 14, 1, 2, 4, 9, 8, 4, 6, 8, 13, 16, 2, 17, 13, 1, 7, 5, 12, 14, 1, 1, 2, 8, 11, 12, 3, 9, 9, 4, 14, 1, 2, 13, 14, 7, 9, 10, 2, 2, 2, 4, 4, 5, 3, 16, 1, 2, 3, 4, 7, 8, 16, 17, 2, 4, 19, 1, 3, 10, 1, 2, 3, 5, 7, 8, 10, 17, 8, 9, 15, 4, 9, 1, 2, 6, 1, 3, 7, 18, 14, 1, 6, 12, 1, 12, 1, 2, 4, 5, 6, 7, 12, 13, 1, 2, 5, 7, 11, 12, 12, 9, 10, 8, 16, 6, 8, 1, 2, 4, 7, 8, 12, 17, 1, 2, 4, 8, 11, 12, 10, 6, 13, 6, 7, 8, 13, 4, 7, 16, 19, 1, 2, 4, 6, 3, 5, 4, 13, 15, 2, 2, 10, 1, 7, 8, 10, 1, 11, 5, 6, 8, 1, 2, 5, 10, 11, 8, 11, 10, 1, 3, 5, 13, 2, 6, 6, 8, 8, 1, 13, 5, 4, 2, 14, 19, 4, 1, 2, 8, 12, 16, 7, 9, 1, 1, 12, 6, 1, 2, 8, 10, 13, 3, 5, 2, 7, 2, 3, 17, 1, 1, 9, 2, 3, 5, 17, 1, 4, 12, 7, 10, 13, 3, 5, 7, 8, 1, 14, 13, 16, 7, 2, 1, 10, 5, 10, 5, 1, 13, 1, 2, 7, 11, 9, 10, 3, 1, 3, 7, 8, 19, 3, 10, 19, 3, 4, 1, 4, 13, 18, 10, 5, 10, 6, 9, 10, 12, 15, 9, 10, 3, 5, 15, 10, 2, 10, 11, 6, 18, 14, 2, 3, 10, 9, 15, 6, 8, 10, 13, 16, 4, 6, 1, 8, 14, 1, 1, 8, 5, 1, 4, 8, 6, 12, 4, 1, 2, 4, 11, 13, 4, 1, 4, 5, 6, 12, 7, 8, 4, 1, 2, 3, 1, 4, 7, 10, 16, 1, 3, 5, 12, 18, 1, 3, 5, 10, 15, 1, 3, 10, 15, 9, 13, 5, 4, 5, 5, 8, 9, 1, 17, 1, 3, 1, 1, 2, 4, 10, 1, 2, 3, 5, 6, 7, 8, 9, 10, 12, 14, 5, 1, 2, 5, 11, 15, 1, 3, 8, 10, 10, 8, 13, 1, 2, 4, 15, 10, 1, 9, 3, 13, 14, 15, 8, 12, 13, 8, 8, 14, 3, 8, 9, 3, 9, 1, 7, 4, 1, 3, 9, 1, 3, 10, 16, 4, 16, 1, 10, 12, 3, 11, 12, 9, 9, 2, 2, 6, 11, 3, 15, 3, 1, 2, 5, 8, 11, 9, 9, 4, 7, 10, 16, 1, 2, 3, 4, 15, 1, 11, 8, 1, 2, 4, 8, 10, 12, 13, 4, 4, 1, 2, 3, 4, 11, 14, 11, 6, 4, 2, 3, 9, 12, 4, 10, 1, 2, 3, 4, 6, 7, 8, 13, 1, 2, 3, 4, 5, 14, 15, 19, 2, 19, 16, 1, 7, 8, 2, 4, 10, 12, 13, 14, 10, 1, 17, 2, 6, 10, 15, 12, 9, 2, 1, 4, 6, 3, 6, 8, 4, 5, 8, 1, 15, 1, 2, 4, 5, 8, 9, 12, 2, 2, 14, 13, 2, 7, 13, 6, 7, 1, 2, 7, 8, 1, 4, 5, 7, 8, 10, 17, 1, 2, 4, 6, 8, 13, 12, 16, 7, 12, 6, 3, 1, 6, 7, 8, 11, 3, 10, 17, 1, 3, 8, 3, 17, 7, 7, 6, 1, 6, 8, 10, 17, 6, 1, 7, 12, 1, 6, 8, 9, 12, 12, 14, 1, 7, 12, 13, 3, 9, 3, 9, 10, 2, 4, 5, 8, 6, 5, 1, 6, 8, 9, 10, 4, 6, 10, 8, 15, 10, 17, 10, 2, 5, 3, 1, 6, 8, 1, 2, 11, 17, 17, 3, 17, 8, 5, 12, 16, 6, 8, 12, 12, 18, 10, 1, 9, 10, 15, 12, 14, 13, 14, 15, 18, 12, 7, 1, 17, 12, 1, 3, 5, 17, 9, 8, 2, 4, 5, 8, 12, 19, 5, 8, 3, 4, 6, 8, 17, 4, 1, 3, 15, 16, 10, 1, 3, 17, 10, 7, 1, 3, 15, 5, 8, 4, 9, 3, 6, 8, 12, 13, 14, 1, 2], \"Freq\": [0.9771990183374585, 0.9419313113409232, 0.9822636462874369, 0.9539442787499375, 0.9834327033939856, 0.38050609786215284, 0.33701968667790677, 0.005435801398030755, 0.2391752615133532, 0.024461106291138394, 0.005435801398030755, 0.005435801398030755, 0.9477034638598882, 0.9386479624527021, 0.8276767385806963, 0.12733488285856867, 0.8910893030539767, 0.9962463131248613, 0.9559574216075942, 0.9795022838809534, 0.9871350399626567, 0.46562664298522083, 0.33083998317370955, 0.09802666168109912, 0.07351999626082434, 0.01225333271013739, 0.9449367681665995, 0.9603106711319764, 0.960238624355392, 0.5746840477831905, 0.3846310556029227, 0.024887891833130296, 0.01583774934835564, 0.9431926126604405, 0.02143619574228274, 0.3327331049248821, 0.5235000850818146, 0.11091103497496071, 0.004436441398998428, 0.013309324196995286, 0.013309324196995286, 0.9833968235353839, 0.9886229575375809, 0.6398625223359999, 0.3367697485978947, 0.9802769251909601, 0.9611722723461478, 0.9352788662076058, 0.953540730917796, 0.9384168924060764, 0.9885702609228667, 0.0016082295941453597, 0.5210663885030965, 0.024123443912180395, 0.4229643832602296, 0.028948132694616473, 0.9874657132813837, 0.9625787218983135, 0.5822217389820519, 0.40842420495755877, 0.5497354245291579, 0.06731454177908056, 0.37022997978494304, 0.011219090296513426, 0.896587541886081, 0.9856715797995698, 0.5588103630790812, 0.11388078489289331, 0.1509582497417423, 0.002648390346346356, 0.010593561385385425, 0.08739688142942975, 0.005296780692692712, 0.03178068415615627, 0.03442907450250263, 0.9578289621787989, 0.9847851117374503, 0.5647748418399479, 0.037845736824326404, 0.24163047357069936, 0.04366815787422278, 0.023289684199585478, 0.020378473674637295, 0.04075694734927459, 0.026200894724533665, 0.47563617186695045, 0.193697988543102, 0.08178359516264307, 0.0064565996181033996, 0.0387395977086204, 0.1872413889249986, 0.015065399108907931, 0.9599953509609844, 0.9545104619797694, 0.9654784912363684, 0.9687004454812309, 0.9612203694999157, 0.9668656400906571, 0.9852988050642288, 0.9314164953773248, 0.05913755526205237, 0.9776407411941669, 0.9882650193476138, 0.9634789330507569, 0.9004717433449297, 0.9529659170094341, 0.8276235094311042, 0.9889040692930431, 0.986805955125294, 0.9466755896144815, 0.9887722768776652, 0.3640379099859972, 0.16308898367372673, 0.263563446829862, 0.02766688115893579, 0.12668519267512704, 0.020386122959215842, 0.017473819679327866, 0.0131053647594959, 0.0014561516399439888, 0.8855530175188895, 0.9903408594213371, 0.5673199465599258, 0.24892609900078375, 0.17366937139589564, 0.9629089013424884, 0.9814984546456579, 0.9749497451835717, 0.03435233924827582, 0.927513159703447, 0.9842948088123059, 0.6716095573222912, 0.29849313658768495, 0.9827558839786033, 0.9703295597237982, 0.39873804861412443, 0.5618581594108117, 0.018124456755187476, 0.9878231486949914, 0.3126622341002154, 0.07631912800871399, 0.10586201627015167, 0.002461907355119806, 0.2929669752592569, 0.03446670297167728, 0.12555727511111012, 0.01969525884095845, 0.007385722065359418, 0.01969525884095845, 0.9816607228830537, 0.3183720712290735, 0.20702026306521037, 0.02823003587252869, 0.0988051255538504, 0.1458551853413982, 0.04705005978754782, 0.12076182012137272, 0.03136670652503187, 0.0015683353262515938, 0.9906419412032653, 0.3322699720647823, 0.005728792621806591, 0.378100313039235, 0.005728792621806591, 0.15467740078877795, 0.10884705981432523, 0.0041724860610474965, 0.21696927517446984, 0.16689944244189986, 0.17941690062504237, 0.42976606428789216, 0.03235688597468526, 0.9577638248506837, 0.003235688597468526, 0.14803627930643623, 0.3544162686924679, 0.1071086020864215, 0.2542740797498787, 0.032219660790224355, 0.03657366900511954, 0.022640842717454954, 0.04179847886299376, 0.0017416032859580732, 0.0008708016429790366, 0.005709901333485861, 0.8336455946889356, 0.15797393689310882, 0.9893719490194787, 0.9264589451493392, 0.9873258590272229, 0.7700556404051501, 0.17770514778580387, 0.047567251068779036, 0.35477241422131034, 0.2616198808782847, 0.1922509730696486, 0.02576559432892198, 0.05351315745237642, 0.04162134468518166, 0.01783771915079214, 0.00396393758906492, 0.17119375440796236, 0.3988036324276396, 0.3949128652820041, 0.025289986446630806, 0.0077815342912710165, 0.9353678555471387, 0.9580730794290929, 0.039032606939703784, 0.07648394298538319, 0.2394279954325039, 0.07648394298538319, 0.16626944127257215, 0.06318238768357741, 0.0066507776509028855, 0.13966633066896061, 0.22612644013069813, 0.003574765610644124, 0.3449648814271579, 0.5755372633137039, 0.02859812488515299, 0.03574765610644124, 0.010724296831932371, 0.977157223524335, 0.8991831554169416, 0.9801326955095033, 0.9700290982920703, 0.23403658300765778, 0.7508673704829021, 0.9958109763757831, 0.471432933135943, 0.5107190108972716, 0.949406420390696, 0.9552567993302972, 0.8812548900257612, 0.5440386761110246, 0.052648904139776576, 0.36854232897843603, 0.026324452069888288, 0.9082247638462586, 0.07696820032595413, 0.9610701192055311, 0.9769048116113317, 0.9862968811696124, 0.9427666542018327, 0.9807866885849142, 0.954124015801299, 0.954826631823605, 0.9766899406088774, 0.9422077678147106, 0.8755025293553944, 0.9564988824789922, 0.0027139424540432245, 0.9946599094068418, 0.34723342050140443, 0.6379404702235105, 0.02261166149971454, 0.9496897829880107, 0.9883568434221567, 0.9827501370955961, 0.012216361340921479, 0.18935360078428293, 0.7329816804552888, 0.061081806704607396, 0.9738741301721776, 0.968400615162207, 0.9861451072404006, 0.9926697280607587, 0.9740187475747154, 0.9123048184211843, 0.9584022633960889, 0.9477183773324764, 0.9781527718045347, 0.9855432664732036, 0.9902457851606694, 0.186460530015055, 0.7949106805904976, 0.016356186843425876, 0.9555547134397309, 0.8737622900909822, 0.12024251698499755, 0.838245932481157, 0.10058951189773885, 0.05364773967879405, 0.9842761431820128, 0.2462567832783266, 0.2304421274714616, 0.15588732152481224, 0.011296182719189293, 0.07907327903432505, 0.02033312889454073, 0.25303449290984015, 0.9197295331998022, 0.027082822910762416, 0.9614402133320658, 0.9925568761133937, 0.9438046770831605, 0.9689653262421465, 0.950211277886191, 0.005078463516661525, 0.07109848923326134, 0.16758929604983033, 0.14219697846652268, 0.09141234329990745, 0.0406277081332922, 0.4722971070495218, 0.4599606378965553, 0.5212887229494293, 0.3480383589124623, 0.6214970694865398, 0.7907935530918123, 0.20430836478055941, 0.6888293570038794, 0.06761515160774276, 0.23665303062709964, 0.9786892446789689, 0.9449365797205352, 0.971095290147218, 0.9845856859102204, 0.9530631441112989, 0.9906254424704773, 0.06383597659070135, 0.9332211815878722, 0.9661216303380636, 0.03902514199310023, 0.01115004056945721, 0.4348515822088312, 0.49617680534084585, 0.005575020284728605, 0.4116113465283184, 0.036106258467396346, 0.534372625317466, 0.9928954217557171, 0.979056328865485, 0.9916526470352919, 0.9903359386366145, 0.9748665710468797, 0.7846381737898055, 0.022354363925635484, 0.033531545888453224, 0.1564805474794484, 0.9358347580999569, 0.9760742533720566, 0.9800612134173063, 0.9489320114636708, 0.8949352801843731, 0.9842583497556661, 0.9628724004978568, 0.9909464316683321, 0.9800137647171929, 0.9327573432905618, 0.20185929882255188, 0.4294097811316104, 0.36701690695009437, 0.9882947232445837, 0.9757102065605697, 0.00766663126071752, 0.9123291200253849, 0.0766663126071752, 0.48581287551539776, 0.23990759284711, 0.26989604195299877, 0.9789317395280637, 0.6594166160752446, 0.33634673034710466, 0.9791854077746021, 0.17224907705085757, 0.8066527815988248, 0.01976628753042628, 0.9673462584335846, 0.9652747967133549, 0.9539183775723045, 0.980749027902571, 0.9932855586879663, 0.9910347945788848, 0.977321879449429, 0.6013085190998394, 0.3826508757908069, 0.9225011305320053, 0.02555459533271477, 0.37693028115754285, 0.10860703016403776, 0.0766637859981443, 0.4088735253234363, 0.43339597151713355, 0.21897901718760432, 0.10492744573572707, 0.07755506858727654, 0.059306817154976176, 0.009124125716150181, 0.0912412571615018, 0.9886799280853861, 0.9160524582059909, 0.9784919381728135, 0.3851848643880102, 0.17266907713945284, 0.4383138112001495, 0.22023023970597796, 0.16517267977948347, 0.5505755992649449, 0.9798508911900956, 0.9569477168679807, 0.2311099473391726, 0.15783118354870324, 0.2160784060488199, 0.326936023065171, 0.03382096790329355, 0.007515770645176344, 0.018789426612940863, 0.005636827983882258, 0.001878942661294086, 0.9668495989704414, 0.9100322546885817, 0.9864698714595097, 0.7577759477511685, 0.216507413643191, 0.9602184410702792, 0.27172549229467546, 0.6599047670013547, 0.6054903851285891, 0.3815418865193849, 0.0652586950760967, 0.3493259559955765, 0.007677493538364318, 0.4568108655326769, 0.11516240307546477, 0.02296068004777779, 0.9413878819588893, 0.9905708472839162, 0.9622294335709248, 0.8988530328026101, 0.9456997603384043, 0.7609928830637256, 0.16759962305570147, 0.06794579313068978, 0.9819728976934536, 0.03594845699151525, 0.3894416174080819, 0.041939866490101126, 0.029957047492929375, 0.49728698838262764, 0.36972354085486364, 0.02174844357969786, 0.5980821984416912, 0.9388938565771421, 0.9504302498321511, 0.7703155922465322, 0.22298609249241724, 0.9444162619435709, 0.7745930738629081, 0.17213179419175736, 0.9220642976310184, 0.9766045760908076, 0.9314714169808344, 0.9345409876554591, 0.05596053818296162, 0.05876066047503809, 0.47008528380030473, 0.46029184038779836, 0.9905283077949992, 0.07259104310207837, 0.2818240496904219, 0.008540122717891572, 0.08113116581996993, 0.5508379153040064, 0.041660066273444894, 0.9373514911525102, 0.9455633068698749, 0.9892088378754474, 0.9847351103191059, 0.242162812666433, 0.3067395627108151, 0.01614418751109553, 0.41974887528848387, 0.9188811668045159, 0.2099917310227569, 0.7847059422429337, 0.9367992303664665, 0.9299285268479957, 0.9737254355548723, 0.9548148714248628, 0.2958569902100376, 0.6804710774830864, 0.0111199553559274, 0.9785560713216112, 0.2907020220610064, 0.09903035916363954, 0.057501498869210056, 0.0447233880093856, 0.2427841063366647, 0.1309756363132007, 0.11819752545337622, 0.01597263857478057, 0.3824676216111343, 0.5258929797153097, 0.08366479222743563, 0.4543445718347164, 0.5322322127206678, 0.0064906367404959486, 0.44903589075096045, 0.1443329648842373, 0.08018498049124294, 0.029782992753890236, 0.23597294258851495, 0.0022909994426069413, 0.0022909994426069413, 0.05269298717995965, 0.9193624399363414, 0.9584805254379117, 0.9835292351249194, 0.9526998350202713, 0.9771917685320318, 0.23117965736554935, 0.02719760674888816, 0.7343353822199803, 0.7035707301669468, 0.04638927891210638, 0.23967794104588297, 0.9774895272149651, 0.9548684138458946, 0.9753757275808287, 0.004600828903683154, 0.018403315614732615, 0.8907542807132284, 0.10107849993908975, 0.06984081109137709, 0.402611734526762, 0.008216566010750246, 0.004108283005375123, 0.1602230372096298, 0.08627394311287757, 0.234172131306382, 0.02875798103762586, 0.0867257150639848, 0.3006491455551473, 0.014454285843997466, 0.07805314355758632, 0.3758114319439341, 0.14454285843997466, 0.9791110134575096, 0.33434944402438066, 0.6629342424621341, 0.5276749579279164, 0.439729131606597, 0.9923387746919853, 0.9872816962849018, 0.7560680722995492, 0.1426116423798551, 0.018109414905378426, 0.05206456785296297, 0.024900445494895333, 0.0022636768631723032, 0.0022636768631723032, 0.5048776317929426, 0.27686837872516207, 0.15743496045156274, 0.03800154217796342, 0.01085758347941812, 0.00542879173970906, 0.9450722805480833, 0.9762104200049919, 0.9475468244275809, 0.3052497552278062, 0.342374725458215, 0.33824972876594733, 0.004124996692267651, 0.7559149074753501, 0.1989249756514079, 0.02652333008685439, 0.006630832521713597, 0.20415535870090723, 0.4566633023572925, 0.19878284926140968, 0.13431273598743898, 0.04932692243444489, 0.887884603820008, 0.9850428252273697, 0.9507845283878975, 0.9739131114994951, 0.9615704906807293, 0.9880502021926452, 0.9846057434174076, 0.7294376496257426, 0.16151833670284302, 0.06252322711077794, 0.04168215140718529, 0.9773883144084757, 0.9344582529721192, 0.2983006764049484, 0.692483713082916, 0.97679488073895, 0.049352641181349216, 0.5373954261969136, 0.01645088039378307, 0.00548362679792769, 0.38933750265286604, 0.7824381617411373, 0.20015859951517465, 0.9689359215365423, 0.3479711661815894, 0.5710296060415826, 0.07137870075519782, 0.9577650067491448, 0.31348610359679113, 0.6702116697586569, 0.9773829969619454, 0.9761329825985087, 0.9744007677829111, 0.9813849203226259, 0.9869963132378062, 0.8560787629246495, 0.9846312325908386, 0.6964296896008669, 0.2717774398442408, 0.025479134985397573, 0.9781086566959442, 0.3526366803424254, 0.6405033581729768, 0.9683145199224168, 0.9725013619596563, 0.9531355741584613, 0.9623084409595724, 0.9929370525246319, 0.973181812511449, 0.975412652167051, 0.8757237160605498, 0.96350136371641, 0.9781246005410834, 0.9142301507936796, 0.0761858458994733, 0.00761858458994733, 0.9264361027688817, 0.9614708202460773, 0.9828246148550845, 0.9745272256844035, 0.9499299878439861, 0.6372956443698429, 0.24608445673687, 0.10726758370581513, 0.9812252032777202, 0.9737188964277009, 0.9571730754285086, 0.4188149894794815, 0.1396049964931605, 0.24551223521210983, 0.18774465045631927, 0.44142257583573574, 0.513491567808917, 0.03603449598659067, 0.7091151554848422, 0.2363717184949474, 0.9249492566328467, 0.9673523312895036, 0.7595589441616752, 0.020201035748980724, 0.21817118608899183, 0.027933440762144313, 0.9497369859129067, 0.9070411651101624, 0.9893260520874816, 0.986227124277562, 0.9151207713073014, 0.6412882382571042, 0.3504714790474872, 0.9222085874510396, 0.9788644756907637, 0.9858331960972218, 0.6297170477734145, 0.3554854301946695, 0.5132637904211436, 0.32848882586953193, 0.12090213729920271, 0.03649875842994799, 0.03258172961652503, 0.9557307354180674, 0.9812541812783555, 0.513334459521325, 0.2293622053180388, 0.13652512221311833, 0.060071053773772067, 0.054610048885247335, 0.3914376076633962, 0.5915057182469098, 0.008698613503631027, 0.9652981397014573, 0.9531335630136604, 0.09102832223711108, 0.8900547063184194, 0.9293085189042768, 0.048067682012290176, 0.9709352216194158, 0.9605174304023256, 0.9806909433719605, 0.9702396060522566, 0.9485725934134164, 0.6188698970078197, 0.07985418025907351, 0.2794896309067573, 0.7260570485474824, 0.26891001798054903, 0.6558878134441755, 0.12408688362457375, 0.1949936742671873, 0.9341728389205326, 0.9270577896864297, 0.061803852645761985, 0.9805870814571241, 0.9798027457181248, 0.01272471098335227, 0.9917961272384556, 0.993934086586403, 0.10119879686691532, 0.8770562395132662, 0.006761271635714716, 0.9871456588143486, 0.7683114015340272, 0.09842005556840845, 0.006349681004413448, 0.11111941757723535, 0.012699362008826896, 0.9571883280085823, 0.9706970995192863, 0.9164399870431972, 0.07127866565891534, 0.005091333261351096, 0.9747811283384488, 0.9854179253453894, 0.9673623870291858, 0.9190796789355418, 0.49420880674888046, 0.09609615686783787, 0.40268865735093967, 0.9394575412388749, 0.941275460409287, 0.9825966468867682, 0.018967811513146714, 0.23520086276301924, 0.39453047947345166, 0.3414206072366408, 0.9581545045915434, 0.9826809369928912, 0.6513715446461558, 0.007943555422514095, 0.2343348849641658, 0.08340733193639799, 0.01588711084502819, 0.5126493188911978, 0.48085711306848783, 0.9172315218800402, 0.15508291641361321, 0.8141853111714694, 0.9587033481952854, 0.4576477796464105, 0.01830591118585642, 0.39357709049591305, 0.01830591118585642, 0.09152955592928211, 0.18994281017960007, 0.21493528520323169, 0.14995485014178955, 0.439867560415916, 0.9838387301463778, 0.03862775782523258, 0.44207322844432845, 0.025751838550155053, 0.4764090131778685, 0.008583946183385018, 0.031057554718686976, 0.5797410214154902, 0.3726906566242437, 0.010352518239562325, 0.9433268993210635, 0.9605085449463612, 0.9646731417545922, 0.20841202746943563, 0.7895137981783326, 0.5565807817551786, 0.43289616358736105, 0.9675889888920861, 0.013384559407434085, 0.9636882773352541, 0.9725862605420508, 0.9895118522759155, 0.9938046000887977, 0.08608755787960558, 0.6743525367235771, 0.13630529997604215, 0.09326152103623937, 0.2826480483758311, 0.0030068941316577775, 0.22401361280850443, 0.14132402418791554, 0.09622061221304888, 0.1067447416738511, 0.0030068941316577775, 0.07216545915978666, 0.021048258921604442, 0.04811030610652444, 0.0015034470658288888, 0.9322022935681319, 0.3635128936366795, 0.048468385818223936, 0.16963935036378378, 0.008078064303037322, 0.4039032151518661, 0.6149542062460358, 0.19246658363425548, 0.11735767294771675, 0.07041460376863005, 0.957367592828389, 0.9784668360421094, 0.8966997653931935, 0.45611674321677675, 0.5258012456526732, 0.012669909533799355, 0.9778866660679143, 0.9505228998013596, 0.6934312074396541, 0.30164257523624954, 0.4940211656605358, 0.29776618204196675, 0.033837066141132584, 0.16241791747743642, 0.47367169241356805, 0.22437080166958487, 0.2742309798183815, 0.995680459079661, 0.8695277005384806, 0.09661418894872006, 0.9446848944753459, 0.9568646388508132, 0.9809497441452222, 0.46404121652667235, 0.5273195642348549, 0.9896453028202046, 0.9826257452406683, 0.958648052382445, 0.9807977413704766, 0.9966646758000101, 0.970636531079116, 0.4768027556567832, 0.20860120559984263, 0.02980017222854895, 0.2809730524406044, 0.9966834389321813, 0.9635599088020387, 0.8405283755468089, 0.00743830420837884, 0.14132777995919796, 0.2901573809006008, 0.019783457788677326, 0.6858265366741473, 0.9274578937843578, 0.9693259902454138, 0.9854502369174939, 0.40625605769108103, 0.550506397016175, 0.038270498188290245, 0.9807536107178281, 0.9547150985477524, 0.9879791501533006, 0.035924510280341646, 0.7338864242984079, 0.010264145794383327, 0.11290560373821659, 0.10264145794383327, 0.9781076155749592, 0.9818020104319144, 0.9627093335705512, 0.9862987348832588, 0.9604565930215496, 0.7066696253283797, 0.4308516500748329, 0.07522806588608193, 0.24620094289990452, 0.1401977591513345, 0.10600318374857, 0.7606349001876668, 0.2231195707217156, 0.9404542255079014, 0.7406112543296121, 0.042211004132775815, 0.04604836814484634, 0.007674728024141057, 0.08442200826555163, 0.042211004132775815, 0.03453627610863476, 0.9833146572033871, 0.9850289006645279, 0.2162306150693968, 0.14415374337959788, 0.032762214404454065, 0.1965732864267244, 0.23916416515251465, 0.16708729346271572, 0.9375549312227025, 0.9540315655305265, 0.9823119761079465, 0.9852138295899129, 0.16857755199766444, 0.65022770056242, 0.16857755199766444, 0.9594801519718988, 0.9602181276773443, 0.43114658470695016, 0.08376562217163604, 0.2636153403636781, 0.02463694769754001, 0.014782168618524006, 0.05173759016483402, 0.05420128493458802, 0.07144714832286603, 0.2511643094494431, 0.0022226930039773727, 0.09113041316307229, 0.6090178830898001, 0.037785781067615334, 0.004445386007954745, 0.0022226930039773727, 0.9748399593171421, 0.9153282326607509, 0.9759455057388765, 0.9290567321717256, 0.7264408790912985, 0.08255009989673846, 0.18161021977282463, 0.27125527279708006, 0.18615557937054517, 0.2287054260838126, 0.005318730839158433, 0.3031676578320307, 0.922585295190052, 0.9617773530345916, 0.988225717461906, 0.9679388762575224, 0.8776441710209897, 0.10638111163890784, 0.9716467610811741, 0.9616803973908096, 0.968123020101264, 0.9399681909350309, 0.9844477291716248, 0.8510745264009881, 0.0823620509420311, 0.05490803396135407, 0.13094599779201446, 0.8627030442768011, 0.9592698227249825, 0.9500487135638351, 0.9747534300052205, 0.9872974776286482, 0.11371619070894555, 0.8787160191145793, 0.8262841481454964, 0.022952337448486012, 0.013771402469091608, 0.009180934979394406, 0.06426654485576083, 0.05967607736606363, 0.004590467489697203, 0.9528701316747045, 0.5392394365474853, 0.44936619712290443, 0.9495250713042598, 0.4921959194423036, 0.4921959194423036, 0.00863501613056673, 0.9775485400686013, 0.9768380366707786, 0.0019465851087008895, 0.11874169163075425, 0.8662303733718958, 0.011679510652205337, 0.4038101486427615, 0.08130405677371037, 0.1544777078700497, 0.23307162941796972, 0.05149256929001657, 0.016260811354742073, 0.056912839741597256, 0.047409971141281086, 0.09481994228256217, 0.6921855786627038, 0.14222991342384325, 0.009481994228256217, 0.97868984764647, 0.9286075845805677, 0.9055671102537772, 0.24008577180996127, 0.750268036906129, 0.9899842857232359, 0.9707619864998911, 0.03320163640502688, 0.01897236366001536, 0.00474309091500384, 0.7636376373156183, 0.17549436385514208, 0.010071873036998549, 0.09064685733298694, 0.8963967002928709, 0.17585706881789023, 0.07241173421913127, 0.7344618756511886, 0.10794373323894191, 0.8815404881180257, 0.9166809298643739, 0.9918531915991936, 0.9845096270642382, 0.4435633085559369, 0.4401512831055066, 0.06141645810774511, 0.05118038175645426, 0.9686524621041902, 0.9787348525751355, 0.1470454759891999, 0.6293546372337756, 0.21174548542444785, 0.7008582273751626, 0.10012260391073752, 0.10813241222359651, 0.0760931789721605, 0.008009808312859001, 0.9395349918043007, 0.9025933787667545, 0.38761295504342064, 0.06569711102430859, 0.12810936649740173, 0.41060694390192864, 0.9839160445045995, 0.9791838298006552, 0.45088397990784645, 0.5343810132241144, 0.991733173023782, 0.04640717244487249, 0.04795407819303491, 0.7920157430591572, 0.1129241196158564, 0.989758351179859, 0.963452408356914, 0.9899395906144003, 0.5786931531208924, 0.27191605990017836, 0.06274985997696424, 0.08366647996928565, 0.4594712076561177, 0.25350135594820283, 0.27726710806834687, 0.9472365667753335, 0.9560153083200196, 0.9447562595187825, 0.9460160334088887, 0.9594518402041169, 0.9873330662825951, 0.9530579688650317, 0.9623396415110471, 0.9803507270759804, 0.8176516113643358, 0.17213718133986017, 0.5838606227942835, 0.3293572743967753, 0.07485392599926712, 0.004990261733284475, 0.9722448016487087, 0.9884396155540831, 0.9748107496552945, 0.9513969627289236, 0.8485641544850581, 0.9854994633681314, 0.8623556028930612, 0.8396787655670906, 0.017739692230290646, 0.13009107635546474, 0.006966868517807183, 0.98929532952862, 0.8563802399981651, 0.47748733274253047, 0.47748733274253047, 0.02581012609419084, 0.9767779096316994, 0.9345250227369053, 0.9739896878360174, 0.9368296868685606, 0.9707901404941078, 0.9321661591857978, 0.9103552980638816, 0.9627178698447567, 0.9615997196200611, 0.9886096424112275, 0.9390794144977228, 0.9531715928677776, 0.029716233248769985, 0.09905411082923328, 0.8617707642143296, 0.9531042854007091, 0.9488311531782861, 0.9604018612647781, 0.2241926848729072, 0.10971131387397587, 0.24804297049768456, 0.06678079974937662, 0.21942262774795174, 0.12402148524884228, 0.9887282879796626, 0.9190853965002553, 0.9818526371262956, 0.004758018718605537, 0.699428751635014, 0.29023914183493776, 0.9633778711474918, 0.9927623473641946, 0.39913631985184334, 0.019313047734766612, 0.5793914320429984, 0.8619482879721918, 0.977949664801313, 0.9110533173092146, 0.012831736863510064, 0.06415868431755033, 0.9541680008794996, 0.9869054918502728, 0.06368646504538268, 0.9181465377376002, 0.010614410840897114, 0.9093553813656496, 0.9847859833117664, 0.9680784704681662, 0.972571502766412, 0.9668219449325389, 0.7516758220663394, 0.07386409812212584, 0.030414628638522408, 0.06517420422540515, 0.07820904507048619, 0.9826987087991146, 0.9854402658586925], \"Term\": [\"com\", \"shop\", \"wildberries\", \"yandex\", \"\\u0430\\u0434\\u043c\\u0438\\u043d\\u0438\\u0441\\u0442\\u0440\\u0430\\u0446\\u0438\\u044f\", \"\\u0430\\u0434\\u0440\\u0435\\u0441\", \"\\u0430\\u0434\\u0440\\u0435\\u0441\", \"\\u0430\\u0434\\u0440\\u0435\\u0441\", \"\\u0430\\u0434\\u0440\\u0435\\u0441\", \"\\u0430\\u0434\\u0440\\u0435\\u0441\", \"\\u0430\\u0434\\u0440\\u0435\\u0441\", \"\\u0430\\u0434\\u0440\\u0435\\u0441\", \"\\u0430\\u043b\\u0435\\u043a\\u0441\\u0430\\u043d\\u0434\\u0440\", \"\\u0430\\u043d\\u0430\\u043b\\u0438\\u0437\", \"\\u0430\\u043f\\u0440\\u0435\\u043b\\u044c\", \"\\u0430\\u043f\\u0440\\u0435\\u043b\\u044c\", \"\\u0430\\u044d\\u0440\\u043e\\u043f\\u043e\\u0440\\u0442\", \"\\u0431\\u0430\\u043d\\u043a\", \"\\u0431\\u0435\\u0433\\u0430\\u0442\\u044c\", \"\\u0431\\u043b\\u0438\\u0437\\u043a\\u0438\\u0439\", \"\\u0431\\u043e\\u043b\\u0435\\u0442\\u044c\", \"\\u0431\\u043e\\u043b\\u044c\\u0448\\u043e\\u0439\", \"\\u0431\\u043e\\u043b\\u044c\\u0448\\u043e\\u0439\", \"\\u0431\\u043e\\u043b\\u044c\\u0448\\u043e\\u0439\", \"\\u0431\\u043e\\u043b\\u044c\\u0448\\u043e\\u0439\", \"\\u0431\\u043e\\u043b\\u044c\\u0448\\u043e\\u0439\", \"\\u0431\\u0440\\u0435\\u043d\\u0434\", \"\\u0432\\u0432\\u0435\\u0434\\u0435\\u043d\\u0438\\u0435\", \"\\u0432\\u0432\\u0435\\u0441\\u0442\\u0438\", \"\\u0432\\u0435\\u0440\\u043d\\u0443\\u0442\\u044c\", \"\\u0432\\u0435\\u0440\\u043d\\u0443\\u0442\\u044c\", \"\\u0432\\u0435\\u0440\\u043d\\u0443\\u0442\\u044c\", \"\\u0432\\u0435\\u0440\\u043d\\u0443\\u0442\\u044c\", \"\\u0432\\u0435\\u0440\\u043d\\u0443\\u0442\\u044c\\u0441\\u044f\", \"\\u0432\\u0435\\u0440\\u043d\\u0443\\u0442\\u044c\\u0441\\u044f\", \"\\u0432\\u0435\\u0441\\u044c\", \"\\u0432\\u0435\\u0441\\u044c\", \"\\u0432\\u0435\\u0441\\u044c\", \"\\u0432\\u0435\\u0441\\u044c\", \"\\u0432\\u0435\\u0441\\u044c\", \"\\u0432\\u0435\\u0441\\u044c\", \"\\u0432\\u0435\\u0447\\u0435\\u0440\", \"\\u0432\\u0438\\u0434\", \"\\u0432\\u0438\\u0434\\u0435\\u0442\\u044c\", \"\\u0432\\u0438\\u0434\\u0435\\u0442\\u044c\", \"\\u0432\\u043b\\u0430\\u0434\\u0435\\u043b\\u0435\\u0446\", \"\\u0432\\u043b\\u043e\\u0436\\u0435\\u043d\\u0438\\u0435\", \"\\u0432\\u043c\\u0435\\u0441\\u0442\\u0435\", \"\\u0432\\u043d\\u0435\\u0441\\u0442\\u0438\", \"\\u0432\\u043d\\u0438\\u043c\\u0430\\u043d\\u0438\\u0435\", \"\\u0432\\u043e\\u0434\\u0430\", \"\\u0432\\u043e\\u0437\\u0432\\u0440\\u0430\\u0442\", \"\\u0432\\u043e\\u0437\\u0432\\u0440\\u0430\\u0442\", \"\\u0432\\u043e\\u0437\\u0432\\u0440\\u0430\\u0442\", \"\\u0432\\u043e\\u0437\\u0432\\u0440\\u0430\\u0442\", \"\\u0432\\u043e\\u0437\\u0432\\u0440\\u0430\\u0442\", \"\\u0432\\u043e\\u0437\\u0432\\u0440\\u0430\\u0449\\u0430\\u0442\\u044c\", \"\\u0432\\u043e\\u0437\\u0432\\u0440\\u0430\\u0449\\u0430\\u0442\\u044c\\u0441\\u044f\", \"\\u0432\\u043e\\u0437\\u043c\\u043e\\u0436\\u043d\\u043e\", \"\\u0432\\u043e\\u0437\\u043c\\u043e\\u0436\\u043d\\u043e\", \"\\u0432\\u043e\\u0437\\u043c\\u043e\\u0436\\u043d\\u043e\\u0441\\u0442\\u044c\", \"\\u0432\\u043e\\u0437\\u043c\\u043e\\u0436\\u043d\\u043e\\u0441\\u0442\\u044c\", \"\\u0432\\u043e\\u0437\\u043c\\u043e\\u0436\\u043d\\u043e\\u0441\\u0442\\u044c\", \"\\u0432\\u043e\\u0437\\u043c\\u043e\\u0436\\u043d\\u043e\\u0441\\u0442\\u044c\", \"\\u0432\\u043e\\u0437\\u0440\\u0430\\u0441\\u0442\", \"\\u0432\\u043e\\u043e\\u0431\\u0449\\u0435\", \"\\u0432\\u043e\\u043f\\u0440\\u043e\\u0441\", \"\\u0432\\u043e\\u043f\\u0440\\u043e\\u0441\", \"\\u0432\\u043e\\u043f\\u0440\\u043e\\u0441\", \"\\u0432\\u043e\\u043f\\u0440\\u043e\\u0441\", \"\\u0432\\u043e\\u043f\\u0440\\u043e\\u0441\", \"\\u0432\\u043e\\u043f\\u0440\\u043e\\u0441\", \"\\u0432\\u043e\\u043f\\u0440\\u043e\\u0441\", \"\\u0432\\u043e\\u043f\\u0440\\u043e\\u0441\", \"\\u0432\\u043e\\u043f\\u0440\\u043e\\u0441\", \"\\u0432\\u043e\\u0441\\u043f\\u043e\\u043b\\u044c\\u0437\\u043e\\u0432\\u0430\\u0442\\u044c\\u0441\\u044f\", \"\\u0432\\u0440\\u0430\\u0447\", \"\\u0432\\u0440\\u0435\\u043c\\u044f\", \"\\u0432\\u0440\\u0435\\u043c\\u044f\", \"\\u0432\\u0440\\u0435\\u043c\\u044f\", \"\\u0432\\u0440\\u0435\\u043c\\u044f\", \"\\u0432\\u0440\\u0435\\u043c\\u044f\", \"\\u0432\\u0440\\u0435\\u043c\\u044f\", \"\\u0432\\u0440\\u0435\\u043c\\u044f\", \"\\u0432\\u0440\\u0435\\u043c\\u044f\", \"\\u0432\\u0441\\u0451\", \"\\u0432\\u0441\\u0451\", \"\\u0432\\u0441\\u0451\", \"\\u0432\\u0441\\u0451\", \"\\u0432\\u0441\\u0451\", \"\\u0432\\u0441\\u0451\", \"\\u0432\\u0441\\u0451\", \"\\u0432\\u0445\\u043e\\u0434\", \"\\u0432\\u0445\\u043e\\u0434\\u0438\\u0442\\u044c\", \"\\u0432\\u0447\\u0435\\u0440\\u0430\", \"\\u0432\\u044b\\u0431\\u0440\\u0430\\u0442\\u044c\", \"\\u0432\\u044b\\u0432\\u043e\\u0437\", \"\\u0432\\u044b\\u0434\\u0430\\u0432\\u0430\\u0442\\u044c\", \"\\u0432\\u044b\\u0434\\u0430\\u0442\\u044c\", \"\\u0432\\u044b\\u0434\\u0430\\u0447\\u0430\", \"\\u0432\\u044b\\u0434\\u0430\\u0447\\u0430\", \"\\u0432\\u044b\\u0437\\u043e\\u0432\", \"\\u0432\\u044b\\u0439\\u0442\\u0438\", \"\\u0432\\u044b\\u0441\\u043e\\u043a\\u0438\\u0439\", \"\\u0432\\u044b\\u0445\\u043e\\u0434\\u043d\\u043e\\u0439\", \"\\u0432\\u044b\\u0448\\u0435\\u0438\\u0437\\u043b\\u043e\\u0436\\u0435\\u043d\\u043d\\u044b\\u0439\", \"\\u0433\\u0430\\u0437\", \"\\u0433\\u0430\\u0440\\u0430\\u043d\\u0442\\u0438\\u0439\\u043d\\u044b\\u0439\", \"\\u0433\\u0430\\u0440\\u0430\\u043d\\u0442\\u0438\\u044f\", \"\\u0433\\u043b\\u0430\\u0432\\u043d\\u043e\\u0435\", \"\\u0433\\u043e\\u0432\\u043e\\u0440\\u0438\\u0442\\u044c\", \"\\u0433\\u043e\\u0434\", \"\\u0433\\u043e\\u0434\", \"\\u0433\\u043e\\u0434\", \"\\u0433\\u043e\\u0434\", \"\\u0433\\u043e\\u0434\", \"\\u0433\\u043e\\u0434\", \"\\u0433\\u043e\\u0434\", \"\\u0433\\u043e\\u0434\", \"\\u0433\\u043e\\u0434\", \"\\u0433\\u043e\\u0434\\u043d\\u043e\\u0441\\u0442\\u044c\", \"\\u0433\\u043e\\u0440\\u043e\\u0434\", \"\\u0433\\u043e\\u0440\\u044f\\u0447\\u0438\\u0439\", \"\\u0433\\u043e\\u0440\\u044f\\u0447\\u0438\\u0439\", \"\\u0433\\u043e\\u0440\\u044f\\u0447\\u0438\\u0439\", \"\\u0433\\u043e\\u0441\\u0443\\u0434\\u0430\\u0440\\u0441\\u0442\\u0432\\u0435\\u043d\\u043d\\u044b\\u0439\", \"\\u0433\\u0440\\u0430\\u0436\\u0434\\u0430\\u043d\\u0438\\u043d\", \"\\u0433\\u0440\\u0430\\u0436\\u0434\\u0430\\u043d\\u0441\\u043a\\u0438\\u0439\", \"\\u0433\\u0440\\u0443\\u0431\\u044b\\u0439\", \"\\u0433\\u0440\\u0443\\u0431\\u044b\\u0439\", \"\\u0433\\u0440\\u0443\\u043f\\u043f\\u0430\", \"\\u0434\\u0430\\u0432\\u0430\\u0442\\u044c\", \"\\u0434\\u0430\\u0432\\u0430\\u0442\\u044c\", \"\\u0434\\u0430\\u043b\\u0435\\u0435\", \"\\u0434\\u0430\\u043b\\u044c\\u043d\\u0435\\u0439\\u0448\\u0438\\u0439\", \"\\u0434\\u0430\\u043b\\u0451\\u043a\\u0438\\u0439\", \"\\u0434\\u0430\\u043b\\u0451\\u043a\\u0438\\u0439\", \"\\u0434\\u0430\\u043b\\u0451\\u043a\\u0438\\u0439\", \"\\u0434\\u0430\\u043d\\u043d\\u044b\\u0435\", \"\\u0434\\u0430\\u043d\\u043d\\u044b\\u0439\", \"\\u0434\\u0430\\u043d\\u043d\\u044b\\u0439\", \"\\u0434\\u0430\\u043d\\u043d\\u044b\\u0439\", \"\\u0434\\u0430\\u043d\\u043d\\u044b\\u0439\", \"\\u0434\\u0430\\u043d\\u043d\\u044b\\u0439\", \"\\u0434\\u0430\\u043d\\u043d\\u044b\\u0439\", \"\\u0434\\u0430\\u043d\\u043d\\u044b\\u0439\", \"\\u0434\\u0430\\u043d\\u043d\\u044b\\u0439\", \"\\u0434\\u0430\\u043d\\u043d\\u044b\\u0439\", \"\\u0434\\u0430\\u043d\\u043d\\u044b\\u0439\", \"\\u0434\\u0430\\u0442\\u0430\", \"\\u0434\\u0430\\u0442\\u044c\", \"\\u0434\\u0430\\u0442\\u044c\", \"\\u0434\\u0430\\u0442\\u044c\", \"\\u0434\\u0430\\u0442\\u044c\", \"\\u0434\\u0430\\u0442\\u044c\", \"\\u0434\\u0430\\u0442\\u044c\", \"\\u0434\\u0430\\u0442\\u044c\", \"\\u0434\\u0430\\u0442\\u044c\", \"\\u0434\\u0430\\u0442\\u044c\", \"\\u0434\\u0432\\u0435\\u0440\\u044c\", \"\\u0434\\u0435\\u0439\\u0441\\u0442\\u0432\\u0438\\u0435\", \"\\u0434\\u0435\\u0439\\u0441\\u0442\\u0432\\u0438\\u0435\", \"\\u0434\\u0435\\u0439\\u0441\\u0442\\u0432\\u0438\\u0435\", \"\\u0434\\u0435\\u0439\\u0441\\u0442\\u0432\\u0438\\u0435\", \"\\u0434\\u0435\\u0439\\u0441\\u0442\\u0432\\u0438\\u0435\", \"\\u0434\\u0435\\u0439\\u0441\\u0442\\u0432\\u0438\\u0435\", \"\\u0434\\u0435\\u043b\\u0430\\u0442\\u044c\", \"\\u0434\\u0435\\u043b\\u0430\\u0442\\u044c\", \"\\u0434\\u0435\\u043b\\u0430\\u0442\\u044c\", \"\\u0434\\u0435\\u043b\\u0430\\u0442\\u044c\", \"\\u0434\\u0435\\u043b\\u0430\\u0442\\u044c\", \"\\u0434\\u0435\\u043d\\u0435\\u0436\\u043d\\u044b\\u0439\", \"\\u0434\\u0435\\u043d\\u0435\\u0436\\u043d\\u044b\\u0439\", \"\\u0434\\u0435\\u043d\\u0435\\u0436\\u043d\\u044b\\u0439\", \"\\u0434\\u0435\\u043d\\u044c\", \"\\u0434\\u0435\\u043d\\u044c\", \"\\u0434\\u0435\\u043d\\u044c\", \"\\u0434\\u0435\\u043d\\u044c\", \"\\u0434\\u0435\\u043d\\u044c\", \"\\u0434\\u0435\\u043d\\u044c\", \"\\u0434\\u0435\\u043d\\u044c\", \"\\u0434\\u0435\\u043d\\u044c\", \"\\u0434\\u0435\\u043d\\u044c\", \"\\u0434\\u0435\\u043d\\u044c\", \"\\u0434\\u0435\\u043d\\u044c\\u0433\\u0430\", \"\\u0434\\u0435\\u043d\\u044c\\u0433\\u0430\", \"\\u0434\\u0435\\u043d\\u044c\\u0433\\u0430\", \"\\u0434\\u0435\\u0442\\u0441\\u043a\\u0438\\u0439\", \"\\u0434\\u0438\\u0430\\u0433\\u043d\\u043e\\u0441\\u0442\\u0438\\u043a\", \"\\u0434\\u0438\\u0432\\u0430\\u043d\", \"\\u0434\\u0438\\u0440\\u0435\\u043a\\u0442\\u043e\\u0440\", \"\\u0434\\u0438\\u0440\\u0435\\u043a\\u0442\\u043e\\u0440\", \"\\u0434\\u043e\\u0431\\u0440\\u044b\\u0439\", \"\\u0434\\u043e\\u0431\\u0440\\u044b\\u0439\", \"\\u0434\\u043e\\u0431\\u0440\\u044b\\u0439\", \"\\u0434\\u043e\\u0431\\u0440\\u044b\\u0439\", \"\\u0434\\u043e\\u0431\\u0440\\u044b\\u0439\", \"\\u0434\\u043e\\u0431\\u0440\\u044b\\u0439\", \"\\u0434\\u043e\\u0431\\u0440\\u044b\\u0439\", \"\\u0434\\u043e\\u0431\\u0440\\u044b\\u0439\", \"\\u0434\\u043e\\u0431\\u0440\\u044b\\u0439\", \"\\u0434\\u043e\\u0433\\u043e\\u0432\\u043e\\u0440\", \"\\u0434\\u043e\\u0433\\u043e\\u0432\\u043e\\u0440\", \"\\u0434\\u043e\\u0433\\u043e\\u0432\\u043e\\u0440\", \"\\u0434\\u043e\\u0433\\u043e\\u0432\\u043e\\u0440\", \"\\u0434\\u043e\\u0433\\u043e\\u0432\\u043e\\u0440\", \"\\u0434\\u043e\\u0436\\u0434\\u0430\\u0442\\u044c\\u0441\\u044f\", \"\\u0434\\u043e\\u043a\\u0443\\u043c\\u0435\\u043d\\u0442\", \"\\u0434\\u043e\\u043a\\u0443\\u043c\\u0435\\u043d\\u0442\", \"\\u0434\\u043e\\u043b\\u0436\\u043d\\u044b\\u0439\", \"\\u0434\\u043e\\u043b\\u0436\\u043d\\u044b\\u0439\", \"\\u0434\\u043e\\u043b\\u0436\\u043d\\u044b\\u0439\", \"\\u0434\\u043e\\u043b\\u0436\\u043d\\u044b\\u0439\", \"\\u0434\\u043e\\u043b\\u0436\\u043d\\u044b\\u0439\", \"\\u0434\\u043e\\u043b\\u0436\\u043d\\u044b\\u0439\", \"\\u0434\\u043e\\u043b\\u0436\\u043d\\u044b\\u0439\", \"\\u0434\\u043e\\u043b\\u0436\\u043d\\u044b\\u0439\", \"\\u0434\\u043e\\u043c\", \"\\u0434\\u043e\\u043c\", \"\\u0434\\u043e\\u043c\", \"\\u0434\\u043e\\u043c\", \"\\u0434\\u043e\\u043c\", \"\\u0434\\u043e\\u043c\", \"\\u0434\\u043e\\u043c\\u043e\\u0439\", \"\\u0434\\u043e\\u043f\\u043b\\u0430\\u0442\\u0438\\u0442\\u044c\", \"\\u0434\\u043e\\u043f\\u043e\\u043b\\u043d\\u0438\\u0442\\u0435\\u043b\\u044c\\u043d\\u044b\\u0439\", \"\\u0434\\u043e\\u0440\\u043e\\u0433\\u0430\", \"\\u0434\\u043e\\u0441\\u0442\\u0430\\u0432\\u0438\\u0442\\u044c\", \"\\u0434\\u043e\\u0441\\u0442\\u0430\\u0432\\u0438\\u0442\\u044c\", \"\\u0434\\u043e\\u0441\\u0442\\u0430\\u0432\\u043a\\u0430\", \"\\u0434\\u0440\\u0443\\u0433\", \"\\u0434\\u0440\\u0443\\u0433\", \"\\u0434\\u0443\\u043c\\u0430\\u0442\\u044c\", \"\\u0435\\u0434\\u0438\\u043d\\u0441\\u0442\\u0432\\u0435\\u043d\\u043d\\u044b\\u0439\", \"\\u0435\\u043a\\u0430\\u0442\\u0435\\u0440\\u0438\\u043d\\u0430\", \"\\u0435\\u0449\\u0451\", \"\\u0435\\u0449\\u0451\", \"\\u0435\\u0449\\u0451\", \"\\u0435\\u0449\\u0451\", \"\\u0436\\u0434\\u0430\\u0442\\u044c\", \"\\u0436\\u0434\\u0430\\u0442\\u044c\", \"\\u0436\\u0438\\u0437\\u043d\\u044c\", \"\\u0436\\u0438\\u043b\\u0435\\u0446\", \"\\u0436\\u0438\\u043b\\u043e\\u0439\", \"\\u0436\\u0438\\u0442\\u0435\\u043b\\u044c\", \"\\u0436\\u0438\\u0442\\u044c\", \"\\u0437\\u0430\\u0431\\u0438\\u0440\\u0430\\u0442\\u044c\", \"\\u0437\\u0430\\u0431\\u043b\\u0443\\u0436\\u0434\\u0435\\u043d\\u0438\\u0435\", \"\\u0437\\u0430\\u0431\\u043e\\u043b\\u0435\\u0432\\u0430\\u043d\\u0438\\u0435\", \"\\u0437\\u0430\\u0432\\u0442\\u0440\\u0430\", \"\\u0437\\u0430\\u0432\\u044b\\u0441\\u0438\\u0442\\u044c\", \"\\u0437\\u0430\\u0439\\u0442\\u0438\", \"\\u0437\\u0430\\u043a\\u0430\\u0437\", \"\\u0437\\u0430\\u043a\\u0430\\u0437\", \"\\u0437\\u0430\\u043a\\u0430\\u0437\\u0430\\u0442\\u044c\", \"\\u0437\\u0430\\u043a\\u0430\\u0437\\u0430\\u0442\\u044c\", \"\\u0437\\u0430\\u043a\\u0430\\u0437\\u044b\\u0432\\u0430\\u0442\\u044c\", \"\\u0437\\u0430\\u043a\\u0430\\u0437\\u044b\\u0432\\u0430\\u0442\\u044c\", \"\\u0437\\u0430\\u043a\\u043b\\u044e\\u0447\\u0435\\u043d\\u0438\\u0435\", \"\\u0437\\u0430\\u043a\\u043b\\u044e\\u0447\\u0438\\u0442\\u044c\", \"\\u0437\\u0430\\u043a\\u043e\\u043d\", \"\\u0437\\u0430\\u043a\\u043e\\u043d\", \"\\u0437\\u0430\\u043a\\u043e\\u043d\", \"\\u0437\\u0430\\u043a\\u043e\\u043d\", \"\\u0437\\u0430\\u043a\\u043e\\u043d\\u043d\\u043e\", \"\\u0437\\u0430\\u043a\\u043e\\u043d\\u043d\\u044b\\u0439\", \"\\u0437\\u0430\\u043a\\u043e\\u043d\\u043e\\u0434\\u0430\\u0442\\u0435\\u043b\\u044c\\u0441\\u0442\\u0432\\u043e\", \"\\u0437\\u0430\\u043c\\u0435\\u043d\\u0430\", \"\\u0437\\u0430\\u043c\\u0435\\u043d\\u0438\\u0442\\u044c\", \"\\u0437\\u0430\\u043c\\u0435\\u0442\\u0438\\u0442\\u044c\", \"\\u0437\\u0430\\u043d\\u0438\\u043c\\u0430\\u0442\\u044c\\u0441\\u044f\", \"\\u0437\\u0430\\u043f\\u043b\\u0430\\u0442\\u0438\\u0442\\u044c\", \"\\u0437\\u0430\\u043f\\u0440\\u043e\\u0441\", \"\\u0437\\u0430\\u0449\\u0438\\u0442\\u0430\", \"\\u0437\\u0430\\u044f\\u0432\\u043a\\u0430\", \"\\u0437\\u0430\\u044f\\u0432\\u043b\\u0435\\u043d\\u0438\\u0435\", \"\\u0437\\u0430\\u044f\\u0432\\u043b\\u0435\\u043d\\u0438\\u0435\", \"\\u0437\\u0430\\u044f\\u0432\\u043b\\u0435\\u043d\\u0438\\u0435\", \"\\u0437\\u0432\\u0430\\u0442\\u044c\", \"\\u0437\\u0432\\u043e\\u043d\\u0438\\u0442\\u044c\", \"\\u0437\\u0432\\u043e\\u043d\\u0438\\u0442\\u044c\", \"\\u0437\\u0432\\u043e\\u043d\\u043e\\u043a\", \"\\u0437\\u0432\\u043e\\u043d\\u043e\\u043a\", \"\\u0437\\u0432\\u043e\\u043d\\u043e\\u043a\", \"\\u0437\\u0434\\u043e\\u0440\\u043e\\u0432\\u044c\\u0435\", \"\\u0437\\u0434\\u0440\\u0430\\u0432\\u0441\\u0442\\u0432\\u0443\\u0439\\u0442\\u0435\", \"\\u0437\\u0434\\u0440\\u0430\\u0432\\u0441\\u0442\\u0432\\u0443\\u0439\\u0442\\u0435\", \"\\u0437\\u0434\\u0440\\u0430\\u0432\\u0441\\u0442\\u0432\\u0443\\u0439\\u0442\\u0435\", \"\\u0437\\u0434\\u0440\\u0430\\u0432\\u0441\\u0442\\u0432\\u0443\\u0439\\u0442\\u0435\", \"\\u0437\\u0434\\u0440\\u0430\\u0432\\u0441\\u0442\\u0432\\u0443\\u0439\\u0442\\u0435\", \"\\u0437\\u0434\\u0440\\u0430\\u0432\\u0441\\u0442\\u0432\\u0443\\u0439\\u0442\\u0435\", \"\\u0437\\u0434\\u0440\\u0430\\u0432\\u0441\\u0442\\u0432\\u0443\\u0439\\u0442\\u0435\", \"\\u0437\\u0435\\u043c\\u043b\\u044f\", \"\\u0438\\u0434\\u0442\\u0438\", \"\\u0438\\u0434\\u0442\\u0438\", \"\\u0438\\u0437\\u0434\\u0435\\u043b\\u0438\\u0435\", \"\\u0438\\u0437\\u043c\\u0435\\u043d\\u0435\\u043d\\u0438\\u0435\", \"\\u0438\\u0437\\u043c\\u0435\\u043d\\u0438\\u0442\\u044c\\u0441\\u044f\", \"\\u0438\\u0437\\u043d\\u0430\\u0447\\u0430\\u043b\\u044c\\u043d\\u043e\", \"\\u0438\\u043c\\u0435\\u0442\\u044c\", \"\\u0438\\u043c\\u0435\\u0442\\u044c\", \"\\u0438\\u043c\\u0435\\u0442\\u044c\", \"\\u0438\\u043c\\u0435\\u0442\\u044c\", \"\\u0438\\u043c\\u0435\\u0442\\u044c\", \"\\u0438\\u043c\\u0435\\u0442\\u044c\", \"\\u0438\\u043c\\u0435\\u0442\\u044c\", \"\\u0438\\u043c\\u0435\\u0442\\u044c\\u0441\\u044f\", \"\\u0438\\u043c\\u0435\\u0442\\u044c\\u0441\\u044f\", \"\\u0438\\u043d\\u043e\\u0439\", \"\\u0438\\u043d\\u043e\\u0439\", \"\\u0438\\u043d\\u0442\\u0435\\u0440\\u043d\\u0435\\u0442\", \"\\u0438\\u043d\\u0442\\u0435\\u0440\\u043d\\u0435\\u0442\", \"\\u0438\\u043d\\u0444\\u043e\\u0440\\u043c\\u0430\\u0446\\u0438\\u044f\", \"\\u0438\\u043d\\u0444\\u043e\\u0440\\u043c\\u0430\\u0446\\u0438\\u044f\", \"\\u0438\\u043d\\u0444\\u043e\\u0440\\u043c\\u0430\\u0446\\u0438\\u044f\", \"\\u0438\\u0441\\u043f\\u043e\\u043b\\u044c\\u0437\\u043e\\u0432\\u0430\\u0442\\u044c\", \"\\u0438\\u0441\\u043f\\u0440\\u0430\\u0432\\u0438\\u0442\\u044c\", \"\\u0438\\u0441\\u0442\\u0435\\u0447\\u0435\\u043d\\u0438\\u0435\", \"\\u0438\\u0441\\u0442\\u0435\\u0447\\u044c\", \"\\u0438\\u044e\\u043d\\u044c\", \"\\u043a\\u0430\\u0431\\u0438\\u043d\\u0435\\u0442\", \"\\u043a\\u0430\\u0440\\u0442\\u0430\", \"\\u043a\\u0430\\u0440\\u0442\\u0430\", \"\\u043a\\u0430\\u0441\\u0441\\u0430\", \"\\u043a\\u0430\\u0447\\u0435\\u0441\\u0442\\u0432\\u043e\", \"\\u043a\\u0430\\u0447\\u0435\\u0441\\u0442\\u0432\\u043e\", \"\\u043a\\u0430\\u0447\\u0435\\u0441\\u0442\\u0432\\u043e\", \"\\u043a\\u0430\\u0447\\u0435\\u0441\\u0442\\u0432\\u043e\", \"\\u043a\\u0430\\u0447\\u0435\\u0441\\u0442\\u0432\\u043e\", \"\\u043a\\u0432\\u0430\\u0440\\u0442\\u0438\\u0440\\u0430\", \"\\u043a\\u0432\\u0430\\u0440\\u0442\\u0438\\u0440\\u0430\", \"\\u043a\\u0432\\u0430\\u0440\\u0442\\u0438\\u0440\\u0430\", \"\\u043a\\u043b\\u0438\\u0435\\u043d\\u0442\", \"\\u043a\\u043d\\u0438\\u0433\\u0430\", \"\\u043a\\u043e\\u0432\\u0438\\u0434\", \"\\u043a\\u043e\\u0434\", \"\\u043a\\u043e\\u043b\\u0438\\u0447\\u0435\\u0441\\u0442\\u0432\\u043e\", \"\\u043a\\u043e\\u043c\\u043f\\u0430\\u043d\\u0438\\u044f\", \"\\u043a\\u043e\\u043c\\u043f\\u0430\\u043d\\u0438\\u044f\", \"\\u043a\\u043e\\u043c\\u043f\\u0430\\u043d\\u0438\\u044f\", \"\\u043a\\u043e\\u043c\\u043f\\u0430\\u043d\\u0438\\u044f\", \"\\u043a\\u043e\\u043c\\u043f\\u0435\\u043d\\u0441\\u0438\\u0440\\u043e\\u0432\\u0430\\u0442\\u044c\", \"\\u043a\\u043e\\u043d\\u0441\\u0443\\u043b\\u044c\\u0442\\u0430\\u0446\\u0438\\u044f\", \"\\u043a\\u043e\\u043d\\u0442\\u0430\\u043a\\u0442\", \"\\u043a\\u043e\\u043d\\u0442\\u0430\\u043a\\u0442\\u043d\\u044b\\u0439\", \"\\u043a\\u043e\\u043d\\u0442\\u0435\\u0439\\u043d\\u0435\\u0440\", \"\\u043a\\u043e\\u0440\\u043e\\u0431\\u043a\\u0430\", \"\\u043a\\u0440\\u0430\\u0439\", \"\\u043a\\u0440\\u0435\\u0434\\u0438\\u0442\", \"\\u043a\\u0440\\u043e\\u043c\\u0435\", \"\\u043a\\u0440\\u044b\\u0441\\u0430\", \"\\u043a\\u0443\\u043f\\u0438\\u0442\\u044c\", \"\\u043a\\u0443\\u043f\\u0438\\u0442\\u044c\", \"\\u043a\\u0443\\u043f\\u0438\\u0442\\u044c\", \"\\u043a\\u0443\\u0440\\u044c\\u0435\\u0440\", \"\\u043b\\u0435\\u043a\\u0430\\u0440\\u0441\\u0442\\u0432\\u043e\", \"\\u043b\\u0438\\u0431\\u043e\", \"\\u043b\\u0438\\u0431\\u043e\", \"\\u043b\\u0438\\u0431\\u043e\", \"\\u043b\\u0438\\u043d\\u0438\\u044f\", \"\\u043b\\u0438\\u043d\\u0438\\u044f\", \"\\u043b\\u0438\\u043d\\u0438\\u044f\", \"\\u043b\\u0438\\u0447\\u043d\\u043e\", \"\\u043b\\u0438\\u0447\\u043d\\u044b\\u0439\", \"\\u043b\\u0438\\u0447\\u043d\\u044b\\u0439\", \"\\u043b\\u044e\\u0431\\u043e\\u0439\", \"\\u043c\\u0430\\u0433\\u0430\\u0437\\u0438\\u043d\", \"\\u043c\\u0430\\u0433\\u0430\\u0437\\u0438\\u043d\", \"\\u043c\\u0430\\u0433\\u0430\\u0437\\u0438\\u043d\", \"\\u043c\\u0430\\u0433\\u043d\\u0438\\u0442\", \"\\u043c\\u0430\\u043b\\u044b\\u0439\", \"\\u043c\\u0430\\u0440\\u043a\\u0435\\u0442\", \"\\u043c\\u0430\\u0441\\u043a\\u0430\", \"\\u043c\\u0430\\u0441\\u0442\\u0435\\u0440\", \"\\u043c\\u0430\\u0448\\u0438\\u043d\\u0430\", \"\\u043c\\u0435\\u0434\\u0438\\u0446\\u0438\\u043d\\u0441\\u043a\\u0438\\u0439\", \"\\u043c\\u0435\\u043d\\u0435\\u0434\\u0436\\u0435\\u0440\", \"\\u043c\\u0435\\u043d\\u0435\\u0434\\u0436\\u0435\\u0440\", \"\\u043c\\u0435\\u043d\\u044f\\u0442\\u044c\\u0441\\u044f\", \"\\u043c\\u0435\\u0441\\u0442\\u043e\", \"\\u043c\\u0435\\u0441\\u0442\\u043e\", \"\\u043c\\u0435\\u0441\\u0442\\u043e\", \"\\u043c\\u0435\\u0441\\u0442\\u043e\", \"\\u043c\\u0435\\u0441\\u0442\\u043e\", \"\\u043c\\u0435\\u0441\\u044f\\u0446\", \"\\u043c\\u0435\\u0441\\u044f\\u0446\", \"\\u043c\\u0435\\u0441\\u044f\\u0446\", \"\\u043c\\u0435\\u0441\\u044f\\u0446\", \"\\u043c\\u0435\\u0441\\u044f\\u0446\", \"\\u043c\\u0435\\u0441\\u044f\\u0446\", \"\\u043c\\u0435\\u0441\\u044f\\u0446\", \"\\u043c\\u0438\\u043d\\u0443\\u0442\\u0430\", \"\\u043c\\u043d\\u0435\\u043d\\u0438\\u0435\", \"\\u043c\\u043e\\u0431\\u0438\\u043b\\u044c\\u043d\\u044b\\u0439\", \"\\u043c\\u043e\\u043c\\u0435\\u043d\\u0442\", \"\\u043c\\u043e\\u043c\\u0435\\u043d\\u0442\", \"\\u043c\\u043e\\u043c\\u0435\\u043d\\u0442\", \"\\u043c\\u043e\\u0440\\u0430\\u043b\\u044c\\u043d\\u044b\\u0439\", \"\\u043c\\u043e\\u0440\\u0430\\u043b\\u044c\\u043d\\u044b\\u0439\", \"\\u043c\\u043e\\u0440\\u0430\\u043b\\u044c\\u043d\\u044b\\u0439\", \"\\u043c\\u043e\\u0441\\u043a\\u0432\\u0430\", \"\\u043c\\u043e\\u0441\\u043a\\u043e\\u0432\\u0441\\u043a\\u0438\\u0439\", \"\\u043c\\u043e\\u0447\\u044c\", \"\\u043c\\u043e\\u0447\\u044c\", \"\\u043c\\u043e\\u0447\\u044c\", \"\\u043c\\u043e\\u0447\\u044c\", \"\\u043c\\u043e\\u0447\\u044c\", \"\\u043c\\u043e\\u0447\\u044c\", \"\\u043c\\u043e\\u0447\\u044c\", \"\\u043c\\u043e\\u0447\\u044c\", \"\\u043c\\u043e\\u0447\\u044c\", \"\\u043c\\u043e\\u0448\\u0435\\u043d\\u043d\\u0438\\u043a\", \"\\u043c\\u0443\\u043d\\u0438\\u0446\\u0438\\u043f\\u0430\\u043b\\u044c\\u043d\\u044b\\u0439\", \"\\u043c\\u0443\\u0441\\u043e\\u0440\", \"\\u043d\\u0430\\u0437\\u0430\\u0434\", \"\\u043d\\u0430\\u0437\\u0430\\u0434\", \"\\u043d\\u0430\\u0437\\u0432\\u0430\\u043d\\u0438\\u0435\", \"\\u043d\\u0430\\u0437\\u043d\\u0430\\u0447\\u0438\\u0442\\u044c\", \"\\u043d\\u0430\\u0437\\u043d\\u0430\\u0447\\u0438\\u0442\\u044c\", \"\\u043d\\u0430\\u043b\\u0438\\u0447\\u0438\\u0435\", \"\\u043d\\u0430\\u043b\\u0438\\u0447\\u0438\\u0435\", \"\\u043d\\u0430\\u043f\\u0438\\u0441\\u0430\\u0442\\u044c\", \"\\u043d\\u0430\\u043f\\u0438\\u0441\\u0430\\u0442\\u044c\", \"\\u043d\\u0430\\u043f\\u0438\\u0441\\u0430\\u0442\\u044c\", \"\\u043d\\u0430\\u043f\\u0438\\u0441\\u0430\\u0442\\u044c\", \"\\u043d\\u0430\\u043f\\u0438\\u0441\\u0430\\u0442\\u044c\", \"\\u043d\\u0430\\u0440\\u0443\\u0448\\u0430\\u0442\\u044c\", \"\\u043d\\u0430\\u0440\\u0443\\u0448\\u0430\\u0442\\u044c\", \"\\u043d\\u0430\\u0440\\u0443\\u0448\\u0435\\u043d\\u0438\\u0435\", \"\\u043d\\u0430\\u0441\\u043a\\u043e\\u043b\\u044c\\u043a\\u043e\", \"\\u043d\\u0430\\u0441\\u0442\\u0430\\u0438\\u0432\\u0430\\u0442\\u044c\", \"\\u043d\\u0430\\u0442\\u0430\\u043b\\u044c\\u044f\", \"\\u043d\\u0430\\u0445\\u043e\\u0434\\u0438\\u0442\\u044c\\u0441\\u044f\", \"\\u043d\\u0430\\u0445\\u043e\\u0434\\u0438\\u0442\\u044c\\u0441\\u044f\", \"\\u043d\\u0430\\u0445\\u043e\\u0434\\u0438\\u0442\\u044c\\u0441\\u044f\", \"\\u043d\\u0430\\u0447\\u0430\\u0442\\u044c\", \"\\u043d\\u0430\\u0448\", \"\\u043d\\u0430\\u0448\", \"\\u043d\\u0430\\u0448\", \"\\u043d\\u0430\\u0448\", \"\\u043d\\u0430\\u0448\", \"\\u043d\\u0435\\u0434\\u0435\\u043b\\u044f\", \"\\u043d\\u0435\\u0434\\u0435\\u043b\\u044f\", \"\\u043d\\u0435\\u0434\\u0435\\u043b\\u044f\", \"\\u043d\\u0435\\u043c\\u043e\\u0439\", \"\\u043d\\u0435\\u043d\\u0430\\u0434\\u043b\\u0435\\u0436\\u0430\\u0449\\u0438\\u0439\", \"\\u043d\\u0435\\u043e\\u0431\\u0445\\u043e\\u0434\\u0438\\u043c\\u043e\", \"\\u043d\\u0435\\u043e\\u0431\\u0445\\u043e\\u0434\\u0438\\u043c\\u043e\", \"\\u043d\\u0435\\u043e\\u0431\\u0445\\u043e\\u0434\\u0438\\u043c\\u043e\\u0441\\u0442\\u044c\", \"\\u043d\\u0435\\u043e\\u0431\\u0445\\u043e\\u0434\\u0438\\u043c\\u044b\\u0439\", \"\\u043d\\u0435\\u043e\\u0431\\u0445\\u043e\\u0434\\u0438\\u043c\\u044b\\u0439\", \"\\u043d\\u0435\\u043f\\u043e\\u043d\\u044f\\u0442\\u043d\\u044b\\u0439\", \"\\u043d\\u0435\\u0443\\u0441\\u0442\\u043e\\u0439\\u043a\\u0430\", \"\\u043d\\u0438\\u0433\\u0434\\u0435\", \"\\u043d\\u0438\\u043a\\u0430\\u043a\\u043e\\u0439\", \"\\u043d\\u0438\\u043a\\u0430\\u043a\\u043e\\u0439\", \"\\u043d\\u0438\\u043a\\u0442\\u043e\", \"\\u043d\\u0438\\u043a\\u0442\\u043e\", \"\\u043d\\u0438\\u043a\\u0442\\u043e\", \"\\u043d\\u043e\\u0432\\u044b\\u0439\", \"\\u043d\\u043e\\u043c\\u0435\\u0440\", \"\\u043d\\u043e\\u043c\\u0435\\u0440\", \"\\u043d\\u043e\\u043c\\u0435\\u0440\", \"\\u043d\\u043e\\u043c\\u0435\\u0440\", \"\\u043d\\u043e\\u043c\\u0435\\u0440\", \"\\u043d\\u043e\\u0440\\u043c\\u0430\", \"\\u043d\\u043e\\u0440\\u043c\\u0430\", \"\\u043d\\u043e\\u0441\\u0438\\u0442\\u044c\", \"\\u043d\\u043e\\u0443\\u0442\\u0431\\u0443\\u043a\", \"\\u043d\\u0443\\u0436\\u043d\\u043e\", \"\\u043d\\u0443\\u0436\\u043d\\u044b\\u0439\", \"\\u043d\\u0443\\u0436\\u043d\\u044b\\u0439\", \"\\u043d\\u0443\\u0436\\u043d\\u044b\\u0439\", \"\\u043d\\u0443\\u0436\\u043d\\u044b\\u0439\", \"\\u043e\\u0431\\u043b\", \"\\u043e\\u0431\\u043b\\u0430\\u0441\\u0442\\u044c\", \"\\u043e\\u0431\\u043b\\u0430\\u0441\\u0442\\u044c\", \"\\u043e\\u0431\\u043c\\u0430\\u043d\", \"\\u043e\\u0431\\u043c\\u0430\\u043d\\u044b\\u0432\\u0430\\u0442\\u044c\", \"\\u043e\\u0431\\u043c\\u0435\\u043d\", \"\\u043e\\u0431\\u043c\\u0435\\u043d\\u044f\\u0442\\u044c\", \"\\u043e\\u0431\\u043d\\u0430\\u0440\\u0443\\u0436\\u0438\\u0442\\u044c\", \"\\u043e\\u0431\\u043d\\u0430\\u0440\\u0443\\u0436\\u0438\\u0442\\u044c\", \"\\u043e\\u0431\\u0440\\u0430\\u0437\", \"\\u043e\\u0431\\u0440\\u0430\\u0437\", \"\\u043e\\u0431\\u0440\\u0430\\u0442\\u0438\\u0442\\u044c\\u0441\\u044f\", \"\\u043e\\u0431\\u0440\\u0430\\u0442\\u0438\\u0442\\u044c\\u0441\\u044f\", \"\\u043e\\u0431\\u0440\\u0430\\u0442\\u0438\\u0442\\u044c\\u0441\\u044f\", \"\\u043e\\u0431\\u0440\\u0430\\u0442\\u0438\\u0442\\u044c\\u0441\\u044f\", \"\\u043e\\u0431\\u0440\\u0430\\u0442\\u0438\\u0442\\u044c\\u0441\\u044f\", \"\\u043e\\u0431\\u0440\\u0430\\u0442\\u0438\\u0442\\u044c\\u0441\\u044f\", \"\\u043e\\u0431\\u0440\\u0430\\u0442\\u0438\\u0442\\u044c\\u0441\\u044f\", \"\\u043e\\u0431\\u0440\\u0430\\u0442\\u0438\\u0442\\u044c\\u0441\\u044f\", \"\\u043e\\u0431\\u0440\\u0430\\u0442\\u043d\\u043e\", \"\\u043e\\u0431\\u0440\\u0430\\u0442\\u043d\\u043e\", \"\\u043e\\u0431\\u0440\\u0430\\u0442\\u043d\\u043e\", \"\\u043e\\u0431\\u0440\\u0430\\u0449\\u0430\\u0442\\u044c\\u0441\\u044f\", \"\\u043e\\u0431\\u0440\\u0430\\u0449\\u0430\\u0442\\u044c\\u0441\\u044f\", \"\\u043e\\u0431\\u0440\\u0430\\u0449\\u0430\\u0442\\u044c\\u0441\\u044f\", \"\\u043e\\u0431\\u0440\\u0430\\u0449\\u0435\\u043d\\u0438\\u0435\", \"\\u043e\\u0431\\u0440\\u0430\\u0449\\u0435\\u043d\\u0438\\u0435\", \"\\u043e\\u0431\\u0440\\u0430\\u0449\\u0435\\u043d\\u0438\\u0435\", \"\\u043e\\u0431\\u0440\\u0430\\u0449\\u0435\\u043d\\u0438\\u0435\", \"\\u043e\\u0431\\u0440\\u0430\\u0449\\u0435\\u043d\\u0438\\u0435\", \"\\u043e\\u0431\\u0440\\u0430\\u0449\\u0435\\u043d\\u0438\\u0435\", \"\\u043e\\u0431\\u0440\\u0430\\u0449\\u0435\\u043d\\u0438\\u0435\", \"\\u043e\\u0431\\u0440\\u0430\\u0449\\u0435\\u043d\\u0438\\u0435\", \"\\u043e\\u0431\\u0441\\u0442\\u0430\\u043d\\u043e\\u0432\\u043a\\u0430\", \"\\u043e\\u0431\\u0449\\u0435\\u0441\\u0442\\u0432\\u0435\\u043d\\u043d\\u044b\\u0439\", \"\\u043e\\u0431\\u0449\\u0438\\u0439\", \"\\u043e\\u0431\\u044a\\u044f\\u0441\\u043d\\u0438\\u0442\\u044c\", \"\\u043e\\u0431\\u044f\\u0437\\u0430\\u0442\\u0435\\u043b\\u044c\\u043d\\u044b\\u0439\", \"\\u043e\\u0431\\u044f\\u0437\\u0430\\u0442\\u044c\", \"\\u043e\\u0431\\u044f\\u0437\\u0430\\u0442\\u044c\", \"\\u043e\\u0431\\u044f\\u0437\\u0430\\u0442\\u044c\", \"\\u043e\\u0434\\u043d\\u0430\\u043a\\u043e\", \"\\u043e\\u0434\\u043d\\u0430\\u043a\\u043e\", \"\\u043e\\u0434\\u043d\\u0430\\u043a\\u043e\", \"\\u043e\\u043a\\u0430\\u0437\\u0430\\u043d\\u0438\\u0435\", \"\\u043e\\u043a\\u043d\\u043e\", \"\\u043e\\u043e\\u043e\", \"\\u043e\\u043e\\u043e\", \"\\u043e\\u043e\\u043e\", \"\\u043e\\u043f\\u0435\\u0440\\u0430\\u0442\\u043e\\u0440\", \"\\u043e\\u043f\\u0435\\u0440\\u0430\\u0442\\u043e\\u0440\", \"\\u043e\\u043f\\u043b\\u0430\\u0442\\u0430\", \"\\u043e\\u043f\\u043b\\u0430\\u0442\\u0430\", \"\\u043e\\u043f\\u043b\\u0430\\u0442\\u0430\", \"\\u043e\\u043f\\u043b\\u0430\\u0442\\u0430\", \"\\u043e\\u043f\\u043b\\u0430\\u0442\\u0430\", \"\\u043e\\u043f\\u043b\\u0430\\u0442\\u0430\", \"\\u043e\\u043f\\u043b\\u0430\\u0442\\u0430\", \"\\u043e\\u043f\\u043b\\u0430\\u0442\\u0430\", \"\\u043e\\u043f\\u043b\\u0430\\u0442\\u0438\\u0442\\u044c\", \"\\u043e\\u043f\\u043b\\u0430\\u0442\\u0438\\u0442\\u044c\", \"\\u043e\\u043f\\u043b\\u0430\\u0442\\u0438\\u0442\\u044c\", \"\\u043e\\u043f\\u043b\\u0430\\u0442\\u0438\\u0442\\u044c\", \"\\u043e\\u043f\\u043b\\u0430\\u0442\\u0438\\u0442\\u044c\", \"\\u043e\\u043f\\u043b\\u0430\\u0442\\u0438\\u0442\\u044c\", \"\\u043e\\u043f\\u043b\\u0430\\u0447\\u0438\\u0432\\u0430\\u0442\\u044c\", \"\\u043e\\u0440\\u0433\\u0430\\u043d\\u0438\\u0437\\u0430\\u0446\\u0438\\u044f\", \"\\u043e\\u0440\\u0433\\u0430\\u043d\\u0438\\u0437\\u0430\\u0446\\u0438\\u044f\", \"\\u043e\\u0441\\u043d\\u043e\\u0432\\u0430\", \"\\u043e\\u0441\\u043d\\u043e\\u0432\\u0430\", \"\\u043e\\u0441\\u043d\\u043e\\u0432\\u0430\\u043d\\u0438\\u0435\", \"\\u043e\\u0441\\u0443\\u0449\\u0435\\u0441\\u0442\\u0432\\u0438\\u0442\\u044c\", \"\\u043e\\u0442\\u0432\\u0435\\u0442\", \"\\u043e\\u0442\\u0432\\u0435\\u0442\", \"\\u043e\\u0442\\u0432\\u0435\\u0442\", \"\\u043e\\u0442\\u0432\\u0435\\u0442\", \"\\u043e\\u0442\\u0432\\u0435\\u0442\", \"\\u043e\\u0442\\u0432\\u0435\\u0442\", \"\\u043e\\u0442\\u0432\\u0435\\u0442\", \"\\u043e\\u0442\\u0432\\u0435\\u0442\\u0438\\u0442\\u044c\", \"\\u043e\\u0442\\u0432\\u0435\\u0442\\u0438\\u0442\\u044c\", \"\\u043e\\u0442\\u0432\\u0435\\u0442\\u0438\\u0442\\u044c\", \"\\u043e\\u0442\\u0432\\u0435\\u0442\\u0438\\u0442\\u044c\", \"\\u043e\\u0442\\u0432\\u0435\\u0442\\u0438\\u0442\\u044c\", \"\\u043e\\u0442\\u0432\\u0435\\u0442\\u0438\\u0442\\u044c\", \"\\u043e\\u0442\\u0434\\u0430\\u0442\\u044c\", \"\\u043e\\u0442\\u0434\\u0435\\u043b\", \"\\u043e\\u0442\\u0434\\u0435\\u043b\\u044c\\u043d\\u044b\\u0439\", \"\\u043e\\u0442\\u043a\\u0430\\u0437\", \"\\u043e\\u0442\\u043a\\u0430\\u0437\", \"\\u043e\\u0442\\u043a\\u0430\\u0437\", \"\\u043e\\u0442\\u043a\\u0430\\u0437\", \"\\u043e\\u0442\\u043a\\u0430\\u0437\\u0430\\u0442\\u044c\", \"\\u043e\\u0442\\u043a\\u0430\\u0437\\u0430\\u0442\\u044c\", \"\\u043e\\u0442\\u043a\\u0430\\u0437\\u0430\\u0442\\u044c\", \"\\u043e\\u0442\\u043a\\u0430\\u0437\\u0430\\u0442\\u044c\", \"\\u043e\\u0442\\u043a\\u0430\\u0437\\u0430\\u0442\\u044c\\u0441\\u044f\", \"\\u043e\\u0442\\u043a\\u0430\\u0437\\u0430\\u0442\\u044c\\u0441\\u044f\", \"\\u043e\\u0442\\u043a\\u0430\\u0437\\u0430\\u0442\\u044c\\u0441\\u044f\", \"\\u043e\\u0442\\u043a\\u0430\\u0437\\u0430\\u0442\\u044c\\u0441\\u044f\", \"\\u043e\\u0442\\u043a\\u0430\\u0437\\u044b\\u0432\\u0430\\u0442\\u044c\", \"\\u043e\\u0442\\u043a\\u0430\\u0437\\u044b\\u0432\\u0430\\u0442\\u044c\", \"\\u043e\\u0442\\u043a\\u0430\\u0437\\u044b\\u0432\\u0430\\u0442\\u044c\\u0441\\u044f\", \"\\u043e\\u0442\\u043a\\u043b\\u044e\\u0447\\u0438\\u0442\\u044c\", \"\\u043e\\u0442\\u043a\\u0440\\u044b\\u0442\\u044b\\u0439\", \"\\u043e\\u0442\\u043c\\u0435\\u043d\\u0430\", \"\\u043e\\u0442\\u043c\\u0435\\u043d\\u0438\\u0442\\u044c\", \"\\u043e\\u0442\\u043d\\u043e\\u0448\\u0435\\u043d\\u0438\\u0435\", \"\\u043e\\u0442\\u043f\\u0440\\u0430\\u0432\\u0438\\u0442\\u044c\", \"\\u043e\\u0442\\u043f\\u0440\\u0430\\u0432\\u0438\\u0442\\u044c\", \"\\u043e\\u0442\\u043f\\u0440\\u0430\\u0432\\u0438\\u0442\\u044c\", \"\\u043e\\u0442\\u043f\\u0440\\u0430\\u0432\\u0438\\u0442\\u044c\", \"\\u043e\\u0442\\u043f\\u0440\\u0430\\u0432\\u043a\\u0430\", \"\\u043e\\u0442\\u043f\\u0440\\u0430\\u0432\\u043b\\u0435\\u043d\\u0438\\u0435\", \"\\u043e\\u0442\\u0441\\u0443\\u0442\\u0441\\u0442\\u0432\\u0438\\u0435\", \"\\u043e\\u0442\\u0441\\u0443\\u0442\\u0441\\u0442\\u0432\\u0438\\u0435\", \"\\u043e\\u0444\\u0438\\u0446\\u0438\\u0430\\u043b\\u044c\\u043d\\u044b\\u0439\", \"\\u043e\\u0444\\u043e\\u0440\\u043c\\u0438\\u0442\\u044c\", \"\\u043e\\u0444\\u043e\\u0440\\u043c\\u0438\\u0442\\u044c\", \"\\u043e\\u0444\\u043e\\u0440\\u043c\\u0438\\u0442\\u044c\", \"\\u043e\\u0444\\u043e\\u0440\\u043c\\u0438\\u0442\\u044c\", \"\\u043e\\u0444\\u043e\\u0440\\u043c\\u0438\\u0442\\u044c\", \"\\u043e\\u0444\\u043e\\u0440\\u043c\\u043b\\u0435\\u043d\\u0438\\u0435\", \"\\u043e\\u0444\\u043e\\u0440\\u043c\\u043b\\u0435\\u043d\\u0438\\u0435\", \"\\u043e\\u0444\\u043e\\u0440\\u043c\\u043b\\u044f\\u0442\\u044c\", \"\\u043e\\u0447\\u0435\\u043d\\u044c\", \"\\u043e\\u0447\\u0435\\u043d\\u044c\", \"\\u043e\\u0447\\u0435\\u043d\\u044c\", \"\\u043e\\u0448\\u0438\\u0431\\u043a\\u0430\", \"\\u043f\\u0435\\u0440\\u0432\\u044b\\u0439\", \"\\u043f\\u0435\\u0440\\u0432\\u044b\\u0439\", \"\\u043f\\u0435\\u0440\\u0435\\u0432\\u0435\\u0441\\u0442\\u0438\", \"\\u043f\\u0435\\u0440\\u0435\\u0434\\u0430\\u0442\\u044c\", \"\\u043f\\u0435\\u0440\\u0435\\u0434\\u0430\\u0447\\u0430\", \"\\u043f\\u0435\\u0440\\u0435\\u043f\\u0438\\u0441\\u043a\\u0430\", \"\\u043f\\u0435\\u0440\\u0438\\u043e\\u0434\", \"\\u043f\\u0435\\u0440\\u0441\\u043e\\u043d\\u0430\\u043b\", \"\\u043f\\u0435\\u0442\\u0435\\u0440\\u0431\\u0443\\u0440\\u0433\", \"\\u043f\\u0438\\u0441\\u0430\\u0442\\u044c\", \"\\u043f\\u0438\\u0441\\u0430\\u0442\\u044c\", \"\\u043f\\u0438\\u0441\\u0430\\u0442\\u044c\", \"\\u043f\\u0438\\u0441\\u044c\\u043c\\u0435\\u043d\\u043d\\u044b\\u0439\", \"\\u043f\\u0438\\u0441\\u044c\\u043c\\u043e\", \"\\u043f\\u0438\\u0441\\u044c\\u043c\\u043e\", \"\\u043f\\u043b\\u0430\\u043d\\u0438\\u0440\\u043e\\u0432\\u0430\\u0442\\u044c\", \"\\u043f\\u043b\\u0430\\u0442\\u0430\", \"\\u043f\\u043b\\u0430\\u0442\\u043d\\u044b\\u0439\", \"\\u043f\\u043b\\u0430\\u0442\\u0451\\u0436\", \"\\u043f\\u043b\\u043e\\u0449\\u0430\\u0434\\u043a\\u0430\", \"\\u043f\\u043e\\u0432\\u0442\\u043e\\u0440\\u043d\\u043e\", \"\\u043f\\u043e\\u0432\\u0442\\u043e\\u0440\\u043d\\u044b\\u0439\", \"\\u043f\\u043e\\u0432\\u044b\\u0448\\u0435\\u043d\\u0438\\u0435\", \"\\u043f\\u043e\\u0434\\u0430\\u0440\\u043e\\u043a\", \"\\u043f\\u043e\\u0434\\u0430\\u0442\\u044c\", \"\\u043f\\u043e\\u0434\\u0434\\u0435\\u0440\\u0436\\u043a\\u0430\", \"\\u043f\\u043e\\u0434\\u0434\\u0435\\u0440\\u0436\\u043a\\u0430\", \"\\u043f\\u043e\\u0434\\u0434\\u0435\\u0440\\u0436\\u043a\\u0430\", \"\\u043f\\u043e\\u0434\\u043a\\u043b\\u044e\\u0447\\u0438\\u0442\\u044c\", \"\\u043f\\u043e\\u0434\\u043e\\u0431\\u043d\\u044b\\u0439\", \"\\u043f\\u043e\\u0434\\u043e\\u0439\\u0442\\u0438\", \"\\u043f\\u043e\\u0434\\u043f\\u0438\\u0441\\u043a\\u0430\", \"\\u043f\\u043e\\u0434\\u043f\\u0438\\u0441\\u044c\", \"\\u043f\\u043e\\u0434\\u0441\\u043a\\u0430\\u0437\\u0430\\u0442\\u044c\", \"\\u043f\\u043e\\u0434\\u0441\\u043a\\u0430\\u0437\\u0430\\u0442\\u044c\", \"\\u043f\\u043e\\u0434\\u0441\\u043a\\u0430\\u0437\\u0430\\u0442\\u044c\", \"\\u043f\\u043e\\u0434\\u0442\\u0432\\u0435\\u0440\\u0436\\u0434\\u0430\\u0442\\u044c\", \"\\u043f\\u043e\\u0434\\u0442\\u0432\\u0435\\u0440\\u0436\\u0434\\u0435\\u043d\\u0438\\u0435\", \"\\u043f\\u043e\\u0434\\u044a\\u0435\\u0437\\u0434\", \"\\u043f\\u043e\\u0436\\u0430\\u043b\\u0443\\u0439\\u0441\\u0442\\u0430\", \"\\u043f\\u043e\\u0436\\u0430\\u043b\\u0443\\u0439\\u0441\\u0442\\u0430\", \"\\u043f\\u043e\\u0436\\u0430\\u043b\\u0443\\u0439\\u0441\\u0442\\u0430\", \"\\u043f\\u043e\\u0436\\u0430\\u043b\\u0443\\u0439\\u0441\\u0442\\u0430\", \"\\u043f\\u043e\\u0437\\u0432\\u043e\\u043d\\u0438\\u0442\\u044c\", \"\\u043f\\u043e\\u0437\\u0432\\u043e\\u043d\\u0438\\u0442\\u044c\", \"\\u043f\\u043e\\u0437\\u0432\\u043e\\u043d\\u0438\\u0442\\u044c\", \"\\u043f\\u043e\\u0437\\u0438\\u0446\\u0438\\u044f\", \"\\u043f\\u043e\\u0437\\u0438\\u0446\\u0438\\u044f\", \"\\u043f\\u043e\\u0438\\u0441\\u043a\", \"\\u043f\\u043e\\u0439\\u0442\\u0438\", \"\\u043f\\u043e\\u043a\\u0443\\u043f\\u043a\\u0430\", \"\\u043f\\u043e\\u043a\\u0443\\u043f\\u043a\\u0430\", \"\\u043f\\u043e\\u043a\\u0443\\u043f\\u043a\\u0430\", \"\\u043f\\u043e\\u043b\", \"\\u043f\\u043e\\u043b\", \"\\u043f\\u043e\\u043b\\u0433\\u043e\\u0434\\u0430\", \"\\u043f\\u043e\\u043b\\u0438\\u043a\\u043b\\u0438\\u043d\\u0438\\u043a\\u0430\", \"\\u043f\\u043e\\u043b\\u0438\\u0441\", \"\\u043f\\u043e\\u043b\\u0438\\u0446\\u0438\\u044f\", \"\\u043f\\u043e\\u043b\\u043d\\u044b\\u0439\", \"\\u043f\\u043e\\u043b\\u043d\\u044b\\u0439\", \"\\u043f\\u043e\\u043b\\u043e\\u0436\\u0438\\u0442\\u044c\", \"\\u043f\\u043e\\u043b\\u0443\\u0447\\u0430\\u0442\\u044c\", \"\\u043f\\u043e\\u043b\\u0443\\u0447\\u0430\\u0442\\u044c\\u0441\\u044f\", \"\\u043f\\u043e\\u043b\\u0443\\u0447\\u0435\\u043d\\u0438\\u0435\", \"\\u043f\\u043e\\u043b\\u0443\\u0447\\u0435\\u043d\\u0438\\u0435\", \"\\u043f\\u043e\\u043b\\u0443\\u0447\\u0438\\u0442\\u044c\", \"\\u043f\\u043e\\u043b\\u0443\\u0447\\u0438\\u0442\\u044c\", \"\\u043f\\u043e\\u043b\\u0443\\u0447\\u0438\\u0442\\u044c\", \"\\u043f\\u043e\\u043b\\u0443\\u0447\\u0438\\u0442\\u044c\", \"\\u043f\\u043e\\u043b\\u044c\\u0437\\u043e\\u0432\\u0430\\u0442\\u044c\\u0441\\u044f\", \"\\u043f\\u043e\\u043b\\u044c\\u0437\\u043e\\u0432\\u0430\\u0442\\u044c\\u0441\\u044f\", \"\\u043f\\u043e\\u043c\\u0435\\u0449\\u0435\\u043d\\u0438\\u0435\", \"\\u043f\\u043e\\u043c\\u043e\\u0447\\u044c\", \"\\u043f\\u043e\\u043c\\u043e\\u0447\\u044c\", \"\\u043f\\u043e\\u043c\\u043e\\u0447\\u044c\", \"\\u043f\\u043e\\u043c\\u043e\\u0447\\u044c\", \"\\u043f\\u043e\\u043c\\u043e\\u0447\\u044c\", \"\\u043f\\u043e\\u043c\\u043e\\u0449\\u044c\", \"\\u043f\\u043e\\u043c\\u043e\\u0449\\u044c\", \"\\u043f\\u043e\\u043c\\u043e\\u0449\\u044c\", \"\\u043f\\u043e\\u043f\\u0430\\u0441\\u0442\\u044c\", \"\\u043f\\u043e\\u043f\\u0440\\u043e\\u0431\\u043e\\u0432\\u0430\\u0442\\u044c\", \"\\u043f\\u043e\\u043f\\u0440\\u043e\\u0441\\u0438\\u0442\\u044c\", \"\\u043f\\u043e\\u043f\\u0440\\u043e\\u0441\\u0438\\u0442\\u044c\", \"\\u043f\\u043e\\u0440\\u044f\\u0434\\u043e\\u043a\", \"\\u043f\\u043e\\u0440\\u044f\\u0434\\u043e\\u043a\", \"\\u043f\\u043e\\u0441\\u0435\\u0442\\u0438\\u0442\\u0435\\u043b\\u044c\", \"\\u043f\\u043e\\u0441\\u0435\\u0449\\u0430\\u0442\\u044c\", \"\\u043f\\u043e\\u0441\\u0435\\u0449\\u0435\\u043d\\u0438\\u0435\", \"\\u043f\\u043e\\u0441\\u043a\\u043e\\u043b\\u044c\\u043a\\u0443\", \"\\u043f\\u043e\\u0441\\u043b\\u0435\\u0434\\u043d\\u0438\\u0439\", \"\\u043f\\u043e\\u0441\\u0442\\u0430\\u0432\\u0438\\u0442\\u044c\", \"\\u043f\\u043e\\u0441\\u0442\\u0430\\u0432\\u0438\\u0442\\u044c\", \"\\u043f\\u043e\\u0441\\u0442\\u0430\\u0432\\u0438\\u0442\\u044c\", \"\\u043f\\u043e\\u0441\\u0442\\u0430\\u043d\\u043e\\u0432\\u043b\\u0435\\u043d\\u0438\\u0435\", \"\\u043f\\u043e\\u0441\\u0442\\u0430\\u043d\\u043e\\u0432\\u043b\\u0435\\u043d\\u0438\\u0435\", \"\\u043f\\u043e\\u0441\\u0442\\u043e\\u044f\\u043d\\u043d\\u043e\", \"\\u043f\\u043e\\u0441\\u0442\\u043e\\u044f\\u043d\\u043d\\u043e\", \"\\u043f\\u043e\\u0441\\u0442\\u043e\\u044f\\u043d\\u043d\\u043e\", \"\\u043f\\u043e\\u0441\\u0442\\u043e\\u044f\\u043d\\u043d\\u044b\\u0439\", \"\\u043f\\u043e\\u0441\\u0442\\u0443\\u043f\\u0438\\u0442\\u044c\", \"\\u043f\\u043e\\u0441\\u0442\\u0443\\u043f\\u0438\\u0442\\u044c\", \"\\u043f\\u043e\\u0441\\u044b\\u043b\\u043a\\u0430\", \"\\u043f\\u043e\\u0442\\u0440\\u0435\\u0431\\u0438\\u0442\\u0435\\u043b\\u044c\", \"\\u043f\\u043e\\u0442\\u0440\\u0435\\u0431\\u0438\\u0442\\u0435\\u043b\\u044c\", \"\\u043f\\u043e\\u0447\\u0435\\u043c\\u0443\", \"\\u043f\\u043e\\u0447\\u0442\\u0430\", \"\\u043f\\u043e\\u044d\\u0442\\u043e\\u043c\\u0443\", \"\\u043f\\u043e\\u044d\\u0442\\u043e\\u043c\\u0443\", \"\\u043f\\u0440\\u0430\\u0432\\u0438\\u043b\\u043e\", \"\\u043f\\u0440\\u0430\\u0432\\u0438\\u043b\\u043e\", \"\\u043f\\u0440\\u0430\\u0432\\u043e\", \"\\u043f\\u0440\\u0430\\u0432\\u043e\", \"\\u043f\\u0440\\u0430\\u0432\\u043e\", \"\\u043f\\u0440\\u0430\\u0432\\u043e\", \"\\u043f\\u0440\\u0430\\u0432\\u043e\", \"\\u043f\\u0440\\u0430\\u0432\\u043e\\u043c\\u0435\\u0440\\u043d\\u044b\\u0439\", \"\\u043f\\u0440\\u0435\\u0434\\u043e\\u043f\\u043b\\u0430\\u0442\\u0430\", \"\\u043f\\u0440\\u0435\\u0434\\u043e\\u0441\\u0442\\u0430\\u0432\\u0438\\u0442\\u044c\", \"\\u043f\\u0440\\u0435\\u0434\\u043e\\u0441\\u0442\\u0430\\u0432\\u0438\\u0442\\u044c\", \"\\u043f\\u0440\\u0435\\u0434\\u043e\\u0441\\u0442\\u0430\\u0432\\u0438\\u0442\\u044c\", \"\\u043f\\u0440\\u0435\\u0434\\u043e\\u0441\\u0442\\u0430\\u0432\\u043b\\u0435\\u043d\\u0438\\u0435\", \"\\u043f\\u0440\\u0435\\u0434\\u043e\\u0441\\u0442\\u0430\\u0432\\u043b\\u044f\\u0442\\u044c\", \"\\u043f\\u0440\\u0435\\u0434\\u043f\\u0440\\u0438\\u043d\\u044f\\u0442\\u044c\", \"\\u043f\\u0440\\u0435\\u0434\\u044a\\u044f\\u0432\\u0438\\u0442\\u044c\", \"\\u043f\\u0440\\u0435\\u0442\\u0435\\u043d\\u0437\\u0438\\u044f\", \"\\u043f\\u0440\\u0435\\u0442\\u0435\\u043d\\u0437\\u0438\\u044f\", \"\\u043f\\u0440\\u0435\\u0442\\u0435\\u043d\\u0437\\u0438\\u044f\", \"\\u043f\\u0440\\u0438\\u0432\\u0435\\u0441\\u0442\\u0438\", \"\\u043f\\u0440\\u0438\\u0435\\u0437\\u0436\\u0430\\u0442\\u044c\", \"\\u043f\\u0440\\u0438\\u0435\\u0445\\u0430\\u0442\\u044c\", \"\\u043f\\u0440\\u0438\\u0439\\u0442\\u0438\", \"\\u043f\\u0440\\u0438\\u0439\\u0442\\u0438\", \"\\u043f\\u0440\\u0438\\u0439\\u0442\\u0438\", \"\\u043f\\u0440\\u0438\\u0439\\u0442\\u0438\", \"\\u043f\\u0440\\u0438\\u043b\\u043e\\u0436\\u0438\\u0442\\u044c\", \"\\u043f\\u0440\\u0438\\u043d\\u0438\\u043c\\u0430\\u0442\\u044c\", \"\\u043f\\u0440\\u0438\\u043d\\u044f\\u0442\\u044c\", \"\\u043f\\u0440\\u0438\\u043d\\u044f\\u0442\\u044c\", \"\\u043f\\u0440\\u0438\\u043d\\u044f\\u0442\\u044c\", \"\\u043f\\u0440\\u0438\\u043d\\u044f\\u0442\\u044c\", \"\\u043f\\u0440\\u0438\\u043d\\u044f\\u0442\\u044c\", \"\\u043f\\u0440\\u0438\\u043e\\u0431\\u0440\\u0435\\u0441\\u0442\\u0438\", \"\\u043f\\u0440\\u0438\\u043e\\u0431\\u0440\\u0435\\u0441\\u0442\\u0438\", \"\\u043f\\u0440\\u0438\\u043e\\u0431\\u0440\\u0435\\u0442\\u0430\\u0442\\u044c\", \"\\u043f\\u0440\\u0438\\u0441\\u043b\\u0430\\u0442\\u044c\", \"\\u043f\\u0440\\u0438\\u0441\\u043b\\u0430\\u0442\\u044c\", \"\\u043f\\u0440\\u0438\\u0445\\u043e\\u0434\\u0438\\u0442\\u044c\\u0441\\u044f\", \"\\u043f\\u0440\\u0438\\u0447\\u0438\\u043d\\u0430\", \"\\u043f\\u0440\\u0438\\u0447\\u0438\\u043d\\u0430\", \"\\u043f\\u0440\\u0438\\u0447\\u0438\\u043d\\u0430\", \"\\u043f\\u0440\\u0438\\u0447\\u0438\\u043d\\u0430\", \"\\u043f\\u0440\\u0438\\u0447\\u0438\\u043d\\u0430\", \"\\u043f\\u0440\\u043e\\u0431\\u043b\\u0435\\u043c\\u0430\", \"\\u043f\\u0440\\u043e\\u0431\\u043b\\u0435\\u043c\\u0430\", \"\\u043f\\u0440\\u043e\\u0431\\u043b\\u0435\\u043c\\u0430\", \"\\u043f\\u0440\\u043e\\u0431\\u043b\\u0435\\u043c\\u0430\", \"\\u043f\\u0440\\u043e\\u0432\\u0435\\u0434\\u0435\\u043d\\u0438\\u0435\", \"\\u043f\\u0440\\u043e\\u0432\\u0435\\u0440\\u043a\\u0430\", \"\\u043f\\u0440\\u043e\\u0432\\u0435\\u0440\\u043a\\u0430\", \"\\u043f\\u0440\\u043e\\u0432\\u0435\\u0440\\u043a\\u0430\", \"\\u043f\\u0440\\u043e\\u0432\\u0435\\u0440\\u043a\\u0430\", \"\\u043f\\u0440\\u043e\\u0432\\u0435\\u0440\\u043a\\u0430\", \"\\u043f\\u0440\\u043e\\u0432\\u0435\\u0441\\u0442\\u0438\", \"\\u043f\\u0440\\u043e\\u0432\\u0435\\u0441\\u0442\\u0438\", \"\\u043f\\u0440\\u043e\\u0432\\u0435\\u0441\\u0442\\u0438\", \"\\u043f\\u0440\\u043e\\u0432\\u0435\\u0441\\u0442\\u0438\", \"\\u043f\\u0440\\u043e\\u0432\\u043e\\u0434\\u0438\\u0442\\u044c\\u0441\\u044f\", \"\\u043f\\u0440\\u043e\\u0433\\u0440\\u0430\\u043c\\u043c\\u0430\", \"\\u043f\\u0440\\u043e\\u0434\\u0430\\u0432\\u0430\\u0442\\u044c\", \"\\u043f\\u0440\\u043e\\u0434\\u0430\\u0432\\u0435\\u0446\", \"\\u043f\\u0440\\u043e\\u0434\\u0430\\u0432\\u0435\\u0446\", \"\\u043f\\u0440\\u043e\\u0434\\u0430\\u0436\\u0430\", \"\\u043f\\u0440\\u043e\\u0434\\u0430\\u0436\\u0430\", \"\\u043f\\u0440\\u043e\\u0434\\u043e\\u043b\\u0436\\u0430\\u0442\\u044c\", \"\\u043f\\u0440\\u043e\\u0434\\u0443\\u043a\\u0442\", \"\\u043f\\u0440\\u043e\\u0434\\u0443\\u043a\\u0442\", \"\\u043f\\u0440\\u043e\\u0434\\u0443\\u043a\\u0446\\u0438\\u044f\", \"\\u043f\\u0440\\u043e\\u0436\\u0438\\u0432\\u0430\\u0442\\u044c\", \"\\u043f\\u0440\\u043e\\u0438\\u0437\\u0432\\u0435\\u0441\\u0442\\u0438\", \"\\u043f\\u0440\\u043e\\u0439\\u0442\\u0438\", \"\\u043f\\u0440\\u043e\\u0439\\u0442\\u0438\", \"\\u043f\\u0440\\u043e\\u0439\\u0442\\u0438\", \"\\u043f\\u0440\\u043e\\u0439\\u0442\\u0438\", \"\\u043f\\u0440\\u043e\\u0441\\u0438\\u0442\\u044c\", \"\\u043f\\u0440\\u043e\\u0441\\u0438\\u0442\\u044c\", \"\\u043f\\u0440\\u043e\\u0441\\u0438\\u0442\\u044c\", \"\\u043f\\u0440\\u043e\\u0441\\u0438\\u0442\\u044c\", \"\\u043f\\u0440\\u043e\\u0441\\u0438\\u0442\\u044c\", \"\\u043f\\u0440\\u043e\\u0441\\u0438\\u0442\\u044c\", \"\\u043f\\u0440\\u043e\\u0441\\u0438\\u0442\\u044c\", \"\\u043f\\u0440\\u043e\\u0441\\u0438\\u0442\\u044c\", \"\\u043f\\u0440\\u043e\\u0441\\u0438\\u0442\\u044c\", \"\\u043f\\u0440\\u043e\\u0441\\u0438\\u0442\\u044c\", \"\\u043f\\u0440\\u043e\\u0441\\u0438\\u0442\\u044c\", \"\\u043f\\u0440\\u043e\\u0441\\u0440\\u043e\\u0447\\u0438\\u0442\\u044c\", \"\\u043f\\u0440\\u043e\\u0441\\u0442\\u043e\", \"\\u043f\\u0440\\u043e\\u0441\\u0442\\u043e\", \"\\u043f\\u0440\\u043e\\u0441\\u0442\\u043e\", \"\\u043f\\u0440\\u043e\\u0441\\u0442\\u043e\", \"\\u043f\\u0440\\u043e\\u0441\\u0442\\u043e\", \"\\u043f\\u0440\\u043e\\u0441\\u044c\\u0431\\u0430\", \"\\u043f\\u0440\\u043e\\u0441\\u044c\\u0431\\u0430\", \"\\u043f\\u0440\\u043e\\u0441\\u044c\\u0431\\u0430\", \"\\u043f\\u0440\\u043e\\u0441\\u044c\\u0431\\u0430\", \"\\u043f\\u0440\\u043e\\u0442\\u0438\\u0432\\u043e\\u0440\\u0435\\u0447\\u0438\\u0442\\u044c\", \"\\u043f\\u0440\\u043e\\u0446\\u0435\\u0441\\u0441\", \"\\u043f\\u0440\\u043e\\u0447\\u0438\\u0439\", \"\\u043f\\u0443\\u043d\\u043a\\u0442\", \"\\u043f\\u0443\\u043d\\u043a\\u0442\", \"\\u043f\\u0443\\u043d\\u043a\\u0442\", \"\\u043f\\u044b\\u0442\\u0430\\u0442\\u044c\\u0441\\u044f\", \"\\u043f\\u044f\\u0442\\u0451\\u0440\\u043e\\u0447\\u043a\\u0430\", \"\\u0440\\u0430\\u0431\\u043e\\u0442\\u0430\", \"\\u0440\\u0430\\u0431\\u043e\\u0442\\u0430\", \"\\u0440\\u0430\\u0431\\u043e\\u0442\\u0430\\u0442\\u044c\", \"\\u0440\\u0430\\u0431\\u043e\\u0442\\u0430\\u0442\\u044c\", \"\\u0440\\u0430\\u0431\\u043e\\u0442\\u0430\\u0442\\u044c\", \"\\u0440\\u0430\\u0431\\u043e\\u0442\\u0430\\u0442\\u044c\", \"\\u0440\\u0430\\u0437\\u0433\\u043e\\u0432\\u043e\\u0440\", \"\\u0440\\u0430\\u0437\\u0433\\u043e\\u0432\\u043e\\u0440\", \"\\u0440\\u0430\\u0437\\u0433\\u043e\\u0432\\u043e\\u0440\", \"\\u0440\\u0430\\u0437\\u043c\\u0435\\u0440\", \"\\u0440\\u0430\\u0437\\u043d\\u044b\\u0439\", \"\\u0440\\u0430\\u0437\\u043d\\u044b\\u0439\", \"\\u0440\\u0430\\u0437\\u0440\\u0435\\u0448\\u0435\\u043d\\u0438\\u0435\", \"\\u0440\\u0430\\u0437\\u044a\\u044f\\u0441\\u043d\\u0435\\u043d\\u0438\\u0435\", \"\\u0440\\u0430\\u0437\\u044a\\u044f\\u0441\\u043d\\u0438\\u0442\\u044c\", \"\\u0440\\u0430\\u0439\\u043e\\u043d\", \"\\u0440\\u0430\\u0439\\u043e\\u043d\", \"\\u0440\\u0430\\u0441\\u0441\\u043c\\u043e\\u0442\\u0440\\u0435\\u043d\\u0438\\u0435\", \"\\u0440\\u0430\\u0441\\u0441\\u043c\\u043e\\u0442\\u0440\\u0435\\u0442\\u044c\", \"\\u0440\\u0430\\u0441\\u0442\\u043e\\u0440\\u0433\\u043d\\u0443\\u0442\\u044c\", \"\\u0440\\u0430\\u0441\\u0442\\u043e\\u0440\\u0436\\u0435\\u043d\\u0438\\u0435\", \"\\u0440\\u0435\\u0431\\u0451\\u043d\\u043e\\u043a\", \"\\u0440\\u0435\\u0436\\u0438\\u043c\", \"\\u0440\\u0435\\u0437\\u0443\\u043b\\u044c\\u0442\\u0430\\u0442\", \"\\u0440\\u0435\\u0437\\u0443\\u043b\\u044c\\u0442\\u0430\\u0442\", \"\\u0440\\u0435\\u0437\\u0443\\u043b\\u044c\\u0442\\u0430\\u0442\", \"\\u0440\\u0435\\u0437\\u0443\\u043b\\u044c\\u0442\\u0430\\u0442\", \"\\u0440\\u0435\\u043c\\u043e\\u043d\\u0442\", \"\\u0440\\u0435\\u0441\\u0443\\u0440\\u0441\", \"\\u0440\\u0435\\u0448\\u0435\\u043d\\u0438\\u0435\", \"\\u0440\\u0435\\u0448\\u0435\\u043d\\u0438\\u0435\", \"\\u0440\\u0435\\u0448\\u0435\\u043d\\u0438\\u0435\", \"\\u0440\\u0435\\u0448\\u0438\\u0442\\u044c\", \"\\u0440\\u0435\\u0448\\u0438\\u0442\\u044c\", \"\\u0440\\u0435\\u0448\\u0438\\u0442\\u044c\", \"\\u0440\\u0436\\u0430\\u0432\\u044b\\u0439\", \"\\u0440\\u043e\\u0434\\u0438\\u0442\\u0435\\u043b\\u044c\", \"\\u0440\\u043e\\u0441\\u0441\\u0438\\u044f\", \"\\u0440\\u0443\\u0431\\u043b\\u044c\", \"\\u0440\\u0443\\u0431\\u043b\\u044c\", \"\\u0440\\u0443\\u0431\\u043b\\u044c\", \"\\u0440\\u0443\\u043a\\u0430\", \"\\u0440\\u044f\\u0434\\u043e\\u043c\", \"\\u0441\\u0430\\u0434\", \"\\u0441\\u0430\\u0439\\u0442\", \"\\u0441\\u0430\\u0439\\u0442\", \"\\u0441\\u0430\\u0439\\u0442\", \"\\u0441\\u0430\\u0439\\u0442\", \"\\u0441\\u0430\\u0439\\u0442\", \"\\u0441\\u0430\\u043b\\u043e\\u043d\", \"\\u0441\\u0430\\u043d\\u0438\\u0442\\u0430\\u0440\\u043d\\u044b\\u0439\", \"\\u0441\\u0430\\u043d\\u043a\\u0442\", \"\\u0441\\u0431\\u0435\\u0440\\u0431\\u0430\\u043d\\u043a\", \"\\u0441\\u0431\\u0435\\u0440\\u043c\\u0435\\u0433\\u0430\\u043c\\u0430\\u0440\\u043a\\u0435\\u0442\", \"\\u0441\\u0432\\u0435\\u0442\", \"\\u0441\\u0432\\u043e\\u0439\", \"\\u0441\\u0432\\u043e\\u0439\", \"\\u0441\\u0432\\u043e\\u0439\", \"\\u0441\\u0432\\u043e\\u0439\", \"\\u0441\\u0432\\u043e\\u0439\", \"\\u0441\\u0432\\u044f\\u0437\\u0430\\u0442\\u044c\\u0441\\u044f\", \"\\u0441\\u0432\\u044f\\u0437\\u0430\\u0442\\u044c\\u0441\\u044f\", \"\\u0441\\u0432\\u044f\\u0437\\u043d\\u044b\\u0439\", \"\\u0441\\u0432\\u044f\\u0437\\u044c\", \"\\u0441\\u0432\\u044f\\u0437\\u044c\", \"\\u0441\\u0432\\u044f\\u0437\\u044c\", \"\\u0441\\u0432\\u044f\\u0437\\u044c\", \"\\u0441\\u0432\\u044f\\u0437\\u044c\", \"\\u0441\\u0432\\u044f\\u0437\\u044c\", \"\\u0441\\u0432\\u044f\\u0437\\u044c\", \"\\u0441\\u0434\\u0430\\u0432\\u0430\\u0442\\u044c\", \"\\u0441\\u0434\\u0430\\u0442\\u044c\", \"\\u0441\\u0434\\u0435\\u043b\\u0430\\u0442\\u044c\", \"\\u0441\\u0434\\u0435\\u043b\\u0430\\u0442\\u044c\", \"\\u0441\\u0434\\u0435\\u043b\\u0430\\u0442\\u044c\", \"\\u0441\\u0434\\u0435\\u043b\\u0430\\u0442\\u044c\", \"\\u0441\\u0434\\u0435\\u043b\\u0430\\u0442\\u044c\", \"\\u0441\\u0434\\u0435\\u043b\\u0430\\u0442\\u044c\", \"\\u0441\\u0434\\u044d\\u043a\", \"\\u0441\\u0435\\u043d\\u0442\\u044f\\u0431\\u0440\\u044c\", \"\\u0441\\u0435\\u0440\\u0432\\u0438\\u0441\\u043d\\u044b\\u0439\", \"\\u0441\\u0435\\u0440\\u0442\\u0438\\u0444\\u0438\\u043a\\u0430\\u0442\", \"\\u0441\\u0438\\u043b\\u0430\", \"\\u0441\\u0438\\u043b\\u0430\", \"\\u0441\\u0438\\u043b\\u0430\", \"\\u0441\\u0438\\u043b\\u044c\\u043d\\u043e\", \"\\u0441\\u0438\\u0441\\u0442\\u0435\\u043c\\u0430\", \"\\u0441\\u0438\\u0442\\u0443\\u0430\\u0446\\u0438\\u044f\", \"\\u0441\\u0438\\u0442\\u0443\\u0430\\u0446\\u0438\\u044f\", \"\\u0441\\u0438\\u0442\\u0443\\u0430\\u0446\\u0438\\u044f\", \"\\u0441\\u0438\\u0442\\u0443\\u0430\\u0446\\u0438\\u044f\", \"\\u0441\\u0438\\u0442\\u0443\\u0430\\u0446\\u0438\\u044f\", \"\\u0441\\u0438\\u0442\\u0443\\u0430\\u0446\\u0438\\u044f\", \"\\u0441\\u0438\\u0442\\u0443\\u0430\\u0446\\u0438\\u044f\", \"\\u0441\\u0438\\u0442\\u0443\\u0430\\u0446\\u0438\\u044f\", \"\\u0441\\u043a\\u0430\\u0437\\u0430\\u0442\\u044c\", \"\\u0441\\u043a\\u0430\\u0437\\u0430\\u0442\\u044c\", \"\\u0441\\u043a\\u0430\\u0437\\u0430\\u0442\\u044c\", \"\\u0441\\u043a\\u0430\\u0437\\u0430\\u0442\\u044c\", \"\\u0441\\u043a\\u0430\\u0437\\u0430\\u0442\\u044c\", \"\\u0441\\u043a\\u0430\\u0437\\u0430\\u0442\\u044c\", \"\\u0441\\u043a\\u0430\\u0437\\u0430\\u0442\\u044c\", \"\\u0441\\u043a\\u043e\\u043b\\u044c\\u043a\\u043e\", \"\\u0441\\u043a\\u0440\\u0438\\u043d\", \"\\u0441\\u043b\\u043e\\u0432\\u043e\", \"\\u0441\\u043b\\u043e\\u043c\\u0430\\u0442\\u044c\\u0441\\u044f\", \"\\u0441\\u043b\\u0443\\u0436\\u0431\\u0430\", \"\\u0441\\u043b\\u0443\\u0436\\u0431\\u0430\", \"\\u0441\\u043b\\u0443\\u0436\\u0431\\u0430\", \"\\u0441\\u043b\\u0443\\u0447\\u0430\\u0439\", \"\\u0441\\u043b\\u0443\\u0447\\u0430\\u0439\", \"\\u0441\\u043b\\u0443\\u0447\\u0430\\u0439\", \"\\u0441\\u043b\\u0443\\u0447\\u0430\\u0439\", \"\\u0441\\u043b\\u0443\\u0447\\u0430\\u0439\", \"\\u0441\\u043b\\u044b\\u0448\\u0430\\u0442\\u044c\", \"\\u0441\\u043c\\u043e\\u0442\\u0440\\u0435\\u0442\\u044c\", \"\\u0441\\u043c\\u043e\\u0447\\u044c\", \"\\u0441\\u043e\\u0431\\u0430\\u043a\\u0430\", \"\\u0441\\u043e\\u0431\\u0438\\u0440\\u0430\\u0442\\u044c\\u0441\\u044f\", \"\\u0441\\u043e\\u0431\\u0438\\u0440\\u0430\\u0442\\u044c\\u0441\\u044f\", \"\\u0441\\u043e\\u0431\\u043b\\u044e\\u0434\\u0435\\u043d\\u0438\\u0435\", \"\\u0441\\u043e\\u0431\\u0441\\u0442\\u0432\\u0435\\u043d\\u043d\\u0438\\u043a\", \"\\u0441\\u043e\\u0433\\u043b\\u0430\\u0441\\u0438\\u0442\\u044c\\u0441\\u044f\", \"\\u0441\\u043e\\u0434\\u0435\\u0440\\u0436\\u0430\\u043d\\u0438\\u0435\", \"\\u0441\\u043e\\u043e\\u0431\\u0449\\u0435\\u043d\\u0438\\u0435\", \"\\u0441\\u043e\\u043e\\u0431\\u0449\\u0438\\u0442\\u044c\", \"\\u0441\\u043e\\u043e\\u0431\\u0449\\u0438\\u0442\\u044c\", \"\\u0441\\u043e\\u043e\\u0431\\u0449\\u0438\\u0442\\u044c\", \"\\u0441\\u043e\\u043e\\u0442\\u0432\\u0435\\u0442\\u0441\\u0442\\u0432\\u0438\\u0435\", \"\\u0441\\u043e\\u043e\\u0442\\u0432\\u0435\\u0442\\u0441\\u0442\\u0432\\u0438\\u0435\", \"\\u0441\\u043e\\u043e\\u0442\\u0432\\u0435\\u0442\\u0441\\u0442\\u0432\\u0443\\u044e\\u0449\\u0438\\u0439\", \"\\u0441\\u043e\\u0441\\u043b\\u0430\\u0442\\u044c\\u0441\\u044f\", \"\\u0441\\u043e\\u0441\\u0442\\u0430\\u0432\", \"\\u0441\\u043e\\u0441\\u0442\\u0430\\u0432\\u0438\\u0442\\u044c\", \"\\u0441\\u043e\\u0441\\u0442\\u043e\\u044f\\u043d\\u0438\\u0435\", \"\\u0441\\u043e\\u0441\\u0442\\u043e\\u044f\\u043d\\u0438\\u0435\", \"\\u0441\\u043e\\u0442\\u0440\\u0443\\u0434\\u043d\\u0438\\u043a\", \"\\u0441\\u043e\\u0442\\u0440\\u0443\\u0434\\u043d\\u0438\\u043a\", \"\\u0441\\u043e\\u0442\\u0440\\u0443\\u0434\\u043d\\u0438\\u043a\", \"\\u0441\\u043e\\u0442\\u0440\\u0443\\u0434\\u043d\\u0438\\u043a\", \"\\u0441\\u043e\\u0442\\u0440\\u0443\\u0434\\u043d\\u0438\\u043a\", \"\\u0441\\u043e\\u0442\\u0440\\u0443\\u0434\\u043d\\u0438\\u043a\", \"\\u0441\\u043e\\u0442\\u0440\\u0443\\u0434\\u043d\\u0438\\u043a\", \"\\u0441\\u043e\\u0447\\u0438\", \"\\u0441\\u043f\\u0430\\u0441\\u0438\\u0431\\u043e\", \"\\u0441\\u043f\\u0430\\u0441\\u0438\\u0431\\u043e\", \"\\u0441\\u043f\\u0438\\u0441\\u0430\\u043d\\u0438\\u0435\", \"\\u0441\\u043f\\u0438\\u0441\\u0430\\u0442\\u044c\", \"\\u0441\\u043f\\u0438\\u0441\\u0430\\u0442\\u044c\", \"\\u0441\\u043f\\u0438\\u0441\\u0430\\u0442\\u044c\", \"\\u0441\\u043f\\u0440\\u0430\\u0432\\u043a\\u0430\", \"\\u0441\\u043f\\u0443\\u0441\\u0442\\u044f\", \"\\u0441\\u0440\\u0435\\u0434\\u0441\\u0442\\u0432\\u043e\", \"\\u0441\\u0440\\u0435\\u0434\\u0441\\u0442\\u0432\\u043e\", \"\\u0441\\u0440\\u0435\\u0434\\u0441\\u0442\\u0432\\u043e\", \"\\u0441\\u0440\\u0435\\u0434\\u0441\\u0442\\u0432\\u043e\", \"\\u0441\\u0440\\u043e\\u043a\", \"\\u0441\\u0440\\u043e\\u043a\", \"\\u0441\\u0440\\u043e\\u043a\", \"\\u0441\\u0440\\u043e\\u043a\", \"\\u0441\\u0440\\u043e\\u043a\", \"\\u0441\\u0440\\u043e\\u043a\", \"\\u0441\\u0440\\u043e\\u043a\", \"\\u0441\\u0441\\u044b\\u043b\\u0430\\u0442\\u044c\\u0441\\u044f\", \"\\u0441\\u0441\\u044b\\u043b\\u0430\\u0442\\u044c\\u0441\\u044f\", \"\\u0441\\u0441\\u044b\\u043b\\u0430\\u0442\\u044c\\u0441\\u044f\", \"\\u0441\\u0441\\u044b\\u043b\\u0430\\u0442\\u044c\\u0441\\u044f\", \"\\u0441\\u0441\\u044b\\u043b\\u0430\\u0442\\u044c\\u0441\\u044f\", \"\\u0441\\u0441\\u044b\\u043b\\u043a\\u0430\", \"\\u0441\\u0442\\u0430\\u0440\\u0448\\u0438\\u0439\", \"\\u0441\\u0442\\u0430\\u0440\\u044b\\u0439\", \"\\u0441\\u0442\\u0430\\u0442\\u044c\", \"\\u0441\\u0442\\u0430\\u0442\\u044c\", \"\\u0441\\u0442\\u0430\\u0442\\u044c\\u044f\", \"\\u0441\\u0442\\u0435\\u043d\\u0430\", \"\\u0441\\u0442\\u043e\\u0438\\u043c\\u043e\\u0441\\u0442\\u044c\", \"\\u0441\\u0442\\u043e\\u0438\\u043c\\u043e\\u0441\\u0442\\u044c\", \"\\u0441\\u0442\\u043e\\u0438\\u043c\\u043e\\u0441\\u0442\\u044c\", \"\\u0441\\u0442\\u043e\\u0438\\u043c\\u043e\\u0441\\u0442\\u044c\", \"\\u0441\\u0442\\u043e\\u0438\\u043c\\u043e\\u0441\\u0442\\u044c\", \"\\u0441\\u0442\\u043e\\u0438\\u0442\\u044c\", \"\\u0441\\u0442\\u043e\\u0438\\u0442\\u044c\", \"\\u0441\\u0442\\u043e\\u0438\\u0442\\u044c\", \"\\u0441\\u0442\\u043e\\u0440\\u043e\\u043d\\u0430\", \"\\u0441\\u0442\\u043e\\u0440\\u043e\\u043d\\u0430\", \"\\u0441\\u0442\\u043e\\u0440\\u043e\\u043d\\u0430\", \"\\u0441\\u0442\\u043e\\u044f\\u0442\\u044c\", \"\\u0441\\u0442\\u043e\\u044f\\u0442\\u044c\", \"\\u0441\\u0442\\u0440\\u0430\\u0445\\u043e\\u0432\\u043a\\u0430\", \"\\u0441\\u0442\\u0440\\u0430\\u0445\\u043e\\u0432\\u043e\\u0439\", \"\\u0441\\u0443\\u0434\", \"\\u0441\\u0443\\u043c\\u043c\\u0430\", \"\\u0441\\u0443\\u043c\\u043c\\u0430\", \"\\u0441\\u0443\\u043c\\u043c\\u0430\", \"\\u0441\\u0443\\u043c\\u043c\\u0430\", \"\\u0441\\u0443\\u043f\\u0440\\u0443\\u0433\", \"\\u0441\\u0443\\u0442\\u043a\\u0438\", \"\\u0441\\u0447\\u0451\\u0442\", \"\\u0441\\u0447\\u0451\\u0442\", \"\\u0441\\u0447\\u0451\\u0442\", \"\\u0442\\u0430\\u043a\\u0436\\u0435\", \"\\u0442\\u0430\\u043a\\u0436\\u0435\", \"\\u0442\\u0430\\u043a\\u0436\\u0435\", \"\\u0442\\u0430\\u043a\\u0436\\u0435\", \"\\u0442\\u0430\\u043a\\u0436\\u0435\", \"\\u0442\\u0430\\u0440\\u0438\\u0444\", \"\\u0442\\u0435\\u043a\\u0441\\u0442\", \"\\u0442\\u0435\\u043b\\u0435\\u0444\\u043e\\u043d\", \"\\u0442\\u0435\\u043b\\u0435\\u0444\\u043e\\u043d\", \"\\u0442\\u0435\\u043b\\u0435\\u0444\\u043e\\u043d\", \"\\u0442\\u0435\\u043b\\u0435\\u0444\\u043e\\u043d\", \"\\u0442\\u0435\\u043b\\u043e\", \"\\u0442\\u0435\\u043c\\u043f\\u0435\\u0440\\u0430\\u0442\\u0443\\u0440\\u0430\", \"\\u0442\\u0435\\u0440\\u0440\\u0438\\u0442\\u043e\\u0440\\u0438\\u044f\", \"\\u0442\\u0435\\u0440\\u0440\\u0438\\u0442\\u043e\\u0440\\u0438\\u044f\", \"\\u0442\\u0435\\u0445\\u043d\\u0438\\u0447\\u0435\\u0441\\u043a\\u0438\\u0439\", \"\\u0442\\u043e\\u0432\\u0430\\u0440\", \"\\u0442\\u043e\\u0432\\u0430\\u0440\", \"\\u0442\\u043e\\u0432\\u0430\\u0440\", \"\\u0442\\u043e\\u0432\\u0430\\u0440\", \"\\u0442\\u043e\\u0440\\u0433\\u043e\\u0432\\u044b\\u0439\", \"\\u0442\\u043e\\u0447\\u043a\\u0430\", \"\\u0442\\u0440\\u0430\\u043d\\u0441\\u043f\\u043e\\u0440\\u0442\\u043d\\u044b\\u0439\", \"\\u0442\\u0440\\u0435\\u0431\\u043e\\u0432\\u0430\\u043d\\u0438\\u0435\", \"\\u0442\\u0440\\u0435\\u0431\\u043e\\u0432\\u0430\\u043d\\u0438\\u0435\", \"\\u0442\\u0440\\u0435\\u0431\\u043e\\u0432\\u0430\\u043d\\u0438\\u0435\", \"\\u0442\\u0440\\u0435\\u0431\\u043e\\u0432\\u0430\\u043d\\u0438\\u0435\", \"\\u0442\\u0440\\u0435\\u0431\\u043e\\u0432\\u0430\\u0442\\u044c\", \"\\u0442\\u0440\\u0435\\u0431\\u043e\\u0432\\u0430\\u0442\\u044c\", \"\\u0442\\u0440\\u0435\\u0431\\u043e\\u0432\\u0430\\u0442\\u044c\", \"\\u0442\\u0440\\u0435\\u0442\\u0438\\u0439\", \"\\u0442\\u0443\\u0430\\u043b\\u0435\\u0442\", \"\\u0442\\u0443\\u0434\\u0430\", \"\\u0442\\u0443\\u0440\\u043e\\u043f\\u0435\\u0440\\u0430\\u0442\\u043e\\u0440\", \"\\u0443\\u0431\\u0440\\u0430\\u0442\\u044c\", \"\\u0443\\u0432\\u0435\\u0434\\u043e\\u043c\\u043b\\u0435\\u043d\\u0438\\u0435\", \"\\u0443\\u0432\\u0435\\u0440\\u044f\\u0442\\u044c\", \"\\u0443\\u0434\\u0430\\u0442\\u044c\\u0441\\u044f\", \"\\u0443\\u0437\\u043d\\u0430\\u0442\\u044c\", \"\\u0443\\u043a\\u0430\\u0437\\u0430\\u043d\\u043d\\u044b\\u0439\", \"\\u0443\\u043a\\u0430\\u0437\\u0430\\u043d\\u043d\\u044b\\u0439\", \"\\u0443\\u043a\\u0430\\u0437\\u0430\\u0442\\u044c\", \"\\u0443\\u043a\\u0430\\u0437\\u0430\\u0442\\u044c\", \"\\u0443\\u043a\\u0430\\u0437\\u0430\\u0442\\u044c\", \"\\u0443\\u043a\\u0430\\u0437\\u0430\\u0442\\u044c\", \"\\u0443\\u043a\\u0440\\u0430\\u0438\\u043d\\u0430\", \"\\u0443\\u043b\\u0438\\u0446\\u0430\", \"\\u0443\\u043f\\u0430\\u043a\\u043e\\u0432\\u043a\\u0430\", \"\\u0443\\u043f\\u043b\\u0430\\u0442\\u0438\\u0442\\u044c\", \"\\u0443\\u043f\\u0440\\u0430\\u0432\\u043b\\u0435\\u043d\\u0438\\u0435\", \"\\u0443\\u043f\\u0440\\u0430\\u0432\\u043b\\u044f\\u0442\\u044c\", \"\\u0443\\u0440\\u043e\\u0432\\u0435\\u043d\\u044c\", \"\\u0443\\u0441\\u043b\\u043e\\u0432\\u0438\\u0435\", \"\\u0443\\u0441\\u043b\\u043e\\u0432\\u0438\\u0435\", \"\\u0443\\u0441\\u043b\\u043e\\u0432\\u0438\\u0435\", \"\\u0443\\u0441\\u043b\\u0443\\u0433\\u0430\", \"\\u0443\\u0441\\u043b\\u0443\\u0433\\u0430\", \"\\u0443\\u0441\\u043f\\u0435\\u0442\\u044c\", \"\\u0443\\u0441\\u0442\\u0430\\u043d\\u043e\\u0432\\u0438\\u0442\\u044c\", \"\\u0443\\u0441\\u0442\\u0430\\u043d\\u043e\\u0432\\u0438\\u0442\\u044c\", \"\\u0443\\u0441\\u0442\\u0430\\u043d\\u043e\\u0432\\u0438\\u0442\\u044c\", \"\\u0443\\u0441\\u0442\\u0430\\u043d\\u043e\\u0432\\u043a\\u0430\", \"\\u0443\\u0441\\u0442\\u043d\\u043e\", \"\\u0443\\u0441\\u0442\\u0440\\u043e\\u0438\\u0442\\u044c\", \"\\u0443\\u0441\\u0442\\u0440\\u043e\\u0439\\u0441\\u0442\\u0432\\u043e\", \"\\u0443\\u0442\\u0440\\u043e\", \"\\u0443\\u0447\\u0430\\u0441\\u0442\\u043e\\u043a\", \"\\u0443\\u0447\\u0438\\u0442\\u044b\\u0432\\u0430\\u0442\\u044c\", \"\\u0444\\u0430\\u0439\\u043b\", \"\\u0444\\u0430\\u043a\\u0442\\u0438\\u0447\\u0435\\u0441\\u043a\\u0438\", \"\\u0444\\u0435\\u0432\\u0440\\u0430\\u043b\\u044c\", \"\\u0444\\u0438\\u043d\\u0430\\u043d\\u0441\\u043e\\u0432\\u044b\\u0439\", \"\\u0444\\u0438\\u0440\\u043c\\u0430\", \"\\u0444\\u043e\\u0442\\u043e\", \"\\u0444\\u043e\\u0442\\u043e\", \"\\u0444\\u043e\\u0442\\u043e\", \"\\u0444\\u043e\\u0442\\u043e\\u0433\\u0440\\u0430\\u0444\\u0438\\u044f\", \"\\u0445\\u043e\\u043b\\u043e\\u0434\\u043d\\u044b\\u0439\", \"\\u0445\\u043e\\u0440\\u043e\\u0448\\u0438\\u0439\", \"\\u0445\\u043e\\u0442\\u0435\\u0442\\u044c\", \"\\u0445\\u043e\\u0442\\u0435\\u0442\\u044c\", \"\\u0445\\u043e\\u0442\\u0435\\u0442\\u044c\", \"\\u0445\\u043e\\u0442\\u0435\\u0442\\u044c\", \"\\u0445\\u043e\\u0442\\u0435\\u0442\\u044c\", \"\\u0445\\u043e\\u0442\\u0435\\u0442\\u044c\", \"\\u0445\\u043e\\u0442\\u044f\", \"\\u0445\\u0440\\u0430\\u043d\\u0435\\u043d\\u0438\\u0435\", \"\\u0446\\u0432\\u0435\\u0442\", \"\\u0446\\u0435\\u043d\\u0430\", \"\\u0446\\u0435\\u043d\\u0430\", \"\\u0446\\u0435\\u043d\\u0430\", \"\\u0446\\u0435\\u043d\\u043d\\u0438\\u043a\", \"\\u0446\\u0435\\u043d\\u0442\\u0440\", \"\\u0447\\u0430\\u0441\", \"\\u0447\\u0430\\u0441\", \"\\u0447\\u0430\\u0441\", \"\\u0447\\u0430\\u0441\\u0442\\u043d\\u043e\\u0441\\u0442\\u044c\", \"\\u0447\\u0430\\u0441\\u0442\\u043d\\u044b\\u0439\", \"\\u0447\\u0430\\u0441\\u0442\\u044c\", \"\\u0447\\u0430\\u0441\\u0442\\u044c\", \"\\u0447\\u0430\\u0441\\u0442\\u044c\", \"\\u0447\\u0430\\u0442\", \"\\u0447\\u0435\\u043a\", \"\\u0447\\u0435\\u043b\\u043e\\u0432\\u0435\\u043a\", \"\\u0447\\u0435\\u043b\\u043e\\u0432\\u0435\\u043a\", \"\\u0447\\u0435\\u043b\\u043e\\u0432\\u0435\\u043a\", \"\\u0448\\u0442\\u0443\\u043a\\u0430\", \"\\u044d\\u043a\\u0441\\u043f\\u043b\\u0443\\u0430\\u0442\\u0430\\u0446\\u0438\\u044f\", \"\\u044d\\u043b\\u044c\\u0434\\u043e\\u0440\\u0430\\u0434\\u043e\", \"\\u044d\\u043f\\u0438\\u0434\\u0435\\u043c\\u0438\\u043e\\u043b\\u043e\\u0433\\u0438\\u0447\\u0435\\u0441\\u043a\\u0438\\u0439\", \"\\u044d\\u0442\\u0430\\u0436\", \"\\u044f\\u0432\\u043b\\u044f\\u0442\\u044c\\u0441\\u044f\", \"\\u044f\\u0432\\u043b\\u044f\\u0442\\u044c\\u0441\\u044f\", \"\\u044f\\u0432\\u043b\\u044f\\u0442\\u044c\\u0441\\u044f\", \"\\u044f\\u0432\\u043b\\u044f\\u0442\\u044c\\u0441\\u044f\", \"\\u044f\\u0432\\u043b\\u044f\\u0442\\u044c\\u0441\\u044f\", \"\\u044f\\u043a\\u043e\\u0431\\u044b\", \"\\u044f\\u043d\\u0434\\u0435\\u043a\\u0441\"]}, \"R\": 30, \"lambda.step\": 0.01, \"plot.opts\": {\"xlab\": \"PC1\", \"ylab\": \"PC2\"}, \"topic.order\": [8, 4, 17, 2, 7, 18, 16, 3, 12, 6, 5, 15, 10, 14, 13, 1, 11, 19, 20, 9]};\n",
       "\n",
       "function LDAvis_load_lib(url, callback){\n",
       "  var s = document.createElement('script');\n",
       "  s.src = url;\n",
       "  s.async = true;\n",
       "  s.onreadystatechange = s.onload = callback;\n",
       "  s.onerror = function(){console.warn(\"failed to load library \" + url);};\n",
       "  document.getElementsByTagName(\"head\")[0].appendChild(s);\n",
       "}\n",
       "\n",
       "if(typeof(LDAvis) !== \"undefined\"){\n",
       "   // already loaded: just create the visualization\n",
       "   !function(LDAvis){\n",
       "       new LDAvis(\"#\" + \"ldavis_el3094419193549389763313731071\", ldavis_el3094419193549389763313731071_data);\n",
       "   }(LDAvis);\n",
       "}else if(typeof define === \"function\" && define.amd){\n",
       "   // require.js is available: use it to load d3/LDAvis\n",
       "   require.config({paths: {d3: \"https://d3js.org/d3.v5\"}});\n",
       "   require([\"d3\"], function(d3){\n",
       "      window.d3 = d3;\n",
       "      LDAvis_load_lib(\"https://cdn.jsdelivr.net/gh/bmabey/pyLDAvis@3.3.1/pyLDAvis/js/ldavis.v3.0.0.js\", function(){\n",
       "        new LDAvis(\"#\" + \"ldavis_el3094419193549389763313731071\", ldavis_el3094419193549389763313731071_data);\n",
       "      });\n",
       "    });\n",
       "}else{\n",
       "    // require.js not available: dynamically load d3 & LDAvis\n",
       "    LDAvis_load_lib(\"https://d3js.org/d3.v5.js\", function(){\n",
       "         LDAvis_load_lib(\"https://cdn.jsdelivr.net/gh/bmabey/pyLDAvis@3.3.1/pyLDAvis/js/ldavis.v3.0.0.js\", function(){\n",
       "                 new LDAvis(\"#\" + \"ldavis_el3094419193549389763313731071\", ldavis_el3094419193549389763313731071_data);\n",
       "            })\n",
       "         });\n",
       "}\n",
       "</script>"
      ],
      "text/plain": [
       "<IPython.core.display.HTML object>"
      ]
     },
     "execution_count": 54,
     "metadata": {},
     "output_type": "execute_result"
    }
   ],
   "source": [
    "import pyLDAvis\n",
    "import pyLDAvis.gensim_models as gensimvis\n",
    "\n",
    "%time \n",
    "vis_data = gensimvis.prepare(lda, corpus, dictionary)\n",
    "pyLDAvis.display(vis_data)"
   ]
  },
  {
   "cell_type": "markdown",
   "id": "N1_QuVBaf6Mr",
   "metadata": {
    "id": "N1_QuVBaf6Mr"
   },
   "source": [
    "Посмотрим на метрики качества получившейся модели: перплексию и среднюю когерентность:"
   ]
  },
  {
   "cell_type": "code",
   "execution_count": 55,
   "id": "ZotOH4d6f6Mr",
   "metadata": {
    "colab": {
     "base_uri": "https://localhost:8080/"
    },
    "id": "ZotOH4d6f6Mr",
    "outputId": "f5915950-c541-44b5-8bc0-91b4f79c06f5"
   },
   "outputs": [
    {
     "name": "stderr",
     "output_type": "stream",
     "text": [
      "C:\\ProgramData\\Anaconda3\\lib\\site-packages\\ipykernel\\ipkernel.py:287: DeprecationWarning: `should_run_async` will not call `transform_cell` automatically in the future. Please pass the result to `transformed_cell` argument and any exception that happen during thetransform in `preprocessing_exc_tuple` in IPython 7.17 and above.\n",
      "  and should_run_async(code)\n"
     ]
    },
    {
     "name": "stdout",
     "output_type": "stream",
     "text": [
      "-10.590653532340086\n"
     ]
    }
   ],
   "source": [
    "print(lda.log_perplexity(corpus))\n"
   ]
  },
  {
   "cell_type": "code",
   "execution_count": 56,
   "id": "VqyxqodWf6Mr",
   "metadata": {
    "colab": {
     "base_uri": "https://localhost:8080/"
    },
    "id": "VqyxqodWf6Mr",
    "outputId": "03bb044f-5f58-4256-bda6-08a441d4feb5"
   },
   "outputs": [
    {
     "name": "stderr",
     "output_type": "stream",
     "text": [
      "C:\\ProgramData\\Anaconda3\\lib\\site-packages\\ipykernel\\ipkernel.py:287: DeprecationWarning: `should_run_async` will not call `transform_cell` automatically in the future. Please pass the result to `transformed_cell` argument and any exception that happen during thetransform in `preprocessing_exc_tuple` in IPython 7.17 and above.\n",
      "  and should_run_async(code)\n"
     ]
    },
    {
     "name": "stdout",
     "output_type": "stream",
     "text": [
      "Персплексия:  2.5150161884325777e-05\n"
     ]
    }
   ],
   "source": [
    "print('Персплексия: ', np.exp(lda.log_perplexity(corpus)))"
   ]
  },
  {
   "cell_type": "code",
   "execution_count": 57,
   "id": "agpzf-CVf6Mr",
   "metadata": {
    "colab": {
     "base_uri": "https://localhost:8080/"
    },
    "id": "agpzf-CVf6Mr",
    "outputId": "37f75b99-3045-44ca-a37f-3484474732a8"
   },
   "outputs": [
    {
     "name": "stderr",
     "output_type": "stream",
     "text": [
      "C:\\ProgramData\\Anaconda3\\lib\\site-packages\\ipykernel\\ipkernel.py:287: DeprecationWarning: `should_run_async` will not call `transform_cell` automatically in the future. Please pass the result to `transformed_cell` argument and any exception that happen during thetransform in `preprocessing_exc_tuple` in IPython 7.17 and above.\n",
      "  and should_run_async(code)\n"
     ]
    },
    {
     "name": "stdout",
     "output_type": "stream",
     "text": [
      "Средняя когерентность:  0.3677605337316101\n"
     ]
    }
   ],
   "source": [
    "coherence_model_lda = CoherenceModel(model=lda, texts=preprocessed_q, dictionary=dictionary, coherence='c_v')\n",
    "coherence_lda = coherence_model_lda.get_coherence()\n",
    "print('Средняя когерентность: ', coherence_lda)"
   ]
  },
  {
   "cell_type": "markdown",
   "id": "QscCr17Zf6Mr",
   "metadata": {
    "id": "QscCr17Zf6Mr"
   },
   "source": [
    "Теперь можно подобрать оптимальное количество тем, опираясь на значение метрик:"
   ]
  },
  {
   "cell_type": "code",
   "execution_count": 58,
   "id": "UZBPpBxYf6Mr",
   "metadata": {
    "id": "UZBPpBxYf6Mr"
   },
   "outputs": [
    {
     "name": "stderr",
     "output_type": "stream",
     "text": [
      "C:\\ProgramData\\Anaconda3\\lib\\site-packages\\ipykernel\\ipkernel.py:287: DeprecationWarning: `should_run_async` will not call `transform_cell` automatically in the future. Please pass the result to `transformed_cell` argument and any exception that happen during thetransform in `preprocessing_exc_tuple` in IPython 7.17 and above.\n",
      "  and should_run_async(code)\n"
     ]
    }
   ],
   "source": [
    "import matplotlib.pyplot as plt\n",
    "%matplotlib inline"
   ]
  },
  {
   "cell_type": "code",
   "execution_count": 59,
   "id": "q7dUj8ClSOvg",
   "metadata": {
    "colab": {
     "base_uri": "https://localhost:8080/",
     "height": 312,
     "referenced_widgets": [
      "4dcff9c84ad24719bf67f61bc3eee854",
      "21a32862934646f2b1109129c20d373f",
      "6761a84e4edf486595224899759fd2b2",
      "35eb686b13b84240b0a790a50150366d",
      "1f1ceeb0ee7d49dc80fb90ee54b0ac03",
      "6fe44199207d4b0a8eb3fa553fa43ea2",
      "0aa8214d4433406c98cbae8789b7ec61",
      "ce325b14ccce4e90b75d0a1f07a54210",
      "52f997bf9d184733b8354a817c156da8",
      "265ec28168e84f9c91f6fbe64896cf3d",
      "aacefbd331da46e780f17350a68be2a9"
     ]
    },
    "id": "q7dUj8ClSOvg",
    "outputId": "66781bff-2b19-4024-9dff-ff47d5c5cf29"
   },
   "outputs": [
    {
     "name": "stderr",
     "output_type": "stream",
     "text": [
      "C:\\ProgramData\\Anaconda3\\lib\\site-packages\\ipykernel\\ipkernel.py:287: DeprecationWarning: `should_run_async` will not call `transform_cell` automatically in the future. Please pass the result to `transformed_cell` argument and any exception that happen during thetransform in `preprocessing_exc_tuple` in IPython 7.17 and above.\n",
      "  and should_run_async(code)\n"
     ]
    },
    {
     "data": {
      "application/vnd.jupyter.widget-view+json": {
       "model_id": "553bd77141424a94aafba34985c64a7e",
       "version_major": 2,
       "version_minor": 0
      },
      "text/plain": [
       "  0%|          | 0/13 [00:00<?, ?it/s]"
      ]
     },
     "metadata": {},
     "output_type": "display_data"
    },
    {
     "data": {
      "image/png": "[encoded data removed]",
      "text/plain": [
       "<Figure size 432x288 with 1 Axes>"
      ]
     },
     "metadata": {
      "needs_background": "light"
     },
     "output_type": "display_data"
    }
   ],
   "source": [
    "topics_list = [1, 2, 3, 4, 5, 6, 7 , 8, 9, 10, 15, 20, 25]\n",
    "coherences = []\n",
    "\n",
    "for num in tqdm(topics_list):\n",
    "    lda = ldamodel.LdaModel(corpus, id2word=dictionary, num_topics=num, chunksize=50, update_every=1, passes=2)\n",
    "    coherences.append(CoherenceModel(model=lda, texts=preprocessed_q, dictionary=dictionary, coherence='c_v').get_coherence())\n",
    "\n",
    "plt.plot(topics_list, coherences)\n",
    "plt.xlabel(\"Число тем\")\n",
    "plt.ylabel(\"Средняя когерентность\")\n",
    "plt.show()"
   ]
  },
  {
   "cell_type": "code",
   "execution_count": 65,
   "id": "-l9FrKjff6Ms",
   "metadata": {
    "colab": {
     "base_uri": "https://localhost:8080/",
     "height": 916
    },
    "id": "-l9FrKjff6Ms",
    "outputId": "b17725fc-bd93-47ac-9997-7cf47fc55e2a"
   },
   "outputs": [
    {
     "name": "stderr",
     "output_type": "stream",
     "text": [
      "C:\\ProgramData\\Anaconda3\\lib\\site-packages\\ipykernel\\ipkernel.py:287: DeprecationWarning: `should_run_async` will not call `transform_cell` automatically in the future. Please pass the result to `transformed_cell` argument and any exception that happen during thetransform in `preprocessing_exc_tuple` in IPython 7.17 and above.\n",
      "  and should_run_async(code)\n"
     ]
    },
    {
     "data": {
      "text/html": [
       "\n",
       "<link rel=\"stylesheet\" type=\"text/css\" href=\"https://cdn.jsdelivr.net/gh/bmabey/pyLDAvis@3.3.1/pyLDAvis/js/ldavis.v1.0.0.css\">\n",
       "\n",
       "\n",
       "<div id=\"ldavis_el3094419194027874406018986648\"></div>\n",
       "<script type=\"text/javascript\">\n",
       "\n",
       "var ldavis_el3094419194027874406018986648_data = {\"mdsDat\": {\"x\": [-0.1374103228927277, -0.06512585587014336, 0.14058954810228247, 0.23609707474688754, 0.06528666195685923, -0.23943710604315796], \"y\": [-0.06604920670033114, -0.050160746638336716, -0.1888953364590914, -0.025469490787772064, 0.3261289637260459, 0.00444581685948509], \"topics\": [1, 2, 3, 4, 5, 6], \"cluster\": [1, 1, 1, 1, 1, 1], \"Freq\": [33.93173593541878, 21.94105970584508, 14.174316952656152, 13.116363396522758, 8.657904854538016, 8.17861915501922]}, \"tinfo\": {\"Term\": [\"\\u0442\\u043e\\u0432\\u0430\\u0440\", \"\\u043c\\u0430\\u0433\\u0430\\u0437\\u0438\\u043d\", \"\\u0441\\u0440\\u0435\\u0434\\u0441\\u0442\\u0432\\u043e\", \"\\u0434\\u043e\\u043c\", \"\\u0432\\u043e\\u0437\\u0432\\u0440\\u0430\\u0442\", \"\\u0434\\u043e\\u0433\\u043e\\u0432\\u043e\\u0440\", \"\\u0443\\u0441\\u043b\\u0443\\u0433\\u0430\", \"\\u0437\\u0430\\u043a\\u0430\\u0437\", \"\\u0434\\u0435\\u043d\\u044c\", \"\\u0440\\u0443\\u0431\\u043b\\u044c\", \"\\u0442\\u0435\\u0441\\u0442\", \"\\u0434\\u0435\\u043d\\u0435\\u0436\\u043d\\u044b\\u0439\", \"\\u044f\\u043d\\u0432\\u0430\\u0440\\u044c\", \"\\u0440\\u0435\\u0431\\u0451\\u043d\\u043e\\u043a\", \"\\u043f\\u0440\\u043e\\u0434\\u0430\\u0432\\u0435\\u0446\", \"\\u043a\\u043e\\u043c\\u043f\\u0430\\u043d\\u0438\\u044f\", \"\\u0441\\u0442\\u0440\\u0430\\u0445\\u043e\\u0432\\u043e\\u0439\", \"\\u0434\\u0435\\u043d\\u044c\\u0433\\u0430\", \"\\u0434\\u043e\\u043a\\u0443\\u043c\\u0435\\u043d\\u0442\", \"\\u0437\\u0430\\u044f\\u0432\\u043b\\u0435\\u043d\\u0438\\u0435\", \"\\u043f\\u0443\\u043d\\u043a\\u0442\", \"\\u0434\\u0435\\u043a\\u0430\\u0431\\u0440\\u044c\", \"\\u0433\\u043e\\u0434\", \"\\u0440\\u0430\\u0437\\u043c\\u0435\\u0440\", \"\\u043f\\u0446\\u0440\", \"\\u0440\\u0435\\u043c\\u043e\\u043d\\u0442\", \"\\u043f\\u0440\\u0430\\u0432\\u043e\", \"\\u043e\\u043e\\u043e\", \"\\u0434\\u043e\\u0431\\u0440\\u044b\\u0439\", \"\\u0440\\u0430\\u0431\\u043e\\u0442\\u0430\", \"\\u0431\\u0430\\u043d\\u043a\", \"\\u043b\\u0438\\u0447\\u043d\\u044b\\u0439\", \"\\u043a\\u0430\\u0431\\u0438\\u043d\\u0435\\u0442\", \"\\u043b\\u0438\\u043d\\u0438\\u044f\", \"\\u0437\\u0430\\u043a\\u0430\\u0437\", \"\\u0433\\u043e\\u0440\\u044f\\u0447\\u0438\\u0439\", \"\\u0440\\u0443\\u0431\", \"\\u0436\\u0434\\u0430\\u0442\\u044c\", \"\\u0441\\u043f\\u0438\\u0441\\u0430\\u0442\\u044c\", \"\\u043a\\u043b\\u0438\\u0435\\u043d\\u0442\", \"\\u043f\\u043e\\u0437\\u0432\\u043e\\u043d\\u0438\\u0442\\u044c\", \"\\u043c\\u0430\\u0441\\u0442\\u0435\\u0440\", \"\\u043f\\u043e\\u043f\\u0440\\u043e\\u0441\\u0438\\u0442\\u044c\", \"\\u0434\\u043e\\u0441\\u0442\\u0430\\u0432\\u0438\\u0442\\u044c\", \"\\u0441\\u0431\\u0435\\u0440\\u0431\\u0430\\u043d\\u043a\", \"\\u0441\\u0432\\u044f\\u0437\\u0430\\u0442\\u044c\\u0441\\u044f\", \"\\u043a\\u0443\\u0440\\u044c\\u0435\\u0440\", \"\\u0434\\u043e\\u0441\\u0442\\u0430\\u0432\\u043a\\u0430\", \"\\u043f\\u043e\\u0441\\u044b\\u043b\\u043a\\u0430\", \"\\u043a\\u043e\\u0432\\u0438\\u0434\", \"\\u043e\\u0431\\u0440\\u0430\\u0442\\u043d\\u043e\", \"\\u043a\\u0440\\u0435\\u0434\\u0438\\u0442\", \"\\u043f\\u0440\\u0438\\u0435\\u0445\\u0430\\u0442\\u044c\", \"\\u0441\\u043d\\u043e\\u0432\\u0430\", \"\\u0433\\u0430\\u0440\\u0430\\u043d\\u0442\\u0438\\u044f\", \"\\u043c\\u0435\\u043d\\u0435\\u0434\\u0436\\u0435\\u0440\", \"\\u044f\\u043d\\u0434\\u0435\\u043a\\u0441\", \"\\u043d\\u0443\\u0436\\u043d\\u044b\\u0439\", \"\\u043c\\u0430\\u0441\\u043a\\u0430\", \"\\u043e\\u043d\\u043b\\u0430\\u0439\\u043d\", \"\\u043e\\u0442\\u0434\\u0435\\u043b\\u0435\\u043d\\u0438\\u0435\", \"\\u043f\\u043e\\u0447\\u0442\\u0430\", \"\\u0442\\u0435\\u043b\\u0435\\u0444\\u043e\\u043d\", \"\\u043e\\u0442\\u0432\\u0435\\u0442\\u0438\\u0442\\u044c\", \"\\u043f\\u0440\\u0438\\u0439\\u0442\\u0438\", \"\\u043f\\u043e\\u0434\\u0434\\u0435\\u0440\\u0436\\u043a\\u0430\", \"\\u0441\\u043a\\u0430\\u0437\\u0430\\u0442\\u044c\", \"\\u0441\\u0430\\u0439\\u0442\", \"\\u0434\\u0435\\u043d\\u044c\\u0433\\u0430\", \"\\u043a\\u0430\\u0440\\u0442\\u0430\", \"\\u043f\\u0438\\u0441\\u0430\\u0442\\u044c\", \"\\u043e\\u043f\\u043b\\u0430\\u0442\\u0438\\u0442\\u044c\", \"\\u043e\\u0444\\u043e\\u0440\\u043c\\u0438\\u0442\\u044c\", \"\\u043e\\u0442\\u043f\\u0440\\u0430\\u0432\\u0438\\u0442\\u044c\", \"\\u043f\\u043e\\u043b\\u0443\\u0447\\u0438\\u0442\\u044c\", \"\\u0441\\u0434\\u0435\\u043b\\u0430\\u0442\\u044c\", \"\\u0438\\u043d\\u0442\\u0435\\u0440\\u043d\\u0435\\u0442\", \"\\u043d\\u043e\\u043c\\u0435\\u0440\", \"\\u0432\\u0441\\u0451\", \"\\u043c\\u043e\\u0447\\u044c\", \"\\u0432\\u0435\\u0440\\u043d\\u0443\\u0442\\u044c\", \"\\u0434\\u0435\\u043d\\u044c\", \"\\u043e\\u0431\\u0440\\u0430\\u0449\\u0435\\u043d\\u0438\\u0435\", \"\\u0432\\u043e\\u043f\\u0440\\u043e\\u0441\", \"\\u043e\\u0442\\u0432\\u0435\\u0442\", \"\\u0434\\u0430\\u0442\\u044c\", \"\\u0441\\u0438\\u0442\\u0443\\u0430\\u0446\\u0438\\u044f\", \"\\u0437\\u0434\\u0440\\u0430\\u0432\\u0441\\u0442\\u0432\\u0443\\u0439\\u0442\\u0435\", \"\\u0442\\u043e\\u0432\\u0430\\u0440\", \"\\u0432\\u0440\\u0435\\u043c\\u044f\", \"\\u043f\\u043e\\u043b\\u043d\\u044b\\u0439\", \"\\u0438\\u0437\\u0434\\u0435\\u043b\\u0438\\u0435\", \"\\u0442\\u0440\\u0435\\u0431\\u043e\\u0432\\u0430\\u0442\\u044c\", \"\\u043f\\u0440\\u043e\\u0434\\u0430\\u0436\\u0430\", \"\\u0433\\u0430\\u0440\\u0430\\u043d\\u0442\\u0438\\u0439\\u043d\\u044b\\u0439\", \"\\u0441\\u043e\\u0441\\u0442\\u0430\\u0432\\u0438\\u0442\\u044c\", \"\\u0441\\u0442\\u0430\\u0442\\u044c\", \"\\u044d\\u043a\\u0441\\u043f\\u0435\\u0440\\u0442\\u0438\\u0437\\u0430\", \"\\u0442\\u0435\\u0445\\u043d\\u0438\\u0447\\u0435\\u0441\\u043a\\u0438\\u0439\", \"\\u0434\\u0430\\u0442\\u0430\", \"\\u0437\\u0430\\u043a\\u043b\\u044e\\u0447\\u0438\\u0442\\u044c\", \"\\u043d\\u043e\\u0443\\u0442\\u0431\\u0443\\u043a\", \"\\u043a\\u043e\\u0440\\u043e\\u0431\\u043a\\u0430\", \"\\u0434\\u0435\\u0444\\u0435\\u043a\\u0442\", \"\\u0441\\u0435\\u0440\\u0432\\u0438\\u0441\\u043d\\u044b\\u0439\", \"\\u043f\\u0440\\u043e\\u0438\\u0437\\u0432\\u043e\\u0434\\u0438\\u0442\\u0435\\u043b\\u044c\", \"\\u043f\\u0440\\u043e\\u0446\\u0435\\u0441\\u0441\", \"\\u043d\\u0430\\u0434\\u043b\\u0435\\u0436\\u0430\\u0449\\u0438\\u0439\", \"\\u0434\\u0438\\u0432\\u0430\\u043d\", \"\\u0432\\u0435\\u0447\\u0435\\u0440\", \"\\u0446\\u0432\\u0435\\u0442\", \"\\u043e\\u0431\\u043c\\u0435\\u043d\", \"\\u044d\\u043a\\u0441\\u043f\\u043b\\u0443\\u0430\\u0442\\u0430\\u0446\\u0438\\u044f\", \"\\u043f\\u0440\\u043e\\u0434\\u0443\\u043a\\u0442\", \"\\u043f\\u043e\\u0441\\u0435\\u0449\\u0435\\u043d\\u0438\\u0435\", \"\\u0443\\u043f\\u0430\\u043a\\u043e\\u0432\\u043a\\u0430\", \"\\u0441\\u043f\\u0440\\u0430\\u0432\\u043a\\u0430\", \"\\u043d\\u0435\\u043a\\u0430\\u0447\\u0435\\u0441\\u0442\\u0432\\u0435\\u043d\\u043d\\u044b\\u0439\", \"\\u043f\\u0440\\u043e\\u0434\\u0430\\u0432\\u0430\\u0442\\u044c\", \"\\u043f\\u0440\\u043e\\u0438\\u0437\\u0432\\u043e\\u0434\\u0441\\u0442\\u0432\\u043e\", \"\\u043f\\u043e\\u043a\\u0443\\u043f\\u0430\\u0442\\u0435\\u043b\\u044c\", \"\\u043f\\u0435\\u0440\\u0435\\u0434\\u0430\\u0447\\u0430\", \"\\u0440\\u0435\\u043c\\u043e\\u043d\\u0442\", \"\\u043a\\u0430\\u0447\\u0435\\u0441\\u0442\\u0432\\u043e\", \"\\u043f\\u0440\\u043e\\u0434\\u0430\\u0432\\u0435\\u0446\", \"\\u043c\\u0430\\u0433\\u0430\\u0437\\u0438\\u043d\", \"\\u0442\\u043e\\u0432\\u0430\\u0440\", \"\\u0437\\u0430\\u043c\\u0435\\u043d\\u0430\", \"\\u0446\\u0435\\u043d\\u0442\\u0440\", \"\\u043f\\u043e\\u043a\\u0443\\u043f\\u043a\\u0430\", \"\\u043f\\u0440\\u0438\\u043e\\u0431\\u0440\\u0435\\u0441\\u0442\\u0438\", \"\\u0446\\u0435\\u043d\\u0430\", \"\\u043a\\u0443\\u043f\\u0438\\u0442\\u044c\", \"\\u043f\\u0440\\u0435\\u0442\\u0435\\u043d\\u0437\\u0438\\u044f\", \"\\u043d\\u0430\\u043b\\u0438\\u0447\\u0438\\u0435\", \"\\u0434\\u0430\\u043d\\u043d\\u044b\\u0439\", \"\\u043e\\u0442\\u043a\\u0430\\u0437\", \"\\u0432\\u043e\\u0437\\u0432\\u0440\\u0430\\u0442\", \"\\u0441\\u0440\\u043e\\u043a\", \"\\u043f\\u0440\\u0430\\u0432\\u043e\", \"\\u043e\\u0442\\u043a\\u0430\\u0437\\u0430\\u0442\\u044c\", \"\\u0432\\u0438\\u0434\", \"\\u0434\\u0435\\u043d\\u044c\", \"\\u0442\\u0440\\u0435\\u0431\\u043e\\u0432\\u0430\\u043d\\u0438\\u0435\", \"\\u043f\\u0440\\u043e\\u0432\\u0435\\u0440\\u043a\\u0430\", \"\\u0434\\u0430\\u0442\\u044c\", \"\\u0438\\u043d\\u0442\\u0435\\u0440\\u043d\\u0435\\u0442\", \"\\u0432\\u0435\\u0440\\u043d\\u0443\\u0442\\u044c\", \"\\u0430\\u0434\\u0440\\u0435\\u0441\", \"\\u0434\\u043e\\u0431\\u0440\\u044b\\u0439\", \"\\u043f\\u0440\\u043e\\u0441\\u0438\\u0442\\u044c\", \"\\u043c\\u043e\\u0447\\u044c\", \"\\u0440\\u0435\\u0431\\u0451\\u043d\\u043e\\u043a\", \"\\u0432\\u043e\\u0434\\u0430\", \"\\u0434\\u0435\\u0442\\u0441\\u043a\\u0438\\u0439\", \"\\u0436\\u0438\\u043b\\u043e\\u0439\", \"\\u0440\\u043e\\u0441\\u0441\\u0438\\u044f\", \"\\u0440\\u0430\\u0439\\u043e\\u043d\", \"\\u043a\\u0432\\u0430\\u0440\\u0442\\u0438\\u0440\\u0430\", \"\\u043f\\u043b\\u043e\\u0449\\u0430\\u0434\\u043a\\u0430\", \"\\u0448\\u043a\\u043e\\u043b\\u0430\", \"\\u0432\\u0430\\u043a\\u0446\\u0438\\u043d\\u0430\\u0446\\u0438\\u044f\", \"\\u0438\\u043d\\u0444\\u0435\\u043a\\u0446\\u0438\\u044f\", \"\\u043a\\u043b\\u0430\\u0441\\u0441\", \"\\u0437\\u0430\\u043f\\u0430\\u0445\", \"\\u0430\\u0434\\u043c\\u0438\\u043d\\u0438\\u0441\\u0442\\u0440\\u0430\\u0446\\u0438\\u044f\", \"\\u043c\\u0443\\u0441\\u043e\\u0440\", \"\\u0442\\u0435\\u043c\\u043f\\u0435\\u0440\\u0430\\u0442\\u0443\\u0440\\u0430\", \"\\u043f\\u043b\\u0430\\u043d\\u0438\\u0440\\u043e\\u0432\\u0430\\u0442\\u044c\", \"\\u0441\\u0430\\u043d\\u0438\\u0442\\u0430\\u0440\\u043d\\u044b\\u0439\", \"\\u0436\\u0438\\u0442\\u044c\", \"\\u0436\\u0438\\u043b\\u0435\\u0446\", \"\\u0440\\u0435\\u0433\\u0438\\u0441\\u0442\\u0440\\u0430\\u0446\\u0438\\u044f\", \"\\u0443\\u043f\\u0440\\u0430\\u0432\\u043b\\u044f\\u0442\\u044c\", \"\\u043a\\u0443\\u0445\\u043d\\u044f\", \"\\u0430\\u0432\\u0430\\u0440\\u0438\\u0439\\u043d\\u044b\\u0439\", \"\\u043a\\u0430\\u043d\\u0430\\u043b\", \"\\u0440\\u0435\\u0441\\u0443\\u0440\\u0441\", \"\\u043d\\u043e\\u0440\\u043c\\u0430\", \"\\u0441\\u043a\\u043b\\u0430\\u0434\", \"\\u0433\\u0440\\u0430\\u043d\\u0438\\u0446\\u0430\", \"\\u043e\\u0431\\u0440\\u0430\\u0431\\u043e\\u0442\\u043a\\u0430\", \"\\u0434\\u043e\\u043c\", \"\\u043a\\u0430\\u0440\\u0430\\u043d\\u0442\\u0438\\u043d\", \"\\u043d\\u0430\\u0448\", \"\\u043f\\u0440\\u043e\\u0436\\u0438\\u0432\\u0430\\u0442\\u044c\", \"\\u043f\\u0440\\u0430\\u0432\\u0438\\u043b\\u043e\", \"\\u0445\\u043e\\u0434\\u0438\\u0442\\u044c\", \"\\u043d\\u0430\\u0445\\u043e\\u0434\\u0438\\u0442\\u044c\\u0441\\u044f\", \"\\u0433\\u0440\\u0430\\u0436\\u0434\\u0430\\u043d\\u0438\\u043d\", \"\\u0437\\u0434\\u043e\\u0440\\u043e\\u0432\\u044c\\u0435\", \"\\u0447\\u0435\\u043b\\u043e\\u0432\\u0435\\u043a\", \"\\u043c\\u0435\\u0440\\u0430\", \"\\u0440\\u0435\\u0437\\u0443\\u043b\\u044c\\u0442\\u0430\\u0442\", \"\\u043c\\u0435\\u0441\\u0442\\u043e\", \"\\u043f\\u0440\\u043e\\u0441\\u0438\\u0442\\u044c\", \"\\u0440\\u043e\\u0441\\u043f\\u043e\\u0442\\u0440\\u0435\\u0431\\u043d\\u0430\\u0434\\u0437\\u043e\\u0440\", \"\\u043f\\u0440\\u043e\\u0432\\u0435\\u0441\\u0442\\u0438\", \"\\u0443\\u043b\\u0438\\u0446\\u0430\", \"\\u0432\\u0441\\u0451\", \"\\u0432\\u0435\\u0441\\u044c\", \"\\u0437\\u0434\\u0440\\u0430\\u0432\\u0441\\u0442\\u0432\\u0443\\u0439\\u0442\\u0435\", \"\\u0433\\u043e\\u0434\", \"\\u0430\\u0434\\u0440\\u0435\\u0441\", \"\\u043f\\u0440\\u043e\\u0432\\u0435\\u0440\\u043a\\u0430\", \"\\u0434\\u043e\\u0431\\u0440\\u044b\\u0439\", \"\\u0434\\u0435\\u043b\\u0430\\u0442\\u044c\", \"\\u0434\\u0430\\u0442\\u044c\", \"\\u0434\\u0435\\u043d\\u044c\", \"\\u0434\\u043e\\u043b\\u0436\\u043d\\u044b\\u0439\", \"\\u043f\\u043e\\u043b\\u0438\\u043a\\u043b\\u0438\\u043d\\u0438\\u043a\\u0430\", \"\\u043f\\u043e\\u043c\\u0435\\u0449\\u0435\\u043d\\u0438\\u0435\", \"\\u0441\\u0430\\u0434\", \"\\u043f\\u0440\\u043e\\u0432\\u0435\\u0434\\u0435\\u043d\\u0438\\u0435\", \"\\u043e\\u043a\\u0430\\u0437\\u0430\\u043d\\u0438\\u0435\", \"\\u0440\\u043e\\u0441\\u0442\\u0435\\u043b\\u0435\\u043a\\u043e\\u043c\", \"\\u043f\\u043e\\u0441\\u0442\\u0430\\u0432\\u0449\\u0438\\u043a\", \"\\u043e\\u043a\\u0430\\u0437\\u0430\\u0442\\u044c\", \"\\u0437\\u0430\\u043a\\u043b\\u044e\\u0447\\u0435\\u043d\\u0438\\u0435\", \"\\u043f\\u0430\\u043e\", \"\\u043f\\u043e\\u0434\\u043a\\u043b\\u044e\\u0447\\u0435\\u043d\\u0438\\u0435\", \"\\u0440\\u043e\\u0441\\u0441\\u0438\\u0439\\u0441\\u043a\\u0438\\u0439\", \"\\u0444\\u0435\\u0434\\u0435\\u0440\\u0430\\u0446\\u0438\\u044f\", \"\\u043e\\u0437\\u0432\\u0443\\u0447\\u0438\\u0442\\u044c\", \"\\u043e\\u0431\\u044f\\u0437\\u0430\\u0442\\u0435\\u043b\\u044c\\u0441\\u0442\\u0432\\u043e\", \"\\u0440\\u043e\\u0436\\u0434\\u0435\\u043d\\u0438\\u0435\", \"\\u043d\\u0430\\u0441\\u0442\\u043e\\u044f\\u0449\\u0438\\u0439\", \"\\u0432\\u044b\\u0437\\u043e\\u0432\", \"\\u0434\\u043e\\u0441\\u0442\\u0443\\u043f\", \"\\u043f\\u0440\\u0438\\u043b\\u043e\\u0436\\u0438\\u0442\\u044c\", \"\\u0441\\u0442\\u0435\\u043d\\u0430\", \"\\u0443\\u0441\\u043b\\u0443\\u0433\\u0430\", \"\\u0440\\u0443\\u043a\\u043e\\u0432\\u043e\\u0434\\u0438\\u0442\\u0435\\u043b\\u044c\", \"\\u0434\\u0438\\u0430\\u0433\\u043d\\u043e\\u0441\\u0442\\u0438\\u043a\\u0430\", \"\\u0440\\u0430\\u0441\\u0442\\u043e\\u0440\\u0433\\u043d\\u0443\\u0442\\u044c\", \"\\u043f\\u043b\\u0430\\u0442\\u043d\\u044b\\u0439\", \"\\u0437\\u0430\\u0434\\u043e\\u043b\\u0436\\u0435\\u043d\\u043d\\u043e\\u0441\\u0442\\u044c\", \"\\u0443\\u0447\\u0440\\u0435\\u0436\\u0434\\u0435\\u043d\\u0438\\u0435\", \"\\u0443\\u0441\\u0442\\u0430\\u043d\\u043e\\u0432\\u043b\\u0435\\u043d\\u043d\\u044b\\u0439\", \"\\u043f\\u0440\\u043e\\u0446\\u0435\\u0434\\u0443\\u0440\\u0430\", \"\\u043b\\u0438\\u0446\\u043e\", \"\\u0441\\u043e\\u043e\\u0442\\u0432\\u0435\\u0442\\u0441\\u0442\\u0432\\u0438\\u0435\", \"\\u0434\\u043e\\u0433\\u043e\\u0432\\u043e\\u0440\", \"\\u0440\\u0430\\u0437\\u044a\\u044f\\u0441\\u043d\\u0438\\u0442\\u044c\", \"\\u0431\\u043e\\u043b\\u044c\\u043d\\u0438\\u0446\\u0430\", \"\\u0442\\u0440\\u0430\\u043d\\u0441\\u043f\\u043e\\u0440\\u0442\\u043d\\u044b\\u0439\", \"\\u043e\\u043e\\u043e\", \"\\u0443\\u0441\\u043b\\u043e\\u0432\\u0438\\u0435\", \"\\u0434\\u043e\\u043a\\u0443\\u043c\\u0435\\u043d\\u0442\", \"\\u0437\\u0430\\u043a\\u043e\\u043d\\u043e\\u0434\\u0430\\u0442\\u0435\\u043b\\u044c\\u0441\\u0442\\u0432\\u043e\", \"\\u043a\\u043e\\u043c\\u043f\\u0430\\u043d\\u0438\\u044f\", \"\\u0432\\u0440\\u0430\\u0447\", \"\\u043f\\u0440\\u0430\\u0432\\u043e\", \"\\u0440\\u0430\\u0431\\u043e\\u0442\\u0430\", \"\\u044f\\u0432\\u043b\\u044f\\u0442\\u044c\\u0441\\u044f\", \"\\u0441\\u0432\\u044f\\u0437\\u044c\", \"\\u0440\\u0435\\u0448\\u0435\\u043d\\u0438\\u0435\", \"\\u043e\\u0440\\u0433\\u0430\\u043d\\u0438\\u0437\\u0430\\u0446\\u0438\\u044f\", \"\\u043f\\u0440\\u043e\\u0441\\u0438\\u0442\\u044c\", \"\\u0440\\u0435\\u0437\\u0443\\u043b\\u044c\\u0442\\u0430\\u0442\", \"\\u0433\\u043e\\u0434\", \"\\u0437\\u0430\\u0449\\u0438\\u0442\\u0430\", \"\\u0434\\u0430\\u0442\\u044c\", \"\\u043f\\u0440\\u043e\\u0438\\u0437\\u0432\\u0435\\u0441\\u0442\\u0438\", \"\\u0437\\u0430\\u044f\\u0432\\u043b\\u0435\\u043d\\u0438\\u0435\", \"\\u043f\\u0440\\u0435\\u0434\\u043e\\u0441\\u0442\\u0430\\u0432\\u0438\\u0442\\u044c\", \"\\u0434\\u0430\\u043d\\u043d\\u044b\\u0439\", \"\\u0434\\u0435\\u043a\\u0430\\u0431\\u0440\\u044c\", \"\\u0437\\u0432\\u043e\\u043d\\u0438\\u0442\\u044c\", \"\\u043c\\u0430\\u0448\\u0438\\u043d\\u0430\", \"\\u043e\\u0431\\u043b\\u0430\\u0441\\u0442\\u044c\", \"\\u0432\\u044b\\u0434\\u0430\\u0447\\u0430\", \"\\u043c\\u0435\\u0434\\u0438\\u0446\\u0438\\u043d\\u0441\\u043a\\u0438\\u0439\", \"\\u043f\\u0435\\u0440\\u0438\\u043e\\u0434\", \"\\u043f\\u0443\\u043d\\u043a\\u0442\", \"\\u0441\\u043c\\u0441\", \"\\u043f\\u0435\\u0442\\u0435\\u0440\\u0431\\u0443\\u0440\\u0433\", \"\\u0432\\u044b\\u0437\\u0432\\u0430\\u0442\\u044c\", \"\\u0434\\u043e\\u0440\\u043e\\u0433\\u0430\", \"\\u043f\\u043e\\u0434\\u0442\\u0432\\u0435\\u0440\\u0436\\u0434\\u0430\\u0442\\u044c\", \"\\u0441\\u0430\\u043d\\u043a\\u0442\", \"\\u0434\\u0430\\u043b\\u044c\\u043d\\u0435\\u0439\\u0448\\u0438\\u0439\", \"\\u0433\\u0440\\u0430\\u0436\\u0434\\u0430\\u043d\\u0441\\u043a\\u0438\\u0439\", \"\\u043a\\u0440\\u043e\\u043c\\u0435\", \"\\u043f\\u043b\\u0430\\u0442\\u0430\", \"\\u0443\\u0441\\u0442\\u0440\\u043e\\u0438\\u0442\\u044c\", \"\\u0441\\u0443\\u0434\", \"\\u0442\\u044b\\u0441\\u044f\\u0447\\u0430\", \"\\u0441\\u0442\\u0438\\u0440\\u0430\\u043b\\u044c\\u043d\\u044b\\u0439\", \"\\u0432\\u044b\\u043d\\u0443\\u0434\\u0438\\u0442\\u044c\", \"\\u043e\\u0436\\u0438\\u0434\\u0430\\u0442\\u044c\", \"\\u043e\\u0431\\u044a\\u044f\\u0441\\u043d\\u0438\\u0442\\u044c\", \"\\u0441\\u043e\\u0447\\u0438\", \"\\u0438\\u0441\\u0442\\u0435\\u0447\\u0435\\u043d\\u0438\\u0435\", \"\\u0443\\u0432\\u0435\\u0440\\u044f\\u0442\\u044c\", \"\\u043f\\u043e\\u0441\\u043b\\u0435\\u0434\\u0443\\u044e\\u0449\\u0438\\u0439\", \"\\u043f\\u0440\\u0438\\u043e\\u0431\\u0440\\u0435\\u0442\\u0435\\u043d\\u0438\\u0435\", \"\\u043e\\u0442\\u0432\\u0435\\u0442\\u0441\\u0442\\u0432\\u0435\\u043d\\u043d\\u043e\\u0441\\u0442\\u044c\", \"\\u0442\\u0430\\u043a\\u0441\\u0438\", \"\\u044f\\u043d\\u0432\\u0430\\u0440\\u044c\", \"\\u0438\\u0442\\u043e\\u0433\", \"\\u043f\\u043b\\u0430\\u0442\\u0438\\u0442\\u044c\", \"\\u0440\\u0443\\u0431\\u043b\\u044c\", \"\\u0437\\u0430\\u044f\\u0432\\u043a\\u0430\", \"\\u0440\\u0430\\u0437\\u043c\\u0435\\u0440\", \"\\u043e\\u0441\\u043d\\u043e\\u0432\\u0430\\u043d\\u0438\\u0435\", \"\\u043f\\u0440\\u0438\\u0451\\u043c\", \"\\u043e\\u0431\\u0440\\u0430\\u0437\", \"\\u0433\\u043e\\u0434\", \"\\u0441\\u0443\\u043c\\u043c\\u0430\", \"\\u043f\\u043e\\u0434\\u0442\\u0432\\u0435\\u0440\\u0434\\u0438\\u0442\\u044c\", \"\\u0442\\u0430\\u043a\\u0436\\u0435\", \"\\u0430\\u0434\\u0440\\u0435\\u0441\", \"\\u0445\\u043e\\u0442\\u044f\", \"\\u0441\\u0440\\u0435\\u0434\\u0441\\u0442\\u0432\\u043e\", \"\\u0434\\u0435\\u043d\\u0435\\u0436\\u043d\\u044b\\u0439\", \"\\u043f\\u0440\\u0438\\u043d\\u044f\\u0442\\u044c\", \"\\u0442\\u0435\\u0441\\u0442\", \"\\u0441\\u0442\\u0440\\u0430\\u0445\\u043e\\u0432\\u043e\\u0439\", \"\\u043f\\u0446\\u0440\", \"\\u0431\\u0438\\u043b\\u0435\\u0442\", \"\\u0433\\u043e\\u0441\\u0443\\u0441\\u043b\\u0443\\u0433\\u0430\", \"\\u043f\\u043e\\u043b\\u043e\\u0436\\u0438\\u0442\\u0435\\u043b\\u044c\\u043d\\u044b\\u0439\", \"\\u0442\\u043e\\u0440\\u0433\\u043e\\u0432\\u044b\\u0439\", \"\\u0432\\u043e\\u0434\\u0438\\u0442\\u0435\\u043b\\u044c\", \"\\u043f\\u043e\\u043b\\u0438\\u0441\", \"\\u043f\\u0435\\u0440\\u0435\\u0441\\u0442\\u0430\\u0442\\u044c\", \"\\u0430\\u043a\\u043a\\u0430\\u0443\\u043d\\u0442\", \"\\u0445\\u043e\\u0442\\u0435\\u0442\\u044c\\u0441\\u044f\", \"\\u043f\\u043e\\u0435\\u0437\\u0434\\u043a\\u0430\", \"\\u0441\\u043a\\u0430\\u043d\", \"\\u043a\\u043e\\u043d\\u0446\\u0435\\u0440\\u0442\", \"\\u043f\\u0435\\u0440\\u0435\\u0432\\u043e\\u0434\", \"\\u043f\\u0430\\u043d\\u0434\\u0435\\u043c\\u0438\\u044f\", \"\\u0442\\u0443\\u0440\", \"\\u0441\\u043f\\u0431\", \"\\u043b\\u0435\\u0447\\u0435\\u043d\\u0438\\u0435\", \"\\u043a\\u043e\\u043c\\u043c\\u0435\\u043d\\u0442\\u0430\\u0440\\u0438\\u0439\", \"\\u0441\\u043a\\u0438\\u0434\\u043a\\u0430\", \"\\u043a\\u0440\\u0430\\u0441\\u043d\\u043e\\u044f\\u0440\\u0441\\u043a\", \"\\u0441\\u043d\\u044f\\u0442\\u044c\", \"\\u0440\\u0435\\u0439\\u0441\", \"\\u043a\\u043b\\u0438\\u043d\\u0438\\u043a\\u0430\", \"\\u043d\\u043e\\u0440\\u043c\\u0430\\u043b\\u044c\\u043d\\u043e\", \"\\u0434\\u043e\\u0431\\u0438\\u0442\\u044c\\u0441\\u044f\", \"\\u0438\\u044e\\u043d\\u044c\", \"\\u0440\\u0435\\u0430\\u043a\\u0446\\u0438\\u044f\", \"\\u0431\\u043e\\u043b\\u044c\\u043d\\u0438\\u0447\\u043d\\u044b\\u0439\", \"\\u0441\\u0440\\u0435\\u0434\\u0441\\u0442\\u0432\\u043e\", \"\\u0441\\u043a\\u043e\\u0440\\u044b\\u0439\", \"\\u0434\\u0435\\u043d\\u0435\\u0436\\u043d\\u044b\\u0439\", \"\\u0441\\u0434\\u0430\\u0432\\u0430\\u0442\\u044c\", \"\\u0432\\u043e\\u0437\\u0432\\u0440\\u0430\\u0442\", \"\\u0437\\u0430\\u044f\\u0432\\u043b\\u0435\\u043d\\u0438\\u0435\", \"\\u0434\\u0435\\u043d\\u044c\", \"\\u043d\\u0435\\u043e\\u0431\\u0445\\u043e\\u0434\\u0438\\u043c\\u043e\", \"\\u0440\\u0430\\u0431\\u043e\\u0447\\u0438\\u0439\", \"\\u0441\\u0434\\u0430\\u0442\\u044c\", \"\\u043f\\u043e\\u0441\\u0442\\u0443\\u043f\\u0438\\u0442\\u044c\", \"\\u043f\\u043e\\u043c\\u043e\\u0449\\u044c\", \"\\u0434\\u043e\\u0431\\u0440\\u044b\\u0439\", \"\\u043f\\u0440\\u043e\\u0439\\u0442\\u0438\", \"\\u0433\\u043e\\u0434\", \"\\u0441\\u0432\\u044f\\u0437\\u044c\", \"\\u0434\\u0435\\u043d\\u044c\\u0433\\u0430\", \"\\u043f\\u043e\\u0434\\u0441\\u043a\\u0430\\u0437\\u0430\\u0442\\u044c\", \"\\u0441\\u0440\\u043e\\u043a\", \"\\u043e\\u0442\\u0432\\u0435\\u0442\", \"\\u043e\\u0431\\u0440\\u0430\\u0449\\u0435\\u043d\\u0438\\u0435\", \"\\u0441\\u0434\\u0435\\u043b\\u0430\\u0442\\u044c\"], \"Freq\": [1032.0, 847.0, 433.0, 430.0, 524.0, 418.0, 322.0, 604.0, 942.0, 261.0, 184.0, 261.0, 213.0, 212.0, 326.0, 370.0, 146.0, 428.0, 237.0, 261.0, 134.0, 128.0, 561.0, 198.0, 110.0, 218.0, 236.0, 183.0, 418.0, 226.0, 190.21011417729528, 176.74327989292797, 143.86530287001204, 132.03637861310875, 600.8634355142607, 136.14024001871618, 135.39512686010357, 100.6188989329035, 92.9216036143826, 93.92454856907158, 87.45922307206365, 81.01912808632136, 79.2497344044678, 81.37481961955908, 78.05108115176228, 76.79233848872691, 76.32516330105967, 246.00037950315684, 69.40372715953092, 74.37033234659516, 66.9279518082302, 64.589661787753, 67.83076823559746, 63.791544996946705, 59.36405129246052, 57.24961709718592, 52.56041341836905, 51.46534775975676, 47.37631731248794, 46.82540923870684, 73.17115939565095, 191.5003516712261, 221.0492758927431, 139.44489494366204, 200.48945475470012, 102.34649881769047, 313.146844862222, 275.4051070219722, 361.5585351818628, 228.79110320335167, 93.55063965671404, 230.7306617353823, 131.66434173204112, 133.6014526530121, 252.55870304412545, 186.7291977271356, 232.79286905174473, 146.65100836877988, 240.95018672195945, 254.79602072616223, 226.80780060882105, 421.7618767772016, 183.7048780908169, 168.8395526105835, 179.74497868548076, 199.90991857256603, 151.39473565743478, 150.23660210288807, 165.38732573846102, 143.20675020298404, 107.92487852061251, 103.28078082447256, 100.45888600749811, 92.2958119846227, 82.33608204275065, 90.95467968468174, 80.17127527653454, 89.5432227823637, 69.84002676935573, 68.12952228237396, 69.46551628282977, 64.96588357502786, 67.31364560111219, 58.1905948652108, 55.83228884623077, 54.51601334105661, 55.60711786703405, 51.8404227490151, 51.614203874705375, 51.41895210770072, 67.24517107562428, 48.16496316102484, 43.873514691294666, 43.14256810222641, 38.95123697696552, 37.5945452413121, 37.761388210459984, 39.73071195006028, 36.86646048993179, 34.955052829197975, 70.15060842712539, 53.42239748023939, 205.90556485447686, 141.63418279917315, 294.6361630438605, 726.6367771400232, 865.0042589407703, 72.46721544747058, 104.57214894683996, 165.23983416223732, 176.33642189877955, 125.0794057203527, 157.29540164797515, 130.82567226949087, 77.74690127739512, 172.5013714985097, 123.6688810833421, 217.3169113755151, 133.29705701145866, 118.44380142909951, 89.06465269768469, 81.35465961422226, 183.18047782202987, 80.71817534944448, 97.20997031854176, 132.50490612092793, 106.95074799669808, 106.97850637689851, 102.37934531394944, 108.31798372524722, 102.61883632188012, 91.91006372636761, 211.09568081973694, 87.79973129969181, 83.0354527123893, 77.9091878164754, 74.11402503453732, 72.2831684558811, 119.1329692448764, 70.18598220725589, 66.76922549077945, 51.84898881208928, 48.29062628241247, 47.77969966017086, 47.53452845993332, 44.85270175883932, 42.88749449980765, 42.135290358651545, 40.821415683622995, 39.85645033712687, 40.14218305215407, 38.87965921749975, 39.025569556095626, 38.51387960424213, 38.322762411628275, 36.76306058645105, 36.330854956569674, 37.55868814485606, 33.62423054762516, 33.4735674901002, 30.829174286426028, 33.66430885376141, 409.813264677243, 35.973992527157385, 138.35849231433193, 75.32216805378305, 100.04299670723519, 44.347111440856985, 139.5296500296914, 56.33378605042162, 54.21982055638274, 108.52205269875385, 88.15077888487409, 107.18722030734746, 77.86813609000839, 177.7793638983689, 60.84347670459863, 84.79384666776627, 61.32484589703668, 113.42139627487597, 81.67221605579181, 105.88526477910274, 120.34143907190703, 95.11537025167065, 79.97414148014346, 103.28202601291369, 81.58840386501097, 96.53679736871224, 112.0288029418285, 74.60708927699241, 111.61734892350046, 72.96815234031573, 73.36136129456597, 69.2007538251598, 55.112346057545466, 53.12916730202161, 53.91615979950553, 55.06160509806945, 48.43368229231685, 51.51529373499399, 45.386999811526785, 59.377943462855114, 42.73139209733424, 44.98365130581717, 46.15946773636205, 39.94414734310473, 72.18076238278312, 50.83166677147543, 44.154247229007915, 31.207828585621137, 30.39865824944244, 313.3772371379257, 29.970690981912984, 35.857759057463404, 28.76244267543907, 26.397762756229458, 27.19127446255538, 25.692329492757285, 25.46365387789949, 25.45227874411487, 64.28194811070968, 92.10716703069811, 358.1157895204604, 38.31326075790627, 48.56138361382827, 76.26623262211635, 150.43914685304415, 104.89113251962115, 183.26106933680686, 45.43838448347295, 229.97005583199999, 76.39804247087014, 114.84789555876817, 108.49219832462074, 92.97547034966335, 98.60482662571245, 66.96310991390183, 71.72198116093585, 118.83199188459737, 81.60698970064165, 117.24995400342576, 57.24260663217201, 75.27007677401247, 58.55547333580822, 64.91726639744144, 59.220035177643716, 61.40185755315116, 127.09516384386058, 103.68437670624591, 98.20422702784693, 71.28928987195692, 57.86647809881347, 57.14396370910467, 55.379047459777624, 132.43358364497516, 48.35522842942045, 46.06392969722542, 48.15571724884559, 45.44771271547991, 44.17028165473194, 38.96860979738833, 38.65844665105112, 36.325324772372134, 46.16256741805821, 34.165985966564584, 31.09180219069474, 50.77238728503493, 40.50804436327475, 28.57374135826027, 27.37285583807704, 28.96885402802655, 25.63193385811561, 25.49955758239043, 24.197650313659924, 23.64839285673486, 22.921250145278922, 22.158810420622032, 35.28181645013042, 28.842905501665534, 170.1865104104453, 72.77004484659824, 42.22367454682501, 167.5509506618388, 90.35578535856476, 93.71010664942519, 60.193779641888085, 38.468599908184856, 48.19953088736868, 111.37333376552795, 65.8021363992197, 45.35296187236821, 58.41505542343004, 64.88556899765078, 48.216167750629786, 55.50895985997013, 51.60831979706475, 46.27112623030091, 184.02097083307982, 145.48241837393962, 109.24399793762065, 84.92013573870176, 66.29497879934812, 59.13601695327716, 59.81397090517418, 51.935704624977156, 49.31590508917928, 48.903009075291685, 38.76223836418064, 39.15622629762748, 34.31848656723578, 31.253389480074677, 29.391831177760434, 28.54099719019363, 25.85930123549173, 23.932991041233542, 23.942228227133437, 24.10710755060646, 26.0336871291137, 22.93868839030814, 22.30114881037472, 42.89533085743703, 21.20253249669001, 21.960136636424643, 20.753684460924315, 19.70731387542145, 19.343071350754617, 20.395217534557098, 37.98425395908419, 312.697572670469, 33.36572835519874, 176.2938991565041, 33.02626109991696, 214.67248047318895, 112.94021921882407, 203.28802194875274, 47.58041322773506, 35.66647726795027, 43.243143636754354, 42.77596130899837, 45.31762863720203, 83.82622556784794, 45.92297814629532, 77.02869118104125, 49.268671254951, 56.82114961203296, 43.458597159143864, 47.83775061316673, 47.93577415371074, 42.14393737156423, 41.05408951518607], \"Total\": [1032.0, 847.0, 433.0, 430.0, 524.0, 418.0, 322.0, 604.0, 942.0, 261.0, 184.0, 261.0, 213.0, 212.0, 326.0, 370.0, 146.0, 428.0, 237.0, 261.0, 134.0, 128.0, 561.0, 198.0, 110.0, 218.0, 236.0, 183.0, 418.0, 226.0, 191.05864584918902, 177.59284301457095, 144.71479469674068, 132.89044718564824, 604.7937984992743, 137.06008320106235, 136.333089099311, 101.47174693084341, 93.77137179101969, 94.78463455652275, 88.31344140777142, 81.86914527545407, 80.10004966833662, 82.26130181491256, 78.9043652930996, 77.64623863611064, 77.17482945577866, 248.90121377581548, 70.24921364240035, 75.29294169424482, 67.78426270289043, 65.4405257963098, 68.72860234974709, 64.63897949225426, 60.238879091688766, 58.09461662852009, 53.40836089009889, 52.32389462343942, 48.2345295153478, 47.67705989820427, 74.84749018909527, 200.01775998688447, 232.1913524536484, 146.648009259004, 215.39787345415476, 106.57216998705229, 363.791468327491, 317.51291310152493, 428.2329029049103, 265.11003048196653, 98.81067570059227, 280.9170122319537, 148.55998323987467, 151.64686731675468, 354.57293784781484, 254.1074897335476, 343.58822140676057, 184.133605539903, 382.6640094127415, 433.5262911605178, 364.68629763733054, 942.3526548889363, 348.8121816532032, 304.21245028493183, 355.68631122943947, 519.4589758083873, 329.7621674227089, 352.9145737380584, 1032.4186957625075, 277.7743286717852, 108.79044672408682, 104.13666551081582, 101.30954027088767, 93.13544881969139, 83.1776295153227, 91.90802136443516, 81.02106374346796, 90.49705109105433, 70.69813847360331, 68.98123202164868, 70.33869848684547, 65.80749204270185, 68.28719530171534, 59.05212719942614, 56.66939660233531, 55.35036300718327, 56.482667090896086, 52.677895815327936, 52.452832779259225, 52.28792004834068, 68.38197222706665, 49.018832299716, 44.710855800680235, 43.97881450332628, 39.80189025401145, 38.430700071649085, 38.606617938910524, 40.629546838431175, 37.71513303583982, 35.79627366522909, 72.17044432567575, 54.92898758985702, 218.05518400039148, 148.91693303047546, 326.5435149471132, 847.6448433772273, 1032.4186957625075, 76.1976614883878, 116.79780505236378, 198.68439986231775, 215.14448559076848, 157.268247695962, 222.06665048761568, 183.89723870166335, 92.62010427154351, 332.49880819467256, 198.83374597631024, 524.0488822103891, 293.9240506411642, 236.29858191848214, 127.55244819511007, 105.54956662245723, 942.3526548889363, 108.48762990794773, 190.80617163750972, 519.4589758083873, 343.58822140676057, 364.68629763733054, 301.4320348629285, 418.0251198728636, 533.3174311419689, 433.5262911605178, 212.04402227076216, 88.64459988782411, 83.88006696910514, 78.74972654888475, 74.96451862389873, 73.13606964069764, 120.54178277849965, 71.04307876339723, 67.61007232119516, 52.690672124445584, 49.13367734796551, 48.621027780871984, 48.37914670604434, 45.69307928884098, 43.72547132465019, 42.98146232004614, 41.675837598309734, 40.69474991190592, 40.99177078694137, 39.71862670123807, 39.877095503506915, 39.36301372429302, 39.17729887800454, 37.60333061888523, 37.1911210918202, 38.45006008152706, 34.491742776445605, 34.343035707854526, 31.675937906346384, 34.5921583891522, 430.27924509356444, 36.98941622060945, 146.82594300495828, 80.533737051917, 113.23488670662199, 46.771388151967706, 181.30697681455516, 62.67505531587713, 59.905267986946704, 157.78804875126667, 119.28265241768044, 201.79260207986363, 124.11231682947842, 533.3174311419689, 84.11793527716509, 160.00379657904853, 88.04976493571185, 382.6640094127415, 185.8182743622432, 352.9145737380584, 561.7884897398135, 301.4320348629285, 190.80617163750972, 418.0251198728636, 207.61239623149618, 519.4589758083873, 942.3526548889363, 250.59383262561155, 112.45473782065594, 73.81040175894093, 74.21103047114376, 70.03605489368408, 55.94369871637205, 53.971513263160936, 54.77152766618762, 55.9561530926327, 49.26902724741503, 52.456606951262785, 46.22042545983599, 60.47567805315835, 43.56666767008005, 45.869206774304246, 47.11387277610832, 40.78954352183933, 73.90099978353895, 52.06237432161476, 45.22643143741229, 32.05406379520101, 31.239459469335863, 322.08647359789074, 30.810999627359067, 36.86501217173209, 29.628896437453584, 27.23479690846209, 28.066148120524744, 26.524808943881023, 26.298110470127856, 26.286657087185084, 67.48235909214738, 98.35544002021264, 418.15359443681456, 40.22256731549809, 51.6560617017352, 83.60610528236933, 183.47292250861454, 125.80055422070288, 237.5468333957384, 49.395672220921035, 370.1841596956829, 109.76535400108531, 236.29858191848214, 226.40674311867633, 175.27164237903483, 213.26998372888363, 110.77240635184205, 136.22161243716516, 533.3174311419689, 201.79260207986363, 561.7884897398135, 86.60881444986919, 519.4589758083873, 103.03411295522075, 261.27311333493986, 162.26363184940848, 332.49880819467256, 128.02371506813668, 104.52581846406281, 99.04486320582937, 72.13358914072411, 58.70153109493082, 57.9918378364682, 56.2148415615201, 134.57738407122832, 49.19517563241272, 46.90098992952247, 49.03982441522952, 46.290136239861496, 45.009973621786905, 39.80627467971768, 39.49841505806479, 37.16692958140814, 47.29116493976912, 35.01520064312486, 31.974316804813743, 52.219948846586696, 41.69273921104335, 29.41668888230113, 28.221381307483803, 29.911371034286848, 26.473888364097657, 26.35690345171351, 25.061879330475744, 24.495333512600443, 23.771509192127027, 23.01841714252414, 37.28182985259814, 30.361337816226868, 213.4163392231553, 87.34935650611004, 48.27916715741875, 261.1684000157793, 136.50688859248643, 198.07759992719537, 103.87100161390086, 50.371524724697274, 83.57314800929124, 561.7884897398135, 220.17921867502736, 81.80351540778247, 198.30757187179907, 301.4320348629285, 114.40210269732191, 433.1744252974024, 261.4378060339832, 200.723354212981, 184.86110829942893, 146.3390517431748, 110.08398803241539, 85.75861521534836, 67.14493889674557, 60.00456813102875, 60.70567181662625, 52.78280009511178, 50.15502856962373, 49.79110496024984, 39.61137936065966, 40.017398219042654, 35.160933163228904, 32.110884704118746, 30.22869473100828, 29.386863497842675, 26.70065305476911, 24.775323782155873, 24.79148136043041, 24.982921731246567, 26.997007490172116, 23.79064575077051, 23.169124900935437, 44.5856832837061, 22.043617843621377, 22.864750178063595, 21.631266924008578, 20.552896289280937, 20.189888668874662, 21.30734504976513, 41.92432619517392, 433.1744252974024, 36.9731848699021, 261.4378060339832, 38.57506152204175, 524.0488822103891, 261.27311333493986, 942.3526548889363, 81.2391870839304, 49.69605193976412, 75.7612334551063, 81.8669459770686, 93.48154061037451, 418.0251198728636, 113.65682619516984, 561.7884897398135, 213.26998372888363, 428.2329029049103, 129.47007785448426, 293.9240506411642, 355.68631122943947, 348.8121816532032, 254.1074897335476], \"Category\": [\"Default\", \"Default\", \"Default\", \"Default\", \"Default\", \"Default\", \"Default\", \"Default\", \"Default\", \"Default\", \"Default\", \"Default\", \"Default\", \"Default\", \"Default\", \"Default\", \"Default\", \"Default\", \"Default\", \"Default\", \"Default\", \"Default\", \"Default\", \"Default\", \"Default\", \"Default\", \"Default\", \"Default\", \"Default\", \"Default\", \"Topic1\", \"Topic1\", \"Topic1\", \"Topic1\", \"Topic1\", \"Topic1\", \"Topic1\", \"Topic1\", \"Topic1\", \"Topic1\", \"Topic1\", \"Topic1\", \"Topic1\", \"Topic1\", \"Topic1\", \"Topic1\", \"Topic1\", \"Topic1\", \"Topic1\", \"Topic1\", \"Topic1\", \"Topic1\", \"Topic1\", \"Topic1\", \"Topic1\", \"Topic1\", \"Topic1\", \"Topic1\", \"Topic1\", \"Topic1\", \"Topic1\", \"Topic1\", \"Topic1\", \"Topic1\", \"Topic1\", \"Topic1\", \"Topic1\", \"Topic1\", \"Topic1\", \"Topic1\", \"Topic1\", \"Topic1\", \"Topic1\", \"Topic1\", \"Topic1\", \"Topic1\", \"Topic1\", \"Topic1\", \"Topic1\", \"Topic1\", \"Topic1\", \"Topic1\", \"Topic1\", \"Topic1\", \"Topic1\", \"Topic1\", \"Topic1\", \"Topic1\", \"Topic1\", \"Topic1\", \"Topic2\", \"Topic2\", \"Topic2\", \"Topic2\", \"Topic2\", \"Topic2\", \"Topic2\", \"Topic2\", \"Topic2\", \"Topic2\", \"Topic2\", \"Topic2\", \"Topic2\", \"Topic2\", \"Topic2\", \"Topic2\", \"Topic2\", \"Topic2\", \"Topic2\", \"Topic2\", \"Topic2\", \"Topic2\", \"Topic2\", \"Topic2\", \"Topic2\", \"Topic2\", \"Topic2\", \"Topic2\", \"Topic2\", \"Topic2\", \"Topic2\", \"Topic2\", \"Topic2\", \"Topic2\", \"Topic2\", \"Topic2\", \"Topic2\", \"Topic2\", \"Topic2\", \"Topic2\", \"Topic2\", \"Topic2\", \"Topic2\", \"Topic2\", \"Topic2\", \"Topic2\", \"Topic2\", \"Topic2\", \"Topic2\", \"Topic2\", \"Topic2\", \"Topic2\", \"Topic2\", \"Topic2\", \"Topic2\", \"Topic2\", \"Topic2\", \"Topic2\", \"Topic2\", \"Topic2\", \"Topic2\", \"Topic2\", \"Topic3\", \"Topic3\", \"Topic3\", \"Topic3\", \"Topic3\", \"Topic3\", \"Topic3\", \"Topic3\", \"Topic3\", \"Topic3\", \"Topic3\", \"Topic3\", \"Topic3\", \"Topic3\", \"Topic3\", \"Topic3\", \"Topic3\", \"Topic3\", \"Topic3\", \"Topic3\", \"Topic3\", \"Topic3\", \"Topic3\", \"Topic3\", \"Topic3\", \"Topic3\", \"Topic3\", \"Topic3\", \"Topic3\", \"Topic3\", \"Topic3\", \"Topic3\", \"Topic3\", \"Topic3\", \"Topic3\", \"Topic3\", \"Topic3\", \"Topic3\", \"Topic3\", \"Topic3\", \"Topic3\", \"Topic3\", \"Topic3\", \"Topic3\", \"Topic3\", \"Topic3\", \"Topic3\", \"Topic3\", \"Topic3\", \"Topic3\", \"Topic3\", \"Topic3\", \"Topic3\", \"Topic3\", \"Topic3\", \"Topic3\", \"Topic3\", \"Topic3\", \"Topic4\", \"Topic4\", \"Topic4\", \"Topic4\", \"Topic4\", \"Topic4\", \"Topic4\", \"Topic4\", \"Topic4\", \"Topic4\", \"Topic4\", \"Topic4\", \"Topic4\", \"Topic4\", \"Topic4\", \"Topic4\", \"Topic4\", \"Topic4\", \"Topic4\", \"Topic4\", \"Topic4\", \"Topic4\", \"Topic4\", \"Topic4\", \"Topic4\", \"Topic4\", \"Topic4\", \"Topic4\", \"Topic4\", \"Topic4\", \"Topic4\", \"Topic4\", \"Topic4\", \"Topic4\", \"Topic4\", \"Topic4\", \"Topic4\", \"Topic4\", \"Topic4\", \"Topic4\", \"Topic4\", \"Topic4\", \"Topic4\", \"Topic4\", \"Topic4\", \"Topic4\", \"Topic4\", \"Topic4\", \"Topic4\", \"Topic4\", \"Topic4\", \"Topic4\", \"Topic4\", \"Topic4\", \"Topic4\", \"Topic4\", \"Topic4\", \"Topic5\", \"Topic5\", \"Topic5\", \"Topic5\", \"Topic5\", \"Topic5\", \"Topic5\", \"Topic5\", \"Topic5\", \"Topic5\", \"Topic5\", \"Topic5\", \"Topic5\", \"Topic5\", \"Topic5\", \"Topic5\", \"Topic5\", \"Topic5\", \"Topic5\", \"Topic5\", \"Topic5\", \"Topic5\", \"Topic5\", \"Topic5\", \"Topic5\", \"Topic5\", \"Topic5\", \"Topic5\", \"Topic5\", \"Topic5\", \"Topic5\", \"Topic5\", \"Topic5\", \"Topic5\", \"Topic5\", \"Topic5\", \"Topic5\", \"Topic5\", \"Topic5\", \"Topic5\", \"Topic5\", \"Topic5\", \"Topic5\", \"Topic5\", \"Topic5\", \"Topic5\", \"Topic5\", \"Topic5\", \"Topic5\", \"Topic5\", \"Topic6\", \"Topic6\", \"Topic6\", \"Topic6\", \"Topic6\", \"Topic6\", \"Topic6\", \"Topic6\", \"Topic6\", \"Topic6\", \"Topic6\", \"Topic6\", \"Topic6\", \"Topic6\", \"Topic6\", \"Topic6\", \"Topic6\", \"Topic6\", \"Topic6\", \"Topic6\", \"Topic6\", \"Topic6\", \"Topic6\", \"Topic6\", \"Topic6\", \"Topic6\", \"Topic6\", \"Topic6\", \"Topic6\", \"Topic6\", \"Topic6\", \"Topic6\", \"Topic6\", \"Topic6\", \"Topic6\", \"Topic6\", \"Topic6\", \"Topic6\", \"Topic6\", \"Topic6\", \"Topic6\", \"Topic6\", \"Topic6\", \"Topic6\", \"Topic6\", \"Topic6\", \"Topic6\", \"Topic6\", \"Topic6\", \"Topic6\", \"Topic6\", \"Topic6\", \"Topic6\"], \"logprob\": [30.0, 29.0, 28.0, 27.0, 26.0, 25.0, 24.0, 23.0, 22.0, 21.0, 20.0, 19.0, 18.0, 17.0, 16.0, 15.0, 14.0, 13.0, 12.0, 11.0, 10.0, 9.0, 8.0, 7.0, 6.0, 5.0, 4.0, 3.0, 2.0, 1.0, -4.8377, -4.9111, -5.117, -5.2028, -3.6875, -5.1722, -5.1777, -5.4745, -5.5541, -5.5434, -5.6147, -5.6912, -5.7132, -5.6868, -5.7285, -5.7447, -5.7508, -4.5805, -5.8459, -5.7768, -5.8822, -5.9178, -5.8688, -5.9302, -6.0022, -6.0384, -6.1239, -6.1449, -6.2277, -6.2394, -5.793, -4.831, -4.6875, -5.1482, -4.7851, -5.4575, -4.3392, -4.4676, -4.1954, -4.653, -5.5473, -4.6446, -5.2056, -5.191, -4.5542, -4.8562, -4.6357, -5.0978, -4.6013, -4.5454, -4.6617, -4.0414, -4.8725, -4.9569, -4.8943, -4.788, -5.066, -5.0736, -4.9776, -5.1216, -4.9684, -5.0124, -5.0401, -5.1249, -5.239, -5.1395, -5.2657, -5.1551, -5.4036, -5.4284, -5.409, -5.476, -5.4405, -5.5861, -5.6275, -5.6514, -5.6315, -5.7017, -5.7061, -5.7099, -5.4415, -5.7752, -5.8685, -5.8853, -5.9875, -6.023, -6.0186, -5.9677, -6.0426, -6.0958, -5.3992, -5.6716, -4.3224, -4.6966, -3.9641, -3.0614, -2.8871, -5.3667, -5.0, -4.5425, -4.4775, -4.8209, -4.5917, -4.776, -5.2964, -4.4995, -4.8322, -4.2685, -4.7573, -4.8754, -5.1605, -5.251, -4.4394, -5.2589, -5.073, -4.7632, -4.9775, -4.9772, -5.0212, -4.9648, -5.0188, -5.129, -3.8606, -4.7379, -4.7937, -4.8574, -4.9073, -4.9323, -4.4327, -4.9618, -5.0117, -5.2646, -5.3357, -5.3463, -5.3515, -5.4095, -5.4543, -5.472, -5.5037, -5.5276, -5.5205, -5.5525, -5.5487, -5.5619, -5.5669, -5.6084, -5.6203, -5.587, -5.6977, -5.7022, -5.7845, -5.6965, -3.1972, -5.6301, -4.2831, -4.8912, -4.6073, -5.4209, -4.2747, -5.1816, -5.2199, -4.526, -4.7339, -4.5384, -4.8579, -4.0324, -5.1046, -4.7727, -5.0967, -4.4818, -4.8102, -4.5506, -4.4226, -4.6578, -4.8312, -4.5755, -4.8112, -4.643, -4.4942, -4.9007, -4.4203, -4.8453, -4.84, -4.8983, -5.126, -5.1626, -5.1479, -5.1269, -5.2552, -5.1935, -5.3201, -5.0514, -5.3804, -5.3291, -5.3033, -5.4479, -4.8562, -5.2068, -5.3477, -5.6947, -5.721, -3.388, -5.7351, -5.5558, -5.7763, -5.8621, -5.8325, -5.8892, -5.8981, -5.8986, -4.9721, -4.6124, -3.2545, -5.4896, -5.2525, -4.8011, -4.1218, -4.4824, -3.9244, -5.319, -3.6974, -4.7994, -4.3917, -4.4487, -4.603, -4.5442, -4.9312, -4.8626, -4.3576, -4.7334, -4.371, -5.0881, -4.8143, -5.0654, -4.9622, -5.0541, -5.0179, -3.875, -4.0786, -4.1329, -4.4532, -4.6618, -4.6744, -4.7058, -3.8339, -4.8414, -4.8899, -4.8455, -4.9034, -4.9319, -5.0572, -5.0652, -5.1275, -4.8878, -5.1887, -5.283, -4.7926, -5.0185, -5.3675, -5.4104, -5.3537, -5.4761, -5.4813, -5.5337, -5.5567, -5.5879, -5.6217, -5.1566, -5.3581, -3.5831, -4.4327, -4.977, -3.5987, -4.2162, -4.1798, -4.6224, -5.0701, -4.8446, -4.0071, -4.5333, -4.9055, -4.6524, -4.5473, -4.8443, -4.7034, -4.7763, -4.8855, -3.448, -3.683, -3.9694, -4.2213, -4.4689, -4.5832, -4.5718, -4.713, -4.7648, -4.7732, -5.0056, -4.9955, -5.1273, -5.2209, -5.2823, -5.3117, -5.4104, -5.4878, -5.4874, -5.4805, -5.4036, -5.5302, -5.5584, -4.9043, -5.6089, -5.5738, -5.6303, -5.682, -5.7007, -5.6477, -5.0258, -2.9178, -5.1555, -3.4909, -5.1657, -3.2939, -3.9362, -3.3484, -4.8006, -5.0888, -4.8962, -4.907, -4.8493, -4.2343, -4.8361, -4.3188, -4.7657, -4.6231, -4.8912, -4.7952, -4.7932, -4.9219, -4.9481], \"loglift\": [30.0, 29.0, 28.0, 27.0, 26.0, 25.0, 24.0, 23.0, 22.0, 21.0, 20.0, 19.0, 18.0, 17.0, 16.0, 15.0, 14.0, 13.0, 12.0, 11.0, 10.0, 9.0, 8.0, 7.0, 6.0, 5.0, 4.0, 3.0, 2.0, 1.0, 1.0764, 1.076, 1.0749, 1.0744, 1.0743, 1.0741, 1.0739, 1.0724, 1.0717, 1.0717, 1.0711, 1.0704, 1.0701, 1.07, 1.0699, 1.0698, 1.0697, 1.0691, 1.0687, 1.0685, 1.0681, 1.0677, 1.0677, 1.0676, 1.0662, 1.0662, 1.0648, 1.0643, 1.0629, 1.0628, 1.0582, 1.0373, 1.0316, 1.0305, 1.0091, 1.0404, 0.9309, 0.9385, 0.9116, 0.9335, 1.0261, 0.884, 0.9601, 0.9541, 0.7415, 0.7727, 0.6915, 0.8532, 0.6183, 0.5493, 0.6059, 0.2769, 0.4396, 0.492, 0.3983, 0.1259, 0.3023, 0.2268, -0.7505, 0.4183, 1.5088, 1.5086, 1.5084, 1.5078, 1.5066, 1.5064, 1.5063, 1.5062, 1.5046, 1.5044, 1.5043, 1.5039, 1.5025, 1.5021, 1.5019, 1.5016, 1.5012, 1.5008, 1.5007, 1.5001, 1.5, 1.4992, 1.4979, 1.4976, 1.4952, 1.4948, 1.4947, 1.4944, 1.4941, 1.493, 1.4884, 1.489, 1.4595, 1.4667, 1.414, 1.3628, 1.3399, 1.4666, 1.4062, 1.3325, 1.3179, 1.2878, 1.172, 1.1763, 1.3418, 0.8606, 1.0419, 0.6366, 0.7261, 0.8262, 1.1576, 1.2564, -0.1211, 1.2211, 0.8424, 0.1506, 0.3497, 0.2904, 0.437, 0.1663, -0.1313, -0.0343, 1.9493, 1.9442, 1.9436, 1.943, 1.9423, 1.942, 1.942, 1.9416, 1.9412, 1.9376, 1.9364, 1.9363, 1.9361, 1.9352, 1.9344, 1.9339, 1.933, 1.9329, 1.9328, 1.9324, 1.9322, 1.9319, 1.9317, 1.9311, 1.9303, 1.9303, 1.9283, 1.9281, 1.9266, 1.9265, 1.905, 1.9259, 1.8943, 1.8868, 1.8299, 1.9005, 1.6918, 1.8471, 1.854, 1.5794, 1.6513, 1.3211, 1.4876, 0.8552, 1.6298, 1.3188, 1.592, 0.7377, 1.1317, 0.7499, 0.4129, 0.8003, 1.0842, 0.5557, 1.0198, 0.2709, -0.1759, 0.7421, 2.0238, 2.0198, 2.0198, 2.0193, 2.0163, 2.0156, 2.0156, 2.0152, 2.0142, 2.0132, 2.0131, 2.013, 2.012, 2.0118, 2.0108, 2.0104, 2.0078, 2.0074, 2.0073, 2.0046, 2.004, 2.0039, 2.0037, 2.0036, 2.0016, 2.0001, 1.9996, 1.9994, 1.9991, 1.9991, 1.9827, 1.9657, 1.8763, 1.9827, 1.9695, 1.9394, 1.8328, 1.8495, 1.7719, 1.9478, 1.5553, 1.6689, 1.3098, 1.2957, 1.3973, 1.2599, 1.528, 1.3898, 0.5299, 1.126, 0.4645, 1.6172, 0.0996, 1.4662, 0.6389, 1.0233, 0.3421, 2.4394, 2.4386, 2.4382, 2.4349, 2.4324, 2.432, 2.4317, 2.4306, 2.4295, 2.4287, 2.4285, 2.4283, 2.4279, 2.4254, 2.4252, 2.4238, 2.4225, 2.4221, 2.4187, 2.4186, 2.4179, 2.4176, 2.4162, 2.4147, 2.4144, 2.4136, 2.4116, 2.4115, 2.4103, 2.4086, 2.3916, 2.3954, 2.2203, 2.2641, 2.3127, 2.0028, 2.0341, 1.6982, 1.9011, 2.1771, 1.8963, 0.8285, 1.2389, 1.8569, 1.2245, 0.9108, 1.5827, 0.3921, 0.8242, 0.9793, 2.4991, 2.4978, 2.496, 2.4938, 2.4909, 2.4891, 2.4888, 2.4875, 2.4868, 2.4856, 2.482, 2.4819, 2.4794, 2.4766, 2.4756, 2.4744, 2.4716, 2.4691, 2.4688, 2.468, 2.4673, 2.4672, 2.4655, 2.465, 2.4647, 2.4633, 2.4622, 2.4616, 2.4608, 2.4599, 2.405, 2.1777, 2.401, 2.1096, 2.3483, 1.6112, 1.6649, 0.9699, 1.9687, 2.1719, 1.9429, 1.8545, 1.7796, 0.8969, 1.5974, 0.5167, 1.0384, 0.4839, 1.412, 0.6881, 0.4995, 0.3902, 0.6808]}, \"token.table\": {\"Topic\": [3, 3, 1, 2, 3, 4, 5, 6, 1, 6, 3, 4, 3, 6, 3, 1, 2, 5, 6, 1, 2, 3, 4, 5, 6, 2, 2, 3, 5, 3, 6, 1, 2, 5, 6, 1, 2, 3, 4, 3, 4, 1, 2, 3, 4, 6, 1, 2, 3, 4, 5, 5, 1, 4, 5, 2, 1, 1, 2, 3, 4, 5, 6, 1, 6, 3, 4, 5, 3, 5, 1, 2, 3, 4, 5, 6, 2, 1, 2, 3, 4, 6, 5, 1, 2, 3, 1, 2, 5, 6, 1, 2, 3, 4, 5, 6, 1, 2, 5, 6, 3, 2, 4, 2, 6, 1, 2, 3, 4, 5, 6, 1, 2, 4, 5, 1, 2, 4, 6, 1, 2, 3, 4, 5, 6, 1, 2, 3, 5, 5, 1, 1, 2, 4, 1, 3, 3, 3, 4, 1, 2, 5, 4, 2, 4, 5, 2, 4, 3, 2, 4, 5, 4, 5, 1, 2, 4, 6, 5, 3, 4, 1, 2, 3, 6, 2, 1, 2, 5, 3, 5, 5, 6, 6, 1, 3, 3, 1, 6, 2, 3, 5, 3, 4, 3, 1, 6, 1, 6, 1, 3, 4, 5, 6, 6, 2, 6, 1, 5, 1, 2, 6, 1, 3, 6, 1, 1, 2, 3, 4, 1, 1, 2, 5, 1, 1, 5, 5, 1, 2, 3, 5, 1, 2, 3, 4, 5, 1, 2, 3, 4, 5, 6, 3, 2, 2, 6, 4, 6, 1, 2, 3, 4, 6, 1, 2, 3, 4, 5, 2, 2, 4, 6, 1, 3, 5, 6, 3, 6, 2, 1, 5, 2, 3, 3, 5, 1, 1, 2, 3, 4, 6, 5, 4, 5, 4, 4, 4, 1, 1, 2, 4, 5, 6, 1, 2, 4, 5, 6, 2, 3, 4, 5, 6, 2, 5, 6, 1, 2, 3, 4, 5, 6, 1, 2, 4, 6, 5, 6, 1, 3, 1, 2, 4, 5, 6, 1, 2, 6, 1, 2, 4, 6, 1, 2, 6, 6, 4, 6, 2, 3, 6, 5, 5, 1, 6, 3, 5, 3, 5, 4, 3, 1, 2, 5, 4, 1, 2, 6, 1, 2, 5, 5, 6, 1, 2, 5, 1, 2, 5, 4, 6, 2, 6, 1, 2, 4, 5, 6, 4, 1, 3, 4, 6, 1, 2, 5, 4, 2, 5, 6, 1, 1, 5, 6, 2, 3, 1, 2, 4, 5, 1, 2, 4, 1, 2, 4, 5, 1, 1, 2, 4, 1, 2, 3, 5, 6, 1, 2, 5, 6, 5, 1, 2, 5, 4, 2, 3, 4, 1, 2, 3, 4, 2, 1, 2, 2, 2, 3, 6, 1, 2, 4, 2, 2, 1, 2, 6, 1, 2, 3, 4, 5, 6, 4, 2, 2, 5, 6, 1, 4, 1, 6, 1, 2, 5, 1, 4, 3, 4, 6, 3, 3, 1, 2, 3, 4, 6, 2, 4, 3, 1, 2, 4, 4, 1, 2, 3, 4, 3, 4, 1, 1, 5, 4, 4, 1, 2, 4, 5, 6, 3, 5, 1, 1, 1, 2, 3, 4, 6, 2, 6, 2, 6, 1, 2, 3, 4, 5, 6, 2, 1, 2, 3, 4, 6, 1, 2, 6, 6, 6, 3, 4, 6, 5, 1, 1, 6, 2, 4, 2, 5, 6, 1, 2, 1, 2, 5, 6, 1, 2, 3, 5, 6, 2, 4, 5, 6, 2, 5, 1, 2, 5, 6, 1, 2, 3, 5, 6, 4, 5, 1, 2, 6, 3, 6, 2, 1, 2, 5, 6, 1, 4, 2, 3, 2, 6, 5, 6, 5, 2, 3, 2, 3, 1, 3, 4, 1, 3, 4, 5, 4, 5, 4, 4, 1, 3, 6, 2, 3, 5, 2, 1, 2, 5, 1, 2, 1, 2, 3, 4, 6, 3, 2, 2, 1, 2, 3, 4, 5, 3, 5, 1], \"Freq\": [0.9839553941378207, 0.9848318541970045, 0.06966744596190455, 0.3383847375292507, 0.31516225554194915, 0.059714953681632474, 0.21563733273922836, 0.9845655624588813, 0.9944590529024022, 0.9911540640734066, 0.038717624497742485, 0.9485818001946908, 0.07155750067475962, 0.9063950085469552, 0.986891946969013, 0.6224527805696298, 0.29340285251519993, 0.008226248201360746, 0.07403623381224671, 0.17759286654265335, 0.23140888670709378, 0.44129136534841135, 0.06457922419732849, 0.06996082621377253, 0.021526408065776163, 0.9753686884628422, 0.7674119619053561, 0.10421643927109775, 0.1231648827749337, 0.9927282667117926, 0.9851694094723809, 0.12975888759304735, 0.4140835089366364, 0.04579725444460495, 0.41026707106625265, 0.5555328187314852, 0.16107164566770873, 0.1840818807630957, 0.09861529326594412, 0.3006413116444166, 0.6923860510598685, 0.514806392238525, 0.13680169863681083, 0.21960272675909107, 0.122401519832936, 0.007200089401937412, 0.6297953140925185, 0.02613258564699247, 0.2952982178110149, 0.04703865416458645, 0.988049185739358, 0.9787963267073486, 0.01920772944050747, 0.9795942014658809, 0.9567214200404884, 0.9858419923459616, 0.9794338953451792, 0.18690308170719136, 0.055180909837361264, 0.21360352195107585, 0.20826343390229896, 0.19758325780474517, 0.13706225991860702, 0.992265558459444, 0.9829482472460621, 0.8934974164404738, 0.09573186604719362, 0.9686030136319932, 0.9786608400248519, 0.9873813909410771, 0.14135389012426858, 0.5203026168403929, 0.05413553238801776, 0.18345930420383794, 0.006015059154224195, 0.09323341689047503, 0.9857753769700615, 0.38501596721619447, 0.2560356181987693, 0.1867327440998543, 0.1443809877060729, 0.028876197541214583, 0.992003707535031, 0.578000168478356, 0.024083340353264836, 0.3949667817935433, 0.022950008994567853, 0.10327504047555534, 0.19890007795292142, 0.673200263840657, 0.44781536700794466, 0.19419481555083856, 0.11885147181253507, 0.007428216988283442, 0.015917607832035947, 0.2154182926602198, 0.8453343905719981, 0.016346245121557974, 0.004670355749016564, 0.1331051388469721, 0.9895080321117377, 0.9821830770655733, 0.9765356873421738, 0.9913668575124452, 0.9730988624912542, 0.2870640884846736, 0.2583576796362062, 0.2463966759493448, 0.004784401474744559, 0.0023922007373722797, 0.2009448619392715, 0.05739517803816593, 0.028697589019082963, 0.8561447390693084, 0.055003712286575676, 0.04630665811349578, 0.1725975438775752, 0.7703744031608843, 0.008419392384271961, 0.4309762888752037, 0.14764928415169015, 0.2992890894966692, 0.019952605966444614, 0.01596208477315569, 0.09178198744564522, 0.002324072126189934, 0.016268504883329538, 0.9528695717378729, 0.02788886551427921, 0.9721293488276552, 0.9846671303871354, 0.9883439147129729, 0.008035316379780267, 0.9728824185673478, 0.9953509528995798, 0.981907060718802, 0.9904796298128178, 0.9758056124948542, 0.9620130230929312, 0.9937271207001656, 0.0016534561076541857, 0.0049603683229625575, 0.9742429002902302, 0.9809678240336529, 0.9110109849044773, 0.060734065660298486, 0.9449108882557046, 0.03937128701065436, 0.9921630137805434, 0.3117465603414778, 0.6581316273875643, 0.023092337803072432, 0.3296536934069192, 0.6593073868138384, 0.007654825153922722, 0.31002041873387026, 0.24878181750248848, 0.4324976211966338, 0.9949694872349305, 0.901423227282224, 0.08346511363724297, 0.42503203653848987, 0.17567990843590914, 0.3003559724871995, 0.09917414185898096, 0.9890848674168681, 0.6781373326653142, 0.31141929010810565, 0.008731381965647822, 0.9769266741437489, 0.9576297006112995, 0.8357245310089226, 0.16027593745376598, 0.9410651198533339, 0.9950606660622462, 0.9679729715896579, 0.9732513696699496, 0.8637922887477363, 0.13579267421361793, 0.9535517359260955, 0.006715153069902081, 0.04029091841941249, 0.9872095571928554, 0.008295878631872734, 0.9872271770216198, 0.9917219224382319, 0.9621797670506265, 0.9828278499265537, 0.9630697035389918, 0.24312223427924698, 0.005402716317316599, 0.6213123764914089, 0.108054326346332, 0.021610865269266397, 0.9593533646774401, 0.9811502684210694, 0.9495395313403384, 0.9932683029216333, 0.9726975442154244, 0.2071450165929591, 0.7069949479368387, 0.08105674562333183, 0.9847770385232683, 0.9699494627827566, 0.9606562538273011, 0.9932993890493552, 0.029637375262311052, 0.014818687631155526, 0.014818687631155526, 0.9483960083939537, 0.9966617854384915, 0.14038898594118085, 0.8576705275566259, 0.0011797393776569818, 0.9744056897050279, 0.9893837260358616, 0.9894506068057463, 0.9828969407856137, 0.981158036801938, 0.21796966677902443, 0.737743487559775, 0.03353379488908068, 0.04028609027474403, 0.01611443610989761, 0.6284630082860069, 0.290059849978157, 0.02417165416484642, 0.5881996206444224, 0.21221319646779163, 0.0991866026969026, 0.03229331250596829, 0.011533325894988676, 0.05766662947494337, 0.9834084961768907, 0.9871313042247468, 0.842149775294138, 0.1511550878733068, 0.9742763996548476, 0.013531616661872883, 0.055155075528219875, 0.15994971903183763, 0.7721710573950783, 0.005515507552821988, 0.011031015105643976, 0.006810785475195145, 0.02724314190078058, 0.9398883955769299, 0.006810785475195145, 0.01362157095039029, 0.9845051966507367, 0.1600212959611394, 0.24618660917098367, 0.5908478620103609, 0.7983333600022519, 0.027154195918443938, 0.08689342693902061, 0.08689342693902061, 0.9857431739639025, 0.9708169231961197, 0.9877294815888459, 0.9746980871174227, 0.9842848643159484, 0.9792154922523133, 0.982881716067249, 0.41879480232225874, 0.5743471574705263, 0.9884300179478535, 0.5275045129672016, 0.2150154264811963, 0.06307119176781759, 0.07453868118014804, 0.12040863882946992, 0.9820997823372135, 0.9763578600001405, 0.9695309508466811, 0.9810503203471316, 0.9831312777305539, 0.9829124584199019, 0.9857990425657567, 0.032702373287362245, 0.06540474657472449, 0.8175593321840562, 0.0708551421226182, 0.005450395547893708, 0.8223069089502592, 0.010679310505847521, 0.0035597701686158403, 0.15662988741909697, 0.007119540337231681, 0.007340979027547991, 0.26427524499172766, 0.5285504899834553, 0.11745566444076785, 0.0807507693030279, 0.22142849922149932, 0.57763956318652, 0.19254652106217332, 0.5060638948342574, 0.16868796494475247, 0.0759095842251386, 0.08434398247237623, 0.03092612690653795, 0.13495037195580198, 0.9478478480707067, 0.020457147800087193, 0.006819049266695731, 0.020457147800087193, 0.9387951218698263, 0.026822717767709323, 0.9753166046793585, 0.013360501433963817, 0.015087982099162537, 0.6236365934320516, 0.19614376728911298, 0.13579183889246282, 0.030175964198325075, 0.26655701620083405, 0.6977521894668891, 0.031359648964804004, 0.8836318373798351, 0.04615987210193168, 0.03297133721566549, 0.03297133721566549, 0.8885299871558558, 0.03365643890741878, 0.07404416559632132, 0.973758954384677, 0.9912955301953286, 0.9868354954630978, 0.9648821564988534, 0.018205323707525537, 0.9841115203030459, 0.9783893091615208, 0.9807895327822211, 0.9513142110760464, 0.05060181973808757, 0.9837834669377552, 0.9710068591789095, 0.1035643382930992, 0.8699404416620333, 0.9546610568600044, 0.9853176582215544, 0.9570978991268755, 0.009383312736537995, 0.01876662547307599, 0.973595538169667, 0.08496171611453936, 0.5715606356796283, 0.3321230720841084, 0.4034056462671347, 0.03667324056973952, 0.5500986085460928, 0.9775611150036748, 0.9669822994219334, 0.985127502825908, 0.9699261332536431, 0.013856087617909187, 0.13589391023507724, 0.8304627847699164, 0.030198646718906052, 0.9959562591183917, 0.9769708321864407, 0.9927342266909562, 0.983258472441046, 0.7135344325363865, 0.09589000279145114, 0.11845235638943966, 0.031023236197234197, 0.04230441299622845, 0.9890204938649754, 0.23534058014399536, 0.010697299097454335, 0.2674324774363584, 0.4813784593854451, 0.9862665544791607, 0.9798529605279079, 0.967544795499036, 0.985913709201434, 0.35423331912397304, 0.12214942038757691, 0.5252425076665806, 0.9822174003433063, 0.9599147596322936, 0.014998668119254587, 0.024997780198757646, 0.11480560786607612, 0.8831200605082778, 0.008463867974840222, 0.4993682105155732, 0.48667240855331284, 0.004231933987420111, 0.19104712280056738, 0.4375595393174285, 0.3636058143623702, 0.11419421057250521, 0.7123543611903896, 0.15769676698107862, 0.01631345865321503, 0.9893988481529222, 0.9285142735755372, 0.0649959991502876, 0.96711606360006, 0.06476575708378271, 0.3686666172461477, 0.29393689753409075, 0.22917114045030804, 0.04483783182723418, 0.06507254862497261, 0.8180548969996556, 0.01394411756249413, 0.10225686212495695, 0.9557564216419243, 0.1786723758946943, 0.05955745863156477, 0.7543944759998205, 0.9852068353185108, 0.5083693004662287, 0.4192736498690547, 0.06813196810372138, 0.0062498516996498795, 0.29374302988354434, 0.5312373944702398, 0.16874599589054676, 0.9810385652051062, 0.09493374873796144, 0.9034018025064073, 0.9878086288939285, 0.9777434995831403, 0.9312867221305077, 0.049668625180293746, 0.10676075801012298, 0.32028227403036896, 0.5726258838724778, 0.9936700865514143, 0.9777554034624963, 0.5543001868785015, 0.03519366265895247, 0.4047271205779534, 0.20063098213550917, 0.1931307585042752, 0.33375995158991245, 0.22313165302921112, 0.039376174063978434, 0.011250335446850982, 0.9510528446839922, 0.9914545980960966, 0.007430669030323297, 0.9808483120026751, 0.9901530817352274, 0.5167690607990052, 0.4770175945836971, 0.26159019665701244, 0.7244036215117268, 0.474561485168188, 0.045436737941635025, 0.474561485168188, 0.02486166514822866, 0.944743275632689, 0.9844663563918745, 0.9787742199990074, 0.9386434562019945, 0.9950763890460962, 0.9780050303957122, 0.019822332230083027, 0.04460024751768681, 0.530247387154721, 0.4063578107167021, 0.9526566895223435, 0.9447149855406793, 0.0504459458298421, 0.9882949446483885, 0.24374301226463346, 0.15346782253699146, 0.6048437711752016, 0.9806434822832328, 0.05944035577579512, 0.21398528079286244, 0.7251723404647005, 0.9755988175632984, 0.9871336648109785, 0.9819995178118517, 0.9902218228302602, 0.35609208462578595, 0.643263120614323, 0.9736782435763971, 0.9836812605423306, 0.8661065067047166, 0.01574739103099485, 0.0031494782061989696, 0.012597912824795878, 0.10078330259836703, 0.9829277753663584, 0.9797450355200282, 0.9885384631162011, 0.9916771417719378, 0.24382240337254513, 0.0422000313529405, 0.01875556949019578, 0.4642003448823455, 0.2297557262548983, 0.12961742127470116, 0.8554749804130276, 0.4223796068336478, 0.5675725966827142, 0.7359090446176331, 0.06690082223796663, 0.02754739739210391, 0.007870684969172545, 0.003935342484586273, 0.1613490418680372, 0.9881876878444171, 0.4579057724546041, 0.2516965504220672, 0.16072189364300674, 0.08490967966045639, 0.04245483983022819, 0.8603830140354812, 0.13194372100224633, 0.005497655041760263, 0.965404730690081, 0.9667665283635732, 0.9608935063493131, 0.08113988585392708, 0.8925387443931979, 0.9757054301148735, 0.9901146413932659, 0.022428724342673723, 0.9644351467349701, 0.050836028988050584, 0.9353829333801307, 0.9901203251799464, 0.9485181006107417, 0.9680744627993997, 0.9917739094961863, 0.9842872033009882, 0.043862238605049834, 0.1038842493277496, 0.1292781769411995, 0.7225726675463473, 0.36403962100614373, 0.452497846671188, 0.013608957794622196, 0.003402239448655549, 0.16330749353546634, 0.9873975519909132, 0.9603239143573372, 0.9858349495428143, 0.9908496622929822, 0.019149769811874568, 0.9766382604056029, 0.6085951290333933, 0.01816701877711622, 0.2997558098224176, 0.07266807510846487, 0.2571762616959994, 0.19162152832250934, 0.2521335898980386, 0.29247496428172476, 0.0050426717979607716, 0.032936625060887195, 0.9551621267657286, 0.9518011659978488, 0.025840755637950644, 0.01722717042530043, 0.9771654507066784, 0.9953418633732621, 0.9901250798298745, 0.15981888034111674, 0.8378383726973696, 0.001937198549589294, 0.9883755208449406, 0.08372594293632458, 0.909024523308667, 0.7466289020114909, 0.24887630067049696, 0.9870738701667569, 0.9687058062702579, 0.9833846558381114, 0.023984991605807596, 0.9797784540330654, 0.29528755720112926, 0.6927900380488033, 0.9887928122348513, 0.9907777964655947, 0.08743999633500614, 0.07154181518318684, 0.8346545104705131, 0.012419025100053736, 0.003104756275013434, 0.9717887140792049, 0.012419025100053736, 0.950638641068818, 0.96952814314184, 0.9802144119118306, 0.9869930912694244, 0.04276118539611612, 0.9407460787145546, 0.9745761027872493, 0.5594302769882411, 0.017482196155882535, 0.41957270774118083, 0.9797904011531324, 0.1971154410007199, 0.794820326615806, 0.006358562612926448, 0.1027416567855882, 0.8989894968738968, 0.12041469648915647, 0.012675231209384892, 0.6908001009114766, 0.07605138725630935, 0.10140184967507913, 0.9909766059959692, 0.9945075437811314, 0.9841010468721688, 0.028527147530159027, 0.06275972456634986, 0.17686831468698597, 0.5306049440609579, 0.1996900327111132, 0.19679842767841402, 0.7965650644126282, 0.9923539894635749], \"Term\": [\"\\u0430\\u0432\\u0430\\u0440\\u0438\\u0439\\u043d\\u044b\\u0439\", \"\\u0430\\u0434\\u043c\\u0438\\u043d\\u0438\\u0441\\u0442\\u0440\\u0430\\u0446\\u0438\\u044f\", \"\\u0430\\u0434\\u0440\\u0435\\u0441\", \"\\u0430\\u0434\\u0440\\u0435\\u0441\", \"\\u0430\\u0434\\u0440\\u0435\\u0441\", \"\\u0430\\u0434\\u0440\\u0435\\u0441\", \"\\u0430\\u0434\\u0440\\u0435\\u0441\", \"\\u0430\\u043a\\u043a\\u0430\\u0443\\u043d\\u0442\", \"\\u0431\\u0430\\u043d\\u043a\", \"\\u0431\\u0438\\u043b\\u0435\\u0442\", \"\\u0431\\u043e\\u043b\\u044c\\u043d\\u0438\\u0446\\u0430\", \"\\u0431\\u043e\\u043b\\u044c\\u043d\\u0438\\u0446\\u0430\", \"\\u0431\\u043e\\u043b\\u044c\\u043d\\u0438\\u0447\\u043d\\u044b\\u0439\", \"\\u0431\\u043e\\u043b\\u044c\\u043d\\u0438\\u0447\\u043d\\u044b\\u0439\", \"\\u0432\\u0430\\u043a\\u0446\\u0438\\u043d\\u0430\\u0446\\u0438\\u044f\", \"\\u0432\\u0435\\u0440\\u043d\\u0443\\u0442\\u044c\", \"\\u0432\\u0435\\u0440\\u043d\\u0443\\u0442\\u044c\", \"\\u0432\\u0435\\u0440\\u043d\\u0443\\u0442\\u044c\", \"\\u0432\\u0435\\u0440\\u043d\\u0443\\u0442\\u044c\", \"\\u0432\\u0435\\u0441\\u044c\", \"\\u0432\\u0435\\u0441\\u044c\", \"\\u0432\\u0435\\u0441\\u044c\", \"\\u0432\\u0435\\u0441\\u044c\", \"\\u0432\\u0435\\u0441\\u044c\", \"\\u0432\\u0435\\u0441\\u044c\", \"\\u0432\\u0435\\u0447\\u0435\\u0440\", \"\\u0432\\u0438\\u0434\", \"\\u0432\\u0438\\u0434\", \"\\u0432\\u0438\\u0434\", \"\\u0432\\u043e\\u0434\\u0430\", \"\\u0432\\u043e\\u0434\\u0438\\u0442\\u0435\\u043b\\u044c\", \"\\u0432\\u043e\\u0437\\u0432\\u0440\\u0430\\u0442\", \"\\u0432\\u043e\\u0437\\u0432\\u0440\\u0430\\u0442\", \"\\u0432\\u043e\\u0437\\u0432\\u0440\\u0430\\u0442\", \"\\u0432\\u043e\\u0437\\u0432\\u0440\\u0430\\u0442\", \"\\u0432\\u043e\\u043f\\u0440\\u043e\\u0441\", \"\\u0432\\u043e\\u043f\\u0440\\u043e\\u0441\", \"\\u0432\\u043e\\u043f\\u0440\\u043e\\u0441\", \"\\u0432\\u043e\\u043f\\u0440\\u043e\\u0441\", \"\\u0432\\u0440\\u0430\\u0447\", \"\\u0432\\u0440\\u0430\\u0447\", \"\\u0432\\u0440\\u0435\\u043c\\u044f\", \"\\u0432\\u0440\\u0435\\u043c\\u044f\", \"\\u0432\\u0440\\u0435\\u043c\\u044f\", \"\\u0432\\u0440\\u0435\\u043c\\u044f\", \"\\u0432\\u0440\\u0435\\u043c\\u044f\", \"\\u0432\\u0441\\u0451\", \"\\u0432\\u0441\\u0451\", \"\\u0432\\u0441\\u0451\", \"\\u0432\\u0441\\u0451\", \"\\u0432\\u044b\\u0434\\u0430\\u0447\\u0430\", \"\\u0432\\u044b\\u0437\\u0432\\u0430\\u0442\\u044c\", \"\\u0432\\u044b\\u0437\\u043e\\u0432\", \"\\u0432\\u044b\\u0437\\u043e\\u0432\", \"\\u0432\\u044b\\u043d\\u0443\\u0434\\u0438\\u0442\\u044c\", \"\\u0433\\u0430\\u0440\\u0430\\u043d\\u0442\\u0438\\u0439\\u043d\\u044b\\u0439\", \"\\u0433\\u0430\\u0440\\u0430\\u043d\\u0442\\u0438\\u044f\", \"\\u0433\\u043e\\u0434\", \"\\u0433\\u043e\\u0434\", \"\\u0433\\u043e\\u0434\", \"\\u0433\\u043e\\u0434\", \"\\u0433\\u043e\\u0434\", \"\\u0433\\u043e\\u0434\", \"\\u0433\\u043e\\u0440\\u044f\\u0447\\u0438\\u0439\", \"\\u0433\\u043e\\u0441\\u0443\\u0441\\u043b\\u0443\\u0433\\u0430\", \"\\u0433\\u0440\\u0430\\u0436\\u0434\\u0430\\u043d\\u0438\\u043d\", \"\\u0433\\u0440\\u0430\\u0436\\u0434\\u0430\\u043d\\u0438\\u043d\", \"\\u0433\\u0440\\u0430\\u0436\\u0434\\u0430\\u043d\\u0441\\u043a\\u0438\\u0439\", \"\\u0433\\u0440\\u0430\\u043d\\u0438\\u0446\\u0430\", \"\\u0434\\u0430\\u043b\\u044c\\u043d\\u0435\\u0439\\u0448\\u0438\\u0439\", \"\\u0434\\u0430\\u043d\\u043d\\u044b\\u0439\", \"\\u0434\\u0430\\u043d\\u043d\\u044b\\u0439\", \"\\u0434\\u0430\\u043d\\u043d\\u044b\\u0439\", \"\\u0434\\u0430\\u043d\\u043d\\u044b\\u0439\", \"\\u0434\\u0430\\u043d\\u043d\\u044b\\u0439\", \"\\u0434\\u0430\\u043d\\u043d\\u044b\\u0439\", \"\\u0434\\u0430\\u0442\\u0430\", \"\\u0434\\u0430\\u0442\\u044c\", \"\\u0434\\u0430\\u0442\\u044c\", \"\\u0434\\u0430\\u0442\\u044c\", \"\\u0434\\u0430\\u0442\\u044c\", \"\\u0434\\u0430\\u0442\\u044c\", \"\\u0434\\u0435\\u043a\\u0430\\u0431\\u0440\\u044c\", \"\\u0434\\u0435\\u043b\\u0430\\u0442\\u044c\", \"\\u0434\\u0435\\u043b\\u0430\\u0442\\u044c\", \"\\u0434\\u0435\\u043b\\u0430\\u0442\\u044c\", \"\\u0434\\u0435\\u043d\\u0435\\u0436\\u043d\\u044b\\u0439\", \"\\u0434\\u0435\\u043d\\u0435\\u0436\\u043d\\u044b\\u0439\", \"\\u0434\\u0435\\u043d\\u0435\\u0436\\u043d\\u044b\\u0439\", \"\\u0434\\u0435\\u043d\\u0435\\u0436\\u043d\\u044b\\u0439\", \"\\u0434\\u0435\\u043d\\u044c\", \"\\u0434\\u0435\\u043d\\u044c\", \"\\u0434\\u0435\\u043d\\u044c\", \"\\u0434\\u0435\\u043d\\u044c\", \"\\u0434\\u0435\\u043d\\u044c\", \"\\u0434\\u0435\\u043d\\u044c\", \"\\u0434\\u0435\\u043d\\u044c\\u0433\\u0430\", \"\\u0434\\u0435\\u043d\\u044c\\u0433\\u0430\", \"\\u0434\\u0435\\u043d\\u044c\\u0433\\u0430\", \"\\u0434\\u0435\\u043d\\u044c\\u0433\\u0430\", \"\\u0434\\u0435\\u0442\\u0441\\u043a\\u0438\\u0439\", \"\\u0434\\u0435\\u0444\\u0435\\u043a\\u0442\", \"\\u0434\\u0438\\u0430\\u0433\\u043d\\u043e\\u0441\\u0442\\u0438\\u043a\\u0430\", \"\\u0434\\u0438\\u0432\\u0430\\u043d\", \"\\u0434\\u043e\\u0431\\u0438\\u0442\\u044c\\u0441\\u044f\", \"\\u0434\\u043e\\u0431\\u0440\\u044b\\u0439\", \"\\u0434\\u043e\\u0431\\u0440\\u044b\\u0439\", \"\\u0434\\u043e\\u0431\\u0440\\u044b\\u0439\", \"\\u0434\\u043e\\u0431\\u0440\\u044b\\u0439\", \"\\u0434\\u043e\\u0431\\u0440\\u044b\\u0439\", \"\\u0434\\u043e\\u0431\\u0440\\u044b\\u0439\", \"\\u0434\\u043e\\u0433\\u043e\\u0432\\u043e\\u0440\", \"\\u0434\\u043e\\u0433\\u043e\\u0432\\u043e\\u0440\", \"\\u0434\\u043e\\u0433\\u043e\\u0432\\u043e\\u0440\", \"\\u0434\\u043e\\u0433\\u043e\\u0432\\u043e\\u0440\", \"\\u0434\\u043e\\u043a\\u0443\\u043c\\u0435\\u043d\\u0442\", \"\\u0434\\u043e\\u043a\\u0443\\u043c\\u0435\\u043d\\u0442\", \"\\u0434\\u043e\\u043a\\u0443\\u043c\\u0435\\u043d\\u0442\", \"\\u0434\\u043e\\u043a\\u0443\\u043c\\u0435\\u043d\\u0442\", \"\\u0434\\u043e\\u043b\\u0436\\u043d\\u044b\\u0439\", \"\\u0434\\u043e\\u043b\\u0436\\u043d\\u044b\\u0439\", \"\\u0434\\u043e\\u043b\\u0436\\u043d\\u044b\\u0439\", \"\\u0434\\u043e\\u043b\\u0436\\u043d\\u044b\\u0439\", \"\\u0434\\u043e\\u043b\\u0436\\u043d\\u044b\\u0439\", \"\\u0434\\u043e\\u043b\\u0436\\u043d\\u044b\\u0439\", \"\\u0434\\u043e\\u043c\", \"\\u0434\\u043e\\u043c\", \"\\u0434\\u043e\\u043c\", \"\\u0434\\u043e\\u043c\", \"\\u0434\\u043e\\u0440\\u043e\\u0433\\u0430\", \"\\u0434\\u043e\\u0441\\u0442\\u0430\\u0432\\u0438\\u0442\\u044c\", \"\\u0434\\u043e\\u0441\\u0442\\u0430\\u0432\\u043a\\u0430\", \"\\u0434\\u043e\\u0441\\u0442\\u0430\\u0432\\u043a\\u0430\", \"\\u0434\\u043e\\u0441\\u0442\\u0443\\u043f\", \"\\u0436\\u0434\\u0430\\u0442\\u044c\", \"\\u0436\\u0438\\u043b\\u0435\\u0446\", \"\\u0436\\u0438\\u043b\\u043e\\u0439\", \"\\u0436\\u0438\\u0442\\u044c\", \"\\u0437\\u0430\\u0434\\u043e\\u043b\\u0436\\u0435\\u043d\\u043d\\u043e\\u0441\\u0442\\u044c\", \"\\u0437\\u0430\\u043a\\u0430\\u0437\", \"\\u0437\\u0430\\u043a\\u0430\\u0437\", \"\\u0437\\u0430\\u043a\\u0430\\u0437\", \"\\u0437\\u0430\\u043a\\u043b\\u044e\\u0447\\u0435\\u043d\\u0438\\u0435\", \"\\u0437\\u0430\\u043a\\u043b\\u044e\\u0447\\u0438\\u0442\\u044c\", \"\\u0437\\u0430\\u043a\\u043e\\u043d\\u043e\\u0434\\u0430\\u0442\\u0435\\u043b\\u044c\\u0441\\u0442\\u0432\\u043e\", \"\\u0437\\u0430\\u043a\\u043e\\u043d\\u043e\\u0434\\u0430\\u0442\\u0435\\u043b\\u044c\\u0441\\u0442\\u0432\\u043e\", \"\\u0437\\u0430\\u043c\\u0435\\u043d\\u0430\", \"\\u0437\\u0430\\u043c\\u0435\\u043d\\u0430\", \"\\u0437\\u0430\\u043f\\u0430\\u0445\", \"\\u0437\\u0430\\u0449\\u0438\\u0442\\u0430\", \"\\u0437\\u0430\\u0449\\u0438\\u0442\\u0430\", \"\\u0437\\u0430\\u0449\\u0438\\u0442\\u0430\", \"\\u0437\\u0430\\u044f\\u0432\\u043a\\u0430\", \"\\u0437\\u0430\\u044f\\u0432\\u043a\\u0430\", \"\\u0437\\u0430\\u044f\\u0432\\u043b\\u0435\\u043d\\u0438\\u0435\", \"\\u0437\\u0430\\u044f\\u0432\\u043b\\u0435\\u043d\\u0438\\u0435\", \"\\u0437\\u0430\\u044f\\u0432\\u043b\\u0435\\u043d\\u0438\\u0435\", \"\\u0437\\u0430\\u044f\\u0432\\u043b\\u0435\\u043d\\u0438\\u0435\", \"\\u0437\\u0432\\u043e\\u043d\\u0438\\u0442\\u044c\", \"\\u0437\\u0434\\u043e\\u0440\\u043e\\u0432\\u044c\\u0435\", \"\\u0437\\u0434\\u043e\\u0440\\u043e\\u0432\\u044c\\u0435\", \"\\u0437\\u0434\\u0440\\u0430\\u0432\\u0441\\u0442\\u0432\\u0443\\u0439\\u0442\\u0435\", \"\\u0437\\u0434\\u0440\\u0430\\u0432\\u0441\\u0442\\u0432\\u0443\\u0439\\u0442\\u0435\", \"\\u0437\\u0434\\u0440\\u0430\\u0432\\u0441\\u0442\\u0432\\u0443\\u0439\\u0442\\u0435\", \"\\u0437\\u0434\\u0440\\u0430\\u0432\\u0441\\u0442\\u0432\\u0443\\u0439\\u0442\\u0435\", \"\\u0438\\u0437\\u0434\\u0435\\u043b\\u0438\\u0435\", \"\\u0438\\u043d\\u0442\\u0435\\u0440\\u043d\\u0435\\u0442\", \"\\u0438\\u043d\\u0442\\u0435\\u0440\\u043d\\u0435\\u0442\", \"\\u0438\\u043d\\u0442\\u0435\\u0440\\u043d\\u0435\\u0442\", \"\\u0438\\u043d\\u0444\\u0435\\u043a\\u0446\\u0438\\u044f\", \"\\u0438\\u0441\\u0442\\u0435\\u0447\\u0435\\u043d\\u0438\\u0435\", \"\\u0438\\u0442\\u043e\\u0433\", \"\\u0438\\u0442\\u043e\\u0433\", \"\\u0438\\u044e\\u043d\\u044c\", \"\\u043a\\u0430\\u0431\\u0438\\u043d\\u0435\\u0442\", \"\\u043a\\u0430\\u043d\\u0430\\u043b\", \"\\u043a\\u0430\\u0440\\u0430\\u043d\\u0442\\u0438\\u043d\", \"\\u043a\\u0430\\u0440\\u0442\\u0430\", \"\\u043a\\u0430\\u0440\\u0442\\u0430\", \"\\u043a\\u0430\\u0447\\u0435\\u0441\\u0442\\u0432\\u043e\", \"\\u043a\\u0430\\u0447\\u0435\\u0441\\u0442\\u0432\\u043e\", \"\\u043a\\u0430\\u0447\\u0435\\u0441\\u0442\\u0432\\u043e\", \"\\u043a\\u0432\\u0430\\u0440\\u0442\\u0438\\u0440\\u0430\", \"\\u043a\\u0432\\u0430\\u0440\\u0442\\u0438\\u0440\\u0430\", \"\\u043a\\u043b\\u0430\\u0441\\u0441\", \"\\u043a\\u043b\\u0438\\u0435\\u043d\\u0442\", \"\\u043a\\u043b\\u0438\\u043d\\u0438\\u043a\\u0430\", \"\\u043a\\u043e\\u0432\\u0438\\u0434\", \"\\u043a\\u043e\\u043c\\u043c\\u0435\\u043d\\u0442\\u0430\\u0440\\u0438\\u0439\", \"\\u043a\\u043e\\u043c\\u043f\\u0430\\u043d\\u0438\\u044f\", \"\\u043a\\u043e\\u043c\\u043f\\u0430\\u043d\\u0438\\u044f\", \"\\u043a\\u043e\\u043c\\u043f\\u0430\\u043d\\u0438\\u044f\", \"\\u043a\\u043e\\u043c\\u043f\\u0430\\u043d\\u0438\\u044f\", \"\\u043a\\u043e\\u043c\\u043f\\u0430\\u043d\\u0438\\u044f\", \"\\u043a\\u043e\\u043d\\u0446\\u0435\\u0440\\u0442\", \"\\u043a\\u043e\\u0440\\u043e\\u0431\\u043a\\u0430\", \"\\u043a\\u0440\\u0430\\u0441\\u043d\\u043e\\u044f\\u0440\\u0441\\u043a\", \"\\u043a\\u0440\\u0435\\u0434\\u0438\\u0442\", \"\\u043a\\u0440\\u043e\\u043c\\u0435\", \"\\u043a\\u0443\\u043f\\u0438\\u0442\\u044c\", \"\\u043a\\u0443\\u043f\\u0438\\u0442\\u044c\", \"\\u043a\\u0443\\u043f\\u0438\\u0442\\u044c\", \"\\u043a\\u0443\\u0440\\u044c\\u0435\\u0440\", \"\\u043a\\u0443\\u0445\\u043d\\u044f\", \"\\u043b\\u0435\\u0447\\u0435\\u043d\\u0438\\u0435\", \"\\u043b\\u0438\\u043d\\u0438\\u044f\", \"\\u043b\\u0438\\u0446\\u043e\", \"\\u043b\\u0438\\u0446\\u043e\", \"\\u043b\\u0438\\u0446\\u043e\", \"\\u043b\\u0438\\u0446\\u043e\", \"\\u043b\\u0438\\u0447\\u043d\\u044b\\u0439\", \"\\u043c\\u0430\\u0433\\u0430\\u0437\\u0438\\u043d\", \"\\u043c\\u0430\\u0433\\u0430\\u0437\\u0438\\u043d\", \"\\u043c\\u0430\\u0433\\u0430\\u0437\\u0438\\u043d\", \"\\u043c\\u0430\\u0441\\u043a\\u0430\", \"\\u043c\\u0430\\u0441\\u0442\\u0435\\u0440\", \"\\u043c\\u0430\\u0448\\u0438\\u043d\\u0430\", \"\\u043c\\u0435\\u0434\\u0438\\u0446\\u0438\\u043d\\u0441\\u043a\\u0438\\u0439\", \"\\u043c\\u0435\\u043d\\u0435\\u0434\\u0436\\u0435\\u0440\", \"\\u043c\\u0435\\u0440\\u0430\", \"\\u043c\\u0435\\u0440\\u0430\", \"\\u043c\\u0435\\u0440\\u0430\", \"\\u043c\\u0435\\u0441\\u0442\\u043e\", \"\\u043c\\u0435\\u0441\\u0442\\u043e\", \"\\u043c\\u0435\\u0441\\u0442\\u043e\", \"\\u043c\\u0435\\u0441\\u0442\\u043e\", \"\\u043c\\u0435\\u0441\\u0442\\u043e\", \"\\u043c\\u043e\\u0447\\u044c\", \"\\u043c\\u043e\\u0447\\u044c\", \"\\u043c\\u043e\\u0447\\u044c\", \"\\u043c\\u043e\\u0447\\u044c\", \"\\u043c\\u043e\\u0447\\u044c\", \"\\u043c\\u043e\\u0447\\u044c\", \"\\u043c\\u0443\\u0441\\u043e\\u0440\", \"\\u043d\\u0430\\u0434\\u043b\\u0435\\u0436\\u0430\\u0449\\u0438\\u0439\", \"\\u043d\\u0430\\u043b\\u0438\\u0447\\u0438\\u0435\", \"\\u043d\\u0430\\u043b\\u0438\\u0447\\u0438\\u0435\", \"\\u043d\\u0430\\u0441\\u0442\\u043e\\u044f\\u0449\\u0438\\u0439\", \"\\u043d\\u0430\\u0441\\u0442\\u043e\\u044f\\u0449\\u0438\\u0439\", \"\\u043d\\u0430\\u0445\\u043e\\u0434\\u0438\\u0442\\u044c\\u0441\\u044f\", \"\\u043d\\u0430\\u0445\\u043e\\u0434\\u0438\\u0442\\u044c\\u0441\\u044f\", \"\\u043d\\u0430\\u0445\\u043e\\u0434\\u0438\\u0442\\u044c\\u0441\\u044f\", \"\\u043d\\u0430\\u0445\\u043e\\u0434\\u0438\\u0442\\u044c\\u0441\\u044f\", \"\\u043d\\u0430\\u0445\\u043e\\u0434\\u0438\\u0442\\u044c\\u0441\\u044f\", \"\\u043d\\u0430\\u0448\", \"\\u043d\\u0430\\u0448\", \"\\u043d\\u0430\\u0448\", \"\\u043d\\u0430\\u0448\", \"\\u043d\\u0430\\u0448\", \"\\u043d\\u0435\\u043a\\u0430\\u0447\\u0435\\u0441\\u0442\\u0432\\u0435\\u043d\\u043d\\u044b\\u0439\", \"\\u043d\\u0435\\u043e\\u0431\\u0445\\u043e\\u0434\\u0438\\u043c\\u043e\", \"\\u043d\\u0435\\u043e\\u0431\\u0445\\u043e\\u0434\\u0438\\u043c\\u043e\", \"\\u043d\\u0435\\u043e\\u0431\\u0445\\u043e\\u0434\\u0438\\u043c\\u043e\", \"\\u043d\\u043e\\u043c\\u0435\\u0440\", \"\\u043d\\u043e\\u043c\\u0435\\u0440\", \"\\u043d\\u043e\\u043c\\u0435\\u0440\", \"\\u043d\\u043e\\u043c\\u0435\\u0440\", \"\\u043d\\u043e\\u0440\\u043c\\u0430\", \"\\u043d\\u043e\\u0440\\u043c\\u0430\\u043b\\u044c\\u043d\\u043e\", \"\\u043d\\u043e\\u0443\\u0442\\u0431\\u0443\\u043a\", \"\\u043d\\u0443\\u0436\\u043d\\u044b\\u0439\", \"\\u043e\\u0431\\u043b\\u0430\\u0441\\u0442\\u044c\", \"\\u043e\\u0431\\u043c\\u0435\\u043d\", \"\\u043e\\u0431\\u0440\\u0430\\u0431\\u043e\\u0442\\u043a\\u0430\", \"\\u043e\\u0431\\u0440\\u0430\\u0437\", \"\\u043e\\u0431\\u0440\\u0430\\u0437\", \"\\u043e\\u0431\\u0440\\u0430\\u0442\\u043d\\u043e\", \"\\u043e\\u0431\\u0440\\u0430\\u0449\\u0435\\u043d\\u0438\\u0435\", \"\\u043e\\u0431\\u0440\\u0430\\u0449\\u0435\\u043d\\u0438\\u0435\", \"\\u043e\\u0431\\u0440\\u0430\\u0449\\u0435\\u043d\\u0438\\u0435\", \"\\u043e\\u0431\\u0440\\u0430\\u0449\\u0435\\u043d\\u0438\\u0435\", \"\\u043e\\u0431\\u0440\\u0430\\u0449\\u0435\\u043d\\u0438\\u0435\", \"\\u043e\\u0431\\u044a\\u044f\\u0441\\u043d\\u0438\\u0442\\u044c\", \"\\u043e\\u0431\\u044f\\u0437\\u0430\\u0442\\u0435\\u043b\\u044c\\u0441\\u0442\\u0432\\u043e\", \"\\u043e\\u0436\\u0438\\u0434\\u0430\\u0442\\u044c\", \"\\u043e\\u0437\\u0432\\u0443\\u0447\\u0438\\u0442\\u044c\", \"\\u043e\\u043a\\u0430\\u0437\\u0430\\u043d\\u0438\\u0435\", \"\\u043e\\u043a\\u0430\\u0437\\u0430\\u0442\\u044c\", \"\\u043e\\u043d\\u043b\\u0430\\u0439\\u043d\", \"\\u043e\\u043e\\u043e\", \"\\u043e\\u043e\\u043e\", \"\\u043e\\u043e\\u043e\", \"\\u043e\\u043e\\u043e\", \"\\u043e\\u043e\\u043e\", \"\\u043e\\u043f\\u043b\\u0430\\u0442\\u0438\\u0442\\u044c\", \"\\u043e\\u043f\\u043b\\u0430\\u0442\\u0438\\u0442\\u044c\", \"\\u043e\\u043f\\u043b\\u0430\\u0442\\u0438\\u0442\\u044c\", \"\\u043e\\u043f\\u043b\\u0430\\u0442\\u0438\\u0442\\u044c\", \"\\u043e\\u043f\\u043b\\u0430\\u0442\\u0438\\u0442\\u044c\", \"\\u043e\\u0440\\u0433\\u0430\\u043d\\u0438\\u0437\\u0430\\u0446\\u0438\\u044f\", \"\\u043e\\u0440\\u0433\\u0430\\u043d\\u0438\\u0437\\u0430\\u0446\\u0438\\u044f\", \"\\u043e\\u0440\\u0433\\u0430\\u043d\\u0438\\u0437\\u0430\\u0446\\u0438\\u044f\", \"\\u043e\\u0440\\u0433\\u0430\\u043d\\u0438\\u0437\\u0430\\u0446\\u0438\\u044f\", \"\\u043e\\u0440\\u0433\\u0430\\u043d\\u0438\\u0437\\u0430\\u0446\\u0438\\u044f\", \"\\u043e\\u0441\\u043d\\u043e\\u0432\\u0430\\u043d\\u0438\\u0435\", \"\\u043e\\u0441\\u043d\\u043e\\u0432\\u0430\\u043d\\u0438\\u0435\", \"\\u043e\\u0441\\u043d\\u043e\\u0432\\u0430\\u043d\\u0438\\u0435\", \"\\u043e\\u0442\\u0432\\u0435\\u0442\", \"\\u043e\\u0442\\u0432\\u0435\\u0442\", \"\\u043e\\u0442\\u0432\\u0435\\u0442\", \"\\u043e\\u0442\\u0432\\u0435\\u0442\", \"\\u043e\\u0442\\u0432\\u0435\\u0442\", \"\\u043e\\u0442\\u0432\\u0435\\u0442\", \"\\u043e\\u0442\\u0432\\u0435\\u0442\\u0438\\u0442\\u044c\", \"\\u043e\\u0442\\u0432\\u0435\\u0442\\u0438\\u0442\\u044c\", \"\\u043e\\u0442\\u0432\\u0435\\u0442\\u0438\\u0442\\u044c\", \"\\u043e\\u0442\\u0432\\u0435\\u0442\\u0438\\u0442\\u044c\", \"\\u043e\\u0442\\u0432\\u0435\\u0442\\u0441\\u0442\\u0432\\u0435\\u043d\\u043d\\u043e\\u0441\\u0442\\u044c\", \"\\u043e\\u0442\\u0432\\u0435\\u0442\\u0441\\u0442\\u0432\\u0435\\u043d\\u043d\\u043e\\u0441\\u0442\\u044c\", \"\\u043e\\u0442\\u0434\\u0435\\u043b\\u0435\\u043d\\u0438\\u0435\", \"\\u043e\\u0442\\u0434\\u0435\\u043b\\u0435\\u043d\\u0438\\u0435\", \"\\u043e\\u0442\\u043a\\u0430\\u0437\", \"\\u043e\\u0442\\u043a\\u0430\\u0437\", \"\\u043e\\u0442\\u043a\\u0430\\u0437\", \"\\u043e\\u0442\\u043a\\u0430\\u0437\", \"\\u043e\\u0442\\u043a\\u0430\\u0437\", \"\\u043e\\u0442\\u043a\\u0430\\u0437\\u0430\\u0442\\u044c\", \"\\u043e\\u0442\\u043a\\u0430\\u0437\\u0430\\u0442\\u044c\", \"\\u043e\\u0442\\u043a\\u0430\\u0437\\u0430\\u0442\\u044c\", \"\\u043e\\u0442\\u043f\\u0440\\u0430\\u0432\\u0438\\u0442\\u044c\", \"\\u043e\\u0442\\u043f\\u0440\\u0430\\u0432\\u0438\\u0442\\u044c\", \"\\u043e\\u0442\\u043f\\u0440\\u0430\\u0432\\u0438\\u0442\\u044c\", \"\\u043e\\u0442\\u043f\\u0440\\u0430\\u0432\\u0438\\u0442\\u044c\", \"\\u043e\\u0444\\u043e\\u0440\\u043c\\u0438\\u0442\\u044c\", \"\\u043e\\u0444\\u043e\\u0440\\u043c\\u0438\\u0442\\u044c\", \"\\u043e\\u0444\\u043e\\u0440\\u043c\\u0438\\u0442\\u044c\", \"\\u043f\\u0430\\u043d\\u0434\\u0435\\u043c\\u0438\\u044f\", \"\\u043f\\u0430\\u043e\", \"\\u043f\\u0435\\u0440\\u0435\\u0432\\u043e\\u0434\", \"\\u043f\\u0435\\u0440\\u0435\\u0434\\u0430\\u0447\\u0430\", \"\\u043f\\u0435\\u0440\\u0435\\u0434\\u0430\\u0447\\u0430\", \"\\u043f\\u0435\\u0440\\u0435\\u0441\\u0442\\u0430\\u0442\\u044c\", \"\\u043f\\u0435\\u0440\\u0438\\u043e\\u0434\", \"\\u043f\\u0435\\u0442\\u0435\\u0440\\u0431\\u0443\\u0440\\u0433\", \"\\u043f\\u0438\\u0441\\u0430\\u0442\\u044c\", \"\\u043f\\u0438\\u0441\\u0430\\u0442\\u044c\", \"\\u043f\\u043b\\u0430\\u043d\\u0438\\u0440\\u043e\\u0432\\u0430\\u0442\\u044c\", \"\\u043f\\u043b\\u0430\\u0442\\u0430\", \"\\u043f\\u043b\\u0430\\u0442\\u0438\\u0442\\u044c\", \"\\u043f\\u043b\\u0430\\u0442\\u0438\\u0442\\u044c\", \"\\u043f\\u043b\\u0430\\u0442\\u043d\\u044b\\u0439\", \"\\u043f\\u043b\\u043e\\u0449\\u0430\\u0434\\u043a\\u0430\", \"\\u043f\\u043e\\u0434\\u0434\\u0435\\u0440\\u0436\\u043a\\u0430\", \"\\u043f\\u043e\\u0434\\u0434\\u0435\\u0440\\u0436\\u043a\\u0430\", \"\\u043f\\u043e\\u0434\\u0434\\u0435\\u0440\\u0436\\u043a\\u0430\", \"\\u043f\\u043e\\u0434\\u043a\\u043b\\u044e\\u0447\\u0435\\u043d\\u0438\\u0435\", \"\\u043f\\u043e\\u0434\\u0441\\u043a\\u0430\\u0437\\u0430\\u0442\\u044c\", \"\\u043f\\u043e\\u0434\\u0441\\u043a\\u0430\\u0437\\u0430\\u0442\\u044c\", \"\\u043f\\u043e\\u0434\\u0441\\u043a\\u0430\\u0437\\u0430\\u0442\\u044c\", \"\\u043f\\u043e\\u0434\\u0442\\u0432\\u0435\\u0440\\u0434\\u0438\\u0442\\u044c\", \"\\u043f\\u043e\\u0434\\u0442\\u0432\\u0435\\u0440\\u0434\\u0438\\u0442\\u044c\", \"\\u043f\\u043e\\u0434\\u0442\\u0432\\u0435\\u0440\\u0434\\u0438\\u0442\\u044c\", \"\\u043f\\u043e\\u0434\\u0442\\u0432\\u0435\\u0440\\u0436\\u0434\\u0430\\u0442\\u044c\", \"\\u043f\\u043e\\u0435\\u0437\\u0434\\u043a\\u0430\", \"\\u043f\\u043e\\u0437\\u0432\\u043e\\u043d\\u0438\\u0442\\u044c\", \"\\u043f\\u043e\\u043a\\u0443\\u043f\\u0430\\u0442\\u0435\\u043b\\u044c\", \"\\u043f\\u043e\\u043a\\u0443\\u043f\\u0430\\u0442\\u0435\\u043b\\u044c\", \"\\u043f\\u043e\\u043a\\u0443\\u043f\\u043a\\u0430\", \"\\u043f\\u043e\\u043a\\u0443\\u043f\\u043a\\u0430\", \"\\u043f\\u043e\\u043a\\u0443\\u043f\\u043a\\u0430\", \"\\u043f\\u043e\\u043b\\u0438\\u043a\\u043b\\u0438\\u043d\\u0438\\u043a\\u0430\", \"\\u043f\\u043e\\u043b\\u0438\\u0441\", \"\\u043f\\u043e\\u043b\\u043d\\u044b\\u0439\", \"\\u043f\\u043e\\u043b\\u043e\\u0436\\u0438\\u0442\\u0435\\u043b\\u044c\\u043d\\u044b\\u0439\", \"\\u043f\\u043e\\u043b\\u0443\\u0447\\u0438\\u0442\\u044c\", \"\\u043f\\u043e\\u043b\\u0443\\u0447\\u0438\\u0442\\u044c\", \"\\u043f\\u043e\\u043b\\u0443\\u0447\\u0438\\u0442\\u044c\", \"\\u043f\\u043e\\u043b\\u0443\\u0447\\u0438\\u0442\\u044c\", \"\\u043f\\u043e\\u043b\\u0443\\u0447\\u0438\\u0442\\u044c\", \"\\u043f\\u043e\\u043c\\u0435\\u0449\\u0435\\u043d\\u0438\\u0435\", \"\\u043f\\u043e\\u043c\\u043e\\u0449\\u044c\", \"\\u043f\\u043e\\u043c\\u043e\\u0449\\u044c\", \"\\u043f\\u043e\\u043c\\u043e\\u0449\\u044c\", \"\\u043f\\u043e\\u043c\\u043e\\u0449\\u044c\", \"\\u043f\\u043e\\u043f\\u0440\\u043e\\u0441\\u0438\\u0442\\u044c\", \"\\u043f\\u043e\\u0441\\u0435\\u0449\\u0435\\u043d\\u0438\\u0435\", \"\\u043f\\u043e\\u0441\\u043b\\u0435\\u0434\\u0443\\u044e\\u0449\\u0438\\u0439\", \"\\u043f\\u043e\\u0441\\u0442\\u0430\\u0432\\u0449\\u0438\\u043a\", \"\\u043f\\u043e\\u0441\\u0442\\u0443\\u043f\\u0438\\u0442\\u044c\", \"\\u043f\\u043e\\u0441\\u0442\\u0443\\u043f\\u0438\\u0442\\u044c\", \"\\u043f\\u043e\\u0441\\u0442\\u0443\\u043f\\u0438\\u0442\\u044c\", \"\\u043f\\u043e\\u0441\\u044b\\u043b\\u043a\\u0430\", \"\\u043f\\u043e\\u0447\\u0442\\u0430\", \"\\u043f\\u043e\\u0447\\u0442\\u0430\", \"\\u043f\\u043e\\u0447\\u0442\\u0430\", \"\\u043f\\u0440\\u0430\\u0432\\u0438\\u043b\\u043e\", \"\\u043f\\u0440\\u0430\\u0432\\u0438\\u043b\\u043e\", \"\\u043f\\u0440\\u0430\\u0432\\u043e\", \"\\u043f\\u0440\\u0430\\u0432\\u043e\", \"\\u043f\\u0440\\u0430\\u0432\\u043e\", \"\\u043f\\u0440\\u0430\\u0432\\u043e\", \"\\u043f\\u0440\\u0435\\u0434\\u043e\\u0441\\u0442\\u0430\\u0432\\u0438\\u0442\\u044c\", \"\\u043f\\u0440\\u0435\\u0434\\u043e\\u0441\\u0442\\u0430\\u0432\\u0438\\u0442\\u044c\", \"\\u043f\\u0440\\u0435\\u0434\\u043e\\u0441\\u0442\\u0430\\u0432\\u0438\\u0442\\u044c\", \"\\u043f\\u0440\\u0435\\u0442\\u0435\\u043d\\u0437\\u0438\\u044f\", \"\\u043f\\u0440\\u0435\\u0442\\u0435\\u043d\\u0437\\u0438\\u044f\", \"\\u043f\\u0440\\u0435\\u0442\\u0435\\u043d\\u0437\\u0438\\u044f\", \"\\u043f\\u0440\\u0435\\u0442\\u0435\\u043d\\u0437\\u0438\\u044f\", \"\\u043f\\u0440\\u0438\\u0435\\u0445\\u0430\\u0442\\u044c\", \"\\u043f\\u0440\\u0438\\u0439\\u0442\\u0438\", \"\\u043f\\u0440\\u0438\\u0439\\u0442\\u0438\", \"\\u043f\\u0440\\u0438\\u043b\\u043e\\u0436\\u0438\\u0442\\u044c\", \"\\u043f\\u0440\\u0438\\u043d\\u044f\\u0442\\u044c\", \"\\u043f\\u0440\\u0438\\u043d\\u044f\\u0442\\u044c\", \"\\u043f\\u0440\\u0438\\u043d\\u044f\\u0442\\u044c\", \"\\u043f\\u0440\\u0438\\u043d\\u044f\\u0442\\u044c\", \"\\u043f\\u0440\\u0438\\u043d\\u044f\\u0442\\u044c\", \"\\u043f\\u0440\\u0438\\u043e\\u0431\\u0440\\u0435\\u0441\\u0442\\u0438\", \"\\u043f\\u0440\\u0438\\u043e\\u0431\\u0440\\u0435\\u0441\\u0442\\u0438\", \"\\u043f\\u0440\\u0438\\u043e\\u0431\\u0440\\u0435\\u0441\\u0442\\u0438\", \"\\u043f\\u0440\\u0438\\u043e\\u0431\\u0440\\u0435\\u0441\\u0442\\u0438\", \"\\u043f\\u0440\\u0438\\u043e\\u0431\\u0440\\u0435\\u0442\\u0435\\u043d\\u0438\\u0435\", \"\\u043f\\u0440\\u0438\\u0451\\u043c\", \"\\u043f\\u0440\\u0438\\u0451\\u043c\", \"\\u043f\\u0440\\u0438\\u0451\\u043c\", \"\\u043f\\u0440\\u043e\\u0432\\u0435\\u0434\\u0435\\u043d\\u0438\\u0435\", \"\\u043f\\u0440\\u043e\\u0432\\u0435\\u0440\\u043a\\u0430\", \"\\u043f\\u0440\\u043e\\u0432\\u0435\\u0440\\u043a\\u0430\", \"\\u043f\\u0440\\u043e\\u0432\\u0435\\u0440\\u043a\\u0430\", \"\\u043f\\u0440\\u043e\\u0432\\u0435\\u0441\\u0442\\u0438\", \"\\u043f\\u0440\\u043e\\u0432\\u0435\\u0441\\u0442\\u0438\", \"\\u043f\\u0440\\u043e\\u0432\\u0435\\u0441\\u0442\\u0438\", \"\\u043f\\u0440\\u043e\\u0432\\u0435\\u0441\\u0442\\u0438\", \"\\u043f\\u0440\\u043e\\u0434\\u0430\\u0432\\u0430\\u0442\\u044c\", \"\\u043f\\u0440\\u043e\\u0434\\u0430\\u0432\\u0435\\u0446\", \"\\u043f\\u0440\\u043e\\u0434\\u0430\\u0432\\u0435\\u0446\", \"\\u043f\\u0440\\u043e\\u0434\\u0430\\u0436\\u0430\", \"\\u043f\\u0440\\u043e\\u0434\\u0443\\u043a\\u0442\", \"\\u043f\\u0440\\u043e\\u0436\\u0438\\u0432\\u0430\\u0442\\u044c\", \"\\u043f\\u0440\\u043e\\u0436\\u0438\\u0432\\u0430\\u0442\\u044c\", \"\\u043f\\u0440\\u043e\\u0438\\u0437\\u0432\\u0435\\u0441\\u0442\\u0438\", \"\\u043f\\u0440\\u043e\\u0438\\u0437\\u0432\\u0435\\u0441\\u0442\\u0438\", \"\\u043f\\u0440\\u043e\\u0438\\u0437\\u0432\\u0435\\u0441\\u0442\\u0438\", \"\\u043f\\u0440\\u043e\\u0438\\u0437\\u0432\\u043e\\u0434\\u0438\\u0442\\u0435\\u043b\\u044c\", \"\\u043f\\u0440\\u043e\\u0438\\u0437\\u0432\\u043e\\u0434\\u0441\\u0442\\u0432\\u043e\", \"\\u043f\\u0440\\u043e\\u0439\\u0442\\u0438\", \"\\u043f\\u0440\\u043e\\u0439\\u0442\\u0438\", \"\\u043f\\u0440\\u043e\\u0439\\u0442\\u0438\", \"\\u043f\\u0440\\u043e\\u0441\\u0438\\u0442\\u044c\", \"\\u043f\\u0440\\u043e\\u0441\\u0438\\u0442\\u044c\", \"\\u043f\\u0440\\u043e\\u0441\\u0438\\u0442\\u044c\", \"\\u043f\\u0440\\u043e\\u0441\\u0438\\u0442\\u044c\", \"\\u043f\\u0440\\u043e\\u0441\\u0438\\u0442\\u044c\", \"\\u043f\\u0440\\u043e\\u0441\\u0438\\u0442\\u044c\", \"\\u043f\\u0440\\u043e\\u0446\\u0435\\u0434\\u0443\\u0440\\u0430\", \"\\u043f\\u0440\\u043e\\u0446\\u0435\\u0441\\u0441\", \"\\u043f\\u0443\\u043d\\u043a\\u0442\", \"\\u043f\\u0443\\u043d\\u043a\\u0442\", \"\\u043f\\u0446\\u0440\", \"\\u0440\\u0430\\u0431\\u043e\\u0442\\u0430\", \"\\u0440\\u0430\\u0431\\u043e\\u0442\\u0430\", \"\\u0440\\u0430\\u0431\\u043e\\u0447\\u0438\\u0439\", \"\\u0440\\u0430\\u0431\\u043e\\u0447\\u0438\\u0439\", \"\\u0440\\u0430\\u0437\\u043c\\u0435\\u0440\", \"\\u0440\\u0430\\u0437\\u043c\\u0435\\u0440\", \"\\u0440\\u0430\\u0437\\u043c\\u0435\\u0440\", \"\\u0440\\u0430\\u0437\\u044a\\u044f\\u0441\\u043d\\u0438\\u0442\\u044c\", \"\\u0440\\u0430\\u0437\\u044a\\u044f\\u0441\\u043d\\u0438\\u0442\\u044c\", \"\\u0440\\u0430\\u0439\\u043e\\u043d\", \"\\u0440\\u0430\\u0441\\u0442\\u043e\\u0440\\u0433\\u043d\\u0443\\u0442\\u044c\", \"\\u0440\\u0435\\u0430\\u043a\\u0446\\u0438\\u044f\", \"\\u0440\\u0435\\u0431\\u0451\\u043d\\u043e\\u043a\", \"\\u0440\\u0435\\u0433\\u0438\\u0441\\u0442\\u0440\\u0430\\u0446\\u0438\\u044f\", \"\\u0440\\u0435\\u0437\\u0443\\u043b\\u044c\\u0442\\u0430\\u0442\", \"\\u0440\\u0435\\u0437\\u0443\\u043b\\u044c\\u0442\\u0430\\u0442\", \"\\u0440\\u0435\\u0437\\u0443\\u043b\\u044c\\u0442\\u0430\\u0442\", \"\\u0440\\u0435\\u0437\\u0443\\u043b\\u044c\\u0442\\u0430\\u0442\", \"\\u0440\\u0435\\u0439\\u0441\", \"\\u0440\\u0435\\u043c\\u043e\\u043d\\u0442\", \"\\u0440\\u0435\\u043c\\u043e\\u043d\\u0442\", \"\\u0440\\u0435\\u0441\\u0443\\u0440\\u0441\", \"\\u0440\\u0435\\u0448\\u0435\\u043d\\u0438\\u0435\", \"\\u0440\\u0435\\u0448\\u0435\\u043d\\u0438\\u0435\", \"\\u0440\\u0435\\u0448\\u0435\\u043d\\u0438\\u0435\", \"\\u0440\\u043e\\u0436\\u0434\\u0435\\u043d\\u0438\\u0435\", \"\\u0440\\u043e\\u0441\\u043f\\u043e\\u0442\\u0440\\u0435\\u0431\\u043d\\u0430\\u0434\\u0437\\u043e\\u0440\", \"\\u0440\\u043e\\u0441\\u043f\\u043e\\u0442\\u0440\\u0435\\u0431\\u043d\\u0430\\u0434\\u0437\\u043e\\u0440\", \"\\u0440\\u043e\\u0441\\u043f\\u043e\\u0442\\u0440\\u0435\\u0431\\u043d\\u0430\\u0434\\u0437\\u043e\\u0440\", \"\\u0440\\u043e\\u0441\\u0441\\u0438\\u0439\\u0441\\u043a\\u0438\\u0439\", \"\\u0440\\u043e\\u0441\\u0441\\u0438\\u044f\", \"\\u0440\\u043e\\u0441\\u0442\\u0435\\u043b\\u0435\\u043a\\u043e\\u043c\", \"\\u0440\\u0443\\u0431\", \"\\u0440\\u0443\\u0431\\u043b\\u044c\", \"\\u0440\\u0443\\u0431\\u043b\\u044c\", \"\\u0440\\u0443\\u043a\\u043e\\u0432\\u043e\\u0434\\u0438\\u0442\\u0435\\u043b\\u044c\", \"\\u0441\\u0430\\u0434\", \"\\u0441\\u0430\\u0439\\u0442\", \"\\u0441\\u0430\\u0439\\u0442\", \"\\u0441\\u0430\\u0439\\u0442\", \"\\u0441\\u0430\\u0439\\u0442\", \"\\u0441\\u0430\\u0439\\u0442\", \"\\u0441\\u0430\\u043d\\u0438\\u0442\\u0430\\u0440\\u043d\\u044b\\u0439\", \"\\u0441\\u0430\\u043d\\u043a\\u0442\", \"\\u0441\\u0431\\u0435\\u0440\\u0431\\u0430\\u043d\\u043a\", \"\\u0441\\u0432\\u044f\\u0437\\u0430\\u0442\\u044c\\u0441\\u044f\", \"\\u0441\\u0432\\u044f\\u0437\\u044c\", \"\\u0441\\u0432\\u044f\\u0437\\u044c\", \"\\u0441\\u0432\\u044f\\u0437\\u044c\", \"\\u0441\\u0432\\u044f\\u0437\\u044c\", \"\\u0441\\u0432\\u044f\\u0437\\u044c\", \"\\u0441\\u0434\\u0430\\u0432\\u0430\\u0442\\u044c\", \"\\u0441\\u0434\\u0430\\u0432\\u0430\\u0442\\u044c\", \"\\u0441\\u0434\\u0430\\u0442\\u044c\", \"\\u0441\\u0434\\u0430\\u0442\\u044c\", \"\\u0441\\u0434\\u0435\\u043b\\u0430\\u0442\\u044c\", \"\\u0441\\u0434\\u0435\\u043b\\u0430\\u0442\\u044c\", \"\\u0441\\u0434\\u0435\\u043b\\u0430\\u0442\\u044c\", \"\\u0441\\u0434\\u0435\\u043b\\u0430\\u0442\\u044c\", \"\\u0441\\u0434\\u0435\\u043b\\u0430\\u0442\\u044c\", \"\\u0441\\u0434\\u0435\\u043b\\u0430\\u0442\\u044c\", \"\\u0441\\u0435\\u0440\\u0432\\u0438\\u0441\\u043d\\u044b\\u0439\", \"\\u0441\\u0438\\u0442\\u0443\\u0430\\u0446\\u0438\\u044f\", \"\\u0441\\u0438\\u0442\\u0443\\u0430\\u0446\\u0438\\u044f\", \"\\u0441\\u0438\\u0442\\u0443\\u0430\\u0446\\u0438\\u044f\", \"\\u0441\\u0438\\u0442\\u0443\\u0430\\u0446\\u0438\\u044f\", \"\\u0441\\u0438\\u0442\\u0443\\u0430\\u0446\\u0438\\u044f\", \"\\u0441\\u043a\\u0430\\u0437\\u0430\\u0442\\u044c\", \"\\u0441\\u043a\\u0430\\u0437\\u0430\\u0442\\u044c\", \"\\u0441\\u043a\\u0430\\u0437\\u0430\\u0442\\u044c\", \"\\u0441\\u043a\\u0430\\u043d\", \"\\u0441\\u043a\\u0438\\u0434\\u043a\\u0430\", \"\\u0441\\u043a\\u043b\\u0430\\u0434\", \"\\u0441\\u043a\\u043e\\u0440\\u044b\\u0439\", \"\\u0441\\u043a\\u043e\\u0440\\u044b\\u0439\", \"\\u0441\\u043c\\u0441\", \"\\u0441\\u043d\\u043e\\u0432\\u0430\", \"\\u0441\\u043d\\u044f\\u0442\\u044c\", \"\\u0441\\u043d\\u044f\\u0442\\u044c\", \"\\u0441\\u043e\\u043e\\u0442\\u0432\\u0435\\u0442\\u0441\\u0442\\u0432\\u0438\\u0435\", \"\\u0441\\u043e\\u043e\\u0442\\u0432\\u0435\\u0442\\u0441\\u0442\\u0432\\u0438\\u0435\", \"\\u0441\\u043e\\u0441\\u0442\\u0430\\u0432\\u0438\\u0442\\u044c\", \"\\u0441\\u043e\\u0447\\u0438\", \"\\u0441\\u043f\\u0431\", \"\\u0441\\u043f\\u0438\\u0441\\u0430\\u0442\\u044c\", \"\\u0441\\u043f\\u0440\\u0430\\u0432\\u043a\\u0430\", \"\\u0441\\u0440\\u0435\\u0434\\u0441\\u0442\\u0432\\u043e\", \"\\u0441\\u0440\\u0435\\u0434\\u0441\\u0442\\u0432\\u043e\", \"\\u0441\\u0440\\u0435\\u0434\\u0441\\u0442\\u0432\\u043e\", \"\\u0441\\u0440\\u0435\\u0434\\u0441\\u0442\\u0432\\u043e\", \"\\u0441\\u0440\\u043e\\u043a\", \"\\u0441\\u0440\\u043e\\u043a\", \"\\u0441\\u0440\\u043e\\u043a\", \"\\u0441\\u0440\\u043e\\u043a\", \"\\u0441\\u0440\\u043e\\u043a\", \"\\u0441\\u0442\\u0430\\u0442\\u044c\", \"\\u0441\\u0442\\u0435\\u043d\\u0430\", \"\\u0441\\u0442\\u0438\\u0440\\u0430\\u043b\\u044c\\u043d\\u044b\\u0439\", \"\\u0441\\u0442\\u0440\\u0430\\u0445\\u043e\\u0432\\u043e\\u0439\", \"\\u0441\\u0443\\u0434\", \"\\u0441\\u0443\\u0434\", \"\\u0441\\u0443\\u043c\\u043c\\u0430\", \"\\u0441\\u0443\\u043c\\u043c\\u0430\", \"\\u0441\\u0443\\u043c\\u043c\\u0430\", \"\\u0441\\u0443\\u043c\\u043c\\u0430\", \"\\u0442\\u0430\\u043a\\u0436\\u0435\", \"\\u0442\\u0430\\u043a\\u0436\\u0435\", \"\\u0442\\u0430\\u043a\\u0436\\u0435\", \"\\u0442\\u0430\\u043a\\u0436\\u0435\", \"\\u0442\\u0430\\u043a\\u0436\\u0435\", \"\\u0442\\u0430\\u043a\\u0441\\u0438\", \"\\u0442\\u0430\\u043a\\u0441\\u0438\", \"\\u0442\\u0435\\u043b\\u0435\\u0444\\u043e\\u043d\", \"\\u0442\\u0435\\u043b\\u0435\\u0444\\u043e\\u043d\", \"\\u0442\\u0435\\u043b\\u0435\\u0444\\u043e\\u043d\", \"\\u0442\\u0435\\u043c\\u043f\\u0435\\u0440\\u0430\\u0442\\u0443\\u0440\\u0430\", \"\\u0442\\u0435\\u0441\\u0442\", \"\\u0442\\u0435\\u0445\\u043d\\u0438\\u0447\\u0435\\u0441\\u043a\\u0438\\u0439\", \"\\u0442\\u043e\\u0432\\u0430\\u0440\", \"\\u0442\\u043e\\u0432\\u0430\\u0440\", \"\\u0442\\u043e\\u0432\\u0430\\u0440\", \"\\u0442\\u043e\\u0440\\u0433\\u043e\\u0432\\u044b\\u0439\", \"\\u0442\\u0440\\u0430\\u043d\\u0441\\u043f\\u043e\\u0440\\u0442\\u043d\\u044b\\u0439\", \"\\u0442\\u0440\\u0430\\u043d\\u0441\\u043f\\u043e\\u0440\\u0442\\u043d\\u044b\\u0439\", \"\\u0442\\u0440\\u0435\\u0431\\u043e\\u0432\\u0430\\u043d\\u0438\\u0435\", \"\\u0442\\u0440\\u0435\\u0431\\u043e\\u0432\\u0430\\u043d\\u0438\\u0435\", \"\\u0442\\u0440\\u0435\\u0431\\u043e\\u0432\\u0430\\u0442\\u044c\", \"\\u0442\\u0443\\u0440\", \"\\u0442\\u044b\\u0441\\u044f\\u0447\\u0430\", \"\\u0442\\u044b\\u0441\\u044f\\u0447\\u0430\", \"\\u0443\\u0432\\u0435\\u0440\\u044f\\u0442\\u044c\", \"\\u0443\\u043b\\u0438\\u0446\\u0430\", \"\\u0443\\u043b\\u0438\\u0446\\u0430\", \"\\u0443\\u043f\\u0430\\u043a\\u043e\\u0432\\u043a\\u0430\", \"\\u0443\\u043f\\u0440\\u0430\\u0432\\u043b\\u044f\\u0442\\u044c\", \"\\u0443\\u0441\\u043b\\u043e\\u0432\\u0438\\u0435\", \"\\u0443\\u0441\\u043b\\u043e\\u0432\\u0438\\u0435\", \"\\u0443\\u0441\\u043b\\u043e\\u0432\\u0438\\u0435\", \"\\u0443\\u0441\\u043b\\u0443\\u0433\\u0430\", \"\\u0443\\u0441\\u043b\\u0443\\u0433\\u0430\", \"\\u0443\\u0441\\u043b\\u0443\\u0433\\u0430\", \"\\u0443\\u0441\\u043b\\u0443\\u0433\\u0430\", \"\\u0443\\u0441\\u0442\\u0430\\u043d\\u043e\\u0432\\u043b\\u0435\\u043d\\u043d\\u044b\\u0439\", \"\\u0443\\u0441\\u0442\\u0440\\u043e\\u0438\\u0442\\u044c\", \"\\u0443\\u0447\\u0440\\u0435\\u0436\\u0434\\u0435\\u043d\\u0438\\u0435\", \"\\u0444\\u0435\\u0434\\u0435\\u0440\\u0430\\u0446\\u0438\\u044f\", \"\\u0445\\u043e\\u0434\\u0438\\u0442\\u044c\", \"\\u0445\\u043e\\u0434\\u0438\\u0442\\u044c\", \"\\u0445\\u043e\\u0442\\u0435\\u0442\\u044c\\u0441\\u044f\", \"\\u0445\\u043e\\u0442\\u044f\", \"\\u0445\\u043e\\u0442\\u044f\", \"\\u0445\\u043e\\u0442\\u044f\", \"\\u0446\\u0432\\u0435\\u0442\", \"\\u0446\\u0435\\u043d\\u0430\", \"\\u0446\\u0435\\u043d\\u0430\", \"\\u0446\\u0435\\u043d\\u0430\", \"\\u0446\\u0435\\u043d\\u0442\\u0440\", \"\\u0446\\u0435\\u043d\\u0442\\u0440\", \"\\u0447\\u0435\\u043b\\u043e\\u0432\\u0435\\u043a\", \"\\u0447\\u0435\\u043b\\u043e\\u0432\\u0435\\u043a\", \"\\u0447\\u0435\\u043b\\u043e\\u0432\\u0435\\u043a\", \"\\u0447\\u0435\\u043b\\u043e\\u0432\\u0435\\u043a\", \"\\u0447\\u0435\\u043b\\u043e\\u0432\\u0435\\u043a\", \"\\u0448\\u043a\\u043e\\u043b\\u0430\", \"\\u044d\\u043a\\u0441\\u043f\\u0435\\u0440\\u0442\\u0438\\u0437\\u0430\", \"\\u044d\\u043a\\u0441\\u043f\\u043b\\u0443\\u0430\\u0442\\u0430\\u0446\\u0438\\u044f\", \"\\u044f\\u0432\\u043b\\u044f\\u0442\\u044c\\u0441\\u044f\", \"\\u044f\\u0432\\u043b\\u044f\\u0442\\u044c\\u0441\\u044f\", \"\\u044f\\u0432\\u043b\\u044f\\u0442\\u044c\\u0441\\u044f\", \"\\u044f\\u0432\\u043b\\u044f\\u0442\\u044c\\u0441\\u044f\", \"\\u044f\\u0432\\u043b\\u044f\\u0442\\u044c\\u0441\\u044f\", \"\\u044f\\u043d\\u0432\\u0430\\u0440\\u044c\", \"\\u044f\\u043d\\u0432\\u0430\\u0440\\u044c\", \"\\u044f\\u043d\\u0434\\u0435\\u043a\\u0441\"]}, \"R\": 30, \"lambda.step\": 0.01, \"plot.opts\": {\"xlab\": \"PC1\", \"ylab\": \"PC2\"}, \"topic.order\": [2, 4, 5, 6, 3, 1]};\n",
       "\n",
       "function LDAvis_load_lib(url, callback){\n",
       "  var s = document.createElement('script');\n",
       "  s.src = url;\n",
       "  s.async = true;\n",
       "  s.onreadystatechange = s.onload = callback;\n",
       "  s.onerror = function(){console.warn(\"failed to load library \" + url);};\n",
       "  document.getElementsByTagName(\"head\")[0].appendChild(s);\n",
       "}\n",
       "\n",
       "if(typeof(LDAvis) !== \"undefined\"){\n",
       "   // already loaded: just create the visualization\n",
       "   !function(LDAvis){\n",
       "       new LDAvis(\"#\" + \"ldavis_el3094419194027874406018986648\", ldavis_el3094419194027874406018986648_data);\n",
       "   }(LDAvis);\n",
       "}else if(typeof define === \"function\" && define.amd){\n",
       "   // require.js is available: use it to load d3/LDAvis\n",
       "   require.config({paths: {d3: \"https://d3js.org/d3.v5\"}});\n",
       "   require([\"d3\"], function(d3){\n",
       "      window.d3 = d3;\n",
       "      LDAvis_load_lib(\"https://cdn.jsdelivr.net/gh/bmabey/pyLDAvis@3.3.1/pyLDAvis/js/ldavis.v3.0.0.js\", function(){\n",
       "        new LDAvis(\"#\" + \"ldavis_el3094419194027874406018986648\", ldavis_el3094419194027874406018986648_data);\n",
       "      });\n",
       "    });\n",
       "}else{\n",
       "    // require.js not available: dynamically load d3 & LDAvis\n",
       "    LDAvis_load_lib(\"https://d3js.org/d3.v5.js\", function(){\n",
       "         LDAvis_load_lib(\"https://cdn.jsdelivr.net/gh/bmabey/pyLDAvis@3.3.1/pyLDAvis/js/ldavis.v3.0.0.js\", function(){\n",
       "                 new LDAvis(\"#\" + \"ldavis_el3094419194027874406018986648\", ldavis_el3094419194027874406018986648_data);\n",
       "            })\n",
       "         });\n",
       "}\n",
       "</script>"
      ],
      "text/plain": [
       "<IPython.core.display.HTML object>"
      ]
     },
     "execution_count": 65,
     "metadata": {},
     "output_type": "execute_result"
    }
   ],
   "source": [
    "lda_8 = ldamodel.LdaModel(corpus, id2word=dictionary, num_topics=6, chunksize=50, update_every=1, passes=2)\n",
    "vis_data = gensimvis.prepare(lda_8, corpus, dictionary)\n",
    "pyLDAvis.display(vis_data)"
   ]
  },
  {
   "cell_type": "code",
   "execution_count": 63,
   "id": "QA_EtA9nOVWB",
   "metadata": {
    "colab": {
     "base_uri": "https://localhost:8080/"
    },
    "id": "QA_EtA9nOVWB",
    "outputId": "5820c5d6-c1c7-49aa-9a62-a01fbcc9cc14"
   },
   "outputs": [
    {
     "name": "stderr",
     "output_type": "stream",
     "text": [
      "C:\\ProgramData\\Anaconda3\\lib\\site-packages\\ipykernel\\ipkernel.py:287: DeprecationWarning: `should_run_async` will not call `transform_cell` automatically in the future. Please pass the result to `transformed_cell` argument and any exception that happen during thetransform in `preprocessing_exc_tuple` in IPython 7.17 and above.\n",
      "  and should_run_async(code)\n"
     ]
    },
    {
     "data": {
      "text/plain": [
       "[(0,\n",
       "  '0.094*\"магазин\" + 0.030*\"товар\" + 0.020*\"рубль\" + 0.017*\"дать\" + 0.016*\"интернет\" + 0.015*\"составить\" + 0.013*\"здравствуйте\" + 0.013*\"продавец\" + 0.012*\"цена\" + 0.011*\"заявить\"'),\n",
       " (1,\n",
       "  '0.066*\"товар\" + 0.043*\"возврат\" + 0.026*\"средство\" + 0.025*\"день\" + 0.025*\"магазин\" + 0.024*\"вернуть\" + 0.022*\"продавец\" + 0.020*\"денежный\" + 0.017*\"деньга\" + 0.015*\"приобрести\"'),\n",
       " (2,\n",
       "  '0.067*\"ремонт\" + 0.042*\"новый\" + 0.029*\"центр\" + 0.028*\"квартира\" + 0.028*\"вода\" + 0.025*\"гарантийный\" + 0.022*\"говорить\" + 0.022*\"здравствуйте\" + 0.021*\"мочь\" + 0.020*\"год\"'),\n",
       " (3,\n",
       "  '0.047*\"заказ\" + 0.020*\"доставка\" + 0.018*\"деньга\" + 0.018*\"оплатить\" + 0.018*\"сказать\" + 0.015*\"банк\" + 0.013*\"сделать\" + 0.013*\"карта\" + 0.013*\"день\" + 0.013*\"телефон\"'),\n",
       " (4,\n",
       "  '0.027*\"день\" + 0.021*\"ответ\" + 0.017*\"тест\" + 0.017*\"личный\" + 0.016*\"обращение\" + 0.015*\"почта\" + 0.014*\"кабинет\" + 0.013*\"добрый\" + 0.013*\"документ\" + 0.013*\"дать\"'),\n",
       " (5,\n",
       "  '0.021*\"право\" + 0.016*\"правило\" + 0.015*\"поликлиника\" + 0.013*\"требование\" + 0.013*\"являться\" + 0.013*\"основание\" + 0.013*\"соответствие\" + 0.012*\"дом\" + 0.012*\"закон\" + 0.012*\"потребитель\"'),\n",
       " (6,\n",
       "  '0.034*\"дом\" + 0.020*\"всё\" + 0.019*\"просить\" + 0.019*\"ребёнок\" + 0.018*\"январь\" + 0.015*\"проверка\" + 0.014*\"адрес\" + 0.014*\"человек\" + 0.014*\"находиться\" + 0.013*\"дать\"'),\n",
       " (7,\n",
       "  '0.041*\"договор\" + 0.029*\"услуга\" + 0.026*\"компания\" + 0.020*\"год\" + 0.016*\"ооо\" + 0.015*\"страховой\" + 0.014*\"рубль\" + 0.012*\"счёт\" + 0.012*\"заявка\" + 0.011*\"обратиться\"')]"
      ]
     },
     "execution_count": 63,
     "metadata": {},
     "output_type": "execute_result"
    }
   ],
   "source": [
    "lda_8.show_topics(num_topics=8, num_words=10, formatted=True)"
   ]
  },
  {
   "cell_type": "markdown",
   "id": "eWYQlOb4OinM",
   "metadata": {
    "id": "eWYQlOb4OinM"
   },
   "source": [
    "# Можно попробовать определить темы: номер 1,2  -  торговля товарами   4 качество услуг ЖКХ"
   ]
  },
  {
   "cell_type": "code",
   "execution_count": null,
   "id": "cef5be41",
   "metadata": {},
   "outputs": [],
   "source": []
  }
 ],
 "metadata": {
  "accelerator": "GPU",
  "colab": {
   "collapsed_sections": [],
   "include_colab_link": true,
   "machine_shape": "hm",
   "name": "HW_04_lda.ipynb",
   "provenance": []
  },
  "kernelspec": {
   "display_name": "Python 3",
   "language": "python",
   "name": "python3"
  },
  "language_info": {
   "codemirror_mode": {
    "name": "ipython",
    "version": 3
   },
   "file_extension": ".py",
   "mimetype": "text/x-python",
   "name": "python",
   "nbconvert_exporter": "python",
   "pygments_lexer": "ipython3",
   "version": "3.8.3"
  },
  "widgets": {
   "application/vnd.jupyter.widget-state+json": {
    "07897d1a6ba1415cbea2245cee60649b": {
     "model_module": "@jupyter-widgets/base",
     "model_module_version": "1.2.0",
     "model_name": "LayoutModel",
     "state": {
      "_model_module": "@jupyter-widgets/base",
      "_model_module_version": "1.2.0",
      "_model_name": "LayoutModel",
      "_view_count": null,
      "_view_module": "@jupyter-widgets/base",
      "_view_module_version": "1.2.0",
      "_view_name": "LayoutView",
      "align_content": null,
      "align_items": null,
      "align_self": null,
      "border": null,
      "bottom": null,
      "display": null,
      "flex": null,
      "flex_flow": null,
      "grid_area": null,
      "grid_auto_columns": null,
      "grid_auto_flow": null,
      "grid_auto_rows": null,
      "grid_column": null,
      "grid_gap": null,
      "grid_row": null,
      "grid_template_areas": null,
      "grid_template_columns": null,
      "grid_template_rows": null,
      "height": null,
      "justify_content": null,
      "justify_items": null,
      "left": null,
      "margin": null,
      "max_height": null,
      "max_width": null,
      "min_height": null,
      "min_width": null,
      "object_fit": null,
      "object_position": null,
      "order": null,
      "overflow": null,
      "overflow_x": null,
      "overflow_y": null,
      "padding": null,
      "right": null,
      "top": null,
      "visibility": null,
      "width": null
     }
    },
    "08e36e0298cb4ea49dcd0aa7160dc47c": {
     "model_module": "@jupyter-widgets/controls",
     "model_module_version": "1.5.0",
     "model_name": "DescriptionStyleModel",
     "state": {
      "_model_module": "@jupyter-widgets/controls",
      "_model_module_version": "1.5.0",
      "_model_name": "DescriptionStyleModel",
      "_view_count": null,
      "_view_module": "@jupyter-widgets/base",
      "_view_module_version": "1.2.0",
      "_view_name": "StyleView",
      "description_width": ""
     }
    },
    "0aa8214d4433406c98cbae8789b7ec61": {
     "model_module": "@jupyter-widgets/controls",
     "model_module_version": "1.5.0",
     "model_name": "DescriptionStyleModel",
     "state": {
      "_model_module": "@jupyter-widgets/controls",
      "_model_module_version": "1.5.0",
      "_model_name": "DescriptionStyleModel",
      "_view_count": null,
      "_view_module": "@jupyter-widgets/base",
      "_view_module_version": "1.2.0",
      "_view_name": "StyleView",
      "description_width": ""
     }
    },
    "0bb39d9b7de24bcfbac5fcfa25ec6b0b": {
     "model_module": "@jupyter-widgets/controls",
     "model_module_version": "1.5.0",
     "model_name": "HBoxModel",
     "state": {
      "_dom_classes": [],
      "_model_module": "@jupyter-widgets/controls",
      "_model_module_version": "1.5.0",
      "_model_name": "HBoxModel",
      "_view_count": null,
      "_view_module": "@jupyter-widgets/controls",
      "_view_module_version": "1.5.0",
      "_view_name": "HBoxView",
      "box_style": "",
      "children": [
       "IPY_MODEL_f5e2367a04704394b6eea601a2c47082",
       "IPY_MODEL_245c4a85a7634d98bab9e9f9dcc30879",
       "IPY_MODEL_dec48a4297d24ea9a95f2071d0854c56"
      ],
      "layout": "IPY_MODEL_87bea960bf9e464ca04e90752df85458"
     }
    },
    "1e3cbc59a7594a1a952a1aa7ee633c41": {
     "model_module": "@jupyter-widgets/controls",
     "model_module_version": "1.5.0",
     "model_name": "ProgressStyleModel",
     "state": {
      "_model_module": "@jupyter-widgets/controls",
      "_model_module_version": "1.5.0",
      "_model_name": "ProgressStyleModel",
      "_view_count": null,
      "_view_module": "@jupyter-widgets/base",
      "_view_module_version": "1.2.0",
      "_view_name": "StyleView",
      "bar_color": null,
      "description_width": ""
     }
    },
    "1f1ceeb0ee7d49dc80fb90ee54b0ac03": {
     "model_module": "@jupyter-widgets/base",
     "model_module_version": "1.2.0",
     "model_name": "LayoutModel",
     "state": {
      "_model_module": "@jupyter-widgets/base",
      "_model_module_version": "1.2.0",
      "_model_name": "LayoutModel",
      "_view_count": null,
      "_view_module": "@jupyter-widgets/base",
      "_view_module_version": "1.2.0",
      "_view_name": "LayoutView",
      "align_content": null,
      "align_items": null,
      "align_self": null,
      "border": null,
      "bottom": null,
      "display": null,
      "flex": null,
      "flex_flow": null,
      "grid_area": null,
      "grid_auto_columns": null,
      "grid_auto_flow": null,
      "grid_auto_rows": null,
      "grid_column": null,
      "grid_gap": null,
      "grid_row": null,
      "grid_template_areas": null,
      "grid_template_columns": null,
      "grid_template_rows": null,
      "height": null,
      "justify_content": null,
      "justify_items": null,
      "left": null,
      "margin": null,
      "max_height": null,
      "max_width": null,
      "min_height": null,
      "min_width": null,
      "object_fit": null,
      "object_position": null,
      "order": null,
      "overflow": null,
      "overflow_x": null,
      "overflow_y": null,
      "padding": null,
      "right": null,
      "top": null,
      "visibility": null,
      "width": null
     }
    },
    "205138dd0aef420582723621a5c59fc8": {
     "model_module": "@jupyter-widgets/base",
     "model_module_version": "1.2.0",
     "model_name": "LayoutModel",
     "state": {
      "_model_module": "@jupyter-widgets/base",
      "_model_module_version": "1.2.0",
      "_model_name": "LayoutModel",
      "_view_count": null,
      "_view_module": "@jupyter-widgets/base",
      "_view_module_version": "1.2.0",
      "_view_name": "LayoutView",
      "align_content": null,
      "align_items": null,
      "align_self": null,
      "border": null,
      "bottom": null,
      "display": null,
      "flex": null,
      "flex_flow": null,
      "grid_area": null,
      "grid_auto_columns": null,
      "grid_auto_flow": null,
      "grid_auto_rows": null,
      "grid_column": null,
      "grid_gap": null,
      "grid_row": null,
      "grid_template_areas": null,
      "grid_template_columns": null,
      "grid_template_rows": null,
      "height": null,
      "justify_content": null,
      "justify_items": null,
      "left": null,
      "margin": null,
      "max_height": null,
      "max_width": null,
      "min_height": null,
      "min_width": null,
      "object_fit": null,
      "object_position": null,
      "order": null,
      "overflow": null,
      "overflow_x": null,
      "overflow_y": null,
      "padding": null,
      "right": null,
      "top": null,
      "visibility": null,
      "width": null
     }
    },
    "21a32862934646f2b1109129c20d373f": {
     "model_module": "@jupyter-widgets/controls",
     "model_module_version": "1.5.0",
     "model_name": "HTMLModel",
     "state": {
      "_dom_classes": [],
      "_model_module": "@jupyter-widgets/controls",
      "_model_module_version": "1.5.0",
      "_model_name": "HTMLModel",
      "_view_count": null,
      "_view_module": "@jupyter-widgets/controls",
      "_view_module_version": "1.5.0",
      "_view_name": "HTMLView",
      "description": "",
      "description_tooltip": null,
      "layout": "IPY_MODEL_6fe44199207d4b0a8eb3fa553fa43ea2",
      "placeholder": "​",
      "style": "IPY_MODEL_0aa8214d4433406c98cbae8789b7ec61",
      "value": "100%"
     }
    },
    "245c4a85a7634d98bab9e9f9dcc30879": {
     "model_module": "@jupyter-widgets/controls",
     "model_module_version": "1.5.0",
     "model_name": "FloatProgressModel",
     "state": {
      "_dom_classes": [],
      "_model_module": "@jupyter-widgets/controls",
      "_model_module_version": "1.5.0",
      "_model_name": "FloatProgressModel",
      "_view_count": null,
      "_view_module": "@jupyter-widgets/controls",
      "_view_module_version": "1.5.0",
      "_view_name": "ProgressView",
      "bar_style": "success",
      "description": "",
      "description_tooltip": null,
      "layout": "IPY_MODEL_07897d1a6ba1415cbea2245cee60649b",
      "max": 4995,
      "min": 0,
      "orientation": "horizontal",
      "style": "IPY_MODEL_d3412528b4f54bfdb81d54e56cada38e",
      "value": 4995
     }
    },
    "265ec28168e84f9c91f6fbe64896cf3d": {
     "model_module": "@jupyter-widgets/base",
     "model_module_version": "1.2.0",
     "model_name": "LayoutModel",
     "state": {
      "_model_module": "@jupyter-widgets/base",
      "_model_module_version": "1.2.0",
      "_model_name": "LayoutModel",
      "_view_count": null,
      "_view_module": "@jupyter-widgets/base",
      "_view_module_version": "1.2.0",
      "_view_name": "LayoutView",
      "align_content": null,
      "align_items": null,
      "align_self": null,
      "border": null,
      "bottom": null,
      "display": null,
      "flex": null,
      "flex_flow": null,
      "grid_area": null,
      "grid_auto_columns": null,
      "grid_auto_flow": null,
      "grid_auto_rows": null,
      "grid_column": null,
      "grid_gap": null,
      "grid_row": null,
      "grid_template_areas": null,
      "grid_template_columns": null,
      "grid_template_rows": null,
      "height": null,
      "justify_content": null,
      "justify_items": null,
      "left": null,
      "margin": null,
      "max_height": null,
      "max_width": null,
      "min_height": null,
      "min_width": null,
      "object_fit": null,
      "object_position": null,
      "order": null,
      "overflow": null,
      "overflow_x": null,
      "overflow_y": null,
      "padding": null,
      "right": null,
      "top": null,
      "visibility": null,
      "width": null
     }
    },
    "2f720ea88af3486ba3e2dd7a97e25bb6": {
     "model_module": "@jupyter-widgets/controls",
     "model_module_version": "1.5.0",
     "model_name": "HBoxModel",
     "state": {
      "_dom_classes": [],
      "_model_module": "@jupyter-widgets/controls",
      "_model_module_version": "1.5.0",
      "_model_name": "HBoxModel",
      "_view_count": null,
      "_view_module": "@jupyter-widgets/controls",
      "_view_module_version": "1.5.0",
      "_view_name": "HBoxView",
      "box_style": "",
      "children": [
       "IPY_MODEL_6ddbb02820694f0486ae258c289d4ce1",
       "IPY_MODEL_96906400af5c4d88b5439edbe6cf6519",
       "IPY_MODEL_b2567410f8b44904a6efe8fa08246954"
      ],
      "layout": "IPY_MODEL_7e6e856ca13f4da090a71c70b6786c25"
     }
    },
    "35eb686b13b84240b0a790a50150366d": {
     "model_module": "@jupyter-widgets/controls",
     "model_module_version": "1.5.0",
     "model_name": "HTMLModel",
     "state": {
      "_dom_classes": [],
      "_model_module": "@jupyter-widgets/controls",
      "_model_module_version": "1.5.0",
      "_model_name": "HTMLModel",
      "_view_count": null,
      "_view_module": "@jupyter-widgets/controls",
      "_view_module_version": "1.5.0",
      "_view_name": "HTMLView",
      "description": "",
      "description_tooltip": null,
      "layout": "IPY_MODEL_265ec28168e84f9c91f6fbe64896cf3d",
      "placeholder": "​",
      "style": "IPY_MODEL_aacefbd331da46e780f17350a68be2a9",
      "value": " 13/13 [01:18&lt;00:00,  8.93s/it]"
     }
    },
    "3c7448da21fa4e09ae35872d39b81efd": {
     "model_module": "@jupyter-widgets/base",
     "model_module_version": "1.2.0",
     "model_name": "LayoutModel",
     "state": {
      "_model_module": "@jupyter-widgets/base",
      "_model_module_version": "1.2.0",
      "_model_name": "LayoutModel",
      "_view_count": null,
      "_view_module": "@jupyter-widgets/base",
      "_view_module_version": "1.2.0",
      "_view_name": "LayoutView",
      "align_content": null,
      "align_items": null,
      "align_self": null,
      "border": null,
      "bottom": null,
      "display": null,
      "flex": null,
      "flex_flow": null,
      "grid_area": null,
      "grid_auto_columns": null,
      "grid_auto_flow": null,
      "grid_auto_rows": null,
      "grid_column": null,
      "grid_gap": null,
      "grid_row": null,
      "grid_template_areas": null,
      "grid_template_columns": null,
      "grid_template_rows": null,
      "height": null,
      "justify_content": null,
      "justify_items": null,
      "left": null,
      "margin": null,
      "max_height": null,
      "max_width": null,
      "min_height": null,
      "min_width": null,
      "object_fit": null,
      "object_position": null,
      "order": null,
      "overflow": null,
      "overflow_x": null,
      "overflow_y": null,
      "padding": null,
      "right": null,
      "top": null,
      "visibility": null,
      "width": null
     }
    },
    "4dcff9c84ad24719bf67f61bc3eee854": {
     "model_module": "@jupyter-widgets/controls",
     "model_module_version": "1.5.0",
     "model_name": "HBoxModel",
     "state": {
      "_dom_classes": [],
      "_model_module": "@jupyter-widgets/controls",
      "_model_module_version": "1.5.0",
      "_model_name": "HBoxModel",
      "_view_count": null,
      "_view_module": "@jupyter-widgets/controls",
      "_view_module_version": "1.5.0",
      "_view_name": "HBoxView",
      "box_style": "",
      "children": [
       "IPY_MODEL_21a32862934646f2b1109129c20d373f",
       "IPY_MODEL_6761a84e4edf486595224899759fd2b2",
       "IPY_MODEL_35eb686b13b84240b0a790a50150366d"
      ],
      "layout": "IPY_MODEL_1f1ceeb0ee7d49dc80fb90ee54b0ac03"
     }
    },
    "52f997bf9d184733b8354a817c156da8": {
     "model_module": "@jupyter-widgets/controls",
     "model_module_version": "1.5.0",
     "model_name": "ProgressStyleModel",
     "state": {
      "_model_module": "@jupyter-widgets/controls",
      "_model_module_version": "1.5.0",
      "_model_name": "ProgressStyleModel",
      "_view_count": null,
      "_view_module": "@jupyter-widgets/base",
      "_view_module_version": "1.2.0",
      "_view_name": "StyleView",
      "bar_color": null,
      "description_width": ""
     }
    },
    "5dfd722d2c6f4a8b9c931181beb99e89": {
     "model_module": "@jupyter-widgets/controls",
     "model_module_version": "1.5.0",
     "model_name": "DescriptionStyleModel",
     "state": {
      "_model_module": "@jupyter-widgets/controls",
      "_model_module_version": "1.5.0",
      "_model_name": "DescriptionStyleModel",
      "_view_count": null,
      "_view_module": "@jupyter-widgets/base",
      "_view_module_version": "1.2.0",
      "_view_name": "StyleView",
      "description_width": ""
     }
    },
    "5e1868747bcb43bd8395eadd705b9526": {
     "model_module": "@jupyter-widgets/base",
     "model_module_version": "1.2.0",
     "model_name": "LayoutModel",
     "state": {
      "_model_module": "@jupyter-widgets/base",
      "_model_module_version": "1.2.0",
      "_model_name": "LayoutModel",
      "_view_count": null,
      "_view_module": "@jupyter-widgets/base",
      "_view_module_version": "1.2.0",
      "_view_name": "LayoutView",
      "align_content": null,
      "align_items": null,
      "align_self": null,
      "border": null,
      "bottom": null,
      "display": null,
      "flex": null,
      "flex_flow": null,
      "grid_area": null,
      "grid_auto_columns": null,
      "grid_auto_flow": null,
      "grid_auto_rows": null,
      "grid_column": null,
      "grid_gap": null,
      "grid_row": null,
      "grid_template_areas": null,
      "grid_template_columns": null,
      "grid_template_rows": null,
      "height": null,
      "justify_content": null,
      "justify_items": null,
      "left": null,
      "margin": null,
      "max_height": null,
      "max_width": null,
      "min_height": null,
      "min_width": null,
      "object_fit": null,
      "object_position": null,
      "order": null,
      "overflow": null,
      "overflow_x": null,
      "overflow_y": null,
      "padding": null,
      "right": null,
      "top": null,
      "visibility": null,
      "width": null
     }
    },
    "6761a84e4edf486595224899759fd2b2": {
     "model_module": "@jupyter-widgets/controls",
     "model_module_version": "1.5.0",
     "model_name": "FloatProgressModel",
     "state": {
      "_dom_classes": [],
      "_model_module": "@jupyter-widgets/controls",
      "_model_module_version": "1.5.0",
      "_model_name": "FloatProgressModel",
      "_view_count": null,
      "_view_module": "@jupyter-widgets/controls",
      "_view_module_version": "1.5.0",
      "_view_name": "ProgressView",
      "bar_style": "success",
      "description": "",
      "description_tooltip": null,
      "layout": "IPY_MODEL_ce325b14ccce4e90b75d0a1f07a54210",
      "max": 13,
      "min": 0,
      "orientation": "horizontal",
      "style": "IPY_MODEL_52f997bf9d184733b8354a817c156da8",
      "value": 13
     }
    },
    "6ddbb02820694f0486ae258c289d4ce1": {
     "model_module": "@jupyter-widgets/controls",
     "model_module_version": "1.5.0",
     "model_name": "HTMLModel",
     "state": {
      "_dom_classes": [],
      "_model_module": "@jupyter-widgets/controls",
      "_model_module_version": "1.5.0",
      "_model_name": "HTMLModel",
      "_view_count": null,
      "_view_module": "@jupyter-widgets/controls",
      "_view_module_version": "1.5.0",
      "_view_name": "HTMLView",
      "description": "",
      "description_tooltip": null,
      "layout": "IPY_MODEL_cf370f80ca084513a1d862346ad22c00",
      "placeholder": "​",
      "style": "IPY_MODEL_d334365b00ec4925942e5afabc09644a",
      "value": "100%"
     }
    },
    "6fe44199207d4b0a8eb3fa553fa43ea2": {
     "model_module": "@jupyter-widgets/base",
     "model_module_version": "1.2.0",
     "model_name": "LayoutModel",
     "state": {
      "_model_module": "@jupyter-widgets/base",
      "_model_module_version": "1.2.0",
      "_model_name": "LayoutModel",
      "_view_count": null,
      "_view_module": "@jupyter-widgets/base",
      "_view_module_version": "1.2.0",
      "_view_name": "LayoutView",
      "align_content": null,
      "align_items": null,
      "align_self": null,
      "border": null,
      "bottom": null,
      "display": null,
      "flex": null,
      "flex_flow": null,
      "grid_area": null,
      "grid_auto_columns": null,
      "grid_auto_flow": null,
      "grid_auto_rows": null,
      "grid_column": null,
      "grid_gap": null,
      "grid_row": null,
      "grid_template_areas": null,
      "grid_template_columns": null,
      "grid_template_rows": null,
      "height": null,
      "justify_content": null,
      "justify_items": null,
      "left": null,
      "margin": null,
      "max_height": null,
      "max_width": null,
      "min_height": null,
      "min_width": null,
      "object_fit": null,
      "object_position": null,
      "order": null,
      "overflow": null,
      "overflow_x": null,
      "overflow_y": null,
      "padding": null,
      "right": null,
      "top": null,
      "visibility": null,
      "width": null
     }
    },
    "7c169a4add70479c842afa8db4a2a16a": {
     "model_module": "@jupyter-widgets/controls",
     "model_module_version": "1.5.0",
     "model_name": "DescriptionStyleModel",
     "state": {
      "_model_module": "@jupyter-widgets/controls",
      "_model_module_version": "1.5.0",
      "_model_name": "DescriptionStyleModel",
      "_view_count": null,
      "_view_module": "@jupyter-widgets/base",
      "_view_module_version": "1.2.0",
      "_view_name": "StyleView",
      "description_width": ""
     }
    },
    "7e6e856ca13f4da090a71c70b6786c25": {
     "model_module": "@jupyter-widgets/base",
     "model_module_version": "1.2.0",
     "model_name": "LayoutModel",
     "state": {
      "_model_module": "@jupyter-widgets/base",
      "_model_module_version": "1.2.0",
      "_model_name": "LayoutModel",
      "_view_count": null,
      "_view_module": "@jupyter-widgets/base",
      "_view_module_version": "1.2.0",
      "_view_name": "LayoutView",
      "align_content": null,
      "align_items": null,
      "align_self": null,
      "border": null,
      "bottom": null,
      "display": null,
      "flex": null,
      "flex_flow": null,
      "grid_area": null,
      "grid_auto_columns": null,
      "grid_auto_flow": null,
      "grid_auto_rows": null,
      "grid_column": null,
      "grid_gap": null,
      "grid_row": null,
      "grid_template_areas": null,
      "grid_template_columns": null,
      "grid_template_rows": null,
      "height": null,
      "justify_content": null,
      "justify_items": null,
      "left": null,
      "margin": null,
      "max_height": null,
      "max_width": null,
      "min_height": null,
      "min_width": null,
      "object_fit": null,
      "object_position": null,
      "order": null,
      "overflow": null,
      "overflow_x": null,
      "overflow_y": null,
      "padding": null,
      "right": null,
      "top": null,
      "visibility": null,
      "width": null
     }
    },
    "875115dd978247adbe105102f372a82d": {
     "model_module": "@jupyter-widgets/base",
     "model_module_version": "1.2.0",
     "model_name": "LayoutModel",
     "state": {
      "_model_module": "@jupyter-widgets/base",
      "_model_module_version": "1.2.0",
      "_model_name": "LayoutModel",
      "_view_count": null,
      "_view_module": "@jupyter-widgets/base",
      "_view_module_version": "1.2.0",
      "_view_name": "LayoutView",
      "align_content": null,
      "align_items": null,
      "align_self": null,
      "border": null,
      "bottom": null,
      "display": null,
      "flex": null,
      "flex_flow": null,
      "grid_area": null,
      "grid_auto_columns": null,
      "grid_auto_flow": null,
      "grid_auto_rows": null,
      "grid_column": null,
      "grid_gap": null,
      "grid_row": null,
      "grid_template_areas": null,
      "grid_template_columns": null,
      "grid_template_rows": null,
      "height": null,
      "justify_content": null,
      "justify_items": null,
      "left": null,
      "margin": null,
      "max_height": null,
      "max_width": null,
      "min_height": null,
      "min_width": null,
      "object_fit": null,
      "object_position": null,
      "order": null,
      "overflow": null,
      "overflow_x": null,
      "overflow_y": null,
      "padding": null,
      "right": null,
      "top": null,
      "visibility": null,
      "width": null
     }
    },
    "87bea960bf9e464ca04e90752df85458": {
     "model_module": "@jupyter-widgets/base",
     "model_module_version": "1.2.0",
     "model_name": "LayoutModel",
     "state": {
      "_model_module": "@jupyter-widgets/base",
      "_model_module_version": "1.2.0",
      "_model_name": "LayoutModel",
      "_view_count": null,
      "_view_module": "@jupyter-widgets/base",
      "_view_module_version": "1.2.0",
      "_view_name": "LayoutView",
      "align_content": null,
      "align_items": null,
      "align_self": null,
      "border": null,
      "bottom": null,
      "display": null,
      "flex": null,
      "flex_flow": null,
      "grid_area": null,
      "grid_auto_columns": null,
      "grid_auto_flow": null,
      "grid_auto_rows": null,
      "grid_column": null,
      "grid_gap": null,
      "grid_row": null,
      "grid_template_areas": null,
      "grid_template_columns": null,
      "grid_template_rows": null,
      "height": null,
      "justify_content": null,
      "justify_items": null,
      "left": null,
      "margin": null,
      "max_height": null,
      "max_width": null,
      "min_height": null,
      "min_width": null,
      "object_fit": null,
      "object_position": null,
      "order": null,
      "overflow": null,
      "overflow_x": null,
      "overflow_y": null,
      "padding": null,
      "right": null,
      "top": null,
      "visibility": null,
      "width": null
     }
    },
    "8da7957700a64d0d98904359bdde7e4c": {
     "model_module": "@jupyter-widgets/controls",
     "model_module_version": "1.5.0",
     "model_name": "DescriptionStyleModel",
     "state": {
      "_model_module": "@jupyter-widgets/controls",
      "_model_module_version": "1.5.0",
      "_model_name": "DescriptionStyleModel",
      "_view_count": null,
      "_view_module": "@jupyter-widgets/base",
      "_view_module_version": "1.2.0",
      "_view_name": "StyleView",
      "description_width": ""
     }
    },
    "900af86adcf8476491b070d13f847256": {
     "model_module": "@jupyter-widgets/controls",
     "model_module_version": "1.5.0",
     "model_name": "FloatProgressModel",
     "state": {
      "_dom_classes": [],
      "_model_module": "@jupyter-widgets/controls",
      "_model_module_version": "1.5.0",
      "_model_name": "FloatProgressModel",
      "_view_count": null,
      "_view_module": "@jupyter-widgets/controls",
      "_view_module_version": "1.5.0",
      "_view_name": "ProgressView",
      "bar_style": "success",
      "description": "",
      "description_tooltip": null,
      "layout": "IPY_MODEL_875115dd978247adbe105102f372a82d",
      "max": 999,
      "min": 0,
      "orientation": "horizontal",
      "style": "IPY_MODEL_bb320aa6e2f446e8af1724d80cd5de68",
      "value": 999
     }
    },
    "9073025e780c41c5bc1657e18e5af5b4": {
     "model_module": "@jupyter-widgets/controls",
     "model_module_version": "1.5.0",
     "model_name": "DescriptionStyleModel",
     "state": {
      "_model_module": "@jupyter-widgets/controls",
      "_model_module_version": "1.5.0",
      "_model_name": "DescriptionStyleModel",
      "_view_count": null,
      "_view_module": "@jupyter-widgets/base",
      "_view_module_version": "1.2.0",
      "_view_name": "StyleView",
      "description_width": ""
     }
    },
    "96906400af5c4d88b5439edbe6cf6519": {
     "model_module": "@jupyter-widgets/controls",
     "model_module_version": "1.5.0",
     "model_name": "FloatProgressModel",
     "state": {
      "_dom_classes": [],
      "_model_module": "@jupyter-widgets/controls",
      "_model_module_version": "1.5.0",
      "_model_name": "FloatProgressModel",
      "_view_count": null,
      "_view_module": "@jupyter-widgets/controls",
      "_view_module_version": "1.5.0",
      "_view_name": "ProgressView",
      "bar_style": "success",
      "description": "",
      "description_tooltip": null,
      "layout": "IPY_MODEL_5e1868747bcb43bd8395eadd705b9526",
      "max": 4995,
      "min": 0,
      "orientation": "horizontal",
      "style": "IPY_MODEL_1e3cbc59a7594a1a952a1aa7ee633c41",
      "value": 4995
     }
    },
    "aacefbd331da46e780f17350a68be2a9": {
     "model_module": "@jupyter-widgets/controls",
     "model_module_version": "1.5.0",
     "model_name": "DescriptionStyleModel",
     "state": {
      "_model_module": "@jupyter-widgets/controls",
      "_model_module_version": "1.5.0",
      "_model_name": "DescriptionStyleModel",
      "_view_count": null,
      "_view_module": "@jupyter-widgets/base",
      "_view_module_version": "1.2.0",
      "_view_name": "StyleView",
      "description_width": ""
     }
    },
    "ac5ed62c15004a2c91986544032e581e": {
     "model_module": "@jupyter-widgets/controls",
     "model_module_version": "1.5.0",
     "model_name": "HBoxModel",
     "state": {
      "_dom_classes": [],
      "_model_module": "@jupyter-widgets/controls",
      "_model_module_version": "1.5.0",
      "_model_name": "HBoxModel",
      "_view_count": null,
      "_view_module": "@jupyter-widgets/controls",
      "_view_module_version": "1.5.0",
      "_view_name": "HBoxView",
      "box_style": "",
      "children": [
       "IPY_MODEL_bbd7d534f06c44c5b65717e65cc6bc36",
       "IPY_MODEL_900af86adcf8476491b070d13f847256",
       "IPY_MODEL_ce2657a65f4a4450a978441655f45478"
      ],
      "layout": "IPY_MODEL_d1d50101fdfd4989857681e448ca57c1"
     }
    },
    "b2567410f8b44904a6efe8fa08246954": {
     "model_module": "@jupyter-widgets/controls",
     "model_module_version": "1.5.0",
     "model_name": "HTMLModel",
     "state": {
      "_dom_classes": [],
      "_model_module": "@jupyter-widgets/controls",
      "_model_module_version": "1.5.0",
      "_model_name": "HTMLModel",
      "_view_count": null,
      "_view_module": "@jupyter-widgets/controls",
      "_view_module_version": "1.5.0",
      "_view_name": "HTMLView",
      "description": "",
      "description_tooltip": null,
      "layout": "IPY_MODEL_c59cf60246624f93b209f4a510e84be6",
      "placeholder": "​",
      "style": "IPY_MODEL_7c169a4add70479c842afa8db4a2a16a",
      "value": " 4995/4995 [00:57&lt;00:00, 110.62it/s]"
     }
    },
    "bb320aa6e2f446e8af1724d80cd5de68": {
     "model_module": "@jupyter-widgets/controls",
     "model_module_version": "1.5.0",
     "model_name": "ProgressStyleModel",
     "state": {
      "_model_module": "@jupyter-widgets/controls",
      "_model_module_version": "1.5.0",
      "_model_name": "ProgressStyleModel",
      "_view_count": null,
      "_view_module": "@jupyter-widgets/base",
      "_view_module_version": "1.2.0",
      "_view_name": "StyleView",
      "bar_color": null,
      "description_width": ""
     }
    },
    "bbd7d534f06c44c5b65717e65cc6bc36": {
     "model_module": "@jupyter-widgets/controls",
     "model_module_version": "1.5.0",
     "model_name": "HTMLModel",
     "state": {
      "_dom_classes": [],
      "_model_module": "@jupyter-widgets/controls",
      "_model_module_version": "1.5.0",
      "_model_name": "HTMLModel",
      "_view_count": null,
      "_view_module": "@jupyter-widgets/controls",
      "_view_module_version": "1.5.0",
      "_view_name": "HTMLView",
      "description": "",
      "description_tooltip": null,
      "layout": "IPY_MODEL_e250755e8e6444c0a9dead964f1caeab",
      "placeholder": "​",
      "style": "IPY_MODEL_8da7957700a64d0d98904359bdde7e4c",
      "value": "Pages: 100%"
     }
    },
    "c59cf60246624f93b209f4a510e84be6": {
     "model_module": "@jupyter-widgets/base",
     "model_module_version": "1.2.0",
     "model_name": "LayoutModel",
     "state": {
      "_model_module": "@jupyter-widgets/base",
      "_model_module_version": "1.2.0",
      "_model_name": "LayoutModel",
      "_view_count": null,
      "_view_module": "@jupyter-widgets/base",
      "_view_module_version": "1.2.0",
      "_view_name": "LayoutView",
      "align_content": null,
      "align_items": null,
      "align_self": null,
      "border": null,
      "bottom": null,
      "display": null,
      "flex": null,
      "flex_flow": null,
      "grid_area": null,
      "grid_auto_columns": null,
      "grid_auto_flow": null,
      "grid_auto_rows": null,
      "grid_column": null,
      "grid_gap": null,
      "grid_row": null,
      "grid_template_areas": null,
      "grid_template_columns": null,
      "grid_template_rows": null,
      "height": null,
      "justify_content": null,
      "justify_items": null,
      "left": null,
      "margin": null,
      "max_height": null,
      "max_width": null,
      "min_height": null,
      "min_width": null,
      "object_fit": null,
      "object_position": null,
      "order": null,
      "overflow": null,
      "overflow_x": null,
      "overflow_y": null,
      "padding": null,
      "right": null,
      "top": null,
      "visibility": null,
      "width": null
     }
    },
    "cb3b4e2f775848948be7031f086b9593": {
     "model_module": "@jupyter-widgets/base",
     "model_module_version": "1.2.0",
     "model_name": "LayoutModel",
     "state": {
      "_model_module": "@jupyter-widgets/base",
      "_model_module_version": "1.2.0",
      "_model_name": "LayoutModel",
      "_view_count": null,
      "_view_module": "@jupyter-widgets/base",
      "_view_module_version": "1.2.0",
      "_view_name": "LayoutView",
      "align_content": null,
      "align_items": null,
      "align_self": null,
      "border": null,
      "bottom": null,
      "display": null,
      "flex": null,
      "flex_flow": null,
      "grid_area": null,
      "grid_auto_columns": null,
      "grid_auto_flow": null,
      "grid_auto_rows": null,
      "grid_column": null,
      "grid_gap": null,
      "grid_row": null,
      "grid_template_areas": null,
      "grid_template_columns": null,
      "grid_template_rows": null,
      "height": null,
      "justify_content": null,
      "justify_items": null,
      "left": null,
      "margin": null,
      "max_height": null,
      "max_width": null,
      "min_height": null,
      "min_width": null,
      "object_fit": null,
      "object_position": null,
      "order": null,
      "overflow": null,
      "overflow_x": null,
      "overflow_y": null,
      "padding": null,
      "right": null,
      "top": null,
      "visibility": null,
      "width": null
     }
    },
    "ce2657a65f4a4450a978441655f45478": {
     "model_module": "@jupyter-widgets/controls",
     "model_module_version": "1.5.0",
     "model_name": "HTMLModel",
     "state": {
      "_dom_classes": [],
      "_model_module": "@jupyter-widgets/controls",
      "_model_module_version": "1.5.0",
      "_model_name": "HTMLModel",
      "_view_count": null,
      "_view_module": "@jupyter-widgets/controls",
      "_view_module_version": "1.5.0",
      "_view_name": "HTMLView",
      "description": "",
      "description_tooltip": null,
      "layout": "IPY_MODEL_3c7448da21fa4e09ae35872d39b81efd",
      "placeholder": "​",
      "style": "IPY_MODEL_08e36e0298cb4ea49dcd0aa7160dc47c",
      "value": " 999/999 [29:03&lt;00:00,  1.82s/it]"
     }
    },
    "ce325b14ccce4e90b75d0a1f07a54210": {
     "model_module": "@jupyter-widgets/base",
     "model_module_version": "1.2.0",
     "model_name": "LayoutModel",
     "state": {
      "_model_module": "@jupyter-widgets/base",
      "_model_module_version": "1.2.0",
      "_model_name": "LayoutModel",
      "_view_count": null,
      "_view_module": "@jupyter-widgets/base",
      "_view_module_version": "1.2.0",
      "_view_name": "LayoutView",
      "align_content": null,
      "align_items": null,
      "align_self": null,
      "border": null,
      "bottom": null,
      "display": null,
      "flex": null,
      "flex_flow": null,
      "grid_area": null,
      "grid_auto_columns": null,
      "grid_auto_flow": null,
      "grid_auto_rows": null,
      "grid_column": null,
      "grid_gap": null,
      "grid_row": null,
      "grid_template_areas": null,
      "grid_template_columns": null,
      "grid_template_rows": null,
      "height": null,
      "justify_content": null,
      "justify_items": null,
      "left": null,
      "margin": null,
      "max_height": null,
      "max_width": null,
      "min_height": null,
      "min_width": null,
      "object_fit": null,
      "object_position": null,
      "order": null,
      "overflow": null,
      "overflow_x": null,
      "overflow_y": null,
      "padding": null,
      "right": null,
      "top": null,
      "visibility": null,
      "width": null
     }
    },
    "cf370f80ca084513a1d862346ad22c00": {
     "model_module": "@jupyter-widgets/base",
     "model_module_version": "1.2.0",
     "model_name": "LayoutModel",
     "state": {
      "_model_module": "@jupyter-widgets/base",
      "_model_module_version": "1.2.0",
      "_model_name": "LayoutModel",
      "_view_count": null,
      "_view_module": "@jupyter-widgets/base",
      "_view_module_version": "1.2.0",
      "_view_name": "LayoutView",
      "align_content": null,
      "align_items": null,
      "align_self": null,
      "border": null,
      "bottom": null,
      "display": null,
      "flex": null,
      "flex_flow": null,
      "grid_area": null,
      "grid_auto_columns": null,
      "grid_auto_flow": null,
      "grid_auto_rows": null,
      "grid_column": null,
      "grid_gap": null,
      "grid_row": null,
      "grid_template_areas": null,
      "grid_template_columns": null,
      "grid_template_rows": null,
      "height": null,
      "justify_content": null,
      "justify_items": null,
      "left": null,
      "margin": null,
      "max_height": null,
      "max_width": null,
      "min_height": null,
      "min_width": null,
      "object_fit": null,
      "object_position": null,
      "order": null,
      "overflow": null,
      "overflow_x": null,
      "overflow_y": null,
      "padding": null,
      "right": null,
      "top": null,
      "visibility": null,
      "width": null
     }
    },
    "d1d50101fdfd4989857681e448ca57c1": {
     "model_module": "@jupyter-widgets/base",
     "model_module_version": "1.2.0",
     "model_name": "LayoutModel",
     "state": {
      "_model_module": "@jupyter-widgets/base",
      "_model_module_version": "1.2.0",
      "_model_name": "LayoutModel",
      "_view_count": null,
      "_view_module": "@jupyter-widgets/base",
      "_view_module_version": "1.2.0",
      "_view_name": "LayoutView",
      "align_content": null,
      "align_items": null,
      "align_self": null,
      "border": null,
      "bottom": null,
      "display": null,
      "flex": null,
      "flex_flow": null,
      "grid_area": null,
      "grid_auto_columns": null,
      "grid_auto_flow": null,
      "grid_auto_rows": null,
      "grid_column": null,
      "grid_gap": null,
      "grid_row": null,
      "grid_template_areas": null,
      "grid_template_columns": null,
      "grid_template_rows": null,
      "height": null,
      "justify_content": null,
      "justify_items": null,
      "left": null,
      "margin": null,
      "max_height": null,
      "max_width": null,
      "min_height": null,
      "min_width": null,
      "object_fit": null,
      "object_position": null,
      "order": null,
      "overflow": null,
      "overflow_x": null,
      "overflow_y": null,
      "padding": null,
      "right": null,
      "top": null,
      "visibility": null,
      "width": null
     }
    },
    "d334365b00ec4925942e5afabc09644a": {
     "model_module": "@jupyter-widgets/controls",
     "model_module_version": "1.5.0",
     "model_name": "DescriptionStyleModel",
     "state": {
      "_model_module": "@jupyter-widgets/controls",
      "_model_module_version": "1.5.0",
      "_model_name": "DescriptionStyleModel",
      "_view_count": null,
      "_view_module": "@jupyter-widgets/base",
      "_view_module_version": "1.2.0",
      "_view_name": "StyleView",
      "description_width": ""
     }
    },
    "d3412528b4f54bfdb81d54e56cada38e": {
     "model_module": "@jupyter-widgets/controls",
     "model_module_version": "1.5.0",
     "model_name": "ProgressStyleModel",
     "state": {
      "_model_module": "@jupyter-widgets/controls",
      "_model_module_version": "1.5.0",
      "_model_name": "ProgressStyleModel",
      "_view_count": null,
      "_view_module": "@jupyter-widgets/base",
      "_view_module_version": "1.2.0",
      "_view_name": "StyleView",
      "bar_color": null,
      "description_width": ""
     }
    },
    "dec48a4297d24ea9a95f2071d0854c56": {
     "model_module": "@jupyter-widgets/controls",
     "model_module_version": "1.5.0",
     "model_name": "HTMLModel",
     "state": {
      "_dom_classes": [],
      "_model_module": "@jupyter-widgets/controls",
      "_model_module_version": "1.5.0",
      "_model_name": "HTMLModel",
      "_view_count": null,
      "_view_module": "@jupyter-widgets/controls",
      "_view_module_version": "1.5.0",
      "_view_name": "HTMLView",
      "description": "",
      "description_tooltip": null,
      "layout": "IPY_MODEL_cb3b4e2f775848948be7031f086b9593",
      "placeholder": "​",
      "style": "IPY_MODEL_9073025e780c41c5bc1657e18e5af5b4",
      "value": " 4995/4995 [2:34:40&lt;00:00,  1.84s/it]"
     }
    },
    "e250755e8e6444c0a9dead964f1caeab": {
     "model_module": "@jupyter-widgets/base",
     "model_module_version": "1.2.0",
     "model_name": "LayoutModel",
     "state": {
      "_model_module": "@jupyter-widgets/base",
      "_model_module_version": "1.2.0",
      "_model_name": "LayoutModel",
      "_view_count": null,
      "_view_module": "@jupyter-widgets/base",
      "_view_module_version": "1.2.0",
      "_view_name": "LayoutView",
      "align_content": null,
      "align_items": null,
      "align_self": null,
      "border": null,
      "bottom": null,
      "display": null,
      "flex": null,
      "flex_flow": null,
      "grid_area": null,
      "grid_auto_columns": null,
      "grid_auto_flow": null,
      "grid_auto_rows": null,
      "grid_column": null,
      "grid_gap": null,
      "grid_row": null,
      "grid_template_areas": null,
      "grid_template_columns": null,
      "grid_template_rows": null,
      "height": null,
      "justify_content": null,
      "justify_items": null,
      "left": null,
      "margin": null,
      "max_height": null,
      "max_width": null,
      "min_height": null,
      "min_width": null,
      "object_fit": null,
      "object_position": null,
      "order": null,
      "overflow": null,
      "overflow_x": null,
      "overflow_y": null,
      "padding": null,
      "right": null,
      "top": null,
      "visibility": null,
      "width": null
     }
    },
    "f5e2367a04704394b6eea601a2c47082": {
     "model_module": "@jupyter-widgets/controls",
     "model_module_version": "1.5.0",
     "model_name": "HTMLModel",
     "state": {
      "_dom_classes": [],
      "_model_module": "@jupyter-widgets/controls",
      "_model_module_version": "1.5.0",
      "_model_name": "HTMLModel",
      "_view_count": null,
      "_view_module": "@jupyter-widgets/controls",
      "_view_module_version": "1.5.0",
      "_view_name": "HTMLView",
      "description": "",
      "description_tooltip": null,
      "layout": "IPY_MODEL_205138dd0aef420582723621a5c59fc8",
      "placeholder": "​",
      "style": "IPY_MODEL_5dfd722d2c6f4a8b9c931181beb99e89",
      "value": "Pages: 100%"
     }
    }
   }
  }
 },
 "nbformat": 4,
 "nbformat_minor": 5
}
