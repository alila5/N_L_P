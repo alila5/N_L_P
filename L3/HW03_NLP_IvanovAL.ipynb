{
 "cells": [
  {
   "cell_type": "markdown",
   "metadata": {},
   "source": [
    "## Поиск похожих по эмбеддингам"
   ]
  },
  {
   "cell_type": "markdown",
   "metadata": {},
   "source": [
    "Скачиваем датасет ([источник](http://study.mokoron.com/)): [положительные](https://www.dropbox.com/s/fnpq3z4bcnoktiv/positive.csv?dl=0), [отрицательные](https://www.dropbox.com/s/r6u59ljhhjdg6j0/negative.csv)."
   ]
  },
  {
   "cell_type": "code",
   "execution_count": 24,
   "metadata": {},
   "outputs": [],
   "source": [
    "# Импорт библиотек\n",
    "from tqdm import tqdm_notebook\n",
    "import pandas as pd\n",
    "import numpy as np\n",
    "import re\n",
    "import string\n",
    "from pymorphy2 import MorphAnalyzer\n",
    "from stop_words import get_stop_words\n",
    "import annoy\n",
    "from gensim.models import Word2Vec, FastText"
   ]
  },
  {
   "cell_type": "markdown",
   "metadata": {},
   "source": [
    "1. Объединить в одну выборку"
   ]
  },
  {
   "cell_type": "code",
   "execution_count": 25,
   "metadata": {},
   "outputs": [],
   "source": [
    "# Загрузка данных\n",
    "\n",
    "df1 = pd.read_csv('positive.csv', sep=';', header = None, usecols = [3], names=['tweet'])\n",
    "df2 = pd.read_csv('negative.csv', sep=';', header = None, usecols = [3], names=['tweet'])"
   ]
  },
  {
   "cell_type": "code",
   "execution_count": 26,
   "metadata": {},
   "outputs": [],
   "source": [
    "# Объединение двух датафреймов\n",
    "\n",
    "df = df1.append(df2, ignore_index = True, sort = False)"
   ]
  },
  {
   "cell_type": "code",
   "execution_count": 27,
   "metadata": {},
   "outputs": [
    {
     "name": "stdout",
     "output_type": "stream",
     "text": [
      "<class 'pandas.core.frame.DataFrame'>\n",
      "RangeIndex: 226834 entries, 0 to 226833\n",
      "Data columns (total 1 columns):\n",
      " #   Column  Non-Null Count   Dtype \n",
      "---  ------  --------------   ----- \n",
      " 0   tweet   226834 non-null  object\n",
      "dtypes: object(1)\n",
      "memory usage: 1.7+ MB\n"
     ]
    }
   ],
   "source": [
    "df.info()"
   ]
  },
  {
   "cell_type": "code",
   "execution_count": 28,
   "metadata": {},
   "outputs": [],
   "source": [
    "df = df.sample(100000)"
   ]
  },
  {
   "cell_type": "code",
   "execution_count": 29,
   "metadata": {},
   "outputs": [
    {
     "data": {
      "text/html": [
       "<div>\n",
       "<style scoped>\n",
       "    .dataframe tbody tr th:only-of-type {\n",
       "        vertical-align: middle;\n",
       "    }\n",
       "\n",
       "    .dataframe tbody tr th {\n",
       "        vertical-align: top;\n",
       "    }\n",
       "\n",
       "    .dataframe thead th {\n",
       "        text-align: right;\n",
       "    }\n",
       "</style>\n",
       "<table border=\"1\" class=\"dataframe\">\n",
       "  <thead>\n",
       "    <tr style=\"text-align: right;\">\n",
       "      <th></th>\n",
       "      <th>tweet</th>\n",
       "    </tr>\n",
       "  </thead>\n",
       "  <tbody>\n",
       "    <tr>\n",
       "      <th>193052</th>\n",
       "      <td>@RuFoteev Кстати, у нас похолодало, но без сне...</td>\n",
       "    </tr>\n",
       "    <tr>\n",
       "      <th>8390</th>\n",
       "      <td>тебя отпускаю) а вот сердце держит. Выход один...</td>\n",
       "    </tr>\n",
       "    <tr>\n",
       "      <th>157404</th>\n",
       "      <td>http://t.co/oWupOY46Vy Го ребят. Скука одолева...</td>\n",
       "    </tr>\n",
       "    <tr>\n",
       "      <th>43250</th>\n",
       "      <td>Пора брать кредит на кассеты для бритья! :D ht...</td>\n",
       "    </tr>\n",
       "    <tr>\n",
       "      <th>165665</th>\n",
       "      <td>RT @daskasmirnova: @mathsolver3 нет,ну просто ...</td>\n",
       "    </tr>\n",
       "  </tbody>\n",
       "</table>\n",
       "</div>"
      ],
      "text/plain": [
       "                                                    tweet\n",
       "193052  @RuFoteev Кстати, у нас похолодало, но без сне...\n",
       "8390    тебя отпускаю) а вот сердце держит. Выход один...\n",
       "157404  http://t.co/oWupOY46Vy Го ребят. Скука одолева...\n",
       "43250   Пора брать кредит на кассеты для бритья! :D ht...\n",
       "165665  RT @daskasmirnova: @mathsolver3 нет,ну просто ..."
      ]
     },
     "execution_count": 29,
     "metadata": {},
     "output_type": "execute_result"
    }
   ],
   "source": [
    "df.sample(5)"
   ]
  },
  {
   "cell_type": "markdown",
   "metadata": {},
   "source": [
    "2. На основе word2vec/fasttext/glove/слоя Embedding реализовать метод поиска ближайших твитов на вход метода должен приходить запрос (какой-то твит, вопрос) и количество вариантов вывода к примеру 5-ть, ваш метод должен возвращать 5-ть ближайших твитов к этому запросу."
   ]
  },
  {
   "cell_type": "code",
   "execution_count": 30,
   "metadata": {},
   "outputs": [
    {
     "data": {
      "text/plain": [
       "'!\"#$%&\\'()*+,-./:;<=>?@[\\\\]^_`{|}~'"
      ]
     },
     "execution_count": 30,
     "metadata": {},
     "output_type": "execute_result"
    }
   ],
   "source": [
    "exclude = string.punctuation\n",
    "exclude"
   ]
  },
  {
   "cell_type": "code",
   "execution_count": 31,
   "metadata": {},
   "outputs": [
    {
     "data": {
      "text/plain": [
       "{'а',\n",
       " 'алло',\n",
       " 'без',\n",
       " 'близко',\n",
       " 'более',\n",
       " 'больше',\n",
       " 'будем',\n",
       " 'будет',\n",
       " 'будете',\n",
       " 'будешь',\n",
       " 'будто',\n",
       " 'буду',\n",
       " 'будут',\n",
       " 'будь',\n",
       " 'бы',\n",
       " 'бывает',\n",
       " 'бывь',\n",
       " 'был',\n",
       " 'была',\n",
       " 'были',\n",
       " 'было',\n",
       " 'быть',\n",
       " 'в',\n",
       " 'важная',\n",
       " 'важное',\n",
       " 'важные',\n",
       " 'важный',\n",
       " 'вам',\n",
       " 'вами',\n",
       " 'вас',\n",
       " 'ваш',\n",
       " 'ваша',\n",
       " 'ваше',\n",
       " 'ваши',\n",
       " 'вверх',\n",
       " 'вдали',\n",
       " 'вдруг',\n",
       " 'ведь',\n",
       " 'везде',\n",
       " 'весь',\n",
       " 'вниз',\n",
       " 'внизу',\n",
       " 'во',\n",
       " 'вокруг',\n",
       " 'вон',\n",
       " 'восемнадцатый',\n",
       " 'восемнадцать',\n",
       " 'восемь',\n",
       " 'восьмой',\n",
       " 'вот',\n",
       " 'впрочем',\n",
       " 'времени',\n",
       " 'время',\n",
       " 'все',\n",
       " 'всегда',\n",
       " 'всего',\n",
       " 'всем',\n",
       " 'всеми',\n",
       " 'всему',\n",
       " 'всех',\n",
       " 'всею',\n",
       " 'всю',\n",
       " 'всюду',\n",
       " 'вся',\n",
       " 'всё',\n",
       " 'второй',\n",
       " 'вы',\n",
       " 'г',\n",
       " 'где',\n",
       " 'говорил',\n",
       " 'говорит',\n",
       " 'год',\n",
       " 'года',\n",
       " 'году',\n",
       " 'да',\n",
       " 'давно',\n",
       " 'даже',\n",
       " 'далеко',\n",
       " 'дальше',\n",
       " 'даром',\n",
       " 'два',\n",
       " 'двадцатый',\n",
       " 'двадцать',\n",
       " 'две',\n",
       " 'двенадцатый',\n",
       " 'двенадцать',\n",
       " 'двух',\n",
       " 'девятнадцатый',\n",
       " 'девятнадцать',\n",
       " 'девятый',\n",
       " 'девять',\n",
       " 'действительно',\n",
       " 'дел',\n",
       " 'день',\n",
       " 'десятый',\n",
       " 'десять',\n",
       " 'для',\n",
       " 'до',\n",
       " 'довольно',\n",
       " 'долго',\n",
       " 'должно',\n",
       " 'другая',\n",
       " 'другие',\n",
       " 'других',\n",
       " 'друго',\n",
       " 'другое',\n",
       " 'другой',\n",
       " 'е',\n",
       " 'его',\n",
       " 'ее',\n",
       " 'ей',\n",
       " 'ему',\n",
       " 'если',\n",
       " 'есть',\n",
       " 'еще',\n",
       " 'ещё',\n",
       " 'ею',\n",
       " 'её',\n",
       " 'ж',\n",
       " 'же',\n",
       " 'жизнь',\n",
       " 'за',\n",
       " 'занят',\n",
       " 'занята',\n",
       " 'занято',\n",
       " 'заняты',\n",
       " 'затем',\n",
       " 'зато',\n",
       " 'зачем',\n",
       " 'здесь',\n",
       " 'значит',\n",
       " 'и',\n",
       " 'из',\n",
       " 'или',\n",
       " 'им',\n",
       " 'именно',\n",
       " 'иметь',\n",
       " 'ими',\n",
       " 'имя',\n",
       " 'иногда',\n",
       " 'их',\n",
       " 'к',\n",
       " 'каждая',\n",
       " 'каждое',\n",
       " 'каждые',\n",
       " 'каждый',\n",
       " 'кажется',\n",
       " 'как',\n",
       " 'какая',\n",
       " 'какой',\n",
       " 'кем',\n",
       " 'когда',\n",
       " 'кого',\n",
       " 'ком',\n",
       " 'кому',\n",
       " 'конечно',\n",
       " 'которая',\n",
       " 'которого',\n",
       " 'которой',\n",
       " 'которые',\n",
       " 'который',\n",
       " 'которых',\n",
       " 'кроме',\n",
       " 'кругом',\n",
       " 'кто',\n",
       " 'куда',\n",
       " 'лет',\n",
       " 'ли',\n",
       " 'лишь',\n",
       " 'лучше',\n",
       " 'люди',\n",
       " 'м',\n",
       " 'мало',\n",
       " 'между',\n",
       " 'меля',\n",
       " 'менее',\n",
       " 'меньше',\n",
       " 'меня',\n",
       " 'миллионов',\n",
       " 'мимо',\n",
       " 'мира',\n",
       " 'мне',\n",
       " 'много',\n",
       " 'многочисленная',\n",
       " 'многочисленное',\n",
       " 'многочисленные',\n",
       " 'многочисленный',\n",
       " 'мной',\n",
       " 'мною',\n",
       " 'мог',\n",
       " 'могут',\n",
       " 'мож',\n",
       " 'может',\n",
       " 'можно',\n",
       " 'можхо',\n",
       " 'мои',\n",
       " 'мой',\n",
       " 'мор',\n",
       " 'мочь',\n",
       " 'моя',\n",
       " 'моё',\n",
       " 'мы',\n",
       " 'на',\n",
       " 'наверху',\n",
       " 'над',\n",
       " 'надо',\n",
       " 'назад',\n",
       " 'наиболее',\n",
       " 'наконец',\n",
       " 'нам',\n",
       " 'нами',\n",
       " 'нас',\n",
       " 'начала',\n",
       " 'наш',\n",
       " 'наша',\n",
       " 'наше',\n",
       " 'наши',\n",
       " 'не',\n",
       " 'него',\n",
       " 'недавно',\n",
       " 'недалеко',\n",
       " 'нее',\n",
       " 'ней',\n",
       " 'нельзя',\n",
       " 'нем',\n",
       " 'немного',\n",
       " 'нему',\n",
       " 'непрерывно',\n",
       " 'нередко',\n",
       " 'несколько',\n",
       " 'нет',\n",
       " 'нею',\n",
       " 'неё',\n",
       " 'ни',\n",
       " 'нибудь',\n",
       " 'ниже',\n",
       " 'низко',\n",
       " 'никогда',\n",
       " 'никуда',\n",
       " 'ними',\n",
       " 'них',\n",
       " 'ничего',\n",
       " 'но',\n",
       " 'ну',\n",
       " 'нужно',\n",
       " 'нх',\n",
       " 'о',\n",
       " 'об',\n",
       " 'оба',\n",
       " 'обычно',\n",
       " 'один',\n",
       " 'одиннадцатый',\n",
       " 'одиннадцать',\n",
       " 'однажды',\n",
       " 'однако',\n",
       " 'одного',\n",
       " 'одной',\n",
       " 'около',\n",
       " 'он',\n",
       " 'она',\n",
       " 'они',\n",
       " 'оно',\n",
       " 'опять',\n",
       " 'особенно',\n",
       " 'от',\n",
       " 'отовсюду',\n",
       " 'отсюда',\n",
       " 'очень',\n",
       " 'первый',\n",
       " 'перед',\n",
       " 'по',\n",
       " 'под',\n",
       " 'пожалуйста',\n",
       " 'позже',\n",
       " 'пока',\n",
       " 'пор',\n",
       " 'пора',\n",
       " 'после',\n",
       " 'посреди',\n",
       " 'потом',\n",
       " 'потому',\n",
       " 'почему',\n",
       " 'почти',\n",
       " 'прекрасно',\n",
       " 'при',\n",
       " 'про',\n",
       " 'просто',\n",
       " 'против',\n",
       " 'процентов',\n",
       " 'пятнадцатый',\n",
       " 'пятнадцать',\n",
       " 'пятый',\n",
       " 'пять',\n",
       " 'раз',\n",
       " 'разве',\n",
       " 'рано',\n",
       " 'раньше',\n",
       " 'рядом',\n",
       " 'с',\n",
       " 'сам',\n",
       " 'сама',\n",
       " 'сами',\n",
       " 'самим',\n",
       " 'самими',\n",
       " 'самих',\n",
       " 'само',\n",
       " 'самого',\n",
       " 'самой',\n",
       " 'самом',\n",
       " 'самому',\n",
       " 'саму',\n",
       " 'свое',\n",
       " 'своего',\n",
       " 'своей',\n",
       " 'свои',\n",
       " 'своих',\n",
       " 'свою',\n",
       " 'сеаой',\n",
       " 'себе',\n",
       " 'себя',\n",
       " 'сегодня',\n",
       " 'седьмой',\n",
       " 'сейчас',\n",
       " 'семнадцатый',\n",
       " 'семнадцать',\n",
       " 'семь',\n",
       " 'сих',\n",
       " 'сказал',\n",
       " 'сказала',\n",
       " 'сказать',\n",
       " 'сколько',\n",
       " 'слишком',\n",
       " 'сначала',\n",
       " 'снова',\n",
       " 'со',\n",
       " 'собой',\n",
       " 'собою',\n",
       " 'совсем',\n",
       " 'спасибо',\n",
       " 'стал',\n",
       " 'суть',\n",
       " 'т',\n",
       " 'та',\n",
       " 'так',\n",
       " 'такая',\n",
       " 'также',\n",
       " 'такие',\n",
       " 'такое',\n",
       " 'такой',\n",
       " 'там',\n",
       " 'твой',\n",
       " 'твоя',\n",
       " 'твоё',\n",
       " 'те',\n",
       " 'тебе',\n",
       " 'тебя',\n",
       " 'тем',\n",
       " 'теми',\n",
       " 'теперь',\n",
       " 'тех',\n",
       " 'то',\n",
       " 'тобой',\n",
       " 'тобою',\n",
       " 'тогда',\n",
       " 'того',\n",
       " 'тоже',\n",
       " 'только',\n",
       " 'том',\n",
       " 'тому',\n",
       " 'тот',\n",
       " 'тою',\n",
       " 'третий',\n",
       " 'три',\n",
       " 'тринадцатый',\n",
       " 'тринадцать',\n",
       " 'ту',\n",
       " 'туда',\n",
       " 'тут',\n",
       " 'ты',\n",
       " 'тысяч',\n",
       " 'у',\n",
       " 'уж',\n",
       " 'уже',\n",
       " 'уметь',\n",
       " 'хорошо',\n",
       " 'хотеть',\n",
       " 'хоть',\n",
       " 'хотя',\n",
       " 'хочешь',\n",
       " 'часто',\n",
       " 'чаще',\n",
       " 'чего',\n",
       " 'человек',\n",
       " 'чем',\n",
       " 'чему',\n",
       " 'через',\n",
       " 'четвертый',\n",
       " 'четыре',\n",
       " 'четырнадцатый',\n",
       " 'четырнадцать',\n",
       " 'что',\n",
       " 'чтоб',\n",
       " 'чтобы',\n",
       " 'чуть',\n",
       " 'шестнадцатый',\n",
       " 'шестнадцать',\n",
       " 'шестой',\n",
       " 'шесть',\n",
       " 'эта',\n",
       " 'эти',\n",
       " 'этим',\n",
       " 'этими',\n",
       " 'этих',\n",
       " 'это',\n",
       " 'этого',\n",
       " 'этой',\n",
       " 'этом',\n",
       " 'этому',\n",
       " 'этот',\n",
       " 'эту',\n",
       " 'я'}"
      ]
     },
     "execution_count": 31,
     "metadata": {},
     "output_type": "execute_result"
    }
   ],
   "source": [
    "sw = set(get_stop_words(\"ru\"))\n",
    "sw"
   ]
  },
  {
   "cell_type": "code",
   "execution_count": 32,
   "metadata": {},
   "outputs": [],
   "source": [
    "test_str = '@Katyaandreeva95  :-|| RTeee бывает разное,  но всегда цветы  и  @k_katyaaa окей :‑) во что это  - значит'"
   ]
  },
  {
   "cell_type": "code",
   "execution_count": 33,
   "metadata": {},
   "outputs": [
    {
     "data": {
      "text/plain": [
       "'@Katyaandreeva95  :-||  бывает разное,  но всегда цветы  и  @k_katyaaa окей :‑) во что это  - значит'"
      ]
     },
     "execution_count": 33,
     "metadata": {},
     "output_type": "execute_result"
    }
   ],
   "source": [
    "line = re.sub(r'RT[\\w]*', '', test_str)\n",
    "line"
   ]
  },
  {
   "cell_type": "code",
   "execution_count": 34,
   "metadata": {},
   "outputs": [
    {
     "data": {
      "text/plain": [
       "'  :-||  бывает разное,  но всегда цветы  и   окей :‑) во что это  - значит'"
      ]
     },
     "execution_count": 34,
     "metadata": {},
     "output_type": "execute_result"
    }
   ],
   "source": [
    "line = re.sub(r'@[\\w]*', '', line)\n",
    "line"
   ]
  },
  {
   "cell_type": "code",
   "execution_count": 35,
   "metadata": {},
   "outputs": [
    {
     "data": {
      "text/plain": [
       "['бывает',\n",
       " 'разное',\n",
       " 'но',\n",
       " 'всегда',\n",
       " 'цветы',\n",
       " 'и',\n",
       " 'окей',\n",
       " '‑',\n",
       " 'во',\n",
       " 'что',\n",
       " 'это',\n",
       " 'значит']"
      ]
     },
     "execution_count": 35,
     "metadata": {},
     "output_type": "execute_result"
    }
   ],
   "source": [
    "spls = ''.join(let for let in line.strip() if let not in exclude).split()\n",
    "spls"
   ]
  },
  {
   "cell_type": "code",
   "execution_count": 36,
   "metadata": {},
   "outputs": [
    {
     "data": {
      "text/plain": [
       "['бывает', 'разное', 'всегда', 'цветы', 'окей', 'что', 'это', 'значит']"
      ]
     },
     "execution_count": 36,
     "metadata": {},
     "output_type": "execute_result"
    }
   ],
   "source": [
    "w2 = [word for word in spls if len(word)>2]\n",
    "w2"
   ]
  },
  {
   "cell_type": "code",
   "execution_count": 37,
   "metadata": {},
   "outputs": [
    {
     "data": {
      "text/plain": [
       "False"
      ]
     },
     "execution_count": 37,
     "metadata": {},
     "output_type": "execute_result"
    }
   ],
   "source": [
    "len(w2)<5"
   ]
  },
  {
   "cell_type": "code",
   "execution_count": 38,
   "metadata": {},
   "outputs": [],
   "source": [
    "morpher = MorphAnalyzer()"
   ]
  },
  {
   "cell_type": "code",
   "execution_count": 39,
   "metadata": {},
   "outputs": [
    {
     "data": {
      "text/plain": [
       "['бывать', 'разный', 'всегда', 'цветок', 'окей', 'что', 'это', 'значит']"
      ]
     },
     "execution_count": 39,
     "metadata": {},
     "output_type": "execute_result"
    }
   ],
   "source": [
    "n25tweet= [morpher.parse(word.lower())[0].normal_form for word in w2]\n",
    "n25tweet"
   ]
  },
  {
   "cell_type": "code",
   "execution_count": 40,
   "metadata": {},
   "outputs": [
    {
     "data": {
      "text/plain": [
       "['бывать', 'разный', 'цветок', 'окей']"
      ]
     },
     "execution_count": 40,
     "metadata": {},
     "output_type": "execute_result"
    }
   ],
   "source": [
    "res = [w for w in n25tweet if w not in sw and w != \"\"]\n",
    "res"
   ]
  },
  {
   "cell_type": "code",
   "execution_count": 61,
   "metadata": {},
   "outputs": [],
   "source": [
    "# Препроцессинг текста\n",
    "\n",
    "def preprocess_txt(tweet, lim):\n",
    "    line = re.sub(r'RT[\\w]*', '', tweet)\n",
    "    line = re.sub(r'@[\\w]*', '', line)\n",
    "    spls = \"\".join(let for let in line.strip() if let not in exclude).split()\n",
    "    w2 = [word for word in spls if len(word)>2]\n",
    "    if len(w2)<lim: return None\n",
    "    else:\n",
    "        n25tweet= [morpher.parse(word.lower())[0].normal_form for word in w2]\n",
    "        res = [w for w in n25tweet if w not in sw and w != \"\"]\n",
    "    return res"
   ]
  },
  {
   "cell_type": "code",
   "execution_count": 42,
   "metadata": {},
   "outputs": [
    {
     "name": "stderr",
     "output_type": "stream",
     "text": [
      "<ipython-input-42-7d4f07f17d7f>:7: TqdmDeprecationWarning: This function will be removed in tqdm==5.0.0\n",
      "Please use `tqdm.notebook.tqdm` instead of `tqdm.tqdm_notebook`\n",
      "  for line in tqdm_notebook(df['tweet']):\n"
     ]
    },
    {
     "data": {
      "application/vnd.jupyter.widget-view+json": {
       "model_id": "f103c2aa10ca42179d4cb61638d85ecd",
       "version_major": 2,
       "version_minor": 0
      },
      "text/plain": [
       "  0%|          | 0/100000 [00:00<?, ?it/s]"
      ]
     },
     "metadata": {},
     "output_type": "display_data"
    }
   ],
   "source": [
    "assert True\n",
    "\n",
    "sentences = []\n",
    "\n",
    "morpher = MorphAnalyzer()\n",
    "\n",
    "for line in tqdm_notebook(df['tweet']):\n",
    "    pre_tweet = preprocess_txt(line, 5)\n",
    "    if pre_tweet is not None:\n",
    "        sentences.append(pre_tweet) "
   ]
  },
  {
   "cell_type": "code",
   "execution_count": 44,
   "metadata": {},
   "outputs": [
    {
     "data": {
      "text/plain": [
       "100000"
      ]
     },
     "execution_count": 44,
     "metadata": {},
     "output_type": "execute_result"
    }
   ],
   "source": [
    "len(df)"
   ]
  },
  {
   "cell_type": "code",
   "execution_count": 48,
   "metadata": {},
   "outputs": [
    {
     "data": {
      "text/html": [
       "<div>\n",
       "<style scoped>\n",
       "    .dataframe tbody tr th:only-of-type {\n",
       "        vertical-align: middle;\n",
       "    }\n",
       "\n",
       "    .dataframe tbody tr th {\n",
       "        vertical-align: top;\n",
       "    }\n",
       "\n",
       "    .dataframe thead th {\n",
       "        text-align: right;\n",
       "    }\n",
       "</style>\n",
       "<table border=\"1\" class=\"dataframe\">\n",
       "  <thead>\n",
       "    <tr style=\"text-align: right;\">\n",
       "      <th></th>\n",
       "      <th>tweet</th>\n",
       "    </tr>\n",
       "  </thead>\n",
       "  <tbody>\n",
       "    <tr>\n",
       "      <th>67374</th>\n",
       "      <td>всего лишь потому,что не фотогеничны не будет ...</td>\n",
       "    </tr>\n",
       "    <tr>\n",
       "      <th>155375</th>\n",
       "      <td>Почти 13 лет тренировал(\\nЖалко жалко,но такой...</td>\n",
       "    </tr>\n",
       "    <tr>\n",
       "      <th>186076</th>\n",
       "      <td>что-то счас денек такой,без  солнца:(\\nхочу ка...</td>\n",
       "    </tr>\n",
       "  </tbody>\n",
       "</table>\n",
       "</div>"
      ],
      "text/plain": [
       "                                                    tweet\n",
       "67374   всего лишь потому,что не фотогеничны не будет ...\n",
       "155375  Почти 13 лет тренировал(\\nЖалко жалко,но такой...\n",
       "186076  что-то счас денек такой,без  солнца:(\\nхочу ка..."
      ]
     },
     "execution_count": 48,
     "metadata": {},
     "output_type": "execute_result"
    }
   ],
   "source": [
    "df.iloc[0:3]"
   ]
  },
  {
   "cell_type": "code",
   "execution_count": 49,
   "metadata": {},
   "outputs": [
    {
     "data": {
      "text/plain": [
       "[['потомучтый', 'фотогеничный', 'адекватный', 'жеэтый', 'справедливо'],\n",
       " ['тренировать', 'жалко', 'жалконо', 'специалист', 'работа', 'остаться'],\n",
       " ['чтоть', 'счас', 'денёк', 'такойбез', 'солнце', 'вчера']]"
      ]
     },
     "execution_count": 49,
     "metadata": {},
     "output_type": "execute_result"
    }
   ],
   "source": [
    "sentences[0:3]"
   ]
  },
  {
   "cell_type": "code",
   "execution_count": 50,
   "metadata": {},
   "outputs": [
    {
     "data": {
      "text/plain": [
       "86541"
      ]
     },
     "execution_count": 50,
     "metadata": {},
     "output_type": "execute_result"
    }
   ],
   "source": [
    "len(sentences)"
   ]
  },
  {
   "cell_type": "code",
   "execution_count": 52,
   "metadata": {},
   "outputs": [
    {
     "name": "stdout",
     "output_type": "stream",
     "text": [
      "Wall time: 3.05 s\n"
     ]
    }
   ],
   "source": [
    "%%time\n",
    "# Создание модели Word2Vec\n",
    "modelW2V = Word2Vec(sentences=sentences, vector_size=300, window=5, min_count=3)"
   ]
  },
  {
   "cell_type": "code",
   "execution_count": 53,
   "metadata": {},
   "outputs": [
    {
     "name": "stdout",
     "output_type": "stream",
     "text": [
      "Wall time: 23.6 s\n"
     ]
    }
   ],
   "source": [
    "%%time\n",
    "# Создание модели FastText\n",
    "modelFT = FastText(sentences=sentences, vector_size=300, min_count=3, window=5, workers=8)"
   ]
  },
  {
   "cell_type": "code",
   "execution_count": 54,
   "metadata": {},
   "outputs": [],
   "source": [
    "#Word2Vec?"
   ]
  },
  {
   "cell_type": "code",
   "execution_count": 57,
   "metadata": {},
   "outputs": [
    {
     "name": "stderr",
     "output_type": "stream",
     "text": [
      "<timed exec>:7: TqdmDeprecationWarning: This function will be removed in tqdm==5.0.0\n",
      "Please use `tqdm.notebook.tqdm` instead of `tqdm.tqdm_notebook`\n"
     ]
    },
    {
     "data": {
      "application/vnd.jupyter.widget-view+json": {
       "model_id": "4822bbaed78d47909eb01de4e9491d11",
       "version_major": 2,
       "version_minor": 0
      },
      "text/plain": [
       "  0%|          | 0/100000 [00:00<?, ?it/s]"
      ]
     },
     "metadata": {},
     "output_type": "display_data"
    },
    {
     "name": "stdout",
     "output_type": "stream",
     "text": [
      "Wall time: 5min 5s\n"
     ]
    },
    {
     "data": {
      "text/plain": [
       "True"
      ]
     },
     "execution_count": 57,
     "metadata": {},
     "output_type": "execute_result"
    }
   ],
   "source": [
    "%%time\n",
    "w2v_index = annoy.AnnoyIndex(300 ,'angular')\n",
    "ft_index = annoy.AnnoyIndex(300 ,'angular')\n",
    "\n",
    "counter = 0\n",
    "index_map = {}\n",
    "\n",
    "for line in tqdm_notebook(df['tweet']):\n",
    "    n_w2v = 0\n",
    "    n_ft = 0\n",
    "    index_map[counter] = line\n",
    "    tweet = preprocess_txt(line, 5)\n",
    "    if tweet is not None:\n",
    "\n",
    "        vector_w2v = np.zeros(300)\n",
    "        vector_ft = np.zeros(300)\n",
    "        for word in tweet:\n",
    "            if word in modelW2V.wv:\n",
    "                vector_w2v += modelW2V.wv[word]\n",
    "                n_w2v += 1\n",
    "            if word in modelFT.wv:\n",
    "                vector_ft += modelFT.wv[word]\n",
    "                n_ft += 1\n",
    "        if n_w2v > 0:\n",
    "            vector_w2v = vector_w2v / n_w2v\n",
    "        if n_ft > 0:\n",
    "            vector_ft = vector_ft / n_ft\n",
    "        w2v_index.add_item(counter, vector_w2v)\n",
    "        ft_index.add_item(counter, vector_ft)\n",
    "        counter += 1\n",
    "\n",
    "    if counter > 100000:\n",
    "        break\n",
    "\n",
    "w2v_index.build(10)\n",
    "ft_index.build(10)"
   ]
  },
  {
   "cell_type": "code",
   "execution_count": 69,
   "metadata": {},
   "outputs": [],
   "source": [
    "def get_response(txt, index, model, index_map):\n",
    "    pre_txt = preprocess_txt(txt, 0)\n",
    "    vector = np.zeros(300)\n",
    "    norm = 0\n",
    "    if pre_txt is not None:\n",
    "        for word in pre_txt:\n",
    "            if word in model.wv:\n",
    "                vector += model.wv[word]\n",
    "                norm += 1\n",
    "        if norm > 0:\n",
    "            vector = vector / norm\n",
    "        answers = index.get_nns_by_vector(vector, 5, )\n",
    "        return [index_map[i] for i in answers]\n",
    "    else:\n",
    "        return []"
   ]
  },
  {
   "cell_type": "markdown",
   "metadata": {},
   "source": [
    "3. Проверить насколько хорошо работают подходы"
   ]
  },
  {
   "cell_type": "code",
   "execution_count": 128,
   "metadata": {},
   "outputs": [],
   "source": [
    "TEXT = \"Продажа телефонов и аксессуаров с доставкой\""
   ]
  },
  {
   "cell_type": "code",
   "execution_count": 129,
   "metadata": {},
   "outputs": [
    {
     "data": {
      "text/plain": [
       "['Instagram   перегревает и разряжает в хлам мой телефон. Загрузка ЦП 46 ¤/¤ :( @instagram',\n",
       " 'Я раб техники и интернета.Завис комп,ТУТ ЖЕ схватила телефон и включила инет,пока перезагружался комп.Вот так всегда.Либо ноут,либо телефон(',\n",
       " '@RomanWuduck Чени телефон) ну или в настройках инста полазь',\n",
       " '@bribuka161  что с тобой?((\\nкуда пропала?\\nчто со станицей в вк и телефоном?(((',\n",
       " 'Я - доча, верни наконец мне мой телефон! Доча - ооой, ну Диля, ну щас! Еще чучуууть)))']"
      ]
     },
     "execution_count": 129,
     "metadata": {},
     "output_type": "execute_result"
    }
   ],
   "source": [
    "get_response(TEXT, w2v_index, modelW2V, index_map)"
   ]
  },
  {
   "cell_type": "code",
   "execution_count": 127,
   "metadata": {},
   "outputs": [
    {
     "data": {
      "text/plain": [
       "['Какая мелодия у тебя на телефоне? — только Rep))) http://t.co/LkDUQZLDHT',\n",
       " '@YanaYaroslavovn ой Янааа аахахахах у меня денег нет(',\n",
       " '@Lex3512 хахах даа надо :D \\nтеперь вика это ларри а ларри вика :D',\n",
       " '@Winchesterovna я с телефона и того весь стол и телефон в кофе)))',\n",
       " '@kamilburanov @shokirjonov @BoburAkmalov Шуҳрат ака, мана уже СА ўқувчилари кўмакка келишди ))']"
      ]
     },
     "execution_count": 127,
     "metadata": {},
     "output_type": "execute_result"
    }
   ],
   "source": [
    "get_response(TEXT, ft_index, modelFT, index_map)"
   ]
  },
  {
   "cell_type": "markdown",
   "metadata": {},
   "source": [
    "## Работает, но прямо скажем, так себе."
   ]
  }
 ],
 "metadata": {
  "kernelspec": {
   "display_name": "Python 3",
   "language": "python",
   "name": "python3"
  },
  "language_info": {
   "codemirror_mode": {
    "name": "ipython",
    "version": 3
   },
   "file_extension": ".py",
   "mimetype": "text/x-python",
   "name": "python",
   "nbconvert_exporter": "python",
   "pygments_lexer": "ipython3",
   "version": "3.8.3"
  }
 },
 "nbformat": 4,
 "nbformat_minor": 4
}
